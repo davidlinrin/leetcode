{
 "cells": [
  {
   "cell_type": "code",
   "execution_count": 159,
   "metadata": {},
   "outputs": [],
   "source": [
    "import numpy as np\n",
    "import statistics as st"
   ]
  },
  {
   "cell_type": "code",
   "execution_count": 160,
   "metadata": {},
   "outputs": [
    {
     "data": {
      "text/plain": [
       "8.5"
      ]
     },
     "execution_count": 160,
     "metadata": {},
     "output_type": "execute_result"
    }
   ],
   "source": [
    "st.median([15,8,9,6])"
   ]
  },
  {
   "cell_type": "code",
   "execution_count": 204,
   "metadata": {},
   "outputs": [
    {
     "data": {
      "text/plain": [
       "8.5"
      ]
     },
     "execution_count": 204,
     "metadata": {},
     "output_type": "execute_result"
    }
   ],
   "source": [
    "a = [15,8,9,6]\n",
    "if (len(a)/2 % 2) == 0 :\n",
    "    m = (a[int(len(a)/2)] + a[int((len(a)/2)-1)])/2\n",
    "else:\n",
    "    m = a[int(len(a)/2)]\n",
    "m"
   ]
  },
  {
   "cell_type": "code",
   "execution_count": 222,
   "metadata": {},
   "outputs": [
    {
     "name": "stdout",
     "output_type": "stream",
     "text": [
      "[1, 4, 8, 10, 20]\n"
     ]
    }
   ],
   "source": [
    "houses = [1,4,8,10,20]\n",
    "houses = sorted(houses)\n",
    "k = 3\n",
    "dist = []\n",
    "sub = []\n",
    "ans = []\n",
    "count = 0\n",
    "\n",
    "print(houses)\n",
    "\n",
    "for i in range(1,len(houses)):\n",
    "    dist.append(houses[i]-houses[i-1])\n",
    "    \n",
    "temp = sorted(range(len(dist)), key=lambda i: dist[i])[-(k-1):]\n",
    "\n",
    "sub.append(houses[:temp[0]+1])\n",
    "for i in range(1,len(temp)):\n",
    "    sub.append(houses[temp[i-1]+1:temp[i]+1])\n",
    "sub.append(houses[temp[-1]+1:])\n",
    "\n",
    "for i in sub:\n",
    "    ans.append(min(i) + int((max(i)-min(i))/2))\n",
    "    \n",
    "for i in houses:\n",
    "    cur = abs(i - ans[0])\n",
    "    for j in range(1,len(ans)):\n",
    "        if abs(i - ans[j]) < cur:\n",
    "            cur = abs(i - ans[j])\n",
    "    count += cur"
   ]
  },
  {
   "cell_type": "code",
   "execution_count": 223,
   "metadata": {},
   "outputs": [
    {
     "data": {
      "text/plain": [
       "[3, 4, 2, 10]"
      ]
     },
     "execution_count": 223,
     "metadata": {},
     "output_type": "execute_result"
    }
   ],
   "source": [
    "dist"
   ]
  },
  {
   "cell_type": "code",
   "execution_count": 224,
   "metadata": {},
   "outputs": [
    {
     "data": {
      "text/plain": [
       "[1, 3]"
      ]
     },
     "execution_count": 224,
     "metadata": {},
     "output_type": "execute_result"
    }
   ],
   "source": [
    "temp"
   ]
  },
  {
   "cell_type": "code",
   "execution_count": 225,
   "metadata": {},
   "outputs": [
    {
     "data": {
      "text/plain": [
       "[[1, 4], [8, 10], [20]]"
      ]
     },
     "execution_count": 225,
     "metadata": {},
     "output_type": "execute_result"
    }
   ],
   "source": [
    "sub"
   ]
  },
  {
   "cell_type": "code",
   "execution_count": 68,
   "metadata": {},
   "outputs": [
    {
     "data": {
      "text/plain": [
       "[3, 4, 2, 10]"
      ]
     },
     "execution_count": 68,
     "metadata": {},
     "output_type": "execute_result"
    }
   ],
   "source": [
    "dist"
   ]
  },
  {
   "cell_type": "code",
   "execution_count": 62,
   "metadata": {},
   "outputs": [
    {
     "data": {
      "text/plain": [
       "[1, 3]"
      ]
     },
     "execution_count": 62,
     "metadata": {},
     "output_type": "execute_result"
    }
   ],
   "source": [
    "temp"
   ]
  },
  {
   "cell_type": "code",
   "execution_count": 48,
   "metadata": {},
   "outputs": [
    {
     "data": {
      "text/plain": [
       "[[1]]"
      ]
     },
     "execution_count": 48,
     "metadata": {},
     "output_type": "execute_result"
    }
   ],
   "source": [
    "sub"
   ]
  },
  {
   "cell_type": "markdown",
   "metadata": {},
   "source": [
    "### 2)"
   ]
  },
  {
   "cell_type": "code",
   "execution_count": 191,
   "metadata": {},
   "outputs": [
    {
     "name": "stdout",
     "output_type": "stream",
     "text": [
      "[[1, 3, 8, 10], [], [8, 10, 12]]\n"
     ]
    },
    {
     "ename": "IndexError",
     "evalue": "list index out of range",
     "output_type": "error",
     "traceback": [
      "\u001b[0;31m---------------------------------------------------------------------------\u001b[0m",
      "\u001b[0;31mIndexError\u001b[0m                                Traceback (most recent call last)",
      "\u001b[0;32m<ipython-input-191-84044f372dcc>\u001b[0m in \u001b[0;36m<module>\u001b[0;34m\u001b[0m\n\u001b[1;32m     33\u001b[0m \u001b[0;31m#                 ans.append(min(i) + int((max(i)-min(i))/2))\u001b[0m\u001b[0;34m\u001b[0m\u001b[0;34m\u001b[0m\u001b[0;34m\u001b[0m\u001b[0m\n\u001b[1;32m     34\u001b[0m         \u001b[0;32mif\u001b[0m \u001b[0;34m(\u001b[0m\u001b[0mlen\u001b[0m\u001b[0;34m(\u001b[0m\u001b[0mi\u001b[0m\u001b[0;34m)\u001b[0m\u001b[0;34m/\u001b[0m\u001b[0;36m2\u001b[0m \u001b[0;34m%\u001b[0m \u001b[0;36m2\u001b[0m\u001b[0;34m)\u001b[0m \u001b[0;34m==\u001b[0m \u001b[0;36m0\u001b[0m \u001b[0;34m:\u001b[0m\u001b[0;34m\u001b[0m\u001b[0;34m\u001b[0m\u001b[0m\n\u001b[0;32m---> 35\u001b[0;31m             \u001b[0mans\u001b[0m\u001b[0;34m.\u001b[0m\u001b[0mappend\u001b[0m\u001b[0;34m(\u001b[0m\u001b[0mint\u001b[0m\u001b[0;34m(\u001b[0m\u001b[0;34m(\u001b[0m\u001b[0mi\u001b[0m\u001b[0;34m[\u001b[0m\u001b[0mint\u001b[0m\u001b[0;34m(\u001b[0m\u001b[0mlen\u001b[0m\u001b[0;34m(\u001b[0m\u001b[0mi\u001b[0m\u001b[0;34m)\u001b[0m\u001b[0;34m/\u001b[0m\u001b[0;36m2\u001b[0m\u001b[0;34m)\u001b[0m\u001b[0;34m]\u001b[0m \u001b[0;34m+\u001b[0m \u001b[0mi\u001b[0m\u001b[0;34m[\u001b[0m\u001b[0mint\u001b[0m\u001b[0;34m(\u001b[0m\u001b[0;34m(\u001b[0m\u001b[0mlen\u001b[0m\u001b[0;34m(\u001b[0m\u001b[0mi\u001b[0m\u001b[0;34m)\u001b[0m\u001b[0;34m/\u001b[0m\u001b[0;36m2\u001b[0m\u001b[0;34m)\u001b[0m\u001b[0;34m-\u001b[0m\u001b[0;36m1\u001b[0m\u001b[0;34m)\u001b[0m\u001b[0;34m]\u001b[0m\u001b[0;34m)\u001b[0m\u001b[0;34m/\u001b[0m\u001b[0;36m2\u001b[0m\u001b[0;34m)\u001b[0m\u001b[0;34m)\u001b[0m\u001b[0;34m\u001b[0m\u001b[0;34m\u001b[0m\u001b[0m\n\u001b[0m\u001b[1;32m     36\u001b[0m         \u001b[0;32melse\u001b[0m\u001b[0;34m:\u001b[0m\u001b[0;34m\u001b[0m\u001b[0;34m\u001b[0m\u001b[0m\n\u001b[1;32m     37\u001b[0m             \u001b[0mans\u001b[0m\u001b[0;34m.\u001b[0m\u001b[0mappend\u001b[0m\u001b[0;34m(\u001b[0m\u001b[0mint\u001b[0m\u001b[0;34m(\u001b[0m\u001b[0mi\u001b[0m\u001b[0;34m[\u001b[0m\u001b[0mint\u001b[0m\u001b[0;34m(\u001b[0m\u001b[0mlen\u001b[0m\u001b[0;34m(\u001b[0m\u001b[0mi\u001b[0m\u001b[0;34m)\u001b[0m\u001b[0;34m/\u001b[0m\u001b[0;36m2\u001b[0m\u001b[0;34m)\u001b[0m\u001b[0;34m]\u001b[0m\u001b[0;34m)\u001b[0m\u001b[0;34m)\u001b[0m\u001b[0;34m\u001b[0m\u001b[0;34m\u001b[0m\u001b[0m\n",
      "\u001b[0;31mIndexError\u001b[0m: list index out of range"
     ]
    }
   ],
   "source": [
    "if k == 1:\n",
    "    count = 0\n",
    "\n",
    "    if (len(houses)/2 % 2) == 0 :\n",
    "        m = int((houses[int(len(houses)/2)] + houses[int((len(houses)/2)-1)])/2)\n",
    "    else:\n",
    "        m = houses[int(len(houses)/2)]\n",
    "\n",
    "    print(m)\n",
    "\n",
    "    for i in houses:\n",
    "        count += abs(i - m)\n",
    "\n",
    "else:\n",
    "    houses = sorted(houses)\n",
    "    dist = []\n",
    "    sub = []\n",
    "    ans = []\n",
    "    count = 0\n",
    "\n",
    "    for i in range(1,len(houses)):\n",
    "        dist.append(houses[i]-houses[i-1])\n",
    "\n",
    "    temp = sorted(range(len(dist)), key=lambda i: dist[i])[-(k-1):]\n",
    "\n",
    "    sub.append(houses[:temp[0]+1])\n",
    "    for i in range(1,len(temp)):\n",
    "        sub.append(houses[temp[i-1]+1:temp[i]+1])\n",
    "    sub.append(houses[temp[-1]+1:])\n",
    "\n",
    "    print(sub)\n",
    "    for i in sub:\n",
    "#                 ans.append(min(i) + int((max(i)-min(i))/2))\n",
    "        if (len(i)/2 % 2) == 0 :\n",
    "            ans.append(int((i[int(len(i)/2)] + i[int((len(i)/2)-1)])/2))\n",
    "        else:\n",
    "            ans.append(int(i[int(len(i)/2)]))\n",
    "\n",
    "    for i in houses:\n",
    "        cur = abs(i - ans[0])\n",
    "        for j in range(1,len(ans)):\n",
    "            if abs(i - ans[j]) < cur:\n",
    "                cur = abs(i - ans[j])\n",
    "        count += cur"
   ]
  },
  {
   "cell_type": "code",
   "execution_count": 192,
   "metadata": {},
   "outputs": [
    {
     "data": {
      "text/plain": [
       "[2, 5, 2, 2]"
      ]
     },
     "execution_count": 192,
     "metadata": {},
     "output_type": "execute_result"
    }
   ],
   "source": [
    "dist"
   ]
  },
  {
   "cell_type": "code",
   "execution_count": 193,
   "metadata": {},
   "outputs": [
    {
     "data": {
      "text/plain": [
       "[3, 1]"
      ]
     },
     "execution_count": 193,
     "metadata": {},
     "output_type": "execute_result"
    }
   ],
   "source": [
    "temp"
   ]
  },
  {
   "cell_type": "code",
   "execution_count": 156,
   "metadata": {},
   "outputs": [
    {
     "data": {
      "text/plain": [
       "[[1, 3], [8, 10], [12]]"
      ]
     },
     "execution_count": 156,
     "metadata": {},
     "output_type": "execute_result"
    }
   ],
   "source": [
    "sub"
   ]
  },
  {
   "cell_type": "code",
   "execution_count": 18,
   "metadata": {},
   "outputs": [
    {
     "data": {
      "text/plain": [
       "[1, 2, 7, 6]"
      ]
     },
     "execution_count": 18,
     "metadata": {},
     "output_type": "execute_result"
    }
   ],
   "source": [
    "dist"
   ]
  },
  {
   "cell_type": "code",
   "execution_count": 28,
   "metadata": {},
   "outputs": [
    {
     "data": {
      "text/plain": [
       "[2]"
      ]
     },
     "execution_count": 28,
     "metadata": {},
     "output_type": "execute_result"
    }
   ],
   "source": [
    "sorted(range(len(dist)), key=lambda i: dist[i])[-(k-1):]"
   ]
  },
  {
   "cell_type": "code",
   "execution_count": 71,
   "metadata": {},
   "outputs": [
    {
     "data": {
      "text/plain": [
       "15.0"
      ]
     },
     "execution_count": 71,
     "metadata": {},
     "output_type": "execute_result"
    }
   ],
   "source": [
    "st.median([12,18])"
   ]
  },
  {
   "cell_type": "markdown",
   "metadata": {},
   "source": [
    "### 3 "
   ]
  },
  {
   "cell_type": "code",
   "execution_count": null,
   "metadata": {},
   "outputs": [],
   "source": [
    "a = [15,8,9,6]\n",
    "if (len(a)/2 % 2) == 0 :\n",
    "    m = (a[int(len(a)/2)] + a[int((len(a)/2)-1)])/2\n",
    "else:\n",
    "    m = a[len(a)/2]\n",
    "m"
   ]
  },
  {
   "cell_type": "code",
   "execution_count": 194,
   "metadata": {},
   "outputs": [],
   "source": [
    "class Solution(object):\n",
    "    def minDistance(self, houses, k):\n",
    "        \n",
    "        if k == 1:\n",
    "            count = 0\n",
    "            \n",
    "            if (len(houses)/2 % 2) == 0 :\n",
    "                m = int((houses[int(len(houses)/2)] + houses[int((len(houses)/2)-1)])/2)\n",
    "            else:\n",
    "                m = houses[int(len(houses)/2)]\n",
    "                \n",
    "            print(m)\n",
    "                \n",
    "            for i in houses:\n",
    "                count += abs(i - m)\n",
    "            return(count)\n",
    "        \n",
    "        else:\n",
    "            houses = sorted(houses)\n",
    "            dist = []\n",
    "            sub = []\n",
    "            ans = []\n",
    "            count = 0\n",
    "\n",
    "            for i in range(1,len(houses)):\n",
    "                dist.append(houses[i]-houses[i-1])\n",
    "\n",
    "            temp = sorted(sorted(range(len(dist)), key=lambda i: dist[i])[-(k-1):])\n",
    "\n",
    "            sub.append(houses[:temp[0]+1])\n",
    "            for i in range(1,len(temp)):\n",
    "                sub.append(houses[temp[i-1]+1:temp[i]+1])\n",
    "            sub.append(houses[temp[-1]+1:])\n",
    "\n",
    "            for i in sub:\n",
    "#                 ans.append(min(i) + int((max(i)-min(i))/2))\n",
    "                if (len(i)/2 % 2) == 0 :\n",
    "                    ans.append(int((i[int(len(i)/2)] + i[int((len(i)/2)-1)])/2))\n",
    "                else:\n",
    "                    ans.append(int(i[int(len(i)/2)]))\n",
    "\n",
    "            for i in houses:\n",
    "                cur = abs(i - ans[0])\n",
    "                for j in range(1,len(ans)):\n",
    "                    if abs(i - ans[j]) < cur:\n",
    "                        cur = abs(i - ans[j])\n",
    "                count += cur\n",
    "            return(count)"
   ]
  },
  {
   "cell_type": "code",
   "execution_count": 195,
   "metadata": {},
   "outputs": [
    {
     "data": {
      "text/plain": [
       "4"
      ]
     },
     "execution_count": 195,
     "metadata": {},
     "output_type": "execute_result"
    }
   ],
   "source": [
    "a = Solution()\n",
    "a.minDistance(houses = [1,8,12,10,3], k = 3)"
   ]
  },
  {
   "cell_type": "markdown",
   "metadata": {},
   "source": [
    "### 4)"
   ]
  },
  {
   "cell_type": "code",
   "execution_count": null,
   "metadata": {},
   "outputs": [],
   "source": []
  },
  {
   "cell_type": "code",
   "execution_count": null,
   "metadata": {},
   "outputs": [],
   "source": []
  },
  {
   "cell_type": "code",
   "execution_count": null,
   "metadata": {},
   "outputs": [],
   "source": []
  },
  {
   "cell_type": "code",
   "execution_count": null,
   "metadata": {},
   "outputs": [],
   "source": []
  }
 ],
 "metadata": {
  "kernelspec": {
   "display_name": "Python 3",
   "language": "python",
   "name": "python3"
  },
  "language_info": {
   "codemirror_mode": {
    "name": "ipython",
    "version": 3
   },
   "file_extension": ".py",
   "mimetype": "text/x-python",
   "name": "python",
   "nbconvert_exporter": "python",
   "pygments_lexer": "ipython3",
   "version": "3.8.2"
  }
 },
 "nbformat": 4,
 "nbformat_minor": 4
}
