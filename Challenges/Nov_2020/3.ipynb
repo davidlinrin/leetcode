{
 "cells": [
  {
   "cell_type": "code",
   "execution_count": 62,
   "metadata": {},
   "outputs": [
    {
     "name": "stdout",
     "output_type": "stream",
     "text": [
      "1 1 c c\n"
     ]
    }
   ],
   "source": [
    "s = \"cc\"\n",
    "prev = s[0]\n",
    "longest = 1\n",
    "count = 1\n",
    "for i in range(1,len(s)):\n",
    "    print(count,longest,prev, s[i])\n",
    "    if s[i] == prev:\n",
    "        count+=1\n",
    "        prev = s[i]\n",
    "        longest = max(count,longest)\n",
    "        \n",
    "    elif count > longest:\n",
    "        longest = count\n",
    "        prev = s[i]\n",
    "        count = 1\n",
    "    \n",
    "    elif count <= longest:\n",
    "        count = 1\n",
    "        prev = s[i]"
   ]
  },
  {
   "cell_type": "code",
   "execution_count": 79,
   "metadata": {},
   "outputs": [
    {
     "data": {
      "text/plain": [
       "5"
      ]
     },
     "execution_count": 79,
     "metadata": {},
     "output_type": "execute_result"
    }
   ],
   "source": [
    "s = \"triplepillooooow\"\n",
    "longest = 1\n",
    "count = 1\n",
    "for i in range(1,len(s)):\n",
    "    if s[i] == s[i-1]:\n",
    "        count+=1\n",
    "        prev = s[i]\n",
    "        longest = max(count,longest)\n",
    "        \n",
    "    else:\n",
    "        count = 1\n",
    "        \n",
    "longest"
   ]
  },
  {
   "cell_type": "code",
   "execution_count": 61,
   "metadata": {},
   "outputs": [
    {
     "data": {
      "text/plain": [
       "2"
      ]
     },
     "execution_count": 61,
     "metadata": {},
     "output_type": "execute_result"
    }
   ],
   "source": [
    "class Solution(object):\n",
    "    def maxPower(self, s):\n",
    "\n",
    "        curpow = maxpow = 1\n",
    "        \n",
    "        for i in range(1, len(s)):\n",
    "            \n",
    "            if s[i] == s[i-1]:\n",
    "                \n",
    "                curpow += 1\n",
    "                maxpow = max(curpow, maxpow)\n",
    "            \n",
    "            else:\n",
    "                curpow = 1\n",
    "        \n",
    "        return maxpow"
   ]
  },
  {
   "cell_type": "code",
   "execution_count": null,
   "metadata": {},
   "outputs": [],
   "source": []
  }
 ],
 "metadata": {
  "kernelspec": {
   "display_name": "Python 3",
   "language": "python",
   "name": "python3"
  },
  "language_info": {
   "codemirror_mode": {
    "name": "ipython",
    "version": 3
   },
   "file_extension": ".py",
   "mimetype": "text/x-python",
   "name": "python",
   "nbconvert_exporter": "python",
   "pygments_lexer": "ipython3",
   "version": "3.8.2"
  }
 },
 "nbformat": 4,
 "nbformat_minor": 4
}
