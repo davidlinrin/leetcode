{
 "cells": [
  {
   "cell_type": "code",
   "execution_count": 151,
   "metadata": {},
   "outputs": [
    {
     "data": {
      "text/plain": [
       "{2: [[0, 0], [1, 1], [1, 2], [2, 1], [2, 2], [3, 3]],\n",
       " 1: [[0, 1],\n",
       "  [0, 2],\n",
       "  [0, 3],\n",
       "  [1, 0],\n",
       "  [1, 3],\n",
       "  [2, 0],\n",
       "  [2, 3],\n",
       "  [3, 0],\n",
       "  [3, 1],\n",
       "  [3, 2]]}"
      ]
     },
     "execution_count": 151,
     "metadata": {},
     "output_type": "execute_result"
    }
   ],
   "source": [
    "# targetGrid = [[1,1,1,1],[1,1,3,3],[1,1,3,4],[5,5,1,4]]\n",
    "targetGrid = [[2,1,1,1],[1,2,2,1],[1,2,2,1],[1,1,1,2]]\n",
    "pos = {}\n",
    "group = {}\n",
    "\n",
    "for i in range(len(targetGrid)):\n",
    "    for j in range(len(targetGrid[0])):\n",
    "        if targetGrid[i][j] not in pos:\n",
    "            pos[targetGrid[i][j]] = [[i,j]]\n",
    "            group[targetGrid[i][j]] = 0\n",
    "        else:\n",
    "            pos[targetGrid[i][j]].append([i,j])\n",
    "pos"
   ]
  },
  {
   "cell_type": "code",
   "execution_count": 152,
   "metadata": {},
   "outputs": [
    {
     "name": "stdout",
     "output_type": "stream",
     "text": [
      "[[0, 0], [1, 1], [1, 2], [2, 1], [2, 2], [3, 3]]\n",
      "[0, 0]\n",
      "else\n",
      "[1, 1]\n",
      "if\n",
      "[1, 2]\n",
      "if\n",
      "[2, 1]\n",
      "if\n",
      "[2, 2]\n",
      "if\n",
      "[3, 3]\n",
      "elif\n",
      "[[0, 1], [0, 2], [0, 3], [1, 0], [1, 3], [2, 0], [2, 3], [3, 0], [3, 1], [3, 2]]\n",
      "[0, 1]\n",
      "if\n",
      "[0, 2]\n",
      "if\n",
      "[0, 3]\n",
      "if\n",
      "[1, 0]\n",
      "if\n",
      "[1, 3]\n",
      "if\n",
      "[2, 0]\n",
      "if\n",
      "[2, 3]\n",
      "if\n",
      "[3, 0]\n",
      "if\n",
      "[3, 1]\n",
      "if\n",
      "[3, 2]\n",
      "if\n"
     ]
    }
   ],
   "source": [
    "for i in pos:\n",
    "    new = 0\n",
    "    print(pos[i])\n",
    "    for j in range(len(pos[i])):\n",
    "        print([pos[i][j][0],pos[i][j][1]])\n",
    "        if (([pos[i][j][0]-1,pos[i][j][1]] in pos[i]) or ([pos[i][j][0],pos[i][j][1]-1] in pos[i]) or ([pos[i][j][0]+1,pos[i][j][1]] in pos[i]) or ([pos[i][j][0],pos[i][j][1]+1] in pos[i])):\n",
    "            print('if')\n",
    "            new = 1\n",
    "        elif new == 1:\n",
    "            print('elif')\n",
    "            new = 0\n",
    "            group[i] += 2\n",
    "        else:\n",
    "            print('else')\n",
    "            group[i] += 1\n",
    "            \n",
    "    if group[i] == 0 :\n",
    "        group[i] = 1"
   ]
  },
  {
   "cell_type": "code",
   "execution_count": 153,
   "metadata": {},
   "outputs": [
    {
     "data": {
      "text/plain": [
       "{2: 3, 1: 1}"
      ]
     },
     "execution_count": 153,
     "metadata": {},
     "output_type": "execute_result"
    }
   ],
   "source": [
    "group"
   ]
  },
  {
   "cell_type": "code",
   "execution_count": 154,
   "metadata": {},
   "outputs": [
    {
     "ename": "SyntaxError",
     "evalue": "invalid syntax (<ipython-input-154-cbf678152bc2>, line 1)",
     "output_type": "error",
     "traceback": [
      "\u001b[0;36m  File \u001b[0;32m\"<ipython-input-154-cbf678152bc2>\"\u001b[0;36m, line \u001b[0;32m1\u001b[0m\n\u001b[0;31m    print (3!)\u001b[0m\n\u001b[0m            ^\u001b[0m\n\u001b[0;31mSyntaxError\u001b[0m\u001b[0;31m:\u001b[0m invalid syntax\n"
     ]
    }
   ],
   "source": [
    "print (3!)"
   ]
  },
  {
   "cell_type": "code",
   "execution_count": null,
   "metadata": {},
   "outputs": [],
   "source": []
  },
  {
   "cell_type": "code",
   "execution_count": 32,
   "metadata": {},
   "outputs": [
    {
     "name": "stdout",
     "output_type": "stream",
     "text": [
      "[[-1, 0], [1, 0], [0, -1], [0, 1], [-1, 0], [1, 0], [0, -1], [0, 1], [-1, 0], [1, 0], [0, -1], [0, 1], [-1, 0], [1, 0], [0, -1], [0, 1], [0, 1], [2, 1], [1, 0], [1, 2], [0, 1], [2, 1], [1, 0], [1, 2], [1, 2], [3, 2], [2, 1], [2, 3], [1, 2], [3, 2], [2, 1], [2, 3], [2, 3], [4, 3], [3, 2], [3, 4], [2, 3], [4, 3], [3, 2], [3, 4], [2, 3], [4, 3], [3, 2], [3, 4], [2, 3], [4, 3], [3, 2], [3, 4]] 48\n",
      "[[0, 1], [2, 1], [1, 0], [1, 2], [0, 1], [2, 1], [1, 0], [1, 2], [1, 2], [3, 2], [2, 1], [2, 3], [1, 2], [3, 2], [2, 1], [2, 3]] 16\n"
     ]
    }
   ],
   "source": [
    "for i in pos:\n",
    "    temp = []\n",
    "    for j in pos[i]:\n",
    "        temp.append([j[0]-1,j[0]])\n",
    "        temp.append([j[0]+1,j[0]])\n",
    "        temp.append([j[0],j[0]-1])\n",
    "        temp.append([j[0],j[0]+1])\n",
    "    print(temp, len(temp))"
   ]
  },
  {
   "cell_type": "code",
   "execution_count": null,
   "metadata": {},
   "outputs": [],
   "source": []
  },
  {
   "cell_type": "code",
   "execution_count": 162,
   "metadata": {},
   "outputs": [],
   "source": [
    "n = 6 \n",
    "edges = [[3,0],[3,1],[3,2],[3,4],[5,4]]\n",
    "count = {}\n",
    "\n",
    "for i in edges:\n",
    "    if i[0] in count:\n",
    "        count[i[0]] += 1\n",
    "    else:\n",
    "        count[i[0]] = 1\n",
    "    \n",
    "    if i[1] in count:\n",
    "        count[i[1]] += 1\n",
    "    else:\n",
    "        count[i[1]] = 1"
   ]
  },
  {
   "cell_type": "code",
   "execution_count": 170,
   "metadata": {},
   "outputs": [
    {
     "data": {
      "text/plain": [
       "dict_values([4, 1, 1, 1, 2, 1])"
      ]
     },
     "execution_count": 170,
     "metadata": {},
     "output_type": "execute_result"
    }
   ],
   "source": [
    "count.values()"
   ]
  },
  {
   "cell_type": "code",
   "execution_count": 164,
   "metadata": {},
   "outputs": [
    {
     "data": {
      "text/plain": [
       "{3: 4, 0: 1, 1: 1, 2: 1, 4: 2, 5: 1}"
      ]
     },
     "execution_count": 164,
     "metadata": {},
     "output_type": "execute_result"
    }
   ],
   "source": [
    "count"
   ]
  },
  {
   "cell_type": "code",
   "execution_count": 184,
   "metadata": {},
   "outputs": [
    {
     "data": {
      "text/plain": [
       "4"
      ]
     },
     "execution_count": 184,
     "metadata": {},
     "output_type": "execute_result"
    }
   ],
   "source": [
    "count[3]"
   ]
  },
  {
   "cell_type": "code",
   "execution_count": 185,
   "metadata": {},
   "outputs": [],
   "source": [
    "def isPrintable(self, A):\n",
    "        m, n = len(A), len(A[0])\n",
    "        pos = [[m, n, 0, 0] for i in range(61)]\n",
    "        colors = set()\n",
    "        for i in range(m):\n",
    "            for j in range(n):\n",
    "                c = A[i][j]\n",
    "                colors.add(c)\n",
    "                pos[c][0] = min(pos[c][0], i)\n",
    "                pos[c][1] = min(pos[c][1], j)\n",
    "                pos[c][2] = max(pos[c][2], i)\n",
    "                pos[c][3] = max(pos[c][3], j)\n",
    "\n",
    "        def test(c):\n",
    "            for i in range(pos[c][0], pos[c][2] + 1):\n",
    "                for j in range(pos[c][1], pos[c][3] + 1):\n",
    "                    if A[i][j] > 0 and A[i][j] != c:\n",
    "                        return False\n",
    "            for i in range(pos[c][0], pos[c][2] + 1):\n",
    "                for j in range(pos[c][1], pos[c][3] + 1):\n",
    "                    A[i][j] = 0\n",
    "            return True\n",
    "\n",
    "        while colors:\n",
    "            colors2 = set()\n",
    "            for c in colors:\n",
    "                if not test(c):\n",
    "                    colors2.add(c)\n",
    "            if len(colors2) == len(colors):\n",
    "                return False\n",
    "            colors = colors2\n",
    "        return True"
   ]
  },
  {
   "cell_type": "code",
   "execution_count": null,
   "metadata": {},
   "outputs": [],
   "source": []
  },
  {
   "cell_type": "code",
   "execution_count": null,
   "metadata": {},
   "outputs": [],
   "source": []
  },
  {
   "cell_type": "code",
   "execution_count": null,
   "metadata": {},
   "outputs": [],
   "source": []
  }
 ],
 "metadata": {
  "kernelspec": {
   "display_name": "Python 3",
   "language": "python",
   "name": "python3"
  },
  "language_info": {
   "codemirror_mode": {
    "name": "ipython",
    "version": 3
   },
   "file_extension": ".py",
   "mimetype": "text/x-python",
   "name": "python",
   "nbconvert_exporter": "python",
   "pygments_lexer": "ipython3",
   "version": "3.8.2"
  }
 },
 "nbformat": 4,
 "nbformat_minor": 4
}
