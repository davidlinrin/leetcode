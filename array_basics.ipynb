{
 "cells": [
  {
   "cell_type": "markdown",
   "metadata": {},
   "source": [
    "### Max consecutive ones"
   ]
  },
  {
   "cell_type": "code",
   "execution_count": 29,
   "metadata": {},
   "outputs": [],
   "source": [
    "nums = [1,0,1,1,0,1]\n",
    "\n",
    "longest = 0\n",
    "count = 0\n",
    "\n",
    "for i in nums:\n",
    "    if i == 1:\n",
    "        count += 1\n",
    "        longest = max(count, longest)\n",
    "        \n",
    "    else (i == 0):\n",
    "        count = 0"
   ]
  },
  {
   "cell_type": "markdown",
   "metadata": {},
   "source": [
    "### Find Numbers with Even Number of Digits"
   ]
  },
  {
   "cell_type": "code",
   "execution_count": 35,
   "metadata": {},
   "outputs": [],
   "source": [
    "nums = [12,345,2,6,7896]\n",
    "\n",
    "count = 0\n",
    "for i in nums:\n",
    "    if len(str(i))%2 == 0:\n",
    "        count += 1\n",
    "return(count)"
   ]
  },
  {
   "cell_type": "markdown",
   "metadata": {},
   "source": [
    "### Squares of a Sorted Array"
   ]
  },
  {
   "cell_type": "code",
   "execution_count": 40,
   "metadata": {},
   "outputs": [
    {
     "data": {
      "text/plain": [
       "[0, 1, 9, 16, 100]"
      ]
     },
     "execution_count": 40,
     "metadata": {},
     "output_type": "execute_result"
    }
   ],
   "source": [
    "nums = [-4,-1,0,3,10]\n",
    "x = [i**2 for i in nums]\n",
    "sorted(x)"
   ]
  },
  {
   "cell_type": "markdown",
   "metadata": {},
   "source": [
    "### Duplicate Zeros"
   ]
  },
  {
   "cell_type": "code",
   "execution_count": 1,
   "metadata": {},
   "outputs": [],
   "source": [
    "nums = [0,0,0,0,0,0,0]\n",
    "i=0\n",
    "while i < len(nums):\n",
    "    if nums[i] == 0:\n",
    "        nums.insert(i,0)\n",
    "        nums.pop()\n",
    "        i += 2\n",
    "    else:\n",
    "        i += 1"
   ]
  },
  {
   "cell_type": "code",
   "execution_count": 2,
   "metadata": {},
   "outputs": [
    {
     "data": {
      "text/plain": [
       "[0, 0, 0, 0, 0, 0, 0]"
      ]
     },
     "execution_count": 2,
     "metadata": {},
     "output_type": "execute_result"
    }
   ],
   "source": [
    "nums"
   ]
  },
  {
   "cell_type": "markdown",
   "metadata": {},
   "source": [
    "### Merge sorted array"
   ]
  },
  {
   "cell_type": "code",
   "execution_count": 19,
   "metadata": {},
   "outputs": [
    {
     "name": "stdout",
     "output_type": "stream",
     "text": [
      "[0, 0, 0, 1, 2, 2, 3, 5, 6]\n",
      "[1, 2, 2, 3, 5, 6]\n"
     ]
    }
   ],
   "source": [
    "nums1 = [1,2,3,0,0,0]\n",
    "nums2 = [2,5,6]\n",
    "\n",
    "joined = sorted(nums1+nums2)\n",
    "print(joined)\n",
    "print([i for i in joined if i > 0])\n"
   ]
  },
  {
   "cell_type": "code",
   "execution_count": 1,
   "metadata": {},
   "outputs": [],
   "source": [
    "class Solution(object):\n",
    "    def merge(self, nums1, m, nums2, n):  \n",
    "        joined = sorted(nums1 + nums2)\n",
    "        res = [i for i in joined if i > 0]\n",
    "        return(res)      "
   ]
  },
  {
   "cell_type": "code",
   "execution_count": 2,
   "metadata": {},
   "outputs": [
    {
     "data": {
      "text/plain": [
       "[1, 2, 2, 3, 5, 6]"
      ]
     },
     "execution_count": 2,
     "metadata": {},
     "output_type": "execute_result"
    }
   ],
   "source": [
    "nums1 = [1,2,3,0,0,0]\n",
    "nums2 = [2,5,6]\n",
    "\n",
    "a = Solution()\n",
    "a.merge(nums1,3,nums2,3)"
   ]
  },
  {
   "cell_type": "markdown",
   "metadata": {},
   "source": [
    "### Remove Element"
   ]
  },
  {
   "cell_type": "code",
   "execution_count": 5,
   "metadata": {},
   "outputs": [
    {
     "name": "stdout",
     "output_type": "stream",
     "text": [
      "[0, 1, 2, 2, 3, 0, 4, 2]\n",
      "[0, 1, 2, 2, 3, 0, 4]\n",
      "[0, 1, 2, 2, 3, 0, 4]\n",
      "[0, 1, 2, 2, 3, 0, 4]\n",
      "[0, 1, 2, 2, 3, 0, 4]\n",
      "[0, 1, 2, 3, 0, 4]\n",
      "[0, 1, 3, 0, 4]\n",
      "[0, 1, 3, 0, 4]\n"
     ]
    }
   ],
   "source": [
    "nums = [0,1,2,2,3,0,4,2]\n",
    "val = 2\n",
    "\n",
    "for i in reversed(range(len(nums))):\n",
    "    print(nums)\n",
    "    if nums[i] == val:\n",
    "        del(nums[i])"
   ]
  },
  {
   "cell_type": "code",
   "execution_count": 36,
   "metadata": {},
   "outputs": [
    {
     "data": {
      "text/plain": [
       "[0, 1, 2, 3, 0, 4, 2]"
      ]
     },
     "execution_count": 36,
     "metadata": {},
     "output_type": "execute_result"
    }
   ],
   "source": [
    "nums = [0,1,2,2,3,0,4,2]\n",
    "nums.remove(2)\n",
    "nums"
   ]
  },
  {
   "cell_type": "markdown",
   "metadata": {},
   "source": [
    "### Remove Duplicates from Sorted Array"
   ]
  },
  {
   "cell_type": "code",
   "execution_count": 14,
   "metadata": {},
   "outputs": [],
   "source": [
    "nums = [0,0,1,1,1,2,2,3,3,4]\n",
    "count = 0\n",
    "prev = 'a'\n",
    "for i in reversed(range(len(nums))):\n",
    "    if nums[i] == prev:\n",
    "        del(nums[i])\n",
    "        next\n",
    "    else:\n",
    "        count += 1\n",
    "        prev = nums[i]"
   ]
  },
  {
   "cell_type": "code",
   "execution_count": 13,
   "metadata": {},
   "outputs": [
    {
     "data": {
      "text/plain": [
       "[0, 1, 2, 3, 4]"
      ]
     },
     "execution_count": 13,
     "metadata": {},
     "output_type": "execute_result"
    }
   ],
   "source": [
    "nums"
   ]
  },
  {
   "cell_type": "markdown",
   "metadata": {},
   "source": [
    "### Check If N and Its Double Exist"
   ]
  },
  {
   "cell_type": "code",
   "execution_count": 30,
   "metadata": {},
   "outputs": [],
   "source": [
    "class Solution(object):\n",
    "    def checkIfExist(self, arr):\n",
    "        seen = []\n",
    "        for i in arr:\n",
    "\n",
    "            if i not in seen:\n",
    "                seen.append(i)\n",
    "\n",
    "            if (i*2 in seen) or (i/2 in seen):\n",
    "                return(True)\n",
    "        \n",
    "        return(False)"
   ]
  },
  {
   "cell_type": "code",
   "execution_count": 34,
   "metadata": {},
   "outputs": [
    {
     "data": {
      "text/plain": [
       "False"
      ]
     },
     "execution_count": 34,
     "metadata": {},
     "output_type": "execute_result"
    }
   ],
   "source": [
    "a = Solution()\n",
    "a.checkIfExist([3,1,7,11])"
   ]
  },
  {
   "cell_type": "markdown",
   "metadata": {},
   "source": [
    "### Valid Mountain Array"
   ]
  },
  {
   "cell_type": "code",
   "execution_count": 68,
   "metadata": {},
   "outputs": [],
   "source": [
    "class Solution(object):\n",
    "    def validMountainArray(self, A):\n",
    "        inc = False\n",
    "        s = 0\n",
    "\n",
    "        for i in range(1,len(A)):\n",
    "            if A[i]>A[i-1] and s == 0:\n",
    "                inc = True\n",
    "            elif A[i]<A[i-1] and s == 0:\n",
    "                s = 1\n",
    "            elif A[i]<A[i-1] and s == 1:\n",
    "                next\n",
    "            else:\n",
    "                return(False)\n",
    "            \n",
    "        if s==1 and inc==True:\n",
    "            return(True)\n",
    "        else:\n",
    "            return(False)"
   ]
  },
  {
   "cell_type": "code",
   "execution_count": 69,
   "metadata": {},
   "outputs": [
    {
     "data": {
      "text/plain": [
       "False"
      ]
     },
     "execution_count": 69,
     "metadata": {},
     "output_type": "execute_result"
    }
   ],
   "source": [
    "a = Solution()\n",
    "a.validMountainArray([2,1])"
   ]
  },
  {
   "cell_type": "markdown",
   "metadata": {},
   "source": [
    "### Replace Elements with Greatest Element on Right Side"
   ]
  },
  {
   "cell_type": "code",
   "execution_count": 84,
   "metadata": {},
   "outputs": [
    {
     "name": "stdout",
     "output_type": "stream",
     "text": [
      "[17, 18, 5, 4, 6, 1] 0\n",
      "[18, 18, 5, 4, 6, 1] 1\n",
      "[18, 6, 5, 4, 6, 1] 2\n",
      "[18, 6, 6, 4, 6, 1] 3\n",
      "[18, 6, 6, 6, 6, 1] 4\n",
      "[18, 6, 6, 6, 1, 1] 5\n"
     ]
    }
   ],
   "source": [
    "arr = [17,18,5,4,6,1]\n",
    "\n",
    "for i in range(len(arr)):\n",
    "    print(arr, i)\n",
    "    if i == len(arr)-1:\n",
    "        arr[-1] = -1\n",
    "    else:\n",
    "        arr[i] = max(arr[i+1:])\n",
    "    \n",
    "            \n",
    "        "
   ]
  },
  {
   "cell_type": "markdown",
   "metadata": {},
   "source": [
    "### Move Zeroes"
   ]
  },
  {
   "cell_type": "code",
   "execution_count": 101,
   "metadata": {},
   "outputs": [],
   "source": [
    "class Solution(object):\n",
    "    def moveZeroes(self, nums):\n",
    "\n",
    "        insert_index = 0\n",
    "\n",
    "        for i in range(len(nums)):\n",
    "            if nums[i] != 0:\n",
    "                nums[insert_index]=nums[i]\n",
    "                insert_index+=1\n",
    "\n",
    "        for i in range(insert_index,len(nums)):\n",
    "            nums[i]=0\n",
    "\n",
    "        return(nums)"
   ]
  },
  {
   "cell_type": "code",
   "execution_count": 102,
   "metadata": {},
   "outputs": [
    {
     "data": {
      "text/plain": [
       "[1, 0, 0]"
      ]
     },
     "execution_count": 102,
     "metadata": {},
     "output_type": "execute_result"
    }
   ],
   "source": [
    "a = Solution()\n",
    "a.moveZeroes([0,0,1])"
   ]
  },
  {
   "cell_type": "code",
   "execution_count": 206,
   "metadata": {},
   "outputs": [
    {
     "name": "stdout",
     "output_type": "stream",
     "text": [
      "[]\n",
      "[0, 0, 0, 0]\n",
      "[1, 1, 1, 1] \n",
      "\n"
     ]
    }
   ],
   "source": [
    "end = [1,1,1,1]\n",
    "start = [0] * len(end)\n",
    "\n",
    "count = 0\n",
    "\n",
    "while start != end:\n",
    "    \n",
    "    sub = []\n",
    "    \n",
    "    for i in range(len(end)):\n",
    "        if start[i] == end[i]:\n",
    "            sub.append(i)\n",
    "            \n",
    "    print(sub)\n",
    "    print(start)\n",
    "    print(end,'\\n')\n",
    "\n",
    "    if sub == []:\n",
    "        start = [i+1 for i in start]\n",
    "        count += 1\n",
    "        continue\n",
    "    elif start[0] != end[0]:\n",
    "        start[:sub[0]] = [i+1 for i in start[:sub[0]]]\n",
    "        count += 1\n",
    "        continue\n",
    "    else:\n",
    "        for i in range(len(sub)-1):\n",
    "            if sub[i+1] - sub[i] == 1:\n",
    "                next\n",
    "            else:\n",
    "                start[sub[i]+1:sub[i+1]] = [i+1 for i in start[sub[i]+1:sub[i+1]]]\n",
    "                count += 1\n",
    "                continue\n",
    "\n",
    "        if sub[-1] != len(start)-1:\n",
    "            start[sub[-1]+1:] = [i+1 for i in start[sub[-1]+1:]]\n",
    "            count += 1\n",
    "            continue"
   ]
  },
  {
   "cell_type": "code",
   "execution_count": null,
   "metadata": {},
   "outputs": [],
   "source": []
  },
  {
   "cell_type": "code",
   "execution_count": null,
   "metadata": {},
   "outputs": [],
   "source": []
  },
  {
   "cell_type": "code",
   "execution_count": null,
   "metadata": {},
   "outputs": [],
   "source": []
  }
 ],
 "metadata": {
  "kernelspec": {
   "display_name": "Python 3",
   "language": "python",
   "name": "python3"
  },
  "language_info": {
   "codemirror_mode": {
    "name": "ipython",
    "version": 3
   },
   "file_extension": ".py",
   "mimetype": "text/x-python",
   "name": "python",
   "nbconvert_exporter": "python",
   "pygments_lexer": "ipython3",
   "version": "3.8.2"
  }
 },
 "nbformat": 4,
 "nbformat_minor": 4
}
