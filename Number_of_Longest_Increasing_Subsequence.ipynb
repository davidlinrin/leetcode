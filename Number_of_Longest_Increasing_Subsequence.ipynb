{
 "cells": [
  {
   "cell_type": "markdown",
   "metadata": {},
   "source": [
    "### longest increasing subsequence"
   ]
  },
  {
   "cell_type": "markdown",
   "metadata": {},
   "source": [
    "https://www.cs.princeton.edu/courses/archive/spring13/cos423/lectures/LongestIncreasingSubsequence.pdf?fbclid=IwAR3qgdXtVHKzkLaN4cp3JegvFwTXMTzg5MaFsrkXBk3OnShbYJp7sM3YOCk"
   ]
  },
  {
   "cell_type": "code",
   "execution_count": 116,
   "metadata": {},
   "outputs": [],
   "source": [
    "nums = [1,3,5,4,7,9,20,172,1,9,26,12872,2,5,6,8,9,72,10,2,1,72,72,72,4,8,2,9,1,1,6,32,46,1,2,7,12]\n",
    "# nums = [1,1]\n",
    "# nums = [-2,-1]\n",
    "nums = [4,10,4,3,8,9]"
   ]
  },
  {
   "cell_type": "code",
   "execution_count": 117,
   "metadata": {},
   "outputs": [],
   "source": [
    "arr = [[] for i in nums]\n",
    "\n",
    "for i in nums:\n",
    "    for j in range(len(arr)):\n",
    "        try:\n",
    "            temp = arr[j].pop()\n",
    "            if temp>i:\n",
    "                arr[j].append(temp)\n",
    "                arr[j].append(i)\n",
    "                break\n",
    "            else:\n",
    "                arr[j].append(temp)\n",
    "                next\n",
    "        except IndexError:\n",
    "            arr[j].append(i)\n",
    "            break\n",
    "            \n",
    "longest = 0\n",
    "seen = []\n",
    "for i in arr:\n",
    "    if i != [] and i not in seen:\n",
    "        seen.append(i)\n",
    "        longest += 1"
   ]
  },
  {
   "cell_type": "code",
   "execution_count": 141,
   "metadata": {},
   "outputs": [],
   "source": [
    "nums = [4,10,4,3,8,9]\n",
    "class Solution(object):\n",
    "    def lengthOfLIS(self, nums):\n",
    "        arr = [[] for i in nums]\n",
    "\n",
    "        for i in nums:\n",
    "            print(arr)\n",
    "            for j in range(len(arr)):\n",
    "                try:\n",
    "                    temp = arr[j].pop()\n",
    "                    print(temp)\n",
    "                    print(temp[0], i, '\\n')\n",
    "                    if temp[0]>i:\n",
    "                        arr[j].append((temp))\n",
    "                        arr[j].append((i,j))\n",
    "                        break\n",
    "                    else:\n",
    "                        arr[j].append((temp))\n",
    "                        next\n",
    "                except IndexError:\n",
    "                    arr[j].append((i,j))\n",
    "                    break\n",
    "\n",
    "        longest = 0\n",
    "        seen = []\n",
    "        for i in arr:\n",
    "            if i != [] and i not in seen:\n",
    "                seen.append(i)\n",
    "                longest += 1\n",
    "                \n",
    "        return(longest)"
   ]
  },
  {
   "cell_type": "code",
   "execution_count": 177,
   "metadata": {},
   "outputs": [],
   "source": [
    "# a = Solution()\n",
    "# a.lengthOfLIS(nums)"
   ]
  },
  {
   "cell_type": "code",
   "execution_count": 144,
   "metadata": {},
   "outputs": [
    {
     "data": {
      "text/plain": [
       "[[4, 3], [10, 4], [8], [9], [], []]"
      ]
     },
     "execution_count": 144,
     "metadata": {},
     "output_type": "execute_result"
    }
   ],
   "source": [
    "arr"
   ]
  },
  {
   "cell_type": "markdown",
   "metadata": {},
   "source": [
    "### hard coding..."
   ]
  },
  {
   "cell_type": "code",
   "execution_count": 261,
   "metadata": {},
   "outputs": [],
   "source": [
    "nums = [3,5,6,2,5,4,19,5,6,7,12]\n",
    "arr = [[] for i in nums]\n",
    "    \n",
    "for i in range(len(nums)):\n",
    "    for j in range(len(arr)):\n",
    "        try:\n",
    "            temp = arr[j].pop()\n",
    "            if temp[0]>=nums[i]:\n",
    "                arr[j].append((temp))\n",
    "                if j == 0:\n",
    "                    pointer = 0\n",
    "                    arr[j].append((nums[i],pointer))\n",
    "                else:\n",
    "                    pointer = arr[j-1].pop()\n",
    "                    arr[j-1].append(pointer)\n",
    "                    arr[j].append((nums[i],pointer[0]))\n",
    "                break\n",
    "            else:\n",
    "                arr[j].append((temp))\n",
    "                next\n",
    "                \n",
    "        except IndexError:\n",
    "            if j == 0:\n",
    "                pointer = 0\n",
    "                arr[j].append((nums[i],pointer))\n",
    "            else:\n",
    "                pointer = arr[j-1].pop()\n",
    "                arr[j-1].append(pointer)\n",
    "                arr[j].append((nums[i],pointer[0]))\n",
    "            break\n",
    "            \n",
    "arr = list(filter(lambda a: a != [], arr))"
   ]
  },
  {
   "cell_type": "code",
   "execution_count": 263,
   "metadata": {},
   "outputs": [
    {
     "data": {
      "text/plain": [
       "[[(3, 0), (2, 0)],\n",
       " [(5, 3), (5, 2), (4, 2)],\n",
       " [(6, 5), (5, 4)],\n",
       " [(19, 6), (6, 5)],\n",
       " [(7, 6)],\n",
       " [(12, 7)]]"
      ]
     },
     "execution_count": 263,
     "metadata": {},
     "output_type": "execute_result"
    }
   ],
   "source": [
    "arr"
   ]
  },
  {
   "cell_type": "code",
   "execution_count": 257,
   "metadata": {},
   "outputs": [],
   "source": []
  },
  {
   "cell_type": "code",
   "execution_count": null,
   "metadata": {},
   "outputs": [],
   "source": []
  },
  {
   "cell_type": "code",
   "execution_count": null,
   "metadata": {},
   "outputs": [],
   "source": []
  },
  {
   "cell_type": "code",
   "execution_count": null,
   "metadata": {},
   "outputs": [],
   "source": []
  },
  {
   "cell_type": "code",
   "execution_count": null,
   "metadata": {},
   "outputs": [],
   "source": []
  },
  {
   "cell_type": "code",
   "execution_count": null,
   "metadata": {},
   "outputs": [],
   "source": []
  },
  {
   "cell_type": "code",
   "execution_count": null,
   "metadata": {},
   "outputs": [],
   "source": []
  },
  {
   "cell_type": "code",
   "execution_count": null,
   "metadata": {},
   "outputs": [],
   "source": []
  },
  {
   "cell_type": "code",
   "execution_count": null,
   "metadata": {},
   "outputs": [],
   "source": []
  },
  {
   "cell_type": "code",
   "execution_count": null,
   "metadata": {},
   "outputs": [],
   "source": []
  },
  {
   "cell_type": "code",
   "execution_count": null,
   "metadata": {},
   "outputs": [],
   "source": []
  },
  {
   "cell_type": "code",
   "execution_count": null,
   "metadata": {},
   "outputs": [],
   "source": [
    "class Solution(object):\n",
    "    def lengthOfLIS(self, nums):\n",
    "        arr = [[] for i in nums]\n",
    "\n",
    "        for i in nums:\n",
    "            for j in range(len(arr)):\n",
    "                try:\n",
    "                    temp = arr[j].pop()\n",
    "                    if temp>i:\n",
    "                        arr[j].append(temp)\n",
    "                        arr[j].append(i)\n",
    "                        break\n",
    "                    else:\n",
    "                        arr[j].append(temp)\n",
    "                        next\n",
    "                except IndexError:\n",
    "                    arr[j].append(i)\n",
    "                    break\n",
    "\n",
    "        longest = 0\n",
    "        seen = []\n",
    "        for i in arr:\n",
    "            if i != [] and i not in seen:\n",
    "                seen.append(i)\n",
    "                longest += 1\n",
    "                \n",
    "        return(longest)"
   ]
  }
 ],
 "metadata": {
  "kernelspec": {
   "display_name": "Python 3",
   "language": "python",
   "name": "python3"
  },
  "language_info": {
   "codemirror_mode": {
    "name": "ipython",
    "version": 3
   },
   "file_extension": ".py",
   "mimetype": "text/x-python",
   "name": "python",
   "nbconvert_exporter": "python",
   "pygments_lexer": "ipython3",
   "version": "3.8.2"
  }
 },
 "nbformat": 4,
 "nbformat_minor": 4
}
