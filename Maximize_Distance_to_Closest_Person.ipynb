{
 "cells": [
  {
   "cell_type": "code",
   "execution_count": null,
   "metadata": {},
   "outputs": [],
   "source": [
    "class Solution(object):\n",
    "    def maxDistToClosest(self, seats):\n",
    "        res = []\n",
    "\n",
    "        for start,i in enumerate(seats):\n",
    "            count = 0\n",
    "\n",
    "            if (start == 0) and (i != 1):\n",
    "                for j in range(start+1,len(seats)):\n",
    "                    count += 1\n",
    "                    if (seats[j]==1):\n",
    "                        res.append(count)\n",
    "                        break\n",
    "\n",
    "            elif (i == 1):\n",
    "                for j in range(start+1,len(seats)):\n",
    "                    count += 1\n",
    "                    if (seats[j]==1):\n",
    "                        res.append(int(count/2))\n",
    "                        break\n",
    "                    elif(j == len(seats)-1):\n",
    "                        res.append(count)\n",
    "                        break\n",
    "            else:\n",
    "                next\n",
    "                \n",
    "        return(max(res))"
   ]
  },
  {
   "cell_type": "code",
   "execution_count": 179,
   "metadata": {},
   "outputs": [],
   "source": [
    "class Solution(object):\n",
    "    def maxDistToClosest(self, seats):\n",
    "        res = []\n",
    "        idx_1 = 0\n",
    "        idx_2 = len(seats)-1\n",
    "        longest = 0\n",
    "        cur = 0\n",
    "\n",
    "        if seats[0] == 0:\n",
    "            count = 1\n",
    "            for i in range(1,len(seats)):\n",
    "                if seats[i] != 1:\n",
    "                    count += 1\n",
    "                else:\n",
    "                    res.append(count)\n",
    "                    idx_1 = i\n",
    "                    break\n",
    "\n",
    "        if seats[len(seats)-1] == 0:\n",
    "            count = 1\n",
    "            for i in reversed(range(len(seats)-1)):\n",
    "                if seats[i] != 1:\n",
    "                    count += 1\n",
    "                else:\n",
    "                    res.append(count)\n",
    "                    idx_2 = i\n",
    "                    break\n",
    "\n",
    "        for i in range(idx_1+1,idx_2+1):\n",
    "            if seats[i] != 1:\n",
    "                cur += 1\n",
    "            else:\n",
    "                if cur > longest:\n",
    "                    longest = cur\n",
    "                cur = 0\n",
    "\n",
    "        if longest == 2:\n",
    "            res.append(int(longest / 2))\n",
    "        else:\n",
    "            res.append(int(longest / 2) + (longest % 2 > 0))\n",
    "            \n",
    "        return(max(res))"
   ]
  },
  {
   "cell_type": "markdown",
   "metadata": {},
   "source": [
    "### 1)"
   ]
  },
  {
   "cell_type": "code",
   "execution_count": 120,
   "metadata": {},
   "outputs": [],
   "source": [
    "seats = [0,1,0,0,0,0,0,0,1,0,0,0,0,0,0,0]\n",
    "res = []\n",
    "\n",
    "for start,i in enumerate(seats):\n",
    "    count = 0\n",
    "    \n",
    "    if (start == 0) and (i != 1):\n",
    "        for j in range(start+1,len(seats)):\n",
    "            count += 1\n",
    "            if (seats[j]==1):\n",
    "                res.append(count)\n",
    "                break\n",
    "    \n",
    "    elif (i == 1):\n",
    "        for j in range(start+1,len(seats)):\n",
    "            count += 1\n",
    "            if (seats[j]==1):\n",
    "                res.append(int(count/2))\n",
    "                break\n",
    "            elif(j == len(seats)-1):\n",
    "                res.append(count)\n",
    "                break\n",
    "    else:\n",
    "        next"
   ]
  },
  {
   "cell_type": "markdown",
   "metadata": {},
   "source": [
    "### 2)"
   ]
  },
  {
   "cell_type": "code",
   "execution_count": 183,
   "metadata": {},
   "outputs": [
    {
     "data": {
      "text/plain": [
       "7"
      ]
     },
     "execution_count": 183,
     "metadata": {},
     "output_type": "execute_result"
    }
   ],
   "source": [
    "len(seats)"
   ]
  },
  {
   "cell_type": "code",
   "execution_count": 211,
   "metadata": {},
   "outputs": [
    {
     "name": "stdout",
     "output_type": "stream",
     "text": [
      "1\n"
     ]
    }
   ],
   "source": [
    "seats = [1,0,1]\n",
    "res = []\n",
    "idx_1 = 0\n",
    "idx_2 = len(seats)-1\n",
    "longest = 0\n",
    "cur = 0\n",
    "\n",
    "if seats[0] == 0:\n",
    "    count = 1\n",
    "    for i in range(1,len(seats)):\n",
    "        if seats[i] != 1:\n",
    "            count += 1\n",
    "        else:\n",
    "            res.append(count)\n",
    "            idx_1 = i\n",
    "            break\n",
    "\n",
    "if seats[len(seats)-1] == 0:\n",
    "    count = 1\n",
    "    for i in reversed(range(len(seats)-1)):\n",
    "        if seats[i] != 1:\n",
    "            count += 1\n",
    "        else:\n",
    "            res.append(count)\n",
    "            idx_2 = i\n",
    "            break\n",
    "            \n",
    "for i in range(idx_1+1,idx_2+1):\n",
    "    if seats[i] != 1:\n",
    "        cur += 1\n",
    "    else:\n",
    "        if cur > longest:\n",
    "            longest = cur\n",
    "        cur = 0\n",
    "\n",
    "print(longest)\n",
    "if longest == 2:\n",
    "    res.append(int(longest / 2))\n",
    "else:\n",
    "    res.append(int(longest / 2) + (longest % 2 > 0))"
   ]
  },
  {
   "cell_type": "markdown",
   "metadata": {},
   "source": [
    "### 3)"
   ]
  },
  {
   "cell_type": "code",
   "execution_count": null,
   "metadata": {},
   "outputs": [],
   "source": [
    "class Solution(object):\n",
    "    def maxDistToClosest(self, seats):\n",
    "        \n",
    "        i = 0\n",
    "        left = 0\n",
    "        while seats[i] == 0:\n",
    "            left += 1\n",
    "            i += 1\n",
    "        \n",
    "        j = len(seats)-1\n",
    "        right = 0\n",
    "        while seats[j] == 0:\n",
    "            right += 1\n",
    "            j -= 1\n",
    "        \n",
    "        cur_center = max_center = 0\n",
    "        \n",
    "        for k in range(i, j):\n",
    "            if seats[k] == 0:\n",
    "                cur_center += 1\n",
    "                max_center = max(max_center, cur_center)\n",
    "            else:\n",
    "                cur_center = 0\n",
    "        \n",
    "        if max_center % 2 != 0: max_center += 1\n",
    "        \n",
    "        return max(left, right, max_center//2)"
   ]
  },
  {
   "cell_type": "code",
   "execution_count": null,
   "metadata": {},
   "outputs": [],
   "source": []
  }
 ],
 "metadata": {
  "kernelspec": {
   "display_name": "Python 3",
   "language": "python",
   "name": "python3"
  },
  "language_info": {
   "codemirror_mode": {
    "name": "ipython",
    "version": 3
   },
   "file_extension": ".py",
   "mimetype": "text/x-python",
   "name": "python",
   "nbconvert_exporter": "python",
   "pygments_lexer": "ipython3",
   "version": "3.8.2"
  }
 },
 "nbformat": 4,
 "nbformat_minor": 4
}
