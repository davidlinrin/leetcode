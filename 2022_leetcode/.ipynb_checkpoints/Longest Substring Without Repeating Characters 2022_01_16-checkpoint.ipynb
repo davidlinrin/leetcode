{
 "cells": [
  {
   "cell_type": "code",
   "execution_count": null,
   "id": "9ab52292",
   "metadata": {},
   "outputs": [],
   "source": [
    "# (O(n^2))\n",
    "class Solution(object):\n",
    "    def lengthOfLongestSubstring(self, s):\n",
    "        \n",
    "        # variable to keep track longest substring, and repeating characters\n",
    "        result = 0\n",
    "        characters = set()\n",
    "        \n",
    "        # if string contain 1 letter, return 1\n",
    "        if len(s) == 1:\n",
    "            result = 1\n",
    "            return result\n",
    "        # else, iterate through every substring and keep longest substring in result\n",
    "        else:\n",
    "            for start, letter_1 in enumerate(s):\n",
    "                characters.add(letter_1)\n",
    "                for end, letter_2 in enumerate(s[start+1:]):\n",
    "                    if letter_2 in characters:\n",
    "                        result = max(result, len(characters))\n",
    "                        characters = set()\n",
    "                        break\n",
    "                    else:\n",
    "                        characters.add(letter_2)\n",
    "                        result = max(result, len(characters))\n",
    "                next\n",
    "\n",
    "            return result"
   ]
  },
  {
   "cell_type": "code",
   "execution_count": 61,
   "id": "000bc266",
   "metadata": {},
   "outputs": [
    {
     "data": {
      "text/plain": [
       "3"
      ]
     },
     "execution_count": 61,
     "metadata": {},
     "output_type": "execute_result"
    }
   ],
   "source": [
    "# Sliding window solution O(2n)\n",
    "s = \"abcabcbb\"\n",
    "chars = [0] * 128\n",
    "left = right = 0\n",
    "\n",
    "res = 0\n",
    "while right < len(s):\n",
    "    r = s[right]\n",
    "    chars[ord(r)] += 1\n",
    "    while chars[ord(r)] > 1:\n",
    "        l = s[left]\n",
    "        chars[ord(l)] -= 1\n",
    "        left += 1\n",
    "\n",
    "    res = max(res, right - left + 1)\n",
    "    right += 1\n",
    "\n",
    "res"
   ]
  },
  {
   "cell_type": "code",
   "execution_count": 75,
   "id": "59c05214",
   "metadata": {},
   "outputs": [
    {
     "name": "stdout",
     "output_type": "stream",
     "text": [
      "a 0 0\n",
      "{'a': 1} \n",
      "\n",
      "b 0 1\n",
      "{'a': 1, 'b': 2} \n",
      "\n",
      "a 0 2\n",
      "{'a': 3, 'b': 2} \n",
      "\n",
      "z 1 3\n",
      "{'a': 3, 'b': 2, 'z': 4} \n",
      "\n",
      "x 1 4\n",
      "{'a': 3, 'b': 2, 'z': 4, 'x': 5} \n",
      "\n",
      "b 1 5\n",
      "{'a': 3, 'b': 6, 'z': 4, 'x': 5} \n",
      "\n",
      "c 2 6\n",
      "{'a': 3, 'b': 6, 'z': 4, 'x': 5, 'c': 7} \n",
      "\n",
      "b 2 7\n",
      "{'a': 3, 'b': 8, 'z': 4, 'x': 5, 'c': 7} \n",
      "\n",
      "b 6 8\n",
      "{'a': 3, 'b': 9, 'z': 4, 'x': 5, 'c': 7} \n",
      "\n",
      "5\n"
     ]
    }
   ],
   "source": [
    "# Sliding window solution, optimized O(n)\n",
    "s = \"abazxbcbb\"\n",
    "n = len(s)\n",
    "ans = 0\n",
    "\n",
    "# mp stores the current index of a character\n",
    "mp = {}\n",
    "\n",
    "i = 0\n",
    "# try to extend the range [i, j]\n",
    "for j in range(n):\n",
    "    print(s[j],i,j)\n",
    "    if s[j] in mp:\n",
    "        i = max(mp[s[j]], i)\n",
    "\n",
    "    ans = max(ans, j - i + 1)\n",
    "    mp[s[j]] = j + 1\n",
    "    print(mp, '\\n')\n"
   ]
  },
  {
   "cell_type": "code",
   "execution_count": null,
   "id": "77475c16",
   "metadata": {},
   "outputs": [],
   "source": []
  }
 ],
 "metadata": {
  "kernelspec": {
   "display_name": "Python 3",
   "language": "python",
   "name": "python3"
  },
  "language_info": {
   "codemirror_mode": {
    "name": "ipython",
    "version": 3
   },
   "file_extension": ".py",
   "mimetype": "text/x-python",
   "name": "python",
   "nbconvert_exporter": "python",
   "pygments_lexer": "ipython3",
   "version": "3.6.5"
  }
 },
 "nbformat": 4,
 "nbformat_minor": 5
}
