{
 "cells": [
  {
   "cell_type": "code",
   "execution_count": 6,
   "id": "34be65f2",
   "metadata": {},
   "outputs": [],
   "source": [
    "def topKFrequent(nums, k):\n",
    "    counts = {}\n",
    "    res = []\n",
    "    for num in nums:\n",
    "        c = counts.get(num, 0) + 1\n",
    "        counts[num] = c\n",
    "\n",
    "    bucket = [[] for i in range(len(nums))]\n",
    "    print(bucket, counts)\n",
    "    for key, val in counts.items():\n",
    "        print(key,val)\n",
    "        bucket[counts[key]-1].append(key)\n",
    "\n",
    "    for k_max in bucket[::-1]:\n",
    "        if k_max and len(res)<k:\n",
    "            res += k_max\n",
    "    print(bucket)\n",
    "    return res"
   ]
  },
  {
   "cell_type": "code",
   "execution_count": 7,
   "id": "811fc330",
   "metadata": {},
   "outputs": [
    {
     "name": "stdout",
     "output_type": "stream",
     "text": [
      "[[], [], [], [], [], []] {1: 3, 2: 2, 3: 1}\n",
      "1 3\n",
      "2 2\n",
      "3 1\n",
      "[[3], [2], [1], [], [], []]\n"
     ]
    },
    {
     "data": {
      "text/plain": [
       "[1, 2]"
      ]
     },
     "execution_count": 7,
     "metadata": {},
     "output_type": "execute_result"
    }
   ],
   "source": [
    "x = [1,1,1,2,2,3]\n",
    "y = 2\n",
    "topKFrequent(x, y)"
   ]
  },
  {
   "cell_type": "code",
   "execution_count": null,
   "id": "c07f34e6",
   "metadata": {},
   "outputs": [],
   "source": []
  }
 ],
 "metadata": {
  "kernelspec": {
   "display_name": "Python 3",
   "language": "python",
   "name": "python3"
  },
  "language_info": {
   "codemirror_mode": {
    "name": "ipython",
    "version": 3
   },
   "file_extension": ".py",
   "mimetype": "text/x-python",
   "name": "python",
   "nbconvert_exporter": "python",
   "pygments_lexer": "ipython3",
   "version": "3.6.5"
  }
 },
 "nbformat": 4,
 "nbformat_minor": 5
}
