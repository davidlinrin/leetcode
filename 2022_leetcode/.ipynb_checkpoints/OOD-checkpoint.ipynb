{
 "cells": [
  {
   "cell_type": "code",
   "execution_count": 287,
   "id": "133d0d9e",
   "metadata": {
    "scrolled": false
   },
   "outputs": [],
   "source": [
    "import random\n",
    "class Card:\n",
    "    def __init__(self, val, suit):\n",
    "        self.val = val\n",
    "        self.suit = suit\n",
    "    \n",
    "    def __repr__(self):\n",
    "        return f\"{self.val} of {self.suit}\"\n",
    "    \n",
    "class deck:\n",
    "    def __init__(self):\n",
    "        self.cards = []\n",
    "        self.build()\n",
    "        self.shuffle()\n",
    "        \n",
    "    def build(self):\n",
    "        suits = ['Club', 'Spade', 'Heart', 'Diamond']\n",
    "        for s in suits:\n",
    "            for i in range(1,14):\n",
    "                self.cards.append(Card(i,s))\n",
    "    \n",
    "    def shuffle(self):\n",
    "        for ind in range(len(self.cards)-1, 0, -1):\n",
    "            rand = random.randint(0, ind-1)\n",
    "            self.cards[ind], self.cards[rand] = self.cards[rand], self.cards[ind]\n",
    "            \n",
    "    def draw(self):\n",
    "        if self.cards:\n",
    "            return self.cards.pop()\n",
    "        else:\n",
    "            print('deck empty')\n",
    "    \n",
    "    def insert(self, card):\n",
    "        self.cards.append(card)\n",
    "        self.shuffle()\n",
    "    \n",
    "    def get_card(self, num, suit):\n",
    "        c_ind = None\n",
    "        for ind, c in enumerate(self.cards):\n",
    "            if c.val == num and c.suit == suit:\n",
    "                c_ind = ind\n",
    "        if c_ind:\n",
    "            self.cards[c_ind], self.cards[-1] = self.cards[-1], self.cards[c_ind]\n",
    "            return self.cards.pop()\n",
    "        else:\n",
    "            return \"card not found\"\n",
    "    \n",
    "    def __repr__(self):\n",
    "        return str(self.cards)"
   ]
  },
  {
   "cell_type": "code",
   "execution_count": 303,
   "id": "0d0ebc80",
   "metadata": {},
   "outputs": [],
   "source": [
    "class BlackJack(deck):\n",
    "    def __init__(self):\n",
    "        deck.__init__(self)\n",
    "        self.hand = []\n",
    "        self.start()\n",
    "    \n",
    "    def start(self):\n",
    "        self.hand.append(deck.draw(self))\n",
    "        self.hand.append(deck.draw(self))\n",
    "        \n",
    "    def hit(self):\n",
    "        self.hand.append(deck.draw(self))\n",
    "    \n",
    "    def reset(self):\n",
    "        self.__init__()"
   ]
  },
  {
   "cell_type": "code",
   "execution_count": 304,
   "id": "12ad42f5",
   "metadata": {},
   "outputs": [],
   "source": [
    "p2 = BlackJack()"
   ]
  },
  {
   "cell_type": "code",
   "execution_count": 311,
   "id": "ca2a7b60",
   "metadata": {},
   "outputs": [
    {
     "data": {
      "text/plain": [
       "50"
      ]
     },
     "execution_count": 311,
     "metadata": {},
     "output_type": "execute_result"
    }
   ],
   "source": [
    "len(p2.cards)"
   ]
  },
  {
   "cell_type": "code",
   "execution_count": 312,
   "id": "31aa3b84",
   "metadata": {},
   "outputs": [
    {
     "data": {
      "text/plain": [
       "[5 of Diamond, 5 of Club]"
      ]
     },
     "execution_count": 312,
     "metadata": {},
     "output_type": "execute_result"
    }
   ],
   "source": [
    "p2.hand"
   ]
  },
  {
   "cell_type": "code",
   "execution_count": 307,
   "id": "68d8638d",
   "metadata": {},
   "outputs": [],
   "source": [
    "p2.hit()"
   ]
  },
  {
   "cell_type": "code",
   "execution_count": 310,
   "id": "288af091",
   "metadata": {},
   "outputs": [],
   "source": [
    "p2.reset()"
   ]
  },
  {
   "cell_type": "code",
   "execution_count": 275,
   "id": "00bd79da",
   "metadata": {},
   "outputs": [],
   "source": [
    "d = deck()"
   ]
  },
  {
   "cell_type": "code",
   "execution_count": 276,
   "id": "7960aeae",
   "metadata": {},
   "outputs": [],
   "source": [
    "d.shuffle()"
   ]
  },
  {
   "cell_type": "code",
   "execution_count": 277,
   "id": "a464eaa6",
   "metadata": {},
   "outputs": [
    {
     "data": {
      "text/plain": [
       "6 of Heart"
      ]
     },
     "execution_count": 277,
     "metadata": {},
     "output_type": "execute_result"
    }
   ],
   "source": [
    "hand = d.draw()\n",
    "hand"
   ]
  },
  {
   "cell_type": "code",
   "execution_count": 278,
   "id": "72e3db9b",
   "metadata": {},
   "outputs": [
    {
     "data": {
      "text/plain": [
       "51"
      ]
     },
     "execution_count": 278,
     "metadata": {},
     "output_type": "execute_result"
    }
   ],
   "source": [
    "len(d.cards)"
   ]
  },
  {
   "cell_type": "code",
   "execution_count": 184,
   "id": "6094d470",
   "metadata": {},
   "outputs": [
    {
     "data": {
      "text/plain": [
       "[1 of Spade, 6 of Diamond, 1 of Club, 12 of Spade]"
      ]
     },
     "execution_count": 184,
     "metadata": {},
     "output_type": "execute_result"
    }
   ],
   "source": [
    "hand"
   ]
  },
  {
   "cell_type": "code",
   "execution_count": 186,
   "id": "a3484f12",
   "metadata": {},
   "outputs": [
    {
     "data": {
      "text/plain": [
       "10 of Heart"
      ]
     },
     "execution_count": 186,
     "metadata": {},
     "output_type": "execute_result"
    }
   ],
   "source": [
    "d.get_card(10, 'Heart')"
   ]
  },
  {
   "cell_type": "code",
   "execution_count": 187,
   "id": "7e4c4091",
   "metadata": {},
   "outputs": [
    {
     "data": {
      "text/plain": [
       "47"
      ]
     },
     "execution_count": 187,
     "metadata": {},
     "output_type": "execute_result"
    }
   ],
   "source": [
    "len(d.cards)"
   ]
  },
  {
   "cell_type": "code",
   "execution_count": null,
   "id": "bf97a577",
   "metadata": {},
   "outputs": [],
   "source": []
  }
 ],
 "metadata": {
  "kernelspec": {
   "display_name": "Python 3",
   "language": "python",
   "name": "python3"
  },
  "language_info": {
   "codemirror_mode": {
    "name": "ipython",
    "version": 3
   },
   "file_extension": ".py",
   "mimetype": "text/x-python",
   "name": "python",
   "nbconvert_exporter": "python",
   "pygments_lexer": "ipython3",
   "version": "3.6.5"
  }
 },
 "nbformat": 4,
 "nbformat_minor": 5
}
