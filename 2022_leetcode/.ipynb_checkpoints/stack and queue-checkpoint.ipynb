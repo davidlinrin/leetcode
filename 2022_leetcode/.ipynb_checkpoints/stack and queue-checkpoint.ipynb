{
 "cells": [
  {
   "cell_type": "code",
   "execution_count": 178,
   "id": "774d2652",
   "metadata": {},
   "outputs": [],
   "source": [
    "# includes min_stack to retrieve min with O(1) time\n",
    "class Stack():\n",
    "\n",
    "    def __init__(self, data = []):\n",
    "        self.arr = data\n",
    "        self.min_arr = []\n",
    "\n",
    "    def push(self, item):\n",
    "        if self.size() == 0:\n",
    "            self.min_arr.append(item)\n",
    "        else:\n",
    "            self.min_arr.append(min(self.min_arr[-1], item))\n",
    "        self.arr.append(item)\n",
    "\n",
    "    def pop(self):\n",
    "        if self.arr == []:\n",
    "            return \"empty stack\"\n",
    "        self.min_arr.pop()\n",
    "        return self.arr.pop()\n",
    "\n",
    "    def minimum(self):\n",
    "        if self.min_arr == []:\n",
    "            return \"empty stack\"\n",
    "        return self.min_arr[-1]\n",
    "    \n",
    "    def size(self):\n",
    "        return len(self.arr)\n",
    "    \n",
    "    def __repr__(self):\n",
    "        return str(self.arr)\n",
    "    \n",
    "    \n",
    "    def sort(self):\n",
    "        sort_stack = []\n",
    "        while self.arr:\n",
    "            cur = self.arr.pop()\n",
    "            if not sort_stack:\n",
    "                sort_stack.append(cur)\n",
    "                \n",
    "            while sort_stack and cur < sort_stack[-1]:\n",
    "                self.arr.append(sort_stack.pop())\n",
    "            sort_stack.append(cur)\n",
    "                \n",
    "        self.arr = sort_stack\n",
    "        self.min_arr = [self.arr[0]]*len(self.arr)\n",
    "                "
   ]
  },
  {
   "cell_type": "code",
   "execution_count": 164,
   "id": "90a32dac",
   "metadata": {},
   "outputs": [],
   "source": [
    "class SetOfStacks:\n",
    "    def __init__(self):\n",
    "        self.stacks = [[]]\n",
    "        self.num_stacks = len(self.stacks)\n",
    "        self.total = 0\n",
    "        \n",
    "    def push(self,data):\n",
    "        if len(self.stacks[-1]) >= 10:\n",
    "            self.stacks.append([data])\n",
    "        else:\n",
    "            self.stacks[-1].append(data)\n",
    "        self.total += 1\n",
    "        self.num_stacks = len(self.stacks)\n",
    "    \n",
    "    def pop(self):\n",
    "        if len(self.stacks[-1]) == 0:\n",
    "            return \"empty stack\"\n",
    "        else:\n",
    "            popped = self.stacks[-1].pop()\n",
    "            if len(self.stacks[-1]) == 0:\n",
    "                self.stacks.pop()\n",
    "        self.total -= 1\n",
    "        return popped\n",
    "    \n",
    "    def popAt(self, ind):\n",
    "        if ind > self.num_stacks:\n",
    "            return f\"ind out of range, total stacks: {self.num_stacks}\"\n",
    "        else:\n",
    "            res = self.stacks[ind].pop()\n",
    "            for i in range(ind, len(self.stacks)-1):\n",
    "                self.stacks[i].append(self.stacks[i+1].pop(0))\n",
    "            return res\n",
    "    \n",
    "    def __repr__(self):\n",
    "        return str(self.stacks)"
   ]
  },
  {
   "cell_type": "code",
   "execution_count": 194,
   "id": "11227042",
   "metadata": {},
   "outputs": [],
   "source": [
    "class MyQueue:\n",
    "    def __init__(self):\n",
    "        self.s1 = []\n",
    "        self.s2 = []\n",
    "        self.total_elem = len(self.s1) + len(self.s2)\n",
    "        \n",
    "    def pop(self):\n",
    "        return self.s2.pop()\n",
    "    \n",
    "    def push(self, data):\n",
    "\n",
    "        while self.s2:\n",
    "            self.s1.append(self.s2.pop())\n",
    "        self.s1.append(data)\n",
    "        \n",
    "        while self.s1:\n",
    "            self.s2.append(self.s1.pop())\n",
    "        \n",
    "    def __repr__(self):\n",
    "        return str(self.s1 + self.s2)"
   ]
  },
  {
   "cell_type": "code",
   "execution_count": 196,
   "id": "22a9b839",
   "metadata": {},
   "outputs": [
    {
     "name": "stdout",
     "output_type": "stream",
     "text": [
      "[] []\n",
      "[] [1]\n",
      "[] [3, 1]\n",
      "[] [7, 3, 1]\n",
      "[] [10, 7, 3, 1]\n"
     ]
    },
    {
     "data": {
      "text/plain": [
       "[10, 7, 3, 1]"
      ]
     },
     "execution_count": 196,
     "metadata": {},
     "output_type": "execute_result"
    }
   ],
   "source": [
    "a = MyQueue()\n",
    "print(a.s1, a.s2)\n",
    "a.push(1)\n",
    "print(a.s1, a.s2)\n",
    "a.push(3)\n",
    "print(a.s1, a.s2)\n",
    "a.push(7)\n",
    "print(a.s1, a.s2)\n",
    "a.push(10)\n",
    "print(a.s1, a.s2)\n",
    "a"
   ]
  },
  {
   "cell_type": "code",
   "execution_count": 165,
   "id": "f96cc6e1",
   "metadata": {},
   "outputs": [
    {
     "data": {
      "text/plain": [
       "[[0, 1, 2, 3, 4, 5, 6, 7, 8, 9], [10, 11, 12, 13, 14, 15, 16, 17, 18, 19], [20, 21, 22, 23, 24, 25, 26, 27, 28, 29], [30, 31, 32, 33, 34, 35, 36, 37, 38, 39], [40, 41, 42, 43, 44, 45, 46, 47, 48, 49], [50, 51, 52, 53, 54, 55]]"
      ]
     },
     "execution_count": 165,
     "metadata": {},
     "output_type": "execute_result"
    }
   ],
   "source": [
    "a = [1,2,3,4,5]\n",
    "b = SetOfStacks()\n",
    "for i in range(56):  \n",
    "    b.push(i)\n",
    "b"
   ]
  },
  {
   "cell_type": "code",
   "execution_count": 166,
   "id": "312d3ec1",
   "metadata": {},
   "outputs": [
    {
     "name": "stdout",
     "output_type": "stream",
     "text": [
      "3\n",
      "4\n"
     ]
    },
    {
     "data": {
      "text/plain": [
       "39"
      ]
     },
     "execution_count": 166,
     "metadata": {},
     "output_type": "execute_result"
    }
   ],
   "source": [
    "b.popAt(3)"
   ]
  },
  {
   "cell_type": "code",
   "execution_count": 167,
   "id": "e23204e0",
   "metadata": {},
   "outputs": [
    {
     "data": {
      "text/plain": [
       "[[0, 1, 2, 3, 4, 5, 6, 7, 8, 9], [10, 11, 12, 13, 14, 15, 16, 17, 18, 19], [20, 21, 22, 23, 24, 25, 26, 27, 28, 29], [30, 31, 32, 33, 34, 35, 36, 37, 38, 40], [41, 42, 43, 44, 45, 46, 47, 48, 49, 50], [51, 52, 53, 54, 55]]"
      ]
     },
     "execution_count": 167,
     "metadata": {},
     "output_type": "execute_result"
    }
   ],
   "source": [
    "b"
   ]
  },
  {
   "cell_type": "code",
   "execution_count": 110,
   "id": "278c02aa",
   "metadata": {},
   "outputs": [
    {
     "data": {
      "text/plain": [
       "2"
      ]
     },
     "execution_count": 110,
     "metadata": {},
     "output_type": "execute_result"
    }
   ],
   "source": [
    "b.num_stacks"
   ]
  },
  {
   "cell_type": "code",
   "execution_count": null,
   "id": "c80b0416",
   "metadata": {},
   "outputs": [],
   "source": []
  },
  {
   "cell_type": "code",
   "execution_count": null,
   "id": "5d30bf21",
   "metadata": {},
   "outputs": [],
   "source": []
  },
  {
   "cell_type": "code",
   "execution_count": 37,
   "id": "6696a3bf",
   "metadata": {},
   "outputs": [],
   "source": [
    "class StackContainer(object):\n",
    "    def __init__(self, stack_count=3, size=256):\n",
    "        self.stack_count = stack_count\n",
    "        self.stack_top = [None] * stack_count\n",
    "        self.size = size\n",
    "        # Create arena of doubly linked list\n",
    "        self.arena = [{'prev': x-1, 'next': x+1} for x in range(self.size)]\n",
    "        self.arena[0]['prev'] = None\n",
    "        self.arena[self.size-1]['next'] = None\n",
    "        self.arena_head = 0\n",
    "\n",
    "    def _allocate(self):\n",
    "        new_pos = self.arena_head\n",
    "        free = self.arena[new_pos]\n",
    "        next = free['next']\n",
    "        if next:\n",
    "            self.arena[next]['prev'] = None\n",
    "            self.arena_head = next\n",
    "        else:\n",
    "            self.arena_head = None\n",
    "        return new_pos\n",
    "\n",
    "    def _dump(self, stack_num):\n",
    "        assert 0 <= stack_num < self.stack_count\n",
    "        curr = self.stack_top[stack_num]\n",
    "        while curr is not None:\n",
    "            d = self.arena[curr]\n",
    "            print('\\t', curr, d)\n",
    "            curr = d['prev']\n",
    "\n",
    "    def _dump_all(self):\n",
    "        print('-' * 30)\n",
    "        for i in range(self.stack_count):\n",
    "            print(\"Stack %d\" % i)\n",
    "            self._dump(i)\n",
    "\n",
    "    def _dump_arena(self):\n",
    "        print(\"Dump arena\")\n",
    "        curr = self.arena_head\n",
    "        while curr is not None:\n",
    "            d = self.arena[curr]\n",
    "            print('\\t', d)\n",
    "            curr = d['next']\n",
    "\n",
    "    def push(self, stack_num, value):\n",
    "        assert 0 <= stack_num < self.stack_count\n",
    "        # Find space in arena for new value, update pointers\n",
    "        new_pos = self._allocate()\n",
    "        # Put value-to-push into a stack element\n",
    "        d = {'value': value, 'prev': self.stack_top[stack_num], 'pos': new_pos}\n",
    "        self.arena[new_pos] = d\n",
    "        self.stack_top[stack_num] = new_pos\n",
    "\n",
    "    def pop(self, stack_num):\n",
    "        assert 0 <= stack_num < self.stack_count\n",
    "        top = self.stack_top[stack_num]\n",
    "        d = self.arena[top]\n",
    "        assert d['pos'] == top\n",
    "        self.stack_top[stack_num] = d['prev']\n",
    "        arena_elem = {'prev': None, 'next': self.arena_head}\n",
    "        # Link the current head to the new head\n",
    "        head = self.arena[self.arena_head]\n",
    "        head['prev'] = top\n",
    "        # Set the curr_pos to be the new head\n",
    "        self.arena[top] = arena_elem\n",
    "        self.arena_head = top\n",
    "        return d['value']"
   ]
  },
  {
   "cell_type": "code",
   "execution_count": 32,
   "id": "4a23206e",
   "metadata": {},
   "outputs": [
    {
     "name": "stdout",
     "output_type": "stream",
     "text": [
      "[5, 11, 7, 15, 10]\n",
      "[5, 11, 7, 15, 10]\n"
     ]
    }
   ],
   "source": [
    "ts =  StackContainer(3, 10)"
   ]
  },
  {
   "cell_type": "code",
   "execution_count": 41,
   "id": "3633a79c",
   "metadata": {},
   "outputs": [
    {
     "name": "stdout",
     "output_type": "stream",
     "text": [
      "[1, 2, 3, 4, 5, 6]\n",
      "[10, 1, 2, 3, 4, 5, 6]\n"
     ]
    }
   ],
   "source": [
    "a = [1,2,3,4,5]\n",
    "a.append(6)\n",
    "print(a)\n",
    "a.insert(0,10)\n",
    "print(a)"
   ]
  },
  {
   "cell_type": "code",
   "execution_count": 36,
   "id": "d6c8c8e2",
   "metadata": {},
   "outputs": [
    {
     "data": {
      "text/plain": [
       "[5, 11, 7, 15, 10]"
      ]
     },
     "execution_count": 36,
     "metadata": {},
     "output_type": "execute_result"
    }
   ],
   "source": [
    "ts.arr"
   ]
  },
  {
   "cell_type": "code",
   "execution_count": null,
   "id": "98dcfeba",
   "metadata": {},
   "outputs": [],
   "source": []
  }
 ],
 "metadata": {
  "kernelspec": {
   "display_name": "Python 3",
   "language": "python",
   "name": "python3"
  },
  "language_info": {
   "codemirror_mode": {
    "name": "ipython",
    "version": 3
   },
   "file_extension": ".py",
   "mimetype": "text/x-python",
   "name": "python",
   "nbconvert_exporter": "python",
   "pygments_lexer": "ipython3",
   "version": "3.6.5"
  }
 },
 "nbformat": 4,
 "nbformat_minor": 5
}
