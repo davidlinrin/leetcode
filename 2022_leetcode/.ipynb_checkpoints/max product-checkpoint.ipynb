{
 "cells": [
  {
   "cell_type": "code",
   "execution_count": 1,
   "id": "d8707e1f",
   "metadata": {},
   "outputs": [],
   "source": [
    "def maxProduct(nums):\n",
    "        min_max = (1,1)\n",
    "        res = float('-inf')\n",
    "        \n",
    "        for num in nums:\n",
    "            print(min_max, res, num)\n",
    "            _min = num*min_max[0]\n",
    "            _max = num*min_max[1]\n",
    "            min_max = (min(num, _min, _max),max(num, _min, _max))\n",
    "            \n",
    "            res = max(min_max[0],min_max[1], res)\n",
    "        \n",
    "        print(min_max, res, num)\n",
    "        return res"
   ]
  },
  {
   "cell_type": "code",
   "execution_count": null,
   "id": "51c7488b",
   "metadata": {},
   "outputs": [],
   "source": []
  }
 ],
 "metadata": {
  "kernelspec": {
   "display_name": "Python 3",
   "language": "python",
   "name": "python3"
  },
  "language_info": {
   "codemirror_mode": {
    "name": "ipython",
    "version": 3
   },
   "file_extension": ".py",
   "mimetype": "text/x-python",
   "name": "python",
   "nbconvert_exporter": "python",
   "pygments_lexer": "ipython3",
   "version": "3.6.5"
  }
 },
 "nbformat": 4,
 "nbformat_minor": 5
}
