{
 "cells": [
  {
   "cell_type": "code",
   "execution_count": 1,
   "id": "a6d3a521",
   "metadata": {},
   "outputs": [],
   "source": [
    "# brute force stack (TIME LIMIT EXCEEDED)\n",
    "class Solution(object):\n",
    "    def removeDuplicates(self, s, k):\n",
    "        res = [s[0]]\n",
    "        for char in s[1:]:\n",
    "            temp = -1\n",
    "            res.append(char)\n",
    "            if len(res) >= k:\n",
    "                while temp > -k-1:\n",
    "                    if res[temp] == char:\n",
    "                        temp -= 1\n",
    "                    else:\n",
    "                        break\n",
    "                if temp == -k-1:\n",
    "                    while temp < -1:\n",
    "                        res.pop()\n",
    "                        temp += 1\n",
    "\n",
    "        return \"\".join(res)"
   ]
  },
  {
   "cell_type": "code",
   "execution_count": 25,
   "id": "5f423edc",
   "metadata": {},
   "outputs": [],
   "source": [
    "# Stack with character and count\n",
    "class Solution(object):\n",
    "    def removeDuplicates(self, s, k):\n",
    "        res = [[s[0],1]]\n",
    "        for char in s[1:]:\n",
    "            if res and char == res[-1][0]:\n",
    "                res[-1][1] += 1\n",
    "            else:\n",
    "                res.append([char, 1])\n",
    "            \n",
    "            if res[-1][1] >= k:\n",
    "                res.pop()\n",
    "                \n",
    "        temp = []\n",
    "        for i in res:\n",
    "            while i[1] > 0:\n",
    "                temp.append(i[0])\n",
    "                i[1] -= 1\n",
    "                \n",
    "        return \"\".join(temp)"
   ]
  },
  {
   "cell_type": "code",
   "execution_count": 26,
   "id": "b374902e",
   "metadata": {},
   "outputs": [
    {
     "data": {
      "text/plain": [
       "'aa'"
      ]
     },
     "execution_count": 26,
     "metadata": {},
     "output_type": "execute_result"
    }
   ],
   "source": [
    "a = Solution()\n",
    "s = \"deeedbbcccbdaa\"\n",
    "k = 3\n",
    "a.removeDuplicates(s,k)"
   ]
  },
  {
   "cell_type": "code",
   "execution_count": null,
   "id": "751737da",
   "metadata": {},
   "outputs": [],
   "source": []
  },
  {
   "cell_type": "code",
   "execution_count": null,
   "id": "1a69a950",
   "metadata": {},
   "outputs": [],
   "source": []
  }
 ],
 "metadata": {
  "kernelspec": {
   "display_name": "Python 3",
   "language": "python",
   "name": "python3"
  },
  "language_info": {
   "codemirror_mode": {
    "name": "ipython",
    "version": 3
   },
   "file_extension": ".py",
   "mimetype": "text/x-python",
   "name": "python",
   "nbconvert_exporter": "python",
   "pygments_lexer": "ipython3",
   "version": "3.6.5"
  }
 },
 "nbformat": 4,
 "nbformat_minor": 5
}
