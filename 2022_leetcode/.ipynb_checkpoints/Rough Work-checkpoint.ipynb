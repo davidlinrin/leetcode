{
 "cells": [
  {
   "cell_type": "code",
   "execution_count": 34,
   "id": "9ce9ee03",
   "metadata": {},
   "outputs": [],
   "source": [
    "a = 'abnshcd'\n",
    "b = 'bashncd'\n",
    "def is_anagram(s1, s2):\n",
    "    if len(a) != len(b):\n",
    "        return False\n",
    "    \n",
    "    d1 = {}\n",
    "    \n",
    "    for i in range(len(a)):\n",
    "        print(d1)\n",
    "        if s1[i] not in d1:\n",
    "            d1[s1[i]] = 1\n",
    "        else:\n",
    "            d1[s1[i]] += 1\n",
    "            \n",
    "        if s2[i] not in d1:\n",
    "            d1[s2[i]] = -1\n",
    "        else:\n",
    "            d1[s2[i]] -= 1\n",
    "            \n",
    "    return max(list(d1.values())) == 0"
   ]
  },
  {
   "cell_type": "code",
   "execution_count": 35,
   "id": "8da33bbd",
   "metadata": {},
   "outputs": [
    {
     "data": {
      "text/plain": [
       "True"
      ]
     },
     "execution_count": 35,
     "metadata": {},
     "output_type": "execute_result"
    }
   ],
   "source": [
    "sorted(a) == sorted(b)"
   ]
  },
  {
   "cell_type": "code",
   "execution_count": 138,
   "id": "6ecb030b",
   "metadata": {},
   "outputs": [],
   "source": [
    "a = [[1,2,3,],[4,5,6,],[7,8,9,]]\n",
    "row = len(a)\n",
    "col = len(a[0])\n",
    "left = [[0] * row for i in range(col)]\n",
    "right = [[0] * row for i in range(col)]\n",
    "\n",
    "for i in range(row-1, -1, -1):\n",
    "    for j in range(col-1, -1, -1):\n",
    "        left[col-j-1][i] = a[i][j]\n",
    "        right[j][row-i-1] = a[i][j]"
   ]
  },
  {
   "cell_type": "code",
   "execution_count": 139,
   "id": "b8775cc8",
   "metadata": {},
   "outputs": [
    {
     "name": "stdout",
     "output_type": "stream",
     "text": [
      "[7, 4, 1]\n",
      "[8, 5, 2]\n",
      "[9, 6, 3]\n"
     ]
    }
   ],
   "source": [
    "for _ in right:\n",
    "    print(_)"
   ]
  },
  {
   "cell_type": "code",
   "execution_count": 140,
   "id": "279faf8b",
   "metadata": {},
   "outputs": [
    {
     "name": "stdout",
     "output_type": "stream",
     "text": [
      "[3, 6, 9]\n",
      "[2, 5, 8]\n",
      "[1, 4, 7]\n"
     ]
    }
   ],
   "source": [
    "for _ in left:\n",
    "    print(_)"
   ]
  },
  {
   "cell_type": "code",
   "execution_count": 183,
   "id": "d3ff803a",
   "metadata": {},
   "outputs": [],
   "source": [
    "def rotate_left(arr):\n",
    "    N = len(arr)\n",
    "    for x in range(N//2):\n",
    "        for y in range(x,N-x-1):\n",
    "            temp = arr[x][y]\n",
    "            arr[x][y] = arr[y][N-1-x]\n",
    "            arr[y][N-1-x] = arr[N-1-x][N-1-y]\n",
    "            arr[N-1-x][N-1-y] = arr[N-1-y][x]\n",
    "            arr[N-1-y][x] = temp"
   ]
  },
  {
   "cell_type": "code",
   "execution_count": 188,
   "id": "4a552a77",
   "metadata": {},
   "outputs": [],
   "source": [
    "def rotate_right(arr):\n",
    "    N = len(arr)\n",
    "    for x in range(N//2):\n",
    "        for y in range(x,N-x-1):\n",
    "            temp = arr[x][y]\n",
    "            arr[x][y] = arr[N-y-1][x]\n",
    "            arr[N-y-1][x] = arr[N-1-x][N-1-y]\n",
    "            arr[N-1-x][N-1-y] = arr[y][N-1-x]\n",
    "            arr[y][N-1-x] = temp"
   ]
  },
  {
   "cell_type": "code",
   "execution_count": 234,
   "id": "2ad38a18",
   "metadata": {},
   "outputs": [],
   "source": [
    "def set_zero(arr):\n",
    "    rows = set()\n",
    "    cols = set()\n",
    "    for i in range(len(arr)):\n",
    "        for j in range(len(arr[0])):\n",
    "            if arr[i][j] == 0:\n",
    "                rows.add(i)\n",
    "                cols.add(j)\n",
    "                \n",
    "    print(rows, cols)\n",
    "    for ind,row in enumerate(arr):\n",
    "        if ind in rows:\n",
    "            arr[ind] = [0] * len(arr[ind])\n",
    "            continue\n",
    "        for col in cols:\n",
    "            row[col] = 0"
   ]
  },
  {
   "cell_type": "code",
   "execution_count": 267,
   "id": "6a3b0697",
   "metadata": {},
   "outputs": [
    {
     "data": {
      "text/plain": [
       "[12]"
      ]
     },
     "execution_count": 267,
     "metadata": {},
     "output_type": "execute_result"
    }
   ],
   "source": [
    "from collections import deque\n",
    "a = [12,52,61,265,13]\n",
    "a1 = a[:int(len(a)/3)]\n",
    "a2 = a[int(len(a)/3):int(len(a)*2/3)]\n",
    "a3 = a[int(len(a)*2/3):]\n",
    "a1\n"
   ]
  },
  {
   "cell_type": "code",
   "execution_count": 659,
   "id": "75e29207",
   "metadata": {},
   "outputs": [],
   "source": [
    "class Solution(object):\n",
    "    def subarraySum(self, nums, k):\n",
    "        count = 0\n",
    "        for i in range(len(nums)):\n",
    "            for j in range(i, len(nums)):\n",
    "                print(i,j, nums[i:j+1])\n",
    "                if sum(nums[i:j+1]) == k:\n",
    "                    count += 1\n",
    "        return count"
   ]
  },
  {
   "cell_type": "code",
   "execution_count": 660,
   "id": "643680e7",
   "metadata": {},
   "outputs": [
    {
     "name": "stdout",
     "output_type": "stream",
     "text": [
      "0 0 [1]\n",
      "0 1 [1, 1]\n",
      "0 2 [1, 1, 1]\n",
      "1 1 [1]\n",
      "1 2 [1, 1]\n",
      "2 2 [1]\n"
     ]
    },
    {
     "data": {
      "text/plain": [
       "2"
      ]
     },
     "execution_count": 660,
     "metadata": {},
     "output_type": "execute_result"
    }
   ],
   "source": [
    "s = Solution()\n",
    "s.subarraySum([1,1,1], 2)"
   ]
  },
  {
   "cell_type": "code",
   "execution_count": 355,
   "id": "09c9eb56",
   "metadata": {},
   "outputs": [
    {
     "data": {
      "text/plain": [
       "[1, 2, 3, 4, 5]"
      ]
     },
     "execution_count": 355,
     "metadata": {},
     "output_type": "execute_result"
    }
   ],
   "source": [
    "[1,2,3,4,5][:6]"
   ]
  },
  {
   "cell_type": "code",
   "execution_count": 657,
   "id": "81fd418b",
   "metadata": {},
   "outputs": [],
   "source": [
    "class Solution(object):\n",
    "    def twoSum(self, numbers, target):\n",
    "        i = 0\n",
    "        j = len(numbers) - 1\n",
    "        while i<j:\n",
    "            cur_sum = numbers[i] + numbers[j]\n",
    "            if cur_sum < target:\n",
    "                i += 1\n",
    "            elif cur_sum > target:\n",
    "                j -= 1\n",
    "            else:\n",
    "                return [i+1, j+1]"
   ]
  },
  {
   "cell_type": "code",
   "execution_count": 658,
   "id": "3f377f5d",
   "metadata": {},
   "outputs": [
    {
     "data": {
      "text/plain": [
       "[4, 5]"
      ]
     },
     "execution_count": 658,
     "metadata": {},
     "output_type": "execute_result"
    }
   ],
   "source": [
    "a = Solution()\n",
    "a.twoSum([-2,-1,0,1,2,6,7], 3)"
   ]
  },
  {
   "cell_type": "markdown",
   "id": "7c31ea4d",
   "metadata": {},
   "source": [
    "# Maximum subarray"
   ]
  },
  {
   "cell_type": "code",
   "execution_count": null,
   "id": "c3f04c78",
   "metadata": {},
   "outputs": [],
   "source": [
    "a = [-2, -8, 3, -2, -4, 10]"
   ]
  },
  {
   "cell_type": "code",
   "execution_count": null,
   "id": "d8eedc07",
   "metadata": {},
   "outputs": [],
   "source": [
    "def maxSubArray(nums: List[int]) -> int:\n",
    "        maxi, curr = float('-inf'), 0\n",
    "        for i in range(len(nums)):\n",
    "            print(nums[i], maxi, curr)\n",
    "            curr += nums[i]\n",
    "            maxi = max(maxi, curr)\n",
    "            if curr <= 0: \n",
    "                curr = 0  \n",
    "        return maxi"
   ]
  },
  {
   "cell_type": "code",
   "execution_count": null,
   "id": "2316cf7e",
   "metadata": {},
   "outputs": [],
   "source": [
    "def max_sub(l: list) -> list:\n",
    "    start = end = 0\n",
    "    m = float('-inf')\n",
    "    cur = 0\n",
    "    res = []\n",
    "    for ind, val in enumerate(l):\n",
    "        cur += val\n",
    "        end = ind + 1\n",
    "        if cur > m:\n",
    "            m = cur\n",
    "            res = [start,end]\n",
    "        if cur <= 0:\n",
    "            start = ind + 1\n",
    "            cur = 0\n",
    "    return l[res[0]:res[1]]"
   ]
  },
  {
   "cell_type": "code",
   "execution_count": null,
   "id": "8fc4cad2",
   "metadata": {},
   "outputs": [],
   "source": [
    "def maxSubArray(self, nums: List[int]) -> int:\n",
    "\n",
    "    maxEndingHere = nums[0]\n",
    "    maxSoFar = nums[0]\n",
    "\n",
    "    for num in nums[1:]:\n",
    "        maxEndingHere = max(num, maxEndingHere + num)\n",
    "        maxSoFar = max(maxSoFar, maxEndingHere)\n",
    "    return maxSoFar"
   ]
  },
  {
   "cell_type": "markdown",
   "id": "7b7dbf7b",
   "metadata": {},
   "source": [
    "# Tic Tac Toe Winner"
   ]
  },
  {
   "cell_type": "code",
   "execution_count": 20,
   "id": "d32b613a",
   "metadata": {},
   "outputs": [],
   "source": [
    "a = [[0,0,1],[1,0,0], [0,1,0]]\n",
    "def winner(l):\n",
    "    cols = {0:0, 1:0, 2:0}\n",
    "    rows = {0:0, 1:0, 2:0}\n",
    "    diag = [0, 0]\n",
    "    for row in range(len(l)):\n",
    "        for col in range(len(l[0])):\n",
    "            if l[row][col] == 0:\n",
    "                cols[col] -= 1\n",
    "                rows[row] -= 1\n",
    "                if row+col == 2:\n",
    "                    diag[0] -= 1\n",
    "                if row-col == 0:\n",
    "                    diag[1] -= 1\n",
    "            else:\n",
    "                cols[col] += 1\n",
    "                rows[row] += 1\n",
    "                if row+col == 2:\n",
    "                    diag[0] += 1\n",
    "                if row-col == 0:\n",
    "                    diag[1] += 1\n",
    "                \n",
    "            if cols[col] == 3 or rows[row] == 3 or diag[0]== 3 or diag[1] == 3:\n",
    "                return 1\n",
    "            elif cols[col] == -3 or rows[row] == -3 or diag[0]== -3 or diag[1] == -3:\n",
    "                return 0\n",
    "            \n",
    "    return False"
   ]
  },
  {
   "cell_type": "code",
   "execution_count": 21,
   "id": "57750f69",
   "metadata": {},
   "outputs": [
    {
     "data": {
      "text/plain": [
       "0"
      ]
     },
     "execution_count": 21,
     "metadata": {},
     "output_type": "execute_result"
    }
   ],
   "source": [
    "winner(a)"
   ]
  },
  {
   "cell_type": "markdown",
   "id": "16537ef3",
   "metadata": {},
   "source": [
    "# trailing 0 in factorial"
   ]
  },
  {
   "cell_type": "code",
   "execution_count": 62,
   "id": "42385bfb",
   "metadata": {},
   "outputs": [],
   "source": [
    "def factorial(x):\n",
    "    res = 1\n",
    "    count = 0\n",
    "    while x > 0:\n",
    "        temp = x\n",
    "        while temp%5 == 0:\n",
    "            count += 1\n",
    "            temp /= 5\n",
    "        res *= x\n",
    "        x -= 1\n",
    "    return res, count"
   ]
  },
  {
   "cell_type": "code",
   "execution_count": 63,
   "id": "9316ba56",
   "metadata": {},
   "outputs": [
    {
     "data": {
      "text/plain": [
       "(188267717688892609974376770249160085759540364871492425887598231508353156331613598866882932889495923133646405445930057740630161919341380597818883457558547055524326375565007131770880000000000000000000000000000000,\n",
       " 31)"
      ]
     },
     "execution_count": 63,
     "metadata": {},
     "output_type": "execute_result"
    }
   ],
   "source": [
    "factorial(125)"
   ]
  },
  {
   "cell_type": "code",
   "execution_count": 60,
   "id": "41a26e8a",
   "metadata": {},
   "outputs": [],
   "source": [
    "def findTrailingZeros(n):\n",
    "    if(n < 0):\n",
    "        return -1\n",
    "    count = 0\n",
    "    while(n >= 5):\n",
    "        print(n, count)\n",
    "        n //= 5\n",
    "        count += n\n",
    "    return count"
   ]
  },
  {
   "cell_type": "code",
   "execution_count": 61,
   "id": "3f5d22fa",
   "metadata": {},
   "outputs": [
    {
     "name": "stdout",
     "output_type": "stream",
     "text": [
      "125 0\n",
      "25 25\n",
      "5 30\n"
     ]
    },
    {
     "data": {
      "text/plain": [
       "31"
      ]
     },
     "execution_count": 61,
     "metadata": {},
     "output_type": "execute_result"
    }
   ],
   "source": [
    "findTrailingZeros(125)"
   ]
  },
  {
   "cell_type": "markdown",
   "id": "a7061ee1",
   "metadata": {},
   "source": [
    "# max of two nums"
   ]
  },
  {
   "cell_type": "code",
   "execution_count": 108,
   "id": "2956f2e4",
   "metadata": {},
   "outputs": [],
   "source": [
    "def max_two(x,y):\n",
    "    return (x * 0**(y//x)) + ((y * 0**(x//y)))"
   ]
  },
  {
   "cell_type": "code",
   "execution_count": 109,
   "id": "2ab8b61e",
   "metadata": {},
   "outputs": [
    {
     "data": {
      "text/plain": [
       "0.0"
      ]
     },
     "execution_count": 109,
     "metadata": {},
     "output_type": "execute_result"
    }
   ],
   "source": [
    "max_two(2.3124, 2.3124)"
   ]
  },
  {
   "cell_type": "code",
   "execution_count": 102,
   "id": "c16d8e3c",
   "metadata": {},
   "outputs": [
    {
     "data": {
      "text/plain": [
       "3"
      ]
     },
     "execution_count": 102,
     "metadata": {},
     "output_type": "execute_result"
    }
   ],
   "source": [
    "a = 3\n",
    "b = 20\n",
    "c = a - b\n",
    "k = (c >> 31) & 0*1\n",
    "m = a - k * c\n",
    "m"
   ]
  },
  {
   "cell_type": "code",
   "execution_count": 119,
   "id": "d648d263",
   "metadata": {},
   "outputs": [
    {
     "ename": "TypeError",
     "evalue": "unsupported operand type(s) for >>: 'float' and 'float'",
     "output_type": "error",
     "traceback": [
      "\u001b[0;31m---------------------------------------------------------------------------\u001b[0m",
      "\u001b[0;31mTypeError\u001b[0m                                 Traceback (most recent call last)",
      "\u001b[0;32m<ipython-input-119-088239f21ac2>\u001b[0m in \u001b[0;36m<module>\u001b[0;34m\u001b[0m\n\u001b[1;32m      2\u001b[0m \u001b[0mb\u001b[0m \u001b[0;34m=\u001b[0m \u001b[0;36m23.234\u001b[0m\u001b[0;34m\u001b[0m\u001b[0m\n\u001b[1;32m      3\u001b[0m \u001b[0mc\u001b[0m \u001b[0;34m=\u001b[0m \u001b[0ma\u001b[0m \u001b[0;34m-\u001b[0m \u001b[0mb\u001b[0m\u001b[0;34m\u001b[0m\u001b[0m\n\u001b[0;32m----> 4\u001b[0;31m \u001b[0mm\u001b[0m \u001b[0;34m=\u001b[0m \u001b[0ma\u001b[0m \u001b[0;34m-\u001b[0m \u001b[0;34m(\u001b[0m\u001b[0mc\u001b[0m \u001b[0;34m&\u001b[0m \u001b[0;34m(\u001b[0m\u001b[0mc\u001b[0m\u001b[0;34m>>\u001b[0m\u001b[0;36m31.0\u001b[0m\u001b[0;34m)\u001b[0m\u001b[0;34m)\u001b[0m\u001b[0;34m\u001b[0m\u001b[0m\n\u001b[0m\u001b[1;32m      5\u001b[0m \u001b[0mm\u001b[0m\u001b[0;34m\u001b[0m\u001b[0m\n",
      "\u001b[0;31mTypeError\u001b[0m: unsupported operand type(s) for >>: 'float' and 'float'"
     ]
    }
   ],
   "source": [
    "a = -132.123\n",
    "b = 23.234\n",
    "c = a - b\n",
    "m = a - (c & (c>>31))\n",
    "m"
   ]
  },
  {
   "cell_type": "markdown",
   "id": "3c6b37d5",
   "metadata": {},
   "source": [
    "# Master mind"
   ]
  },
  {
   "cell_type": "code",
   "execution_count": 153,
   "id": "1eeec4c8",
   "metadata": {},
   "outputs": [],
   "source": [
    "guess = 'RYGR'\n",
    "solution = 'YRRG'"
   ]
  },
  {
   "cell_type": "code",
   "execution_count": 154,
   "id": "787b7399",
   "metadata": {},
   "outputs": [],
   "source": [
    "def mm(guess, sol):\n",
    "    hit = 0\n",
    "    pseudo = 0\n",
    "    dp = Counter(sol)\n",
    "    for ind, char in enumerate(guess):\n",
    "        if char == sol[ind]:\n",
    "            hit += 1\n",
    "            dp[char] -= 1\n",
    "        elif dp.get(char) and  dp.get(char) > 0:\n",
    "            pseudo += 1\n",
    "            dp[char] -= 1\n",
    "    return (hit, pseudo)\n",
    "        "
   ]
  },
  {
   "cell_type": "code",
   "execution_count": 155,
   "id": "d483f589",
   "metadata": {},
   "outputs": [],
   "source": [
    "mm(guess, solution)"
   ]
  },
  {
   "cell_type": "markdown",
   "id": "3af8f28c",
   "metadata": {},
   "source": [
    "# number to words"
   ]
  },
  {
   "cell_type": "code",
   "execution_count": 297,
   "id": "426cec48",
   "metadata": {},
   "outputs": [],
   "source": [
    "ones = ['zero','one','two','three','four','five','six','seven','eight','nine']\n",
    "tens = ['ten','twenty','thirty','forty','fifty','sisty','seventy','eighty','ninety']\n",
    "ten_one = ['eleven','twelve','thirteen','fourteen','fifteen','sixteen','seventeen','eighteen','nineteen']\n",
    "high = ['hundred','thousand']\n",
    "unit = [100000,10000,1000,100,10,1]"
   ]
  },
  {
   "cell_type": "code",
   "execution_count": 387,
   "id": "bd61ae8e",
   "metadata": {},
   "outputs": [],
   "source": [
    "def num_to_text(a):\n",
    "    s = ['']\n",
    "    if a == 0:\n",
    "        return 'zero'\n",
    "    for u in unit:\n",
    "        cur = a//u\n",
    "        if cur > 0:\n",
    "            if u == 100000:\n",
    "                s.append(ones[cur])\n",
    "                s.append('hundred')\n",
    "                s.append('thousand')\n",
    "            elif u == 100:\n",
    "                s.append(ones[cur])\n",
    "                s.append('hundred')\n",
    "            elif u == 10000:\n",
    "                s.pop()\n",
    "                if a//u == 1 and a%u != 0:\n",
    "                    cur = (a%u)//u\n",
    "                    s.append(ten_one[cur-1])\n",
    "                    a %= u\n",
    "                else:\n",
    "                    s.append(tens[cur-1])\n",
    "                s.append('thousand')\n",
    "            elif u == 1000:\n",
    "                s.pop()\n",
    "                s.append(ones[cur])\n",
    "                s.append('thousand')\n",
    "            elif u == 10:\n",
    "                if a//u == 1 and a%u != 0:\n",
    "                    cur = (a%u)\n",
    "                    s.append(ten_one[cur-1])\n",
    "                    break\n",
    "                else:\n",
    "                    s.append(tens[cur-1])\n",
    "            elif u == 1:\n",
    "                s.append(ones[cur])\n",
    "        a %= u\n",
    "    return \" \".join(s)"
   ]
  },
  {
   "cell_type": "code",
   "execution_count": 388,
   "id": "72fcb24f",
   "metadata": {},
   "outputs": [
    {
     "data": {
      "text/plain": [
       "' twelve'"
      ]
     },
     "execution_count": 388,
     "metadata": {},
     "output_type": "execute_result"
    }
   ],
   "source": [
    "a = 12\n",
    "num_to_text(a)"
   ]
  },
  {
   "cell_type": "markdown",
   "id": "9db7ee65",
   "metadata": {},
   "source": [
    "# randint 7 from randint 5"
   ]
  },
  {
   "cell_type": "code",
   "execution_count": 550,
   "id": "b20f52fc",
   "metadata": {},
   "outputs": [],
   "source": [
    "import random\n",
    "def rand5():\n",
    "    return random.randint(1,5)"
   ]
  },
  {
   "cell_type": "code",
   "execution_count": 581,
   "id": "23e7eaec",
   "metadata": {},
   "outputs": [],
   "source": [
    "def rand7():\n",
    "    while True:\n",
    "        num = 5 * (rand5() - 1) + (rand5() - 1);\n",
    "        if (num < 21): \n",
    "            return (num % 7 + 1);"
   ]
  },
  {
   "cell_type": "markdown",
   "id": "60963ba5",
   "metadata": {},
   "source": [
    "# All pair to sum"
   ]
  },
  {
   "cell_type": "code",
   "execution_count": 601,
   "id": "4fcab98c",
   "metadata": {},
   "outputs": [],
   "source": [
    "a = [1,2,6,7,3,4,3,8,2]\n",
    "target = 6"
   ]
  },
  {
   "cell_type": "code",
   "execution_count": 602,
   "id": "cf2f8ba3",
   "metadata": {},
   "outputs": [],
   "source": [
    "def pair_sum(l:list, target:int) -> list:\n",
    "    dp = set()\n",
    "    res = set()\n",
    "    for num in l:\n",
    "        cur = target - num\n",
    "        if cur in dp:\n",
    "            res.add((min(num,cur),max(num,cur)))\n",
    "        dp.add(num)\n",
    "    return res"
   ]
  },
  {
   "cell_type": "code",
   "execution_count": 603,
   "id": "c8a02654",
   "metadata": {},
   "outputs": [
    {
     "data": {
      "text/plain": [
       "{(2, 4), (3, 3)}"
      ]
     },
     "execution_count": 603,
     "metadata": {},
     "output_type": "execute_result"
    }
   ],
   "source": [
    "pair_sum(a,target)"
   ]
  },
  {
   "cell_type": "code",
   "execution_count": 606,
   "id": "6a7bdeb4",
   "metadata": {},
   "outputs": [],
   "source": [
    "def pair_sum(l:list, target:int) -> list:\n",
    "    l = sorted(l)\n",
    "    start = 0\n",
    "    end = len(l)-1\n",
    "    res = []\n",
    "    while start < end:\n",
    "        cur = l[start] + l[end]\n",
    "        if cur == target:\n",
    "            res.append([l[start],l[end]])\n",
    "            start += 1\n",
    "        elif cur > target:\n",
    "            end -= 1\n",
    "        else:\n",
    "            start += 1\n",
    "    return res"
   ]
  },
  {
   "cell_type": "code",
   "execution_count": 608,
   "id": "6dd9ba24",
   "metadata": {},
   "outputs": [
    {
     "data": {
      "text/plain": [
       "[[1, 8], [2, 7], [2, 7], [3, 6], [3, 6]]"
      ]
     },
     "execution_count": 608,
     "metadata": {},
     "output_type": "execute_result"
    }
   ],
   "source": [
    "a = [1,2,6,7,3,4,3,8,2]\n",
    "target = 9\n",
    "pair_sum(a,target)"
   ]
  },
  {
   "cell_type": "code",
   "execution_count": 653,
   "id": "cfd5f579",
   "metadata": {},
   "outputs": [],
   "source": [
    "def all_subset(l):\n",
    "    bit = 1 << len(l)\n",
    "    res = []\n",
    "    for i in range(bit):\n",
    "        cur = []\n",
    "        k = 0\n",
    "        while i > 0:\n",
    "            if i & 1:\n",
    "                cur.append(l[k])\n",
    "            i >>= 1\n",
    "            k += 1\n",
    "            \n",
    "        res.append(cur)\n",
    "    return res"
   ]
  },
  {
   "cell_type": "code",
   "execution_count": 694,
   "id": "59bd3555",
   "metadata": {},
   "outputs": [],
   "source": [
    "def solution(l):\n",
    "    \n",
    "    def all_sub(l, ind):\n",
    "        cur = l[ind]\n",
    "        if len(l) == 1:\n",
    "            return [[cur]]\n",
    "        \n",
    "        subs = all_sub(l[ind+1:], 0)\n",
    "        print(subs)\n",
    "        for i in range(len(subs)):\n",
    "            temp = subs[i].copy()\n",
    "            temp.append(cur)\n",
    "            subs.append(temp)\n",
    "        subs.append([cur])\n",
    "        \n",
    "        return subs\n",
    "        \n",
    "    res = all_sub(l, 0)\n",
    "    res.append([])\n",
    "    return res"
   ]
  },
  {
   "cell_type": "code",
   "execution_count": 695,
   "id": "968b067a",
   "metadata": {},
   "outputs": [
    {
     "data": {
      "text/plain": [
       "[1, 2, 3]"
      ]
     },
     "execution_count": 695,
     "metadata": {},
     "output_type": "execute_result"
    }
   ],
   "source": [
    "list([1,2,3])"
   ]
  },
  {
   "cell_type": "code",
   "execution_count": 696,
   "id": "db69eb41",
   "metadata": {},
   "outputs": [
    {
     "name": "stdout",
     "output_type": "stream",
     "text": [
      "[[3]]\n",
      "[[3], [3, 2], [2]]\n"
     ]
    },
    {
     "data": {
      "text/plain": [
       "[[3], [3, 2], [2], [3, 1], [3, 2, 1], [2, 1], [1], []]"
      ]
     },
     "execution_count": 696,
     "metadata": {},
     "output_type": "execute_result"
    }
   ],
   "source": [
    "a = [1,2,3]\n",
    "solution(a)"
   ]
  },
  {
   "cell_type": "code",
   "execution_count": 670,
   "id": "5e781b2b",
   "metadata": {},
   "outputs": [],
   "source": [
    "a= [1,2,3]"
   ]
  },
  {
   "cell_type": "code",
   "execution_count": 671,
   "id": "7b3bd849",
   "metadata": {},
   "outputs": [],
   "source": [
    "for i in range(len(a)):\n",
    "    a.append(99)"
   ]
  },
  {
   "cell_type": "code",
   "execution_count": 672,
   "id": "2e658b54",
   "metadata": {},
   "outputs": [
    {
     "data": {
      "text/plain": [
       "[1, 2, 3, 99, 99, 99]"
      ]
     },
     "execution_count": 672,
     "metadata": {},
     "output_type": "execute_result"
    }
   ],
   "source": [
    "a"
   ]
  },
  {
   "cell_type": "code",
   "execution_count": 718,
   "id": "2ec89298",
   "metadata": {},
   "outputs": [
    {
     "data": {
      "text/plain": [
       "[]"
      ]
     },
     "execution_count": 718,
     "metadata": {},
     "output_type": "execute_result"
    }
   ],
   "source": [
    "a = {'t':1, 'b':4, 'c':8}\n",
    "a.get('', [])"
   ]
  },
  {
   "cell_type": "code",
   "execution_count": 712,
   "id": "6c547aa0",
   "metadata": {},
   "outputs": [],
   "source": [
    "a = \"anagram\"\n",
    "b = \"nagaram\""
   ]
  },
  {
   "cell_type": "code",
   "execution_count": 767,
   "id": "81905a37",
   "metadata": {},
   "outputs": [
    {
     "data": {
      "text/plain": [
       "[['eat', 'tea', 'ate'], ['tan', 'nat'], ['bat']]"
      ]
     },
     "execution_count": 767,
     "metadata": {},
     "output_type": "execute_result"
    }
   ],
   "source": [
    "groupAnagrams([\"eat\",\"tea\",\"tan\",\"ate\",\"nat\",\"bat\"])"
   ]
  },
  {
   "cell_type": "code",
   "execution_count": 766,
   "id": "f7d2a8a6",
   "metadata": {},
   "outputs": [],
   "source": [
    "from collections import defaultdict\n",
    "def groupAnagrams(strs):\n",
    "    res = []\n",
    "    dp = defaultdict(list)\n",
    "\n",
    "    for word in strs:\n",
    "        count = [0] * 26\n",
    "        for letter in word:\n",
    "            ch_ind = ord(letter) - ord(\"a\")\n",
    "            count[ch_ind] += 1\n",
    "\n",
    "\n",
    "        dp[tuple(count)].append(word)\n",
    "\n",
    "    for k in dp:\n",
    "        res.append(dp[k])\n",
    "\n",
    "    return list(dp.values())"
   ]
  },
  {
   "cell_type": "code",
   "execution_count": 783,
   "id": "86771493",
   "metadata": {},
   "outputs": [
    {
     "data": {
      "text/plain": [
       "[1, 2, 3, 4, 5, 6, 7]"
      ]
     },
     "execution_count": 783,
     "metadata": {},
     "output_type": "execute_result"
    }
   ],
   "source": [
    "[i for i in range(1,len(x)+1)]"
   ]
  },
  {
   "cell_type": "code",
   "execution_count": 792,
   "id": "eeb59031",
   "metadata": {},
   "outputs": [
    {
     "data": {
      "text/plain": [
       "[1, 2, 3, 4, 5, 6]"
      ]
     },
     "execution_count": 792,
     "metadata": {},
     "output_type": "execute_result"
    }
   ],
   "source": [
    "[1,2,3] + [4,5,6]"
   ]
  },
  {
   "cell_type": "code",
   "execution_count": 800,
   "id": "66cb036a",
   "metadata": {},
   "outputs": [
    {
     "data": {
      "text/plain": [
       "[[]]"
      ]
     },
     "execution_count": 800,
     "metadata": {},
     "output_type": "execute_result"
    }
   ],
   "source": [
    "bucket = [[] for i in range(len(x))] \n",
    "bucket"
   ]
  },
  {
   "cell_type": "code",
   "execution_count": 802,
   "id": "d3f808e4",
   "metadata": {},
   "outputs": [
    {
     "name": "stdout",
     "output_type": "stream",
     "text": [
      "[[]] {1: 1}\n"
     ]
    },
    {
     "ename": "IndexError",
     "evalue": "list index out of range",
     "output_type": "error",
     "traceback": [
      "\u001b[0;31m---------------------------------------------------------------------------\u001b[0m",
      "\u001b[0;31mIndexError\u001b[0m                                Traceback (most recent call last)",
      "\u001b[0;32m<ipython-input-802-8ddbea4c47e3>\u001b[0m in \u001b[0;36m<module>\u001b[0;34m\u001b[0m\n\u001b[1;32m      1\u001b[0m \u001b[0mx\u001b[0m \u001b[0;34m=\u001b[0m \u001b[0;34m[\u001b[0m\u001b[0;36m1\u001b[0m\u001b[0;34m]\u001b[0m\u001b[0;34m\u001b[0m\u001b[0m\n\u001b[1;32m      2\u001b[0m \u001b[0my\u001b[0m \u001b[0;34m=\u001b[0m \u001b[0;36m1\u001b[0m\u001b[0;34m\u001b[0m\u001b[0m\n\u001b[0;32m----> 3\u001b[0;31m \u001b[0mtopKFrequent\u001b[0m\u001b[0;34m(\u001b[0m\u001b[0mx\u001b[0m\u001b[0;34m,\u001b[0m \u001b[0my\u001b[0m\u001b[0;34m)\u001b[0m\u001b[0;34m\u001b[0m\u001b[0m\n\u001b[0m",
      "\u001b[0;32m<ipython-input-801-fb8a5e918380>\u001b[0m in \u001b[0;36mtopKFrequent\u001b[0;34m(nums, k)\u001b[0m\n\u001b[1;32m      9\u001b[0m     \u001b[0mprint\u001b[0m\u001b[0;34m(\u001b[0m\u001b[0mbucket\u001b[0m\u001b[0;34m,\u001b[0m \u001b[0mcounts\u001b[0m\u001b[0;34m)\u001b[0m\u001b[0;34m\u001b[0m\u001b[0m\n\u001b[1;32m     10\u001b[0m     \u001b[0;32mfor\u001b[0m \u001b[0mkey\u001b[0m \u001b[0;32min\u001b[0m \u001b[0mcounts\u001b[0m\u001b[0;34m:\u001b[0m\u001b[0;34m\u001b[0m\u001b[0m\n\u001b[0;32m---> 11\u001b[0;31m         \u001b[0mbucket\u001b[0m\u001b[0;34m[\u001b[0m\u001b[0mcounts\u001b[0m\u001b[0;34m[\u001b[0m\u001b[0mkey\u001b[0m\u001b[0;34m]\u001b[0m\u001b[0;34m]\u001b[0m\u001b[0;34m.\u001b[0m\u001b[0mappend\u001b[0m\u001b[0;34m(\u001b[0m\u001b[0mkey\u001b[0m\u001b[0;34m)\u001b[0m\u001b[0;34m\u001b[0m\u001b[0m\n\u001b[0m\u001b[1;32m     12\u001b[0m \u001b[0;34m\u001b[0m\u001b[0m\n\u001b[1;32m     13\u001b[0m     \u001b[0;32mfor\u001b[0m \u001b[0mk_max\u001b[0m \u001b[0;32min\u001b[0m \u001b[0mbucket\u001b[0m\u001b[0;34m[\u001b[0m\u001b[0;34m:\u001b[0m\u001b[0;34m:\u001b[0m\u001b[0;34m-\u001b[0m\u001b[0;36m1\u001b[0m\u001b[0;34m]\u001b[0m\u001b[0;34m:\u001b[0m\u001b[0;34m\u001b[0m\u001b[0m\n",
      "\u001b[0;31mIndexError\u001b[0m: list index out of range"
     ]
    }
   ],
   "source": [
    "x = [1]\n",
    "y = 1\n",
    "topKFrequent(x, y)"
   ]
  },
  {
   "cell_type": "code",
   "execution_count": 810,
   "id": "3142c589",
   "metadata": {},
   "outputs": [],
   "source": [
    "def topKFrequent(nums, k):\n",
    "    counts = {}\n",
    "    res = []\n",
    "    for num in nums:\n",
    "        c = counts.get(num, 0) + 1\n",
    "        counts[num] = c\n",
    "\n",
    "    bucket = [[] for i in range(len(nums))]\n",
    "    print(bucket, counts)\n",
    "    for key, val in counts.items():\n",
    "        print(key,val)\n",
    "        bucket[counts[key]-1].append(key)\n",
    "\n",
    "    for k_max in bucket[::-1]:\n",
    "        if k_max and len(res)<k:\n",
    "            res += k_max\n",
    "    print(bucket)\n",
    "    return res\n",
    "            "
   ]
  },
  {
   "cell_type": "code",
   "execution_count": 811,
   "id": "f98160cc",
   "metadata": {},
   "outputs": [
    {
     "name": "stdout",
     "output_type": "stream",
     "text": [
      "[[], [], [], [], [], []] {1: 3, 2: 2, 3: 1}\n",
      "1 3\n",
      "2 2\n",
      "3 1\n",
      "[[3], [2], [1], [], [], []]\n"
     ]
    },
    {
     "data": {
      "text/plain": [
       "[1, 2]"
      ]
     },
     "execution_count": 811,
     "metadata": {},
     "output_type": "execute_result"
    }
   ],
   "source": [
    "x = [1,1,1,2,2,3]\n",
    "y=2\n",
    "topKFrequent(x, y)"
   ]
  },
  {
   "cell_type": "code",
   "execution_count": 830,
   "id": "65f99530",
   "metadata": {},
   "outputs": [],
   "source": [
    "def productExceptSelf(nums):\n",
    "        res = []\n",
    "        \n",
    "        prod = 1\n",
    "        for num in nums:\n",
    "            prod *= num\n",
    "            res.append(prod)\n",
    "        print(res)\n",
    "            \n",
    "        post = 1\n",
    "        for i in range(len(nums)-1, -1, -1):\n",
    "            print(i, res[i])\n",
    "            if i == 0:\n",
    "                res[i] = post\n",
    "            else:\n",
    "                res[i] = (res[i-1]) * post\n",
    "                post *= nums[i]\n",
    "            \n",
    "        return res"
   ]
  },
  {
   "cell_type": "code",
   "execution_count": 831,
   "id": "4e451f9b",
   "metadata": {},
   "outputs": [
    {
     "name": "stdout",
     "output_type": "stream",
     "text": [
      "[4, 12, 24, 24, 48]\n",
      "4 48\n",
      "3 24\n",
      "2 24\n",
      "1 12\n",
      "0 4\n"
     ]
    },
    {
     "data": {
      "text/plain": [
       "[12, 16, 24, 48, 24]"
      ]
     },
     "execution_count": 831,
     "metadata": {},
     "output_type": "execute_result"
    }
   ],
   "source": [
    "productExceptSelf([4,3,2,1,2])"
   ]
  },
  {
   "cell_type": "markdown",
   "id": "317169f4",
   "metadata": {},
   "source": [
    "# sudoku"
   ]
  },
  {
   "cell_type": "code",
   "execution_count": null,
   "id": "1dfe7cf7",
   "metadata": {},
   "outputs": [],
   "source": [
    "class Solution(object):\n",
    "    def isValidSudoku(self, board):\n",
    "        for i in range(len(board)):\n",
    "            dp = set()\n",
    "            for row_val in board[i]:\n",
    "                if row_val == '.':\n",
    "                    continue\n",
    "                if row_val in dp:\n",
    "                    return False\n",
    "                dp.add(row_val)\n",
    "                \n",
    "            dp = set()\n",
    "            for row in range(len(board)):\n",
    "                if board[row][i] == '.':\n",
    "                    continue\n",
    "                if board[row][i] in dp:\n",
    "                    return False\n",
    "                dp.add(board[row][i])\n",
    "                \n",
    "            dp = set()\n",
    "            for sq in range(len(board)):\n",
    "                r = (sq//3) + (i//3)*3\n",
    "                c = sq - (sq//3 * 3) + (i%3)*3\n",
    "                if board[r][c] == '.':\n",
    "                    continue\n",
    "                if board[r][c] in dp:\n",
    "                    return False\n",
    "                dp.add(board[r][c])\n",
    "                \n",
    "        return True"
   ]
  },
  {
   "cell_type": "code",
   "execution_count": null,
   "id": "af902451",
   "metadata": {},
   "outputs": [],
   "source": [
    "board = [[\"5\",\"3\",\".\",\".\",\"7\",\".\",\".\",\".\",\".\"]\n",
    "        ,[\"6\",\".\",\".\",\"1\",\"9\",\"5\",\".\",\".\",\".\"]\n",
    "        ,[\".\",\"9\",\"8\",\".\",\".\",\".\",\".\",\"6\",\".\"]\n",
    "        ,[\"8\",\".\",\".\",\".\",\"6\",\".\",\".\",\".\",\"3\"]\n",
    "        ,[\"4\",\".\",\".\",\"8\",\".\",\"3\",\".\",\".\",\"1\"]\n",
    "        ,[\"7\",\".\",\".\",\".\",\"2\",\".\",\".\",\".\",\"6\"]\n",
    "        ,[\".\",\"6\",\".\",\".\",\".\",\".\",\"2\",\"8\",\".\"]\n",
    "        ,[\".\",\".\",\".\",\"4\",\"1\",\"9\",\".\",\".\",\"5\"]\n",
    "        ,[\".\",\".\",\".\",\".\",\"8\",\".\",\".\",\"7\",\"9\"]]"
   ]
  },
  {
   "cell_type": "code",
   "execution_count": null,
   "id": "d6f4e0dc",
   "metadata": {},
   "outputs": [],
   "source": []
  }
 ],
 "metadata": {
  "kernelspec": {
   "display_name": "Python 3",
   "language": "python",
   "name": "python3"
  },
  "language_info": {
   "codemirror_mode": {
    "name": "ipython",
    "version": 3
   },
   "file_extension": ".py",
   "mimetype": "text/x-python",
   "name": "python",
   "nbconvert_exporter": "python",
   "pygments_lexer": "ipython3",
   "version": "3.6.5"
  }
 },
 "nbformat": 4,
 "nbformat_minor": 5
}
