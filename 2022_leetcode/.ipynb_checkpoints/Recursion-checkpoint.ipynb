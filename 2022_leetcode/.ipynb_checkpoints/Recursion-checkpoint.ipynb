{
 "cells": [
  {
   "cell_type": "markdown",
   "id": "8f916c22",
   "metadata": {},
   "source": [
    "# all paths in 2d array"
   ]
  },
  {
   "cell_type": "code",
   "execution_count": 118,
   "id": "c7e343cd",
   "metadata": {},
   "outputs": [],
   "source": [
    "seen = {0:0, 1:1}\n",
    "def Fib(n):\n",
    "    if n < 0:\n",
    "        return\n",
    "    if n in seen:\n",
    "        return seen[n]\n",
    "    \n",
    "    result = Fib(n-1) + Fib(n-2)\n",
    "    seen[n] = result\n",
    "    return result"
   ]
  },
  {
   "cell_type": "code",
   "execution_count": 152,
   "id": "b2088590",
   "metadata": {},
   "outputs": [],
   "source": [
    "def all_path(n,m):\n",
    "    mat = [[1]*n for i in range(m)]\n",
    "    for x in range(len(mat)):\n",
    "        for y in range(len(mat[0])):\n",
    "            if y - 1 < 0 or x - 1 < 0 or mat[x][y]==0:\n",
    "                continue\n",
    "            else:\n",
    "                mat[x][y] = mat[x-1][y] + mat[x][y-1]\n",
    "    print(mat)\n",
    "    return mat[-1][-1]"
   ]
  },
  {
   "cell_type": "code",
   "execution_count": 261,
   "id": "a78e3011",
   "metadata": {},
   "outputs": [],
   "source": [
    "seen = {}\n",
    "def all_path(x, y):\n",
    "    if x == 1 or y == 1:\n",
    "        return 1\n",
    "    if (x,y) in seen:\n",
    "        return seen[(x,y)]\n",
    "    \n",
    "    left = all_path(x, y-1)\n",
    "    up = all_path(x-1,y)\n",
    "    seen[(x,y)] = left + up\n",
    "    \n",
    "    return left + up"
   ]
  },
  {
   "cell_type": "code",
   "execution_count": 320,
   "id": "6fb6acb2",
   "metadata": {},
   "outputs": [
    {
     "data": {
      "text/plain": [
       "[[1, 0, 1, 1], [1, 1, 1, 1], [1, 1, 1, 1], [1, 1, 1, 1]]"
      ]
     },
     "execution_count": 320,
     "metadata": {},
     "output_type": "execute_result"
    }
   ],
   "source": [
    "n = 4\n",
    "m = 4\n",
    "mat = [[1]*n for i in range(m)]\n",
    "mat[0][1] = 0\n",
    "mat"
   ]
  },
  {
   "cell_type": "code",
   "execution_count": 321,
   "id": "7fde6778",
   "metadata": {},
   "outputs": [],
   "source": [
    "seen = {}\n",
    "def all_path(x, y):\n",
    "    if mat[x-1][y-1] == 0:\n",
    "        seen[(x,y)] = 0\n",
    "        return 0\n",
    "    if x == 1 and y == 1:\n",
    "        return 1\n",
    "    if (x,y) in seen:\n",
    "        return seen[(x,y)]\n",
    "    if x == 1:\n",
    "        left = all_path(x,y-1)\n",
    "        seen[(x,y)] = left\n",
    "        return left\n",
    "    if y == 1:\n",
    "        up = all_path(x-1,y)\n",
    "        seen[(x,y)] = up\n",
    "        return up\n",
    "    \n",
    "    left = all_path(x, y-1)\n",
    "    up = all_path(x-1, y)\n",
    "    seen[(x,y)] = left+up\n",
    "\n",
    "    return left + up"
   ]
  },
  {
   "cell_type": "code",
   "execution_count": 322,
   "id": "65cc62c7",
   "metadata": {},
   "outputs": [
    {
     "data": {
      "text/plain": [
       "10"
      ]
     },
     "execution_count": 322,
     "metadata": {},
     "output_type": "execute_result"
    }
   ],
   "source": [
    "all_path(len(mat), len(mat[0]))"
   ]
  },
  {
   "cell_type": "code",
   "execution_count": 116,
   "id": "8b3b1d22",
   "metadata": {},
   "outputs": [],
   "source": [
    "def factorial(x):\n",
    "    total = 1\n",
    "    for i in range(x, 0, -1):\n",
    "        total *= i\n",
    "    return total"
   ]
  },
  {
   "cell_type": "code",
   "execution_count": 161,
   "id": "92fa7872",
   "metadata": {},
   "outputs": [],
   "source": [
    "def perm_all_path(n,m):\n",
    "    ans = factorial(n+m-2) / (factorial(n-1)*factorial(m-1))\n",
    "    return ans"
   ]
  },
  {
   "cell_type": "markdown",
   "id": "5c877deb",
   "metadata": {},
   "source": [
    "# all sub set of set"
   ]
  },
  {
   "cell_type": "code",
   "execution_count": 579,
   "id": "9c21bf9b",
   "metadata": {},
   "outputs": [],
   "source": [
    "def solution(sett):\n",
    "\n",
    "    def subset(s):\n",
    "        if len(s) == 1:\n",
    "            sub.add(s.pop())\n",
    "            return\n",
    "        \n",
    "        single = str(s.pop())\n",
    "        subset(s)\n",
    "        dummy = set(sub)\n",
    "        for i in range(len(dummy)):\n",
    "            temp = str(dummy.pop())\n",
    "            sub.add(int(single+temp))\n",
    "        sub.add(int(single))\n",
    "        \n",
    "    sub = set()\n",
    "    subset(sett)\n",
    "    sub.add(float('inf'))\n",
    "    return sub"
   ]
  },
  {
   "cell_type": "code",
   "execution_count": 582,
   "id": "ec17a6f0",
   "metadata": {},
   "outputs": [],
   "source": [
    "a = set([1,2,3])\n",
    "res = solution(set(a))\n",
    "# sorted(res)"
   ]
  },
  {
   "cell_type": "code",
   "execution_count": 583,
   "id": "3411f6c3",
   "metadata": {},
   "outputs": [
    {
     "data": {
      "text/plain": [
       "{1, 2, 3, 12, 13, 23, 123, inf}"
      ]
     },
     "execution_count": 583,
     "metadata": {},
     "output_type": "execute_result"
    }
   ],
   "source": [
    "res"
   ]
  },
  {
   "cell_type": "code",
   "execution_count": 579,
   "id": "cce2f0d9",
   "metadata": {},
   "outputs": [],
   "source": [
    "perms = []\n",
    "def permute(s, i):\n",
    "    s = list(s)\n",
    "    if i == len(s)-1:\n",
    "        perms.append(\"\".join(s))\n",
    "        return\n",
    "    for j in range(i,len(s)):\n",
    "        s[i], s[j] = s[j], s[i]\n",
    "        permute(s, i+1)\n"
   ]
  },
  {
   "cell_type": "code",
   "execution_count": 580,
   "id": "f9ffe563",
   "metadata": {},
   "outputs": [],
   "source": [
    "permute('())(',0)"
   ]
  },
  {
   "cell_type": "code",
   "execution_count": 581,
   "id": "2d905373",
   "metadata": {},
   "outputs": [
    {
     "data": {
      "text/plain": [
       "['())(',\n",
       " '()()',\n",
       " '())(',\n",
       " '()()',\n",
       " '(())',\n",
       " '(())',\n",
       " ')()(',\n",
       " ')(()',\n",
       " '))((',\n",
       " '))((',\n",
       " ')(()',\n",
       " ')()(',\n",
       " ')()(',\n",
       " ')(()',\n",
       " '))((',\n",
       " '))((',\n",
       " ')(()',\n",
       " ')()(',\n",
       " '(())',\n",
       " '(())',\n",
       " '()()',\n",
       " '())(',\n",
       " '()()',\n",
       " '())(']"
      ]
     },
     "execution_count": 581,
     "metadata": {},
     "output_type": "execute_result"
    }
   ],
   "source": [
    "perms"
   ]
  },
  {
   "cell_type": "code",
   "execution_count": 584,
   "id": "676f1ea7",
   "metadata": {},
   "outputs": [],
   "source": [
    "all_sub = []\n",
    "a = [1,2,3,4]\n",
    "bits = 1 << len(a)"
   ]
  },
  {
   "cell_type": "code",
   "execution_count": 585,
   "id": "1c3a2e22",
   "metadata": {},
   "outputs": [],
   "source": [
    "for i in range(bits):\n",
    "    subset = []\n",
    "    ind = 0\n",
    "    k = i\n",
    "    while k > 0:\n",
    "        if k & 1:\n",
    "            subset.append(a[ind])\n",
    "        k >>= 1\n",
    "        ind += 1\n",
    "    all_sub.append(set(subset))"
   ]
  },
  {
   "cell_type": "code",
   "execution_count": 586,
   "id": "c62dd294",
   "metadata": {},
   "outputs": [
    {
     "data": {
      "text/plain": [
       "[set(),\n",
       " {1},\n",
       " {2},\n",
       " {1, 2},\n",
       " {3},\n",
       " {1, 3},\n",
       " {2, 3},\n",
       " {1, 2, 3},\n",
       " {4},\n",
       " {1, 4},\n",
       " {2, 4},\n",
       " {1, 2, 4},\n",
       " {3, 4},\n",
       " {1, 3, 4},\n",
       " {2, 3, 4},\n",
       " {1, 2, 3, 4}]"
      ]
     },
     "execution_count": 586,
     "metadata": {},
     "output_type": "execute_result"
    }
   ],
   "source": [
    "all_sub"
   ]
  },
  {
   "cell_type": "markdown",
   "id": "36d02b89",
   "metadata": {},
   "source": [
    "# all pair of parentheses"
   ]
  },
  {
   "cell_type": "code",
   "execution_count": 29,
   "id": "9037cee8",
   "metadata": {},
   "outputs": [],
   "source": [
    "def all_parenth(s):\n",
    "    def go(n, left, right, s):\n",
    "#         print(n, left, right, s)\n",
    "        if left == n and right == n:\n",
    "            print(s)\n",
    "            return\n",
    "        if right > left:\n",
    "            return\n",
    "        \n",
    "        if left < n:\n",
    "            go(n, left+1, right, s+'(')\n",
    "            \n",
    "        if right < n:\n",
    "            go(n, left, right+1, s+')')\n",
    "            \n",
    "    init_n = len(s)//2       \n",
    "    go(init_n, 0, 0, '')"
   ]
  },
  {
   "cell_type": "code",
   "execution_count": 30,
   "id": "f00d1e11",
   "metadata": {},
   "outputs": [
    {
     "name": "stdout",
     "output_type": "stream",
     "text": [
      "((()))\n",
      "(()())\n",
      "(())()\n",
      "()(())\n",
      "()()()\n"
     ]
    }
   ],
   "source": [
    "all_parenth('()()()')"
   ]
  },
  {
   "cell_type": "markdown",
   "id": "08268479",
   "metadata": {},
   "source": [
    "# Paint"
   ]
  },
  {
   "cell_type": "code",
   "execution_count": 139,
   "id": "855a3b27",
   "metadata": {},
   "outputs": [],
   "source": [
    "seen = []\n",
    "def solution(mat: list, x:int, y:int, color: int):\n",
    "    def paint(mat, x, y, color, target):\n",
    "        if x < 0 or y < 0 or x >= len(mat) or y>=len(mat[0]) or mat[x][y] != target:\n",
    "            return\n",
    "        \n",
    "        mat[x][y] = color\n",
    "        \n",
    "        paint(mat, x-1, y, color, target)\n",
    "        paint(mat, x+1, y, color, target)\n",
    "        paint(mat, x, y-1, color, target)\n",
    "        paint(mat, x, y+1, color, target)\n",
    "        \n",
    "        \n",
    "    target = mat[x][y]\n",
    "    paint(mat, x, y, color, target)\n",
    "    return mat"
   ]
  },
  {
   "cell_type": "code",
   "execution_count": 140,
   "id": "573dda25",
   "metadata": {},
   "outputs": [
    {
     "data": {
      "text/plain": [
       "[[1, 1, 1, 1, 2], [1, 0, 1, 1, 1], [2, 0, 0, 3, 1], [3, 0, 1, 0, 2]]"
      ]
     },
     "execution_count": 140,
     "metadata": {},
     "output_type": "execute_result"
    }
   ],
   "source": [
    "r1 = [1,1,1,1,2]\n",
    "r2 = [1,0,1,1,1]\n",
    "r3 = [2,0,0,3,1]\n",
    "r4 = [3,0,1,0,2]\n",
    "a = [r1,r2,r3,r4]\n",
    "a"
   ]
  },
  {
   "cell_type": "code",
   "execution_count": 141,
   "id": "e51ab88b",
   "metadata": {},
   "outputs": [
    {
     "data": {
      "text/plain": [
       "[[9, 9, 9, 9, 2], [9, 0, 9, 9, 9], [2, 0, 0, 3, 9], [3, 0, 1, 0, 2]]"
      ]
     },
     "execution_count": 141,
     "metadata": {},
     "output_type": "execute_result"
    }
   ],
   "source": [
    "solution(a, x = 0, y = 1, color = 9)"
   ]
  },
  {
   "cell_type": "markdown",
   "id": "46556297",
   "metadata": {},
   "source": [
    "# all possible coin combination to N"
   ]
  },
  {
   "cell_type": "code",
   "execution_count": 358,
   "id": "42086d20",
   "metadata": {},
   "outputs": [],
   "source": [
    "def solution(n):\n",
    "    def Counter(l):\n",
    "        d = {}\n",
    "        for i in l:\n",
    "            if i not in d:\n",
    "                d[i] = 1\n",
    "            else:\n",
    "                d[i] += 1\n",
    "        return d\n",
    "    \n",
    "    def coin(target, nums, s):\n",
    "        if s == target:\n",
    "            if Counter(nums) in res:\n",
    "                return\n",
    "            else:\n",
    "                res.append(Counter(nums))\n",
    "                return\n",
    "        if s > target:\n",
    "            return\n",
    "        \n",
    "        nums.append(1)\n",
    "        coin(target, nums, s+1)\n",
    "        nums.pop()\n",
    "        \n",
    "        nums.append(5)\n",
    "        coin(target, nums, s+5)\n",
    "        nums.pop()\n",
    "        \n",
    "        nums.append(10)\n",
    "        coin(target, nums, s+10)\n",
    "        nums.pop()\n",
    "        \n",
    "        nums.append(25)\n",
    "        coin(target, nums, s+25)\n",
    "        nums.pop()\n",
    "    \n",
    "    res = []\n",
    "    coin(n, [], 0)\n",
    "    return res"
   ]
  },
  {
   "cell_type": "code",
   "execution_count": 359,
   "id": "aa2c0a4e",
   "metadata": {},
   "outputs": [],
   "source": [
    "r = solution(12)"
   ]
  },
  {
   "cell_type": "code",
   "execution_count": 360,
   "id": "97254b7a",
   "metadata": {},
   "outputs": [
    {
     "data": {
      "text/plain": [
       "[{1: 12}, {1: 7, 5: 1}, {1: 2, 5: 2}, {1: 2, 10: 1}]"
      ]
     },
     "execution_count": 360,
     "metadata": {},
     "output_type": "execute_result"
    }
   ],
   "source": [
    "r"
   ]
  },
  {
   "cell_type": "code",
   "execution_count": 369,
   "id": "f861023e",
   "metadata": {},
   "outputs": [],
   "source": [
    "def count(S, m, n ):\n",
    "    print(m, n)\n",
    "\n",
    "    if (n == 0):\n",
    "        return 1\n",
    "\n",
    "    if (n < 0):\n",
    "        return 0;\n",
    "\n",
    "    if (m <=0 and n >= 1):\n",
    "        return 0\n",
    "\n",
    "    return count( S, m - 1, n ) + count( S, m, n-S[m-1] );\n",
    " "
   ]
  },
  {
   "cell_type": "code",
   "execution_count": 370,
   "id": "1da003c6",
   "metadata": {},
   "outputs": [
    {
     "name": "stdout",
     "output_type": "stream",
     "text": [
      "3 5\n",
      "2 5\n",
      "1 5\n",
      "0 5\n",
      "1 4\n",
      "0 4\n",
      "1 3\n",
      "0 3\n",
      "1 2\n",
      "0 2\n",
      "1 1\n",
      "0 1\n",
      "1 0\n",
      "2 0\n",
      "3 -5\n",
      "2\n"
     ]
    }
   ],
   "source": [
    "# Driver program to test above function\n",
    "arr = [1,5,10]\n",
    "m = len(arr)\n",
    "print(count(arr, m, 5))"
   ]
  },
  {
   "cell_type": "markdown",
   "id": "a4685e2e",
   "metadata": {},
   "source": [
    "# queen chess"
   ]
  },
  {
   "cell_type": "code",
   "execution_count": 383,
   "id": "11519b20",
   "metadata": {},
   "outputs": [
    {
     "data": {
      "text/plain": [
       "[[0, 0, 1, 0, 0, 0, 0, 0],\n",
       " [0, 0, 0, 0, 1, 0, 0, 0],\n",
       " [0, 0, 0, 0, 0, 0, 1, 0],\n",
       " [1, 0, 0, 0, 0, 0, 0, 0],\n",
       " [0, 0, 0, 1, 0, 0, 0, 0],\n",
       " [0, 0, 0, 0, 0, 1, 0, 0],\n",
       " [0, 0, 0, 0, 0, 0, 0, 1],\n",
       " [0, 0, 0, 0, 0, 0, 0, 0]]"
      ]
     },
     "execution_count": 383,
     "metadata": {},
     "output_type": "execute_result"
    }
   ],
   "source": [
    "a = [[0] * 8 for i in range(8)]\n",
    "a[0][2] = 1\n",
    "a[1][4] = 1\n",
    "a[2][6] = 1\n",
    "a[3][0] = 1\n",
    "a[4][3] = 1\n",
    "a[5][5] = 1\n",
    "a[6][7] = 1\n",
    "# a[7][5] = 1\n",
    "a"
   ]
  },
  {
   "cell_type": "code",
   "execution_count": 536,
   "id": "96c2a726",
   "metadata": {},
   "outputs": [],
   "source": [
    "def Solution(n):\n",
    "\n",
    "    def N_queen(col, pos, neg, queens, n):\n",
    "        r = 0\n",
    "        c = 0\n",
    "        while len(queens) != n:\n",
    "            if (c in col or r - c in neg or r + c in pos) and c < n:\n",
    "                c += 1\n",
    "            elif c >= n:\n",
    "                r,c = queens.pop()\n",
    "                c += 1\n",
    "                pos.pop()\n",
    "                neg.pop()\n",
    "                col.pop()\n",
    "\n",
    "            else:\n",
    "                queens.append([r,c])\n",
    "                col.append(c)\n",
    "                pos.append(r+c)\n",
    "                neg.append(r-c)\n",
    "                r += 1\n",
    "                c = 0\n",
    "        return queens\n",
    "            \n",
    "    cols = []\n",
    "    pos = []\n",
    "    neg = []\n",
    "    queens = []\n",
    "    return N_queen(cols,pos,neg,queens, n)"
   ]
  },
  {
   "cell_type": "code",
   "execution_count": 537,
   "id": "b0d29b95",
   "metadata": {},
   "outputs": [
    {
     "data": {
      "text/plain": [
       "[[0, 0], [1, 4], [2, 7], [3, 5], [4, 2], [5, 6], [6, 1], [7, 3]]"
      ]
     },
     "execution_count": 537,
     "metadata": {},
     "output_type": "execute_result"
    }
   ],
   "source": [
    "Solution(8)"
   ]
  },
  {
   "cell_type": "code",
   "execution_count": 545,
   "id": "31ce23f8",
   "metadata": {},
   "outputs": [],
   "source": [
    "class Solution:\n",
    "\n",
    "    def N_queen(n):\n",
    "        col = set()\n",
    "        pos = set()\n",
    "        neg = set()\n",
    "        res = []\n",
    "        board = [[\".\"] * n for i in range(n)]\n",
    "        \n",
    "        def backtrack(r):\n",
    "            print(board)\n",
    "            if r == n:\n",
    "                copy = [\"\".join(row) for row in board]\n",
    "                res.append(copy)\n",
    "                return\n",
    "            \n",
    "            for c in range(n):\n",
    "                if c in col or r+c in pos or r-c in neg:\n",
    "                    continue\n",
    "                board[r][c] = 'Q'\n",
    "                col.add(c)\n",
    "                pos.add(r+c)\n",
    "                neg.add(r-c)\n",
    "                \n",
    "                backtrack(r+1)\n",
    "                \n",
    "                board[r][c] = '.'\n",
    "                col.remove(c)\n",
    "                pos.remove(r+c)\n",
    "                neg.remove(r-c)\n",
    "            \n",
    "        backtrack(0)\n",
    "        return res"
   ]
  },
  {
   "cell_type": "code",
   "execution_count": 546,
   "id": "7581591e",
   "metadata": {},
   "outputs": [
    {
     "name": "stdout",
     "output_type": "stream",
     "text": [
      "[['.', '.', '.', '.'], ['.', '.', '.', '.'], ['.', '.', '.', '.'], ['.', '.', '.', '.']]\n",
      "[['Q', '.', '.', '.'], ['.', '.', '.', '.'], ['.', '.', '.', '.'], ['.', '.', '.', '.']]\n",
      "[['Q', '.', '.', '.'], ['.', '.', 'Q', '.'], ['.', '.', '.', '.'], ['.', '.', '.', '.']]\n",
      "[['Q', '.', '.', '.'], ['.', '.', '.', 'Q'], ['.', '.', '.', '.'], ['.', '.', '.', '.']]\n",
      "[['Q', '.', '.', '.'], ['.', '.', '.', 'Q'], ['.', 'Q', '.', '.'], ['.', '.', '.', '.']]\n",
      "[['.', 'Q', '.', '.'], ['.', '.', '.', '.'], ['.', '.', '.', '.'], ['.', '.', '.', '.']]\n",
      "[['.', 'Q', '.', '.'], ['.', '.', '.', 'Q'], ['.', '.', '.', '.'], ['.', '.', '.', '.']]\n",
      "[['.', 'Q', '.', '.'], ['.', '.', '.', 'Q'], ['Q', '.', '.', '.'], ['.', '.', '.', '.']]\n",
      "[['.', 'Q', '.', '.'], ['.', '.', '.', 'Q'], ['Q', '.', '.', '.'], ['.', '.', 'Q', '.']]\n",
      "[['.', '.', 'Q', '.'], ['.', '.', '.', '.'], ['.', '.', '.', '.'], ['.', '.', '.', '.']]\n",
      "[['.', '.', 'Q', '.'], ['Q', '.', '.', '.'], ['.', '.', '.', '.'], ['.', '.', '.', '.']]\n",
      "[['.', '.', 'Q', '.'], ['Q', '.', '.', '.'], ['.', '.', '.', 'Q'], ['.', '.', '.', '.']]\n",
      "[['.', '.', 'Q', '.'], ['Q', '.', '.', '.'], ['.', '.', '.', 'Q'], ['.', 'Q', '.', '.']]\n",
      "[['.', '.', '.', 'Q'], ['.', '.', '.', '.'], ['.', '.', '.', '.'], ['.', '.', '.', '.']]\n",
      "[['.', '.', '.', 'Q'], ['Q', '.', '.', '.'], ['.', '.', '.', '.'], ['.', '.', '.', '.']]\n",
      "[['.', '.', '.', 'Q'], ['Q', '.', '.', '.'], ['.', '.', 'Q', '.'], ['.', '.', '.', '.']]\n",
      "[['.', '.', '.', 'Q'], ['.', 'Q', '.', '.'], ['.', '.', '.', '.'], ['.', '.', '.', '.']]\n"
     ]
    },
    {
     "data": {
      "text/plain": [
       "[['.Q..', '...Q', 'Q...', '..Q.'], ['..Q.', 'Q...', '...Q', '.Q..']]"
      ]
     },
     "execution_count": 546,
     "metadata": {},
     "output_type": "execute_result"
    }
   ],
   "source": [
    "Solution.N_queen(4)"
   ]
  },
  {
   "cell_type": "code",
   "execution_count": 538,
   "id": "4cf59d38",
   "metadata": {},
   "outputs": [
    {
     "data": {
      "text/plain": [
       "[['.', '.', '.', '.'],\n",
       " ['.', '.', '.', '.'],\n",
       " ['.', '.', '.', '.'],\n",
       " ['.', '.', '.', '.']]"
      ]
     },
     "execution_count": 538,
     "metadata": {},
     "output_type": "execute_result"
    }
   ],
   "source": [
    "class ListNode(object):\n",
    "    def __init__(self, val=0, next=None):\n",
    "        self.val = val\n",
    "        self.next = next\n",
    "        \n",
    "class Solution(object):\n",
    "    \n",
    "    def ll_len(head):\n",
    "        n = 0\n",
    "        while head:\n",
    "            n += 1\n",
    "            head = head.next\n",
    "        return n\n",
    "            \n",
    "    \n",
    "    def merge_sort(head, None):\n",
    "        n = 0\n",
    "        for \n",
    "    \n",
    "    def merge(self, head):\n",
    "        if not head:\n",
    "            return head\n",
    "        cur = dummy = head\n",
    "        while cur:\n",
    "            if cur.next:\n",
    "                if cur.val > cur.next.val:\n",
    "                    temp = cur.val\n",
    "                    cur.val = cur.next.val\n",
    "                    cur.next.val = temp\n",
    "            cur = cur.next\n",
    "            \n",
    "        return dummy\n",
    "        "
   ]
  },
  {
   "cell_type": "code",
   "execution_count": 570,
   "id": "d687d488",
   "metadata": {},
   "outputs": [],
   "source": [
    "class ListNode(object):\n",
    "    def __init__(self, val=0, next=None):\n",
    "        self.val = val\n",
    "        self.next = next"
   ]
  },
  {
   "cell_type": "code",
   "execution_count": 571,
   "id": "db5be877",
   "metadata": {},
   "outputs": [],
   "source": [
    "a = ListNode(1)\n",
    "a.next= ListNode(2)\n",
    "a.next.next= ListNode(3)\n",
    "a.next.next.next= ListNode(4)"
   ]
  },
  {
   "cell_type": "code",
   "execution_count": 576,
   "id": "ba751567",
   "metadata": {},
   "outputs": [],
   "source": [
    "def ll_len(x):\n",
    "    x += 20"
   ]
  },
  {
   "cell_type": "code",
   "execution_count": 577,
   "id": "010bbaa5",
   "metadata": {},
   "outputs": [],
   "source": [
    "x = 30\n",
    "ll_len(x)"
   ]
  },
  {
   "cell_type": "code",
   "execution_count": null,
   "id": "d83f1642",
   "metadata": {},
   "outputs": [],
   "source": []
  }
 ],
 "metadata": {
  "kernelspec": {
   "display_name": "Python 3",
   "language": "python",
   "name": "python3"
  },
  "language_info": {
   "codemirror_mode": {
    "name": "ipython",
    "version": 3
   },
   "file_extension": ".py",
   "mimetype": "text/x-python",
   "name": "python",
   "nbconvert_exporter": "python",
   "pygments_lexer": "ipython3",
   "version": "3.6.5"
  }
 },
 "nbformat": 4,
 "nbformat_minor": 5
}
