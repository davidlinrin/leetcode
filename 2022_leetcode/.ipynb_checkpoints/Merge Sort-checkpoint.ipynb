{
 "cells": [
  {
   "cell_type": "code",
   "execution_count": 46,
   "id": "5db3eacd",
   "metadata": {},
   "outputs": [],
   "source": [
    "def merge_sort(array: list):\n",
    "    if len(array) > 1:\n",
    "        middle = len(array) // 2\n",
    "        left = array[:middle] \n",
    "        right = array[middle:]  \n",
    "        merge_sort(left)  \n",
    "        merge_sort(right)  \n",
    "        merge(array, left, right)\n",
    "\n",
    "def merge(array: list, left: list, right: list):\n",
    "    l = r = ind = 0\n",
    "    while l < len(left) and r < len(right):\n",
    "        if left[l] < right[r]:\n",
    "            array[ind] = left[l]\n",
    "            l += 1\n",
    "            ind += 1\n",
    "        else:\n",
    "            array[ind] = right[r]\n",
    "            r += 1\n",
    "            ind += 1\n",
    "    \n",
    "    while l < len(left):\n",
    "        array[ind] = left[l]\n",
    "        l += 1\n",
    "        ind += 1\n",
    "    while r < len(right):\n",
    "        array[ind] = right[r]\n",
    "        r += 1 \n",
    "        ind += 1"
   ]
  },
  {
   "cell_type": "code",
   "execution_count": 47,
   "id": "e2bbc869",
   "metadata": {},
   "outputs": [
    {
     "data": {
      "text/plain": [
       "[1, 2, 3, 4, 5, 6, 9]"
      ]
     },
     "execution_count": 47,
     "metadata": {},
     "output_type": "execute_result"
    }
   ],
   "source": [
    "l = [9,2,6,4,3,5,1]\n",
    "merge_sort(l)\n",
    "l"
   ]
  },
  {
   "cell_type": "code",
   "execution_count": 64,
   "id": "902e1983",
   "metadata": {},
   "outputs": [],
   "source": [
    "def merge_sort(arr):\n",
    "    if len(arr)>1:\n",
    "        middle = len(arr)//2\n",
    "        left = arr[:middle]\n",
    "        right = arr[middle:]\n",
    "        merge_sort(left)\n",
    "        merge_sort(right)\n",
    "        merge(arr, left, right)\n",
    "    \n",
    "def merge(arr, arr_1, arr_2):\n",
    "    l = r = ind = 0\n",
    "    while l<len(arr_1) and r<len(arr_2):\n",
    "        if arr_1[l] < arr_2[r]:\n",
    "            arr[ind] = arr_1[l]\n",
    "            ind += 1\n",
    "            l += 1\n",
    "        elif:\n",
    "            print(arr_1, arr_2)\n",
    "            arr[ind] = arr_2[r]\n",
    "            ind += 1\n",
    "            r += 1\n",
    "\n",
    "    while l < len(arr_1):\n",
    "        arr[ind] = arr_1[l]\n",
    "        ind += 1\n",
    "        l += 1\n",
    "    while r < len(arr_2):\n",
    "        arr[ind] = arr_2[r]\n",
    "        ind += 1\n",
    "        r += 1\n",
    "            "
   ]
  },
  {
   "cell_type": "code",
   "execution_count": 65,
   "id": "c76ebd20",
   "metadata": {},
   "outputs": [
    {
     "name": "stdout",
     "output_type": "stream",
     "text": [
      "[2, 7]\n",
      "[3, 6]\n",
      "[2, 7] [3, 6]\n",
      "[2, 7] [3, 6]\n",
      "[2, 3, 6, 6]\n",
      "[63, 712]\n",
      "[62] [8]\n",
      "[8, 8]\n",
      "[63, 712] [8, 62]\n",
      "[63, 712] [8, 62]\n",
      "[8, 62, 62, 8]\n",
      "[2, 3, 6, 7, 63, 712, 62, 8]\n"
     ]
    }
   ],
   "source": [
    "a = [2,7,3,6,63,712,62,8]\n",
    "merge_sort(a)"
   ]
  },
  {
   "cell_type": "code",
   "execution_count": 76,
   "id": "dff66bf8",
   "metadata": {},
   "outputs": [],
   "source": [
    "class Node: \n",
    "    def __init__(self, data): \n",
    "        self.val = data \n",
    "        self.children = []"
   ]
  },
  {
   "cell_type": "code",
   "execution_count": 77,
   "id": "72d90409",
   "metadata": {},
   "outputs": [
    {
     "name": "stdout",
     "output_type": "stream",
     "text": [
      "0 2 6\n",
      "4 4 9\n",
      "5 6 40\n",
      "34 9 43\n"
     ]
    },
    {
     "data": {
      "text/plain": [
       "34"
      ]
     },
     "execution_count": 77,
     "metadata": {},
     "output_type": "execute_result"
    }
   ],
   "source": [
    "n_1 ,q_1 = 3, 1 \n",
    "s_1 = \"aba\"\n",
    "root_1 = Node(1) \n",
    "root_1.children.append(Node(2)) \n",
    "root_1.children.append(Node(3)) \n",
    "queries_1 = [(1, 'a')]"
   ]
  },
  {
   "cell_type": "code",
   "execution_count": 96,
   "id": "634d8079",
   "metadata": {},
   "outputs": [],
   "source": [
    "class TreeNode: \n",
    "    def __init__(self,key): \n",
    "        self.left = None\n",
    "        self.right = None\n",
    "        self.val = key \n",
    "\n",
    "def visible_nodes(root):\n",
    "\n",
    "    def level(node, lvl):\n",
    "\n",
    "        if not node:\n",
    "            return lvl\n",
    "        lvl += 1\n",
    "        return max(level(node.left, lvl), level(node.right, lvl))\n",
    "    \n",
    "    return level(root,0)"
   ]
  },
  {
   "cell_type": "code",
   "execution_count": 103,
   "id": "f1c53724",
   "metadata": {},
   "outputs": [],
   "source": [
    "a = TreeNode(8)\n",
    "a.left = TreeNode(3)\n",
    "a.right = TreeNode(10)\n",
    "a.left.left = TreeNode(18)\n",
    "a.left.right = TreeNode(6)\n",
    "a.left.right.left = TreeNode(21)\n",
    "a.right.right = TreeNode(14)\n",
    "# a.right.right.right = TreeNode(13)\n",
    "# a.right.right.right.right = TreeNode(20)"
   ]
  },
  {
   "cell_type": "code",
   "execution_count": 104,
   "id": "2ca87349",
   "metadata": {},
   "outputs": [
    {
     "data": {
      "text/plain": [
       "4"
      ]
     },
     "execution_count": 104,
     "metadata": {},
     "output_type": "execute_result"
    }
   ],
   "source": [
    "b = visible_nodes(a)\n",
    "b"
   ]
  },
  {
   "cell_type": "code",
   "execution_count": 163,
   "id": "a30db24e",
   "metadata": {},
   "outputs": [],
   "source": [
    "class Node: \n",
    "    def __init__(self, data): \n",
    "        self.val = data \n",
    "        self.children = []\n",
    "        \n",
    "def search_subtree_count(root, count, char):\n",
    "    if s[root.val - 1] == char:\n",
    "        count += 1\n",
    "    if root.children:\n",
    "        for child in root.children:\n",
    "            count = search_subtree_count(child, count, char)\n",
    "    return count\n",
    "\n",
    "def count_of_nodes(root, queries, s):\n",
    "    queries = set([tuple(q) for q in queries])\n",
    "    output = []\n",
    "    stack = [root]\n",
    "    while stack:\n",
    "        cur = stack.pop(0)\n",
    "        if cur.children:\n",
    "            for child in cur.children:\n",
    "                stack.append(child)\n",
    "\n",
    "        if (cur.val, s[cur.val - 1]) in queries:\n",
    "            count = 0\n",
    "            count = search_subtree_count(cur, count, s[cur.val - 1])\n",
    "            output.append(count)\n",
    "    return output"
   ]
  },
  {
   "cell_type": "code",
   "execution_count": 164,
   "id": "3967f29a",
   "metadata": {},
   "outputs": [],
   "source": [
    "s = \"abaacab\"\n",
    "root_2 = Node(1)\n",
    "root_2.children.append(Node(2))\n",
    "root_2.children.append(Node(3))\n",
    "root_2.children.append(Node(7))\n",
    "root_2.children[0].children.append(Node(4))\n",
    "root_2.children[0].children.append(Node(5))\n",
    "root_2.children[1].children.append(Node(6))\n",
    "queries_2 = [[1, 'a'],[2, 'b'],[3, 'a']]"
   ]
  },
  {
   "cell_type": "code",
   "execution_count": 165,
   "id": "ac63b704",
   "metadata": {},
   "outputs": [
    {
     "data": {
      "text/plain": [
       "[4, 1, 2]"
      ]
     },
     "execution_count": 165,
     "metadata": {},
     "output_type": "execute_result"
    }
   ],
   "source": [
    "count_of_nodes(root_2, queries_2, s_2)"
   ]
  },
  {
   "cell_type": "code",
   "execution_count": 166,
   "id": "efc34b23",
   "metadata": {},
   "outputs": [
    {
     "data": {
      "text/plain": [
       "'dcba'"
      ]
     },
     "execution_count": 166,
     "metadata": {},
     "output_type": "execute_result"
    }
   ],
   "source": [
    "a = 'abcd'\n",
    "a[::-1]"
   ]
  },
  {
   "cell_type": "code",
   "execution_count": 177,
   "id": "4d78cc53",
   "metadata": {},
   "outputs": [
    {
     "data": {
      "text/plain": [
       "''"
      ]
     },
     "execution_count": 177,
     "metadata": {},
     "output_type": "execute_result"
    }
   ],
   "source": [
    "a= 'ab'\n",
    "r = ''\n",
    "r+=(a[:0])\n",
    "r"
   ]
  },
  {
   "cell_type": "code",
   "execution_count": 222,
   "id": "90a0480f",
   "metadata": {},
   "outputs": [],
   "source": [
    "def can_get_exact_change(target_money, denominations):\n",
    "    mem = {}\n",
    "    def helper(t):\n",
    "#         print(mem, t)\n",
    "        if t not in mem:\n",
    "            mem[t] = False\n",
    "            for d in denominations:\n",
    "#                 print(t, d)\n",
    "                if d > t:\n",
    "                    continue\n",
    "\n",
    "                if t % d == 0 or helper(t-d):\n",
    "                    mem[t] = True\n",
    "                    break\n",
    "\n",
    "        return mem[t]\n",
    "\n",
    "    return helper(target_money)"
   ]
  },
  {
   "cell_type": "code",
   "execution_count": 240,
   "id": "57378079",
   "metadata": {},
   "outputs": [],
   "source": [
    "def canGetExactChange(targetMoney, denominations):\n",
    "\n",
    "    mem = {}\n",
    "    def hash_check(target):\n",
    "        if target not in mem:\n",
    "            mem[target] = False\n",
    "\n",
    "            for denom in denominations:\n",
    "                if denom > target:\n",
    "                    continue\n",
    "                if target%denom == 0 or hash_check(target - denom):\n",
    "                    return True\n",
    "\n",
    "            return False\n",
    "        \n",
    "        return mem[target]\n",
    "\n",
    "    return hash_check(targetMoney)"
   ]
  },
  {
   "cell_type": "code",
   "execution_count": 230,
   "id": "dfe81d97",
   "metadata": {},
   "outputs": [],
   "source": [
    "for i in range(2000):\n",
    "    if canGetExactChange(i,a) != can_get_exact_change(i,a):\n",
    "        print(i)"
   ]
  },
  {
   "cell_type": "code",
   "execution_count": 261,
   "id": "b2599507",
   "metadata": {},
   "outputs": [],
   "source": [
    "def balancedSplitExists(arr):\n",
    "\n",
    "    def bin_search(arr):\n",
    "        left = 0\n",
    "        right = len(arr)\n",
    "        mid = (right+left)//2\n",
    "\n",
    "        while left < right:\n",
    "            mid = (right+left)//2\n",
    "            a1 = arr[:mid]\n",
    "            a2 = arr[mid:]\n",
    "            print(a1,a2, left, right, mid)\n",
    "            if sum(a1) < sum(a2):\n",
    "                left = mid + 1\n",
    "            elif sum(a1) > sum(a2):\n",
    "                right = mid\n",
    "            elif sum(a1) == sum(a2) and max(a1) < min(a2):\n",
    "                print(max(a1), max(a2))\n",
    "                return True\n",
    "            else: return False\n",
    "\n",
    "        return False\n",
    "\n",
    "    arr = sorted(arr)\n",
    "    i = 0\n",
    "    return bin_search(arr)"
   ]
  },
  {
   "cell_type": "code",
   "execution_count": 262,
   "id": "c6901da0",
   "metadata": {},
   "outputs": [
    {
     "name": "stdout",
     "output_type": "stream",
     "text": [
      "[3, 3] [4, 4, 6] 0 5 2\n",
      "[3, 3, 4, 4] [6] 3 5 4\n",
      "[3, 3, 4] [4, 6] 3 4 3\n"
     ]
    },
    {
     "data": {
      "text/plain": [
       "False"
      ]
     },
     "execution_count": 262,
     "metadata": {},
     "output_type": "execute_result"
    }
   ],
   "source": [
    "arr_1 = [3, 6, 3, 4, 4]\n",
    "balancedSplitExists(arr_1)"
   ]
  },
  {
   "cell_type": "code",
   "execution_count": 339,
   "id": "960cf9d4",
   "metadata": {},
   "outputs": [],
   "source": [
    "def findPositions(arr, x):\n",
    "    arr = [[ind,x] for ind,x in enumerate(arr)]\n",
    "    result = []\n",
    "    for i in range(x):\n",
    "        popped = []\n",
    "        j = 0\n",
    "        while j < x: \n",
    "            if arr:\n",
    "                popped.append(arr.pop(0))\n",
    "                j += 1\n",
    "            else:\n",
    "                break\n",
    "        max_ind = [p[1] for p in popped].index(max([p[1] for p in popped]))\n",
    "        max_orig = popped[max_ind][0]\n",
    "        result.append(max_orig+1)\n",
    "        while popped:\n",
    "            cur = popped.pop(0)\n",
    "            if cur[0] == max_orig:\n",
    "                continue\n",
    "            if cur[1] > 0:\n",
    "                cur[1] -= 1\n",
    "                arr.append(cur)\n",
    "            else:\n",
    "                arr.append(cur)\n",
    "\n",
    "    return result"
   ]
  },
  {
   "cell_type": "code",
   "execution_count": 340,
   "id": "4d07108a",
   "metadata": {},
   "outputs": [
    {
     "name": "stdout",
     "output_type": "stream",
     "text": [
      "0 [[0, 1], [1, 2], [2, 2], [3, 3], [4, 4], [5, 5]]\n",
      "[[0, 1], [1, 2], [2, 2], [3, 3], [4, 4]]\n",
      "[0, 1] [[1, 2], [2, 2], [3, 3], [4, 4]]\n",
      "[1, 2] [[2, 2], [3, 3], [4, 4]]\n",
      "[2, 2] [[3, 3], [4, 4]]\n",
      "[3, 3] [[4, 4]]\n",
      "[4, 4] []\n",
      "1 [[5, 5], [0, 0], [1, 1], [2, 1], [3, 2]]\n",
      "[[5, 5], [0, 0], [1, 1], [2, 1], [3, 2]]\n",
      "[5, 5] [[0, 0], [1, 1], [2, 1], [3, 2]]\n",
      "[0, 0] [[1, 1], [2, 1], [3, 2]]\n",
      "[1, 1] [[2, 1], [3, 2]]\n",
      "[2, 1] [[3, 2]]\n",
      "[3, 2] []\n",
      "2 [[0, 0], [1, 0], [2, 0], [3, 1]]\n",
      "[[0, 0], [1, 0], [2, 0], [3, 1]]\n",
      "[0, 0] [[1, 0], [2, 0], [3, 1]]\n",
      "[1, 0] [[2, 0], [3, 1]]\n",
      "[2, 0] [[3, 1]]\n",
      "[3, 1] []\n",
      "3 [[0, 0], [1, 0], [2, 0]]\n",
      "[[0, 0], [1, 0], [2, 0]]\n",
      "[0, 0] [[1, 0], [2, 0]]\n",
      "[1, 0] [[2, 0]]\n",
      "[2, 0] []\n",
      "4 [[1, 0], [2, 0]]\n",
      "[[1, 0], [2, 0]]\n",
      "[1, 0] [[2, 0]]\n",
      "[2, 0] []\n"
     ]
    },
    {
     "data": {
      "text/plain": [
       "[5, 6, 4, 1, 2]"
      ]
     },
     "execution_count": 340,
     "metadata": {},
     "output_type": "execute_result"
    }
   ],
   "source": [
    "findPositions([1,2,2,3,4,5], 5)"
   ]
  },
  {
   "cell_type": "code",
   "execution_count": 323,
   "id": "bdd23157",
   "metadata": {},
   "outputs": [
    {
     "data": {
      "text/plain": [
       "[[0, 1], [1, 2], [2, 2], [3, 3], [4, 4], [5, 5]]"
      ]
     },
     "execution_count": 323,
     "metadata": {},
     "output_type": "execute_result"
    }
   ],
   "source": [
    "arr =[1,2,2,3,4,5]\n",
    "arr = [[ind,x] for ind,x in enumerate(arr)]\n",
    "# [0, 1], [1, 2], [2, 2], [3, 3], [4, 4] , [5, 5]\n",
    "# [5, 5], [0, 0], [1, 1], [2, 1], [3, 2]\n",
    "# [0, 0], [1, 0], [2, 0], [3, 1]\n",
    "# [0, 0], [1, 0], [2, 0], \n",
    "arr.pop([a[1] for a in arr].index(max([a[1] for a in arr])))\n",
    "arr\n",
    "# arr.index(max([a[1] for a in arr]))"
   ]
  },
  {
   "cell_type": "code",
   "execution_count": 324,
   "id": "dd54722f",
   "metadata": {},
   "outputs": [
    {
     "data": {
      "text/plain": [
       "5"
      ]
     },
     "execution_count": 324,
     "metadata": {},
     "output_type": "execute_result"
    }
   ],
   "source": [
    "[a[1] for a in arr].index(max([a[1] for a in arr]))"
   ]
  },
  {
   "cell_type": "code",
   "execution_count": 362,
   "id": "ddcaf85a",
   "metadata": {},
   "outputs": [],
   "source": [
    "class Node:\n",
    "    def __init__(self, x):\n",
    "        self.data = x\n",
    "        self.next = None"
   ]
  },
  {
   "cell_type": "code",
   "execution_count": 498,
   "id": "3a361ae5",
   "metadata": {},
   "outputs": [],
   "source": [
    "def createLinkedList(arr):\n",
    "    head = None\n",
    "    tempHead = head\n",
    "    for v in arr:\n",
    "        if head == None:\n",
    "            head = Node(v)\n",
    "            tempHead = head\n",
    "        else:\n",
    "            head.next = Node(v)\n",
    "            head = head.next\n",
    "    return tempHead\n",
    "\n",
    "def reverse_sub(head):\n",
    "    prev = None\n",
    "    node = head\n",
    "    while node and node.data % 2 == 0:\n",
    "        temp_next = node.next\n",
    "        node.next = prev\n",
    "        prev = node\n",
    "        node = temp_next\n",
    "\n",
    "    if not node:\n",
    "        next_part = None\n",
    "    else:\n",
    "        next_part = node\n",
    "\n",
    "    return prev, next_part\n",
    "\n",
    "def reverse(head):\n",
    "    prev = dummy = Node(None)\n",
    "    dummy.next = head\n",
    "    node = head\n",
    "    while node:\n",
    "        print(node.data)\n",
    "        if node.data % 2:\n",
    "            prev = node\n",
    "            node = node.next\n",
    "        else:\n",
    "            rev_next, next_part = reverse_sub(node)\n",
    "            prev.next = rev_next\n",
    "            node.next = next_part\n",
    "            node = node.next\n",
    "\n",
    "    return dummy.next"
   ]
  },
  {
   "cell_type": "code",
   "execution_count": 499,
   "id": "3820333a",
   "metadata": {},
   "outputs": [
    {
     "name": "stdout",
     "output_type": "stream",
     "text": [
      "2\n",
      "3\n",
      "5\n",
      "7\n",
      "9\n",
      "6\n"
     ]
    }
   ],
   "source": [
    "head = createLinkedList([2, 18, 24, 3, 5, 7, 9, 6, 12])\n",
    "result = reverse(head)"
   ]
  },
  {
   "cell_type": "markdown",
   "id": "11c1f5a2",
   "metadata": {},
   "source": [
    "# sort linked list"
   ]
  },
  {
   "cell_type": "code",
   "execution_count": 228,
   "id": "cc61c258",
   "metadata": {},
   "outputs": [],
   "source": [
    "class ListNode(object):\n",
    "    def __init__(self, val=0, next=None):\n",
    "        self.val = val\n",
    "        self.next = next\n",
    "    def __repr__(self):\n",
    "        return str(self.val)"
   ]
  },
  {
   "cell_type": "code",
   "execution_count": 229,
   "id": "2cf13f10",
   "metadata": {},
   "outputs": [],
   "source": [
    "# O(n log n) time \n",
    "# O(log n) space\n",
    "class Solution:\n",
    "    \n",
    "    def sortList(self, head):\n",
    "    \n",
    "        def ll_len(head):\n",
    "            n = 0\n",
    "            while head:\n",
    "                n += 1\n",
    "                head = head.next\n",
    "            return n\n",
    "\n",
    "        def merge_sort(head, length):\n",
    "            if length > 1:\n",
    "                n = 1\n",
    "                left = l1 = head\n",
    "                while n < length//2:\n",
    "                    l1 = l1.next\n",
    "                    n += 1\n",
    "                right = l1.next\n",
    "                l1.next = None\n",
    "\n",
    "                left = merge_sort(left, n)\n",
    "                right = merge_sort(right, length - n)\n",
    "                head = merge(left, right)\n",
    "            return head\n",
    "\n",
    "        def merge(l1, l2):\n",
    "            head = dummy = ListNode(0)\n",
    "            while l1 and l2:\n",
    "                if l1.val >= l2.val:\n",
    "                    dummy.next = l2\n",
    "                    dummy = dummy.next\n",
    "                    l2 = l2.next\n",
    "                else:\n",
    "                    dummy.next = l1\n",
    "                    dummy = dummy.next\n",
    "                    l1 = l1.next\n",
    "\n",
    "            while l1:\n",
    "                dummy.next= l1\n",
    "                dummy = dummy.next\n",
    "                l1 = l1.next\n",
    "            while l2:\n",
    "                dummy.next= l2\n",
    "                dummy = dummy.next\n",
    "                l2 = l2.next\n",
    "            return head.next\n",
    "            \n",
    "        n = ll_len(head)\n",
    "        res = merge_sort(head, n)\n",
    "        return res"
   ]
  },
  {
   "cell_type": "code",
   "execution_count": 236,
   "id": "f224f895",
   "metadata": {},
   "outputs": [],
   "source": [
    "a = ListNode(2)\n",
    "a.next = ListNode(1)\n",
    "a.next.next = ListNode(3)\n",
    "a.next.next.next = ListNode(5)\n",
    "a.next.next.next.next = ListNode(4)\n",
    "a.next.next.next.next.next = ListNode(6)"
   ]
  },
  {
   "cell_type": "code",
   "execution_count": 237,
   "id": "d3fcc8b0",
   "metadata": {},
   "outputs": [],
   "source": [
    "sol = Solution()\n",
    "res = sol.sortList(a)"
   ]
  },
  {
   "cell_type": "markdown",
   "id": "57328be7",
   "metadata": {},
   "source": [
    "# Sort strings with anagrams beside each other"
   ]
  },
  {
   "cell_type": "code",
   "execution_count": 279,
   "id": "52dab8cf",
   "metadata": {},
   "outputs": [],
   "source": [
    "s = ['abc', 'dfsfs','xyz','cba','bcfa','bcaf', 'yxz']"
   ]
  },
  {
   "cell_type": "code",
   "execution_count": 280,
   "id": "73f86e5b",
   "metadata": {},
   "outputs": [],
   "source": [
    "res = []\n",
    "dp = {}\n",
    "for word in s:\n",
    "    ss = \"\".join(sorted(word))\n",
    "    if ss in dp:\n",
    "        dp[ss].append(word)\n",
    "    else:\n",
    "        dp[ss] = [word]\n",
    "        \n",
    "for key in dp:\n",
    "    res += dp[key]\n",
    "        "
   ]
  },
  {
   "cell_type": "code",
   "execution_count": 281,
   "id": "5136efd0",
   "metadata": {},
   "outputs": [
    {
     "data": {
      "text/plain": [
       "['abc', 'cba', 'dfsfs', 'xyz', 'yxz', 'bcfa', 'bcaf']"
      ]
     },
     "execution_count": 281,
     "metadata": {},
     "output_type": "execute_result"
    }
   ],
   "source": [
    "res"
   ]
  },
  {
   "cell_type": "markdown",
   "id": "1de28de2",
   "metadata": {},
   "source": [
    "# sort rotated list"
   ]
  },
  {
   "cell_type": "code",
   "execution_count": 327,
   "id": "1c0be885",
   "metadata": {},
   "outputs": [],
   "source": [
    "a = [1,2,3,4,5,6,7]\n",
    "b = [5,6,7,1,2,3,4]\n",
    "c = [3,4,5,6,7,1,2]"
   ]
  },
  {
   "cell_type": "code",
   "execution_count": 349,
   "id": "f7501b06",
   "metadata": {},
   "outputs": [],
   "source": [
    "class Solution(object):\n",
    "    def search(self, l, val):\n",
    "        if l[0] == val:\n",
    "            return 0\n",
    "        \n",
    "        left = 0\n",
    "        right = len(l)-1\n",
    "        while left <= right:\n",
    "            mid = (left + right) // 2\n",
    "            if val == l[mid]:\n",
    "                return mid\n",
    "\n",
    "            # messed up on right\n",
    "            if l[mid] > l[left]:\n",
    "                if val >= l[left] and val <= l[mid]:\n",
    "                    right = mid\n",
    "                else:\n",
    "                    left = mid\n",
    "\n",
    "            # messed up on left\n",
    "            elif l[mid] < l[left]:\n",
    "                if val >= l[mid] and val <= l[right]:\n",
    "                    left = mid\n",
    "                else:\n",
    "                    right = mid\n",
    "            else:\n",
    "                left += 1\n",
    "\n",
    "        return -1\n",
    "    "
   ]
  },
  {
   "cell_type": "code",
   "execution_count": 350,
   "id": "ffecd08e",
   "metadata": {},
   "outputs": [
    {
     "data": {
      "text/plain": [
       "18"
      ]
     },
     "execution_count": 350,
     "metadata": {},
     "output_type": "execute_result"
    }
   ],
   "source": [
    "find_rotated([2,2,2,2,2,2,2,2,2,2,2,2,2,2,2,2,2,2,4], 4)"
   ]
  },
  {
   "cell_type": "markdown",
   "id": "a5f6a351",
   "metadata": {},
   "source": [
    "# Find string"
   ]
  },
  {
   "cell_type": "code",
   "execution_count": 428,
   "id": "85529280",
   "metadata": {},
   "outputs": [],
   "source": [
    "a = [\"at\",\"\",\"\",\"ball\", \"\", \"\",\"\", \"cat\",\"\",\"kl\",\"\"]\n",
    "b = [\"at\",\"ball\",\"cat\",\"kl\"]\n",
    "c = [\"\",\"\",\"\",\"\",\"\"]\n",
    "d = [\"\"]"
   ]
  },
  {
   "cell_type": "code",
   "execution_count": 438,
   "id": "a1d423f4",
   "metadata": {},
   "outputs": [],
   "source": [
    "def mod_search(l, target):\n",
    "    left = 0\n",
    "    right = len(l)\n",
    "    while left < right:\n",
    "        mid = (left+right)//2\n",
    "        \n",
    "        while mid > 0 and l[mid] == \"\":\n",
    "            mid -= 1\n",
    "            \n",
    "        if mid < 0 or mid < left:\n",
    "            left = ((left+right)//2) + 1\n",
    "            continue\n",
    "            \n",
    "        elif l[mid] == target:\n",
    "            return mid\n",
    "            \n",
    "        if target < l[mid]:\n",
    "            right = mid \n",
    "        elif target > l[mid]:\n",
    "            left = ((left+right)//2) + 1\n",
    "            \n",
    "    return -1  "
   ]
  },
  {
   "cell_type": "code",
   "execution_count": 437,
   "id": "b10773ef",
   "metadata": {},
   "outputs": [
    {
     "name": "stdout",
     "output_type": "stream",
     "text": [
      "0 1\n"
     ]
    },
    {
     "data": {
      "text/plain": [
       "-1"
      ]
     },
     "execution_count": 437,
     "metadata": {},
     "output_type": "execute_result"
    }
   ],
   "source": [
    "mod_search(d, 'a')"
   ]
  },
  {
   "cell_type": "markdown",
   "id": "d3d9ba73",
   "metadata": {},
   "source": [
    "# Search matrix"
   ]
  },
  {
   "cell_type": "code",
   "execution_count": 524,
   "id": "e7d7a568",
   "metadata": {},
   "outputs": [],
   "source": [
    "a = [[2,4,6], [3,5,7],[11,12,13]]\n",
    "b = [[1,3,5,7],[10,11,16,20],[23,30,34,60]]\n",
    "c = [[1,3,5,7],[10,11,16,20],[23,30,34,60]]"
   ]
  },
  {
   "cell_type": "code",
   "execution_count": 527,
   "id": "732fe08c",
   "metadata": {},
   "outputs": [],
   "source": [
    "# O(log(mn))\n",
    "class Solution(object):\n",
    "    def searchMatrix(self, matrix, target):\n",
    "        left = 0\n",
    "        right = len(matrix) * len(matrix[0])\n",
    "        while left < right:\n",
    "            middle = (left+right)//2\n",
    "            row = middle // len(matrix[0])\n",
    "            col = middle - (row*len(matrix[0]))\n",
    "            \n",
    "            if matrix[row][col] == target:\n",
    "                return True\n",
    "        \n",
    "            if target < matrix[row][col]:\n",
    "                right = middle\n",
    "            elif target > matrix[row][col]:\n",
    "                left = middle + 1\n",
    "                \n",
    "        return False"
   ]
  },
  {
   "cell_type": "code",
   "execution_count": 531,
   "id": "9c458520",
   "metadata": {},
   "outputs": [
    {
     "data": {
      "text/plain": [
       "-1"
      ]
     },
     "execution_count": 531,
     "metadata": {},
     "output_type": "execute_result"
    }
   ],
   "source": [
    "Solution().searchMatrix(c, 13)"
   ]
  },
  {
   "cell_type": "code",
   "execution_count": 469,
   "id": "d1afcef2",
   "metadata": {},
   "outputs": [],
   "source": [
    "# O(mlogn)\n",
    "class Solution(object):\n",
    "    def searchMatrix(self, matrix, target):\n",
    "        row = 0\n",
    "        for x in range(len(matrix)):\n",
    "            if target >= matrix[x][0]:\n",
    "                row = x\n",
    "\n",
    "        left = 0 \n",
    "        right = len(matrix[row])\n",
    "        while left < right:\n",
    "            mid = (left+right)//2\n",
    "            if matrix[row][mid] == target:\n",
    "                return True\n",
    "            \n",
    "            if target > matrix[row][mid]:\n",
    "                left = mid + 1\n",
    "            elif target < matrix[row][mid]:\n",
    "                right = mid\n",
    "        return False"
   ]
  },
  {
   "cell_type": "code",
   "execution_count": 470,
   "id": "49d6fbdb",
   "metadata": {},
   "outputs": [
    {
     "data": {
      "text/plain": [
       "True"
      ]
     },
     "execution_count": 470,
     "metadata": {},
     "output_type": "execute_result"
    }
   ],
   "source": [
    "Solution().searchMatrix([[1]], 1)"
   ]
  },
  {
   "cell_type": "code",
   "execution_count": 503,
   "id": "b7236fd3",
   "metadata": {},
   "outputs": [],
   "source": [
    "# last value in prev row does not have to be smaller than first value of next row\n",
    "from typing import List\n",
    "def searchMatrix(matrix: List[List[int]], target: int):\n",
    "    row = 0\n",
    "    col = len(matrix[0]) - 1\n",
    "    while row < len(matrix) and col >= 0:\n",
    "        if target == matrix[row][col]:\n",
    "            return [row,col]\n",
    "        if target > matrix[row][col]:\n",
    "            row += 1\n",
    "        else:\n",
    "            col -= 1\n",
    "    return -1"
   ]
  },
  {
   "cell_type": "code",
   "execution_count": 504,
   "id": "64c7efb1",
   "metadata": {},
   "outputs": [],
   "source": [
    "a = [[2,4,6,8], [3,5,7,11],[12,17,18,19], [14,15,20,21]]"
   ]
  },
  {
   "cell_type": "code",
   "execution_count": 505,
   "id": "7de7ebe4",
   "metadata": {},
   "outputs": [
    {
     "data": {
      "text/plain": [
       "-1"
      ]
     },
     "execution_count": 505,
     "metadata": {},
     "output_type": "execute_result"
    }
   ],
   "source": [
    "searchMatrix(a, 22)"
   ]
  },
  {
   "cell_type": "markdown",
   "id": "d00031da",
   "metadata": {},
   "source": [
    "# Sort Tuple"
   ]
  },
  {
   "cell_type": "code",
   "execution_count": 570,
   "id": "65754382",
   "metadata": {},
   "outputs": [],
   "source": [
    "class Solution(object):\n",
    "    def circus(l):\n",
    "        def merge_sort(l: list, element: int):\n",
    "            if len(l) > 1:\n",
    "                mid = len(l)//2\n",
    "                left = l[:mid]\n",
    "                right = l[mid:]\n",
    "                \n",
    "                left = merge_sort(left, element)\n",
    "                right = merge_sort(right, element)\n",
    "                sorted_l = merge(left, right, element)\n",
    "                return sorted_l\n",
    "            \n",
    "            return l\n",
    "\n",
    "        def merge(left, right, element):\n",
    "            l = []\n",
    "            lp = rp =  0\n",
    "            while lp < len(left) and rp < len(right):\n",
    "                if left[lp][element] < right[rp][element]:\n",
    "                    l.append(left[lp])\n",
    "                    lp += 1\n",
    "                else:\n",
    "                    l.append(right[rp])\n",
    "                    rp += 1\n",
    "            \n",
    "            while lp < len(left):\n",
    "                l.append(left[lp])\n",
    "                lp += 1\n",
    "            while rp < len(right):\n",
    "                l.append(right[rp])\n",
    "                rp += 1\n",
    "            return l\n",
    "                \n",
    "        h = merge_sort(l, 0)\n",
    "        w = merge_sort(l, 1)\n",
    "        h_count = w_count = 0\n",
    "        print(h)\n",
    "        print(w)\n",
    "        for i in range(len(h)):\n",
    "            if i == 0:\n",
    "                h_count += 1\n",
    "                w_count += 1\n",
    "            if h[i][0] > h[i-1][0] and h[i][1] > h[i-1][1]:\n",
    "                h_count += 1\n",
    "            if w[i][0] > w[i-1][0] and w[i][1] > w[i-1][1]:\n",
    "                w_count += 1\n",
    "        return max(h_count, w_count)"
   ]
  },
  {
   "cell_type": "code",
   "execution_count": 571,
   "id": "afeec686",
   "metadata": {},
   "outputs": [
    {
     "name": "stdout",
     "output_type": "stream",
     "text": [
      "[(58, 100), (60, 98), (62, 96), (70, 101)]\n",
      "[(62, 96), (60, 98), (58, 100), (70, 101)]\n"
     ]
    },
    {
     "data": {
      "text/plain": [
       "2"
      ]
     },
     "execution_count": 571,
     "metadata": {},
     "output_type": "execute_result"
    }
   ],
   "source": [
    "a = Solution\n",
    "a.circus([(60,98),(58,100),(62,96),(70,101)])"
   ]
  },
  {
   "cell_type": "code",
   "execution_count": null,
   "id": "6bfd30da",
   "metadata": {},
   "outputs": [],
   "source": []
  }
 ],
 "metadata": {
  "kernelspec": {
   "display_name": "Python 3",
   "language": "python",
   "name": "python3"
  },
  "language_info": {
   "codemirror_mode": {
    "name": "ipython",
    "version": 3
   },
   "file_extension": ".py",
   "mimetype": "text/x-python",
   "name": "python",
   "nbconvert_exporter": "python",
   "pygments_lexer": "ipython3",
   "version": "3.6.5"
  }
 },
 "nbformat": 4,
 "nbformat_minor": 5
}
