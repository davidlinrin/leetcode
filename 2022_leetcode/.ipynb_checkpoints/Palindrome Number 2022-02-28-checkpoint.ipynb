{
 "cells": [
  {
   "cell_type": "code",
   "execution_count": 96,
   "id": "abe66869",
   "metadata": {},
   "outputs": [],
   "source": [
    "# ATTEMPT 1, O(n)\n",
    "class Solution(object):\n",
    "    def isPalindrome(self, x):\n",
    "        num = x\n",
    "        rev = 0\n",
    "        \n",
    "        if x < 0:\n",
    "            return False\n",
    "\n",
    "        while num:\n",
    "            rev = rev * 10 + num%10\n",
    "            num //= 10\n",
    "\n",
    "        if x == rev:\n",
    "            return True\n",
    "\n",
    "        return False"
   ]
  },
  {
   "cell_type": "code",
   "execution_count": 137,
   "id": "a5308b42",
   "metadata": {},
   "outputs": [],
   "source": [
    "# ATTEMPT 2, O(log(n)) Traverse half the digits instead of every digit\n",
    "class Solution(object):\n",
    "    def isPalindrome(self, x):\n",
    "        rev = 0\n",
    "        \n",
    "        if x < 0:\n",
    "            return False\n",
    "        while x:\n",
    "\n",
    "            rev = rev * 10 + x%10\n",
    "            if rev>=x and x!=0:\n",
    "                break\n",
    "            elif rev == 0:\n",
    "                return False\n",
    "                \n",
    "            x //= 10\n",
    "            if x == rev:\n",
    "                return True\n",
    "            \n",
    "        if x == rev:\n",
    "            return True\n",
    "\n",
    "        return False"
   ]
  },
  {
   "cell_type": "code",
   "execution_count": 138,
   "id": "a3607c70",
   "metadata": {},
   "outputs": [
    {
     "name": "stdout",
     "output_type": "stream",
     "text": [
      "121 0\n",
      "121 1\n",
      "12 1 \n",
      "\n",
      "12 12\n"
     ]
    },
    {
     "data": {
      "text/plain": [
       "False"
      ]
     },
     "execution_count": 138,
     "metadata": {},
     "output_type": "execute_result"
    }
   ],
   "source": [
    "test= Solution()\n",
    "test.isPalindrome(121)"
   ]
  }
 ],
 "metadata": {
  "kernelspec": {
   "display_name": "Python 3",
   "language": "python",
   "name": "python3"
  },
  "language_info": {
   "codemirror_mode": {
    "name": "ipython",
    "version": 3
   },
   "file_extension": ".py",
   "mimetype": "text/x-python",
   "name": "python",
   "nbconvert_exporter": "python",
   "pygments_lexer": "ipython3",
   "version": "3.6.5"
  }
 },
 "nbformat": 4,
 "nbformat_minor": 5
}
