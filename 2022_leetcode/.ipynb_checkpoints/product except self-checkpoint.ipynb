{
 "cells": [
  {
   "cell_type": "code",
   "execution_count": 2,
   "id": "72e2e362",
   "metadata": {},
   "outputs": [],
   "source": [
    "def productExceptSelf(nums):\n",
    "        res = []\n",
    "        \n",
    "        prod = 1\n",
    "        for num in nums:\n",
    "            prod *= num\n",
    "            res.append(prod)\n",
    "        print(res)\n",
    "            \n",
    "        post = 1\n",
    "        for i in range(len(nums)-1, -1, -1):\n",
    "            print(i, res[i])\n",
    "            if i == 0:\n",
    "                res[i] = post\n",
    "            else:\n",
    "                res[i] = (res[i-1]) * post\n",
    "                post *= nums[i]\n",
    "            \n",
    "        return res"
   ]
  },
  {
   "cell_type": "code",
   "execution_count": 3,
   "id": "d1591d05",
   "metadata": {},
   "outputs": [
    {
     "name": "stdout",
     "output_type": "stream",
     "text": [
      "[4, 12, 24, 24, 48]\n",
      "4 48\n",
      "3 24\n",
      "2 24\n",
      "1 12\n",
      "0 4\n"
     ]
    },
    {
     "data": {
      "text/plain": [
       "[12, 16, 24, 48, 24]"
      ]
     },
     "execution_count": 3,
     "metadata": {},
     "output_type": "execute_result"
    }
   ],
   "source": [
    "productExceptSelf([4,3,2,1,2])"
   ]
  },
  {
   "cell_type": "code",
   "execution_count": null,
   "id": "c73ac2ef",
   "metadata": {},
   "outputs": [],
   "source": []
  }
 ],
 "metadata": {
  "kernelspec": {
   "display_name": "Python 3",
   "language": "python",
   "name": "python3"
  },
  "language_info": {
   "codemirror_mode": {
    "name": "ipython",
    "version": 3
   },
   "file_extension": ".py",
   "mimetype": "text/x-python",
   "name": "python",
   "nbconvert_exporter": "python",
   "pygments_lexer": "ipython3",
   "version": "3.6.5"
  }
 },
 "nbformat": 4,
 "nbformat_minor": 5
}
