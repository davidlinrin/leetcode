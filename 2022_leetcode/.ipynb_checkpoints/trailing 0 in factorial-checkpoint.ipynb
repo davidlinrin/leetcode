{
 "cells": [
  {
   "cell_type": "code",
   "execution_count": 1,
   "id": "ce1a2a57",
   "metadata": {},
   "outputs": [],
   "source": [
    "def factorial(x):\n",
    "    res = 1\n",
    "    count = 0\n",
    "    while x > 0:\n",
    "        temp = x\n",
    "        while temp%5 == 0:\n",
    "            count += 1\n",
    "            temp /= 5\n",
    "        res *= x\n",
    "        x -= 1\n",
    "    return res, count"
   ]
  },
  {
   "cell_type": "code",
   "execution_count": 4,
   "id": "fd339feb",
   "metadata": {},
   "outputs": [
    {
     "data": {
      "text/plain": [
       "(188267717688892609974376770249160085759540364871492425887598231508353156331613598866882932889495923133646405445930057740630161919341380597818883457558547055524326375565007131770880000000000000000000000000000000,\n",
       " 31)"
      ]
     },
     "execution_count": 4,
     "metadata": {},
     "output_type": "execute_result"
    }
   ],
   "source": [
    "factorial(125)"
   ]
  },
  {
   "cell_type": "code",
   "execution_count": 5,
   "id": "72323673",
   "metadata": {},
   "outputs": [],
   "source": [
    "def findTrailingZeros(n):\n",
    "    if(n < 0):\n",
    "        return -1\n",
    "    count = 0\n",
    "    while(n >= 5):\n",
    "        n //= 5\n",
    "        count += n\n",
    "    return count"
   ]
  },
  {
   "cell_type": "code",
   "execution_count": 6,
   "id": "76ef275b",
   "metadata": {},
   "outputs": [
    {
     "name": "stdout",
     "output_type": "stream",
     "text": [
      "125 0\n",
      "25 25\n",
      "5 30\n"
     ]
    },
    {
     "data": {
      "text/plain": [
       "31"
      ]
     },
     "execution_count": 6,
     "metadata": {},
     "output_type": "execute_result"
    }
   ],
   "source": [
    "findTrailingZeros(125)"
   ]
  },
  {
   "cell_type": "code",
   "execution_count": null,
   "id": "5b454eef",
   "metadata": {},
   "outputs": [],
   "source": []
  }
 ],
 "metadata": {
  "kernelspec": {
   "display_name": "Python 3",
   "language": "python",
   "name": "python3"
  },
  "language_info": {
   "codemirror_mode": {
    "name": "ipython",
    "version": 3
   },
   "file_extension": ".py",
   "mimetype": "text/x-python",
   "name": "python",
   "nbconvert_exporter": "python",
   "pygments_lexer": "ipython3",
   "version": "3.6.5"
  }
 },
 "nbformat": 4,
 "nbformat_minor": 5
}
