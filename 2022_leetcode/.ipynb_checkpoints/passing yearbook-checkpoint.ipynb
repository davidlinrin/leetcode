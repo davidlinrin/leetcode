{
 "cells": [
  {
   "cell_type": "markdown",
   "id": "fc4e04ff",
   "metadata": {},
   "source": [
    "Passing Yearbooks\n",
    "There are n students, numbered from 1 to n, each with their own yearbook. They would like to pass their yearbooks around and get them signed by other students.\n",
    "You're given a list of n integers arr[1..n], which is guaranteed to be a permutation of 1..n (in other words, it includes the integers from 1 to n exactly once each, in some order). The meaning of this list is described below.\n",
    "Initially, each student is holding their own yearbook. The students will then repeat the following two steps each minute: Each student i will first sign the yearbook that they're currently holding (which may either belong to themselves or to another student), and then they'll pass it to student arr[i-1]. It's possible that arr[i-1] = i for any given i, in which case student i will pass their yearbook back to themselves. Once a student has received their own yearbook back, they will hold on to it and no longer participate in the passing process.\n",
    "It's guaranteed that, for any possible valid input, each student will eventually receive their own yearbook back and will never end up holding more than one yearbook at a time.\n",
    "You must compute a list of n integers output, whose element at i-1 is equal to the number of signatures that will be present in student i's yearbook once they receive it back.\n",
    "Signature\n",
    "int[] findSignatureCounts(int[] arr)\n",
    "Input\n",
    "n is in the range [1, 100,000].\n",
    "Each value arr[i] is in the range [1, n], and all values in arr[i] are distinct.\n",
    "Output\n",
    "Return a list of n integers output, as described above.\n",
    "Example 1\n",
    "n = 2\n",
    "arr = [2, 1]\n",
    "output = [2, 2]\n",
    "Pass 1:\n",
    "Student 1 signs their own yearbook. Then they pass the book to the student at arr[0], which is Student 2.\n",
    "Student 2 signs their own yearbook. Then they pass the book to the student at arr[1], which is Student 1.\n",
    "Pass 2:\n",
    "Student 1 signs Student 2's yearbook. Then they pass it to the student at arr[0], which is Student 2.\n",
    "Student 2 signs Student 1's yearbook. Then they pass it to the student at arr[1], which is Student 1.\n",
    "Pass 3:\n",
    "Both students now hold their own yearbook, so the process is complete.\n",
    "Each student received 2 signatures.\n",
    "Example 2\n",
    "n = 2\n",
    "arr = [1, 2]\n",
    "output = [1, 1]\n",
    "Pass 1:\n",
    "Student 1 signs their own yearbook. Then they pass the book to the student at arr[0], which is themself, Student 1.\n",
    "Student 2 signs their own yearbook. Then they pass the book to the student at arr[1], which is themself, Student 2.\n",
    "Pass 2:\n",
    "Both students now hold their own yearbook, so the process is complete.\n",
    "Each student received 1 signature."
   ]
  },
  {
   "cell_type": "code",
   "execution_count": 1,
   "id": "45425088",
   "metadata": {},
   "outputs": [],
   "source": [
    "def findSignatureCounts(arr):\n",
    "    result = [0] * len(arr)\n",
    "    for ind, num in enumerate(arr):\n",
    "        count = 1\n",
    "        passed_to_ind = num - 1\n",
    "        while passed_to_ind != ind:\n",
    "            count += 1\n",
    "            passed_to_ind = arr[passed_to_ind] - 1\n",
    "\n",
    "        result[ind] = count\n",
    "    \n",
    "    return result"
   ]
  },
  {
   "cell_type": "code",
   "execution_count": 2,
   "id": "e1f96a72",
   "metadata": {},
   "outputs": [
    {
     "data": {
      "text/plain": [
       "[4, 4, 1, 4, 4]"
      ]
     },
     "execution_count": 2,
     "metadata": {},
     "output_type": "execute_result"
    }
   ],
   "source": [
    "findSignatureCounts([5,1,3,2,4])"
   ]
  },
  {
   "cell_type": "code",
   "execution_count": null,
   "id": "f15a13bb",
   "metadata": {},
   "outputs": [],
   "source": []
  }
 ],
 "metadata": {
  "kernelspec": {
   "display_name": "Python 3",
   "language": "python",
   "name": "python3"
  },
  "language_info": {
   "codemirror_mode": {
    "name": "ipython",
    "version": 3
   },
   "file_extension": ".py",
   "mimetype": "text/x-python",
   "name": "python",
   "nbconvert_exporter": "python",
   "pygments_lexer": "ipython3",
   "version": "3.6.5"
  }
 },
 "nbformat": 4,
 "nbformat_minor": 5
}
