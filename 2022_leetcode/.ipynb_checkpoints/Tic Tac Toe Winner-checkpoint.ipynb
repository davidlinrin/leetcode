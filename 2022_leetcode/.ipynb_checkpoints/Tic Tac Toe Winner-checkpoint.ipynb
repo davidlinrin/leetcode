{
 "cells": [
  {
   "cell_type": "code",
   "execution_count": 6,
   "id": "bab2a7dd",
   "metadata": {},
   "outputs": [],
   "source": [
    "def winner(l):\n",
    "    cols = {0:0, 1:0, 2:0}\n",
    "    rows = {0:0, 1:0, 2:0}\n",
    "    diag = [0, 0]\n",
    "    for row in range(len(l)):\n",
    "        for col in range(len(l[0])):\n",
    "            if l[row][col] == 0:\n",
    "                cols[col] -= 1\n",
    "                rows[row] -= 1\n",
    "                if row+col == 2:\n",
    "                    diag[0] -= 1\n",
    "                if row-col == 0:\n",
    "                    diag[1] -= 1\n",
    "            else:\n",
    "                cols[col] += 1\n",
    "                rows[row] += 1\n",
    "                if row+col == 2:\n",
    "                    diag[0] += 1\n",
    "                if row-col == 0:\n",
    "                    diag[1] += 1\n",
    "                \n",
    "            if cols[col] == 3 or rows[row] == 3 or diag[0]== 3 or diag[1] == 3:\n",
    "                return 1\n",
    "            elif cols[col] == -3 or rows[row] == -3 or diag[0]== -3 or diag[1] == -3:\n",
    "                return 0\n",
    "            \n",
    "    return False"
   ]
  },
  {
   "cell_type": "code",
   "execution_count": 7,
   "id": "2e6e1aa7",
   "metadata": {},
   "outputs": [
    {
     "data": {
      "text/plain": [
       "False"
      ]
     },
     "execution_count": 7,
     "metadata": {},
     "output_type": "execute_result"
    }
   ],
   "source": [
    "l = [[0,0,1],[1,0,0], [0,1,1]]\n",
    "winner(l)"
   ]
  },
  {
   "cell_type": "code",
   "execution_count": null,
   "id": "1f7f5046",
   "metadata": {},
   "outputs": [],
   "source": []
  }
 ],
 "metadata": {
  "kernelspec": {
   "display_name": "Python 3",
   "language": "python",
   "name": "python3"
  },
  "language_info": {
   "codemirror_mode": {
    "name": "ipython",
    "version": 3
   },
   "file_extension": ".py",
   "mimetype": "text/x-python",
   "name": "python",
   "nbconvert_exporter": "python",
   "pygments_lexer": "ipython3",
   "version": "3.6.5"
  }
 },
 "nbformat": 4,
 "nbformat_minor": 5
}
