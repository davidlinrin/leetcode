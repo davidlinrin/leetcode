{
 "cells": [
  {
   "cell_type": "code",
   "execution_count": 95,
   "id": "56a8a680",
   "metadata": {},
   "outputs": [],
   "source": [
    "# ATTEMPT 1, O(N) but could optimiaze if else statements\n",
    "class Solution(object):\n",
    "    def myAtoi(self, s):\n",
    "        sign = True\n",
    "        result = 0\n",
    "        read = False        # switch is for cases like \"+-4\"\n",
    "\n",
    "        for char in s:\n",
    "            \n",
    "            # To check for signs\n",
    "            if (char == '-') and (read == False):\n",
    "                sign = False\n",
    "                read = True\n",
    "                continue\n",
    "            elif (char == '+') and (read == False):\n",
    "                read = True\n",
    "                continue\n",
    "\n",
    "            # if leading space\n",
    "            if (char == ' ') and (read == False):\n",
    "                continue\n",
    "            # if char is number\n",
    "            elif (ord(char) >= 48 and ord(char) <= 57):\n",
    "                read = True\n",
    "                result = (result * 10) + int(char)\n",
    "            # if char is not number\n",
    "            else:\n",
    "                if sign:\n",
    "                    return result if result < 2147483647 else 2147483647\n",
    "                else:\n",
    "                    return result*-1 if result*-1 > -2147483648 else -2147483648\n",
    "            \n",
    "        # return after multiplying by sign (-1 or 1)\n",
    "        if sign:\n",
    "            return result if result < 2**31 - 1 else 2**31 - 1\n",
    "        else:\n",
    "            return result*-1 if result*-1 > -2**31 else -2**31"
   ]
  },
  {
   "cell_type": "code",
   "execution_count": 110,
   "id": "504d29f9",
   "metadata": {},
   "outputs": [],
   "source": [
    "# ATTEMPT 1, O(N) but could optimiaze if else statements\n",
    "class Solution(object):\n",
    "    def myAtoi(self, s):\n",
    "        sign = True\n",
    "        result = 0\n",
    "        read = False        # switch is for cases like \"+-4\"\n",
    "\n",
    "        for char in s:\n",
    "            \n",
    "            # To check for signs\n",
    "            if (char == '-') and (read == False):\n",
    "                sign = False\n",
    "                read = True\n",
    "                continue\n",
    "            elif (char == '+') and (read == False):\n",
    "                read = True\n",
    "                continue\n",
    "\n",
    "            # if leading space\n",
    "            if (char == ' ') and (read == False):\n",
    "                continue\n",
    "            # if char is number\n",
    "            elif (ord(char) >= 48 and ord(char) <= 57):\n",
    "                read = True\n",
    "                result = (result * 10) + int(char)\n",
    "            # if char is not number\n",
    "            else:\n",
    "                if sign:\n",
    "                    return result if result < 2147483647 else 2147483647\n",
    "                else:\n",
    "                    return result*-1 if result*-1 > -2147483648 else -2147483648\n",
    "            \n",
    "        # return after multiplying by sign (-1 or 1)\n",
    "        if sign:\n",
    "            return result if result < 2**31 - 1 else 2**31 - 1\n",
    "        else:\n",
    "            return result*-1 if result*-1 > -2**31 else -2**31"
   ]
  },
  {
   "cell_type": "code",
   "execution_count": 112,
   "id": "c4843cb5",
   "metadata": {},
   "outputs": [
    {
     "name": "stdout",
     "output_type": "stream",
     "text": [
      " \n",
      " \n",
      " \n",
      " \n",
      " \n",
      "-\n",
      "4\n",
      "1\n",
      "9\n",
      "3\n",
      " \n"
     ]
    },
    {
     "data": {
      "text/plain": [
       "-4193"
      ]
     },
     "execution_count": 112,
     "metadata": {},
     "output_type": "execute_result"
    }
   ],
   "source": [
    "temp = Solution()\n",
    "temp.myAtoi(\"     -4193 with words\")"
   ]
  }
 ],
 "metadata": {
  "kernelspec": {
   "display_name": "Python 3",
   "language": "python",
   "name": "python3"
  },
  "language_info": {
   "codemirror_mode": {
    "name": "ipython",
    "version": 3
   },
   "file_extension": ".py",
   "mimetype": "text/x-python",
   "name": "python",
   "nbconvert_exporter": "python",
   "pygments_lexer": "ipython3",
   "version": "3.6.5"
  }
 },
 "nbformat": 4,
 "nbformat_minor": 5
}
