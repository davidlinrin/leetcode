{
 "cells": [
  {
   "cell_type": "code",
   "execution_count": 39,
   "id": "615da99b",
   "metadata": {},
   "outputs": [],
   "source": [
    "nums = [2,7,11,15]\n",
    "target = 9"
   ]
  },
  {
   "cell_type": "code",
   "execution_count": 40,
   "id": "bf8c3e90",
   "metadata": {},
   "outputs": [],
   "source": [
    "# ATTEMPT 1, O(N^2)\n",
    "class Solution(object):\n",
    "    def twoSum(self, nums, target):\n",
    "        \n",
    "         for i in range(len(nums)):\n",
    "            for j in range(i+1,len(nums)):\n",
    "                if nums[i] + nums[j] == target:\n",
    "                    return [i,j]"
   ]
  },
  {
   "cell_type": "code",
   "execution_count": 50,
   "id": "75b4b220",
   "metadata": {},
   "outputs": [],
   "source": [
    "# ATTEMPT 2, O(N)\n",
    "class Solution(object):\n",
    "    def twoSum(self, nums, target):\n",
    "        \n",
    "        hash_map = {}\n",
    "        for i in range(len(nums)):\n",
    "            look_up = target - nums[i]\n",
    "            if look_up in hash_map:\n",
    "                return [hash_map[look_up], i]\n",
    "            else:\n",
    "                hash_map[nums[i]] = i"
   ]
  },
  {
   "cell_type": "code",
   "execution_count": null,
   "id": "c933c646",
   "metadata": {},
   "outputs": [],
   "source": []
  }
 ],
 "metadata": {
  "kernelspec": {
   "display_name": "Python 3",
   "language": "python",
   "name": "python3"
  },
  "language_info": {
   "codemirror_mode": {
    "name": "ipython",
    "version": 3
   },
   "file_extension": ".py",
   "mimetype": "text/x-python",
   "name": "python",
   "nbconvert_exporter": "python",
   "pygments_lexer": "ipython3",
   "version": "3.6.5"
  }
 },
 "nbformat": 4,
 "nbformat_minor": 5
}
