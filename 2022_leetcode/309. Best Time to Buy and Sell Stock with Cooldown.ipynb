{
 "cells": [
  {
   "cell_type": "code",
   "execution_count": 7,
   "id": "6d28f6a5",
   "metadata": {},
   "outputs": [],
   "source": [
    "# O(2^n)\n",
    "class Solution1(object):\n",
    "    def maxProfit(self, prices):\n",
    "        def buy(l, day, bought, profit, cool):\n",
    "            if day == len(l):\n",
    "                return profit\n",
    "            if cool:\n",
    "                return buy(l, day+1, False, profit, False)\n",
    "            \n",
    "            if not bought:\n",
    "                return max(buy(l, day+1, True, profit-l[day], False), buy(l, day+1, bought, profit, cool))\n",
    "            \n",
    "            if bought:\n",
    "                return max(buy(l, day+1, False, profit+l[day], True), buy(l, day+1, bought, profit, cool))\n",
    "            \n",
    "        return buy(prices, 0, False, 0, False)"
   ]
  },
  {
   "cell_type": "code",
   "execution_count": 48,
   "id": "476172aa",
   "metadata": {},
   "outputs": [],
   "source": [
    "class Solution2(object):\n",
    "    def maxProfit(self, prices):\n",
    "        dp = {}\n",
    "        def dfs(i, buying):\n",
    "            print(i, buying, dp)\n",
    "            if i >= len(prices):\n",
    "                return 0\n",
    "            if (i,buying) in dp:\n",
    "                return dp[(i,buying)]\n",
    "            \n",
    "            cool = dfs(i+1, buying)\n",
    "            if buying:\n",
    "                buy = dfs(i+1, not buying) - prices[i]\n",
    "                print(i, buy, cool)\n",
    "                dp[(i,buying)] = max(buy, cool)\n",
    "            else:\n",
    "                sell = dfs(i+2, not buying) + prices[i]\n",
    "                print(i, sell, cool)\n",
    "                dp[(i,buying)] = max(sell, cool)\n",
    "            return dp[(i,buying)]\n",
    "            \n",
    "        return dfs(0, True)"
   ]
  },
  {
   "cell_type": "code",
   "execution_count": 51,
   "id": "addea9b1",
   "metadata": {},
   "outputs": [],
   "source": [
    "a = [1,2,3,0,4]"
   ]
  },
  {
   "cell_type": "code",
   "execution_count": 52,
   "id": "acef057d",
   "metadata": {},
   "outputs": [
    {
     "name": "stdout",
     "output_type": "stream",
     "text": [
      "0 True {}\n",
      "1 True {}\n",
      "2 True {}\n",
      "3 True {}\n",
      "4 True {}\n",
      "5 True {}\n",
      "5 False {}\n",
      "4 -4 0\n",
      "4 False {(4, True): 0}\n",
      "5 False {(4, True): 0}\n",
      "6 True {(4, True): 0}\n",
      "4 4 0\n",
      "3 4 0\n",
      "3 False {(4, True): 0, (4, False): 4, (3, True): 4}\n",
      "4 False {(4, True): 0, (4, False): 4, (3, True): 4}\n",
      "5 True {(4, True): 0, (4, False): 4, (3, True): 4}\n",
      "3 0 4\n",
      "2 1 4\n",
      "2 False {(4, True): 0, (4, False): 4, (3, True): 4, (3, False): 4, (2, True): 4}\n",
      "3 False {(4, True): 0, (4, False): 4, (3, True): 4, (3, False): 4, (2, True): 4}\n",
      "4 True {(4, True): 0, (4, False): 4, (3, True): 4, (3, False): 4, (2, True): 4}\n",
      "2 3 4\n",
      "1 2 4\n",
      "1 False {(4, True): 0, (4, False): 4, (3, True): 4, (3, False): 4, (2, True): 4, (2, False): 4, (1, True): 4}\n",
      "2 False {(4, True): 0, (4, False): 4, (3, True): 4, (3, False): 4, (2, True): 4, (2, False): 4, (1, True): 4}\n",
      "3 True {(4, True): 0, (4, False): 4, (3, True): 4, (3, False): 4, (2, True): 4, (2, False): 4, (1, True): 4}\n",
      "1 6 4\n",
      "0 5 4\n"
     ]
    },
    {
     "data": {
      "text/plain": [
       "5"
      ]
     },
     "execution_count": 52,
     "metadata": {},
     "output_type": "execute_result"
    }
   ],
   "source": [
    "Solution2().maxProfit(a)"
   ]
  },
  {
   "cell_type": "code",
   "execution_count": null,
   "id": "dc3efdc1",
   "metadata": {},
   "outputs": [],
   "source": []
  }
 ],
 "metadata": {
  "kernelspec": {
   "display_name": "Python 3",
   "language": "python",
   "name": "python3"
  },
  "language_info": {
   "codemirror_mode": {
    "name": "ipython",
    "version": 3
   },
   "file_extension": ".py",
   "mimetype": "text/x-python",
   "name": "python",
   "nbconvert_exporter": "python",
   "pygments_lexer": "ipython3",
   "version": "3.6.5"
  }
 },
 "nbformat": 4,
 "nbformat_minor": 5
}
