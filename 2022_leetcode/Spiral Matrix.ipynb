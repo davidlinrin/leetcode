{
 "cells": [
  {
   "cell_type": "code",
   "execution_count": 71,
   "id": "0c6887d4",
   "metadata": {},
   "outputs": [],
   "source": [
    "inp = 5\n",
    "matrix = [[0]*inp for i in range(inp)]\n",
    "num = 1\n",
    "i = 0\n",
    "j = 0\n",
    "direction = 'right'\n",
    "\n",
    "# inp = 3\n",
    "# num = 9\n",
    "# i = 1\n",
    "# j = 1\n",
    "# direction = 'right'\n",
    "# [1, 2, 3]\n",
    "# [8, 9, 4]\n",
    "# [7, 6, 5]\n",
    "\n",
    "while num <= inp*inp:\n",
    "    matrix[i][j] = num\n",
    "    \n",
    "    # right movement\n",
    "    if direction == 'right':\n",
    "        if (j+1 >= inp) or (matrix[i][j+1] != 0):\n",
    "            direction = 'down'\n",
    "            i += 1\n",
    "        else:\n",
    "            j += 1\n",
    "        \n",
    "    # down movement\n",
    "    elif direction == 'down':\n",
    "        if (i+1 >= inp) or (matrix[i+1][j] != 0):\n",
    "            direction = 'left'\n",
    "            j -= 1\n",
    "        else:\n",
    "            i += 1\n",
    "    \n",
    "    # left movement\n",
    "    elif direction == 'left' :\n",
    "        if (j-1 < 0) or (matrix[i][j-1] != 0):\n",
    "            direction = 'up'\n",
    "            i -= 1\n",
    "        else:\n",
    "            j -= 1\n",
    "\n",
    "    # up movement\n",
    "    elif direction == 'up':\n",
    "        if (i-1 < 0) or (matrix[i-1][j] != 0):\n",
    "            direction = 'right'\n",
    "            j += 1\n",
    "        else:\n",
    "            i -= 1\n",
    "    \n",
    "    num += 1 "
   ]
  },
  {
   "cell_type": "code",
   "execution_count": null,
   "id": "84847f7b",
   "metadata": {},
   "outputs": [],
   "source": []
  },
  {
   "cell_type": "code",
   "execution_count": null,
   "id": "9859d6c8",
   "metadata": {},
   "outputs": [],
   "source": []
  }
 ],
 "metadata": {
  "kernelspec": {
   "display_name": "Python 3",
   "language": "python",
   "name": "python3"
  },
  "language_info": {
   "codemirror_mode": {
    "name": "ipython",
    "version": 3
   },
   "file_extension": ".py",
   "mimetype": "text/x-python",
   "name": "python",
   "nbconvert_exporter": "python",
   "pygments_lexer": "ipython3",
   "version": "3.6.5"
  }
 },
 "nbformat": 4,
 "nbformat_minor": 5
}
