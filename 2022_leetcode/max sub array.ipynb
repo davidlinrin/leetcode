{
 "cells": [
  {
   "cell_type": "code",
   "execution_count": null,
   "id": "f9ac865e",
   "metadata": {},
   "outputs": [],
   "source": [
    "def maxSubArray(nums: List[int]) -> int:\n",
    "        maxi, curr = float('-inf'), 0\n",
    "        for i in range(len(nums)):\n",
    "            print(nums[i], maxi, curr)\n",
    "            curr += nums[i]\n",
    "            maxi = max(maxi, curr)\n",
    "            if curr <= 0: \n",
    "                curr = 0  \n",
    "        return maxi"
   ]
  },
  {
   "cell_type": "code",
   "execution_count": null,
   "id": "9688219a",
   "metadata": {},
   "outputs": [],
   "source": [
    "def max_sub(l: list) -> list:\n",
    "    start = end = 0\n",
    "    m = float('-inf')\n",
    "    cur = 0\n",
    "    res = []\n",
    "    for ind, val in enumerate(l):\n",
    "        cur += val\n",
    "        end = ind + 1\n",
    "        if cur > m:\n",
    "            m = cur\n",
    "            res = [start,end]\n",
    "        if cur <= 0:\n",
    "            start = ind + 1\n",
    "            cur = 0\n",
    "    return l[res[0]:res[1]]"
   ]
  },
  {
   "cell_type": "code",
   "execution_count": null,
   "id": "495db98c",
   "metadata": {},
   "outputs": [],
   "source": [
    "def maxSubArray(self, nums: List[int]) -> int:\n",
    "\n",
    "    maxEndingHere = nums[0]\n",
    "    maxSoFar = nums[0]\n",
    "\n",
    "    for num in nums[1:]:\n",
    "        maxEndingHere = max(num, maxEndingHere + num)\n",
    "        maxSoFar = max(maxSoFar, maxEndingHere)\n",
    "    return maxSoFar"
   ]
  },
  {
   "cell_type": "code",
   "execution_count": null,
   "id": "419f6c92",
   "metadata": {},
   "outputs": [],
   "source": [
    "a = [-2, -8, 3, -2, -4, 10]"
   ]
  }
 ],
 "metadata": {
  "kernelspec": {
   "display_name": "Python 3",
   "language": "python",
   "name": "python3"
  },
  "language_info": {
   "codemirror_mode": {
    "name": "ipython",
    "version": 3
   },
   "file_extension": ".py",
   "mimetype": "text/x-python",
   "name": "python",
   "nbconvert_exporter": "python",
   "pygments_lexer": "ipython3",
   "version": "3.6.5"
  }
 },
 "nbformat": 4,
 "nbformat_minor": 5
}
