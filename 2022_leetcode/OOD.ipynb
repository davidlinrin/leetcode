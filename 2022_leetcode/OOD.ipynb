{
 "cells": [
  {
   "cell_type": "code",
   "execution_count": 495,
   "id": "4ffa9b8b",
   "metadata": {
    "scrolled": false
   },
   "outputs": [],
   "source": [
    "import random\n",
    "class Card:\n",
    "    def __init__(self, val, suit):\n",
    "        self.val = val\n",
    "        self.suit = suit\n",
    "    \n",
    "    def __repr__(self):\n",
    "        return f\"{self.val} of {self.suit}\"\n",
    "    \n",
    "class deck:\n",
    "    def __init__(self):\n",
    "        self.cards = []\n",
    "        self.build()\n",
    "        self.shuffle()\n",
    "        \n",
    "    def build(self):\n",
    "        suits = ['Club', 'Spade', 'Heart', 'Diamond']\n",
    "        for s in suits:\n",
    "            for i in range(1,14):\n",
    "                self.cards.append(Card(i,s))\n",
    "    \n",
    "    def shuffle(self):\n",
    "        for ind in range(len(self.cards)-1, 0, -1):\n",
    "            rand = random.randint(0, ind-1)\n",
    "            self.cards[ind], self.cards[rand] = self.cards[rand], self.cards[ind]\n",
    "            \n",
    "    def draw(self):\n",
    "        if self.cards:\n",
    "            return self.cards.pop()\n",
    "        else:\n",
    "            print('deck empty')\n",
    "    \n",
    "    def insert(self, card):\n",
    "        self.cards.append(card)\n",
    "        self.shuffle()\n",
    "    \n",
    "    def get_card(self, num, suit):\n",
    "        c_ind = None\n",
    "        for ind, c in enumerate(self.cards):\n",
    "            if c.val == num and c.suit == suit:\n",
    "                c_ind = ind\n",
    "        if c_ind:\n",
    "            self.cards[c_ind], self.cards[-1] = self.cards[-1], self.cards[c_ind]\n",
    "            return self.cards.pop()\n",
    "        else:\n",
    "            return \"card not found\"\n",
    "    \n",
    "    def __repr__(self):\n",
    "        return str(self.cards)"
   ]
  },
  {
   "cell_type": "code",
   "execution_count": 496,
   "id": "59b2a59e",
   "metadata": {},
   "outputs": [],
   "source": [
    "class Player:\n",
    "    def __init__(self, player_id : int, hand = []):\n",
    "        self.player_id = player_id\n",
    "        self.hand = hand\n",
    "        self.val = [c.val for c in hand]\n",
    "        self.suits = [c.suit for c in hand]\n",
    "        self.total = sum(self.val)\n",
    "        \n",
    "    def total(self):\n",
    "        return self.total\n",
    "        \n",
    "    def __repr__(self):\n",
    "        return str(self.player_id)"
   ]
  },
  {
   "cell_type": "code",
   "execution_count": 520,
   "id": "2a262e95",
   "metadata": {},
   "outputs": [],
   "source": [
    "class BlackJack(deck, Player):\n",
    "    def __init__(self, players: int):\n",
    "        deck.__init__(self)\n",
    "        self.player_list = []\n",
    "        for p in range(players):\n",
    "            player = Player(p)\n",
    "            self.player_list.append(player)\n",
    "    \n",
    "    def deal(self):\n",
    "        for player in self.player_list:\n",
    "            player.hand.append(deck.draw(self))\n",
    "            player.hand.append(deck.draw(self))\n",
    "        \n",
    "    def hit(self, player):\n",
    "        if player > len(self.player_list)-1:\n",
    "            return \"player not in game\"\n",
    "        self.player_list[player].hand.append(deck.draw(self))\n",
    "    \n",
    "    def reset(self):\n",
    "        for player in self.player_list:\n",
    "            player.hand = []\n",
    "        deck.__init__(self)"
   ]
  },
  {
   "cell_type": "code",
   "execution_count": 521,
   "id": "964cab4d",
   "metadata": {},
   "outputs": [],
   "source": [
    "game = BlackJack(2)"
   ]
  },
  {
   "cell_type": "code",
   "execution_count": 522,
   "id": "274a80d2",
   "metadata": {},
   "outputs": [
    {
     "data": {
      "text/plain": [
       "52"
      ]
     },
     "execution_count": 522,
     "metadata": {},
     "output_type": "execute_result"
    }
   ],
   "source": [
    "len(game.cards)"
   ]
  },
  {
   "cell_type": "code",
   "execution_count": 516,
   "id": "fb1b89b9",
   "metadata": {},
   "outputs": [],
   "source": [
    "game.deal()"
   ]
  },
  {
   "cell_type": "code",
   "execution_count": null,
   "id": "75fc5a94",
   "metadata": {},
   "outputs": [],
   "source": []
  },
  {
   "cell_type": "code",
   "execution_count": 529,
   "id": "3be86820",
   "metadata": {},
   "outputs": [
    {
     "data": {
      "text/plain": [
       "[1 of Club]"
      ]
     },
     "execution_count": 529,
     "metadata": {},
     "output_type": "execute_result"
    }
   ],
   "source": [
    "game.player_list[0].hand"
   ]
  },
  {
   "cell_type": "code",
   "execution_count": 530,
   "id": "fefa6bd6",
   "metadata": {},
   "outputs": [
    {
     "data": {
      "text/plain": [
       "[]"
      ]
     },
     "execution_count": 530,
     "metadata": {},
     "output_type": "execute_result"
    }
   ],
   "source": [
    "game.player_list[1].hand"
   ]
  },
  {
   "cell_type": "code",
   "execution_count": 528,
   "id": "af1ea571",
   "metadata": {},
   "outputs": [],
   "source": [
    "game.hit(0)"
   ]
  },
  {
   "cell_type": "code",
   "execution_count": 525,
   "id": "3f63e769",
   "metadata": {},
   "outputs": [],
   "source": [
    "game.reset()"
   ]
  },
  {
   "cell_type": "code",
   "execution_count": 312,
   "id": "66bf8039",
   "metadata": {},
   "outputs": [
    {
     "data": {
      "text/plain": [
       "[5 of Diamond, 5 of Club]"
      ]
     },
     "execution_count": 312,
     "metadata": {},
     "output_type": "execute_result"
    }
   ],
   "source": [
    "p2.hand"
   ]
  },
  {
   "cell_type": "code",
   "execution_count": 307,
   "id": "ce02035f",
   "metadata": {},
   "outputs": [],
   "source": [
    "p2.hit()"
   ]
  },
  {
   "cell_type": "code",
   "execution_count": null,
   "id": "0ee54e62",
   "metadata": {},
   "outputs": [],
   "source": []
  },
  {
   "cell_type": "code",
   "execution_count": null,
   "id": "58626ae0",
   "metadata": {},
   "outputs": [],
   "source": []
  },
  {
   "cell_type": "code",
   "execution_count": null,
   "id": "1eda3321",
   "metadata": {},
   "outputs": [],
   "source": []
  },
  {
   "cell_type": "code",
   "execution_count": 275,
   "id": "49b0ca3a",
   "metadata": {},
   "outputs": [],
   "source": [
    "d = deck()"
   ]
  },
  {
   "cell_type": "code",
   "execution_count": 276,
   "id": "9dc79927",
   "metadata": {},
   "outputs": [],
   "source": [
    "d.shuffle()"
   ]
  },
  {
   "cell_type": "code",
   "execution_count": 277,
   "id": "20007520",
   "metadata": {},
   "outputs": [
    {
     "data": {
      "text/plain": [
       "6 of Heart"
      ]
     },
     "execution_count": 277,
     "metadata": {},
     "output_type": "execute_result"
    }
   ],
   "source": [
    "hand = d.draw()\n",
    "hand"
   ]
  },
  {
   "cell_type": "code",
   "execution_count": 278,
   "id": "eff4ec48",
   "metadata": {},
   "outputs": [
    {
     "data": {
      "text/plain": [
       "51"
      ]
     },
     "execution_count": 278,
     "metadata": {},
     "output_type": "execute_result"
    }
   ],
   "source": [
    "len(d.cards)"
   ]
  },
  {
   "cell_type": "code",
   "execution_count": 184,
   "id": "4c3bc790",
   "metadata": {},
   "outputs": [
    {
     "data": {
      "text/plain": [
       "[1 of Spade, 6 of Diamond, 1 of Club, 12 of Spade]"
      ]
     },
     "execution_count": 184,
     "metadata": {},
     "output_type": "execute_result"
    }
   ],
   "source": [
    "hand"
   ]
  },
  {
   "cell_type": "code",
   "execution_count": 186,
   "id": "65ffa687",
   "metadata": {},
   "outputs": [
    {
     "data": {
      "text/plain": [
       "10 of Heart"
      ]
     },
     "execution_count": 186,
     "metadata": {},
     "output_type": "execute_result"
    }
   ],
   "source": [
    "d.get_card(10, 'Heart')"
   ]
  },
  {
   "cell_type": "code",
   "execution_count": 187,
   "id": "fccc3c98",
   "metadata": {},
   "outputs": [
    {
     "data": {
      "text/plain": [
       "47"
      ]
     },
     "execution_count": 187,
     "metadata": {},
     "output_type": "execute_result"
    }
   ],
   "source": [
    "len(d.cards)"
   ]
  },
  {
   "cell_type": "code",
   "execution_count": null,
   "id": "c7c99cd4",
   "metadata": {},
   "outputs": [],
   "source": []
  }
 ],
 "metadata": {
  "kernelspec": {
   "display_name": "Python 3",
   "language": "python",
   "name": "python3"
  },
  "language_info": {
   "codemirror_mode": {
    "name": "ipython",
    "version": 3
   },
   "file_extension": ".py",
   "mimetype": "text/x-python",
   "name": "python",
   "nbconvert_exporter": "python",
   "pygments_lexer": "ipython3",
   "version": "3.6.5"
  }
 },
 "nbformat": 4,
 "nbformat_minor": 5
}
