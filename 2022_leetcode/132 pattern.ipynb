{
 "cells": [
  {
   "cell_type": "code",
   "execution_count": null,
   "id": "72dc1f54",
   "metadata": {},
   "outputs": [],
   "source": [
    "# Brute Force\n",
    "def find132pattern(nums):\n",
    "        m = 1\n",
    "        while m <= len(nums) - 2:\n",
    "            r = m + 1\n",
    "            while r < len(nums):\n",
    "                l = 0\n",
    "                if nums[r] >= nums[m]:\n",
    "                    r += 1\n",
    "                    continue\n",
    "                    \n",
    "                while l < m:\n",
    "                    if nums[l] < nums[m] and nums[l] < nums[r]:\n",
    "                        return True\n",
    "                    if nums[l] >= nums[r]:\n",
    "                        l += 1\n",
    "                r += 1\n",
    "            m += 1\n",
    "        return False"
   ]
  },
  {
   "cell_type": "code",
   "execution_count": 1,
   "id": "8c9ff749",
   "metadata": {},
   "outputs": [],
   "source": [
    "def find132pattern(nums):\n",
    "        max_stack = [(nums[0], nums[0])]\n",
    "        \n",
    "        for num in nums[1:]:\n",
    "            if num < max_stack[-1][0]:\n",
    "                if max_stack and num > max_stack[-1][1]:\n",
    "                    return True\n",
    "                max_stack.append((num, max_stack[-1][1]))\n",
    "            else:\n",
    "                temp_min = float('inf')\n",
    "                while max_stack and num >= max_stack[-1][0]:\n",
    "                    popped = max_stack.pop()\n",
    "                    temp_min = min(temp_min, popped[1], popped[0])\n",
    "                if max_stack and num > max_stack[-1][1]:\n",
    "                    return True\n",
    "                max_stack.append((num, temp_min))\n",
    "\n",
    "        return False"
   ]
  },
  {
   "cell_type": "code",
   "execution_count": 2,
   "id": "b75ff2b0",
   "metadata": {},
   "outputs": [
    {
     "data": {
      "text/plain": [
       "True"
      ]
     },
     "execution_count": 2,
     "metadata": {},
     "output_type": "execute_result"
    }
   ],
   "source": [
    "nums = [1,0,1,-4, 5, 1]\n",
    "find132pattern(nums)"
   ]
  },
  {
   "cell_type": "code",
   "execution_count": null,
   "id": "76df1cf2",
   "metadata": {},
   "outputs": [],
   "source": []
  }
 ],
 "metadata": {
  "kernelspec": {
   "display_name": "Python 3",
   "language": "python",
   "name": "python3"
  },
  "language_info": {
   "codemirror_mode": {
    "name": "ipython",
    "version": 3
   },
   "file_extension": ".py",
   "mimetype": "text/x-python",
   "name": "python",
   "nbconvert_exporter": "python",
   "pygments_lexer": "ipython3",
   "version": "3.6.5"
  }
 },
 "nbformat": 4,
 "nbformat_minor": 5
}
