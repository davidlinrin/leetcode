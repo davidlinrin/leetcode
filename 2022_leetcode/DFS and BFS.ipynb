{
 "cells": [
  {
   "cell_type": "code",
   "execution_count": 46,
   "id": "bebd09f4",
   "metadata": {},
   "outputs": [],
   "source": [
    "class Graph():\n",
    "    def __init__(self, graph_dict={}):\n",
    "        self.graph_dict = graph_dict\n",
    "        \n",
    "    def edges(self, vertice):\n",
    "        return self.graph_dict[vertice]\n",
    "    \n",
    "    def all_vertices(self):\n",
    "        return set(self.graph_dict.keys())\n",
    "    \n",
    "    def all_edges(self):\n",
    "        return self.__generate_edges()\n",
    "    \n",
    "    def add_vertex(self, vertex):\n",
    "        if vertex not in self.graph_dict:\n",
    "            self.graph_dict[vertex] = []\n",
    "            \n",
    "    def add_edge(self, edge):\n",
    "        edge = set(edge)\n",
    "        vertex1, vertex2 = edge\n",
    "        for v1, v2 in [(vertex1, vertex2), (vertex2, vertex1)]:\n",
    "            if v1 in self.graph_dict:\n",
    "                self.graph_dict[v1].add(v2)\n",
    "            else:\n",
    "                self.graph_dict[v1] = {v2}\n",
    "                \n",
    "    def generate_edges(self):\n",
    "        edges = []\n",
    "        for vert in self.graph_dict:\n",
    "            for neighbor in self.graph_dict[vert]:\n",
    "                if {neighbor, vert} not in edges:\n",
    "                    edges.append({neighbor, vert})\n",
    "        return edges\n",
    "        \n",
    "    def __iter__(self):\n",
    "        self._iter_obj = iter(self.graph_dict)\n",
    "        return self._iter_obj\n",
    "    \n",
    "    def __next__(self):\n",
    "        \"\"\" allows us to iterate over the vertices \"\"\"\n",
    "        return next(self._iter_obj)\n",
    "\n",
    "    def __str__(self):\n",
    "        res = \"vertices: \"\n",
    "        for k in self.graph_dict:\n",
    "            res += str(k) + \" \"\n",
    "        res += \"\\nedges: \"\n",
    "        for edge in self.generate_edges():\n",
    "            res += str(edge) + \" \"\n",
    "        return res\n",
    "    "
   ]
  },
  {
   "cell_type": "code",
   "execution_count": 355,
   "id": "f7cd975a",
   "metadata": {},
   "outputs": [],
   "source": [
    "class Graph:\n",
    "\n",
    "    def __init__(self, graph_dict = None):\n",
    "        if not graph_dict:\n",
    "            self.graph = {}\n",
    "        else:\n",
    "            self.graph = graph_dict\n",
    "\n",
    "    def addEdge(self,u,v):\n",
    "        if u in self.graph:\n",
    "            self.graph[u].append(v)\n",
    "        else:\n",
    "            return \"vertice not in graph\"\n",
    "        \n",
    "    def addVert(self, v):\n",
    "        if v not in self.graph:\n",
    "            self.graph[v] = []\n",
    "            \n",
    "    def path_exist(self, v1, v2):\n",
    "        seen = set()\n",
    "        stack = [vert for vert in self.graph[v1]]\n",
    "        while stack:\n",
    "            if v2 in stack:\n",
    "                return True\n",
    "            cur = stack.pop()\n",
    "            seen.add(cur)\n",
    "            for vert in self.graph[cur]:\n",
    "                if vert not in seen:\n",
    "                    stack.append(vert)\n",
    "            \n",
    "        return False\n",
    "        \n",
    "            \n",
    "    def __repr__(self):\n",
    "        return str(self.graph)"
   ]
  },
  {
   "cell_type": "code",
   "execution_count": 356,
   "id": "3d3167ab",
   "metadata": {},
   "outputs": [
    {
     "data": {
      "text/plain": [
       "{'a': ['b', 'c', 'd'], 'b': ['d'], 'c': ['b'], 'd': ['b']}"
      ]
     },
     "execution_count": 356,
     "metadata": {},
     "output_type": "execute_result"
    }
   ],
   "source": [
    "g = Graph()\n",
    "g.addVert('a')\n",
    "g.addEdge('a', 'b')\n",
    "g.addEdge('a', 'c')\n",
    "g.addEdge('a', 'd')\n",
    "g.addVert('b')\n",
    "g.addEdge('b', 'd')\n",
    "g.addVert('c')\n",
    "g.addEdge('c', 'b')\n",
    "g.addVert('d')\n",
    "g.addEdge('d', 'b')\n",
    "g"
   ]
  },
  {
   "cell_type": "code",
   "execution_count": 357,
   "id": "59f6d595",
   "metadata": {},
   "outputs": [
    {
     "data": {
      "text/plain": [
       "{'a': ['b', 'c', 'd'], 'b': ['d'], 'c': ['b'], 'd': ['b']}"
      ]
     },
     "execution_count": 357,
     "metadata": {},
     "output_type": "execute_result"
    }
   ],
   "source": [
    "g"
   ]
  },
  {
   "cell_type": "code",
   "execution_count": 363,
   "id": "11b5c67a",
   "metadata": {},
   "outputs": [
    {
     "data": {
      "text/plain": [
       "False"
      ]
     },
     "execution_count": 363,
     "metadata": {},
     "output_type": "execute_result"
    }
   ],
   "source": [
    "g.path_exist('b','a')"
   ]
  },
  {
   "cell_type": "code",
   "execution_count": 281,
   "id": "6529d37d",
   "metadata": {},
   "outputs": [],
   "source": [
    "g = { \"a\" : {\"d\"},\n",
    "      \"b\" : {\"c\"},\n",
    "      \"c\" : {\"b\", \"c\", \"d\", \"e\"},\n",
    "      \"d\" : {\"a\", \"c\"},\n",
    "      \"e\" : {\"c\"},\n",
    "      \"f\" : {}\n",
    "    }\n",
    "\n",
    "graph = Graph(g)"
   ]
  },
  {
   "cell_type": "code",
   "execution_count": 282,
   "id": "06cd69a6",
   "metadata": {},
   "outputs": [
    {
     "data": {
      "text/plain": [
       "defaultdict(list, {})"
      ]
     },
     "execution_count": 282,
     "metadata": {},
     "output_type": "execute_result"
    }
   ],
   "source": [
    "from collections import defaultdict\n",
    "\n",
    "a = defaultdict(list)\n",
    "a"
   ]
  },
  {
   "cell_type": "code",
   "execution_count": 50,
   "id": "d255aee6",
   "metadata": {},
   "outputs": [
    {
     "name": "stdout",
     "output_type": "stream",
     "text": [
      "Edges of vertice a:  {'d'}\n",
      "Edges of vertice b:  {'c'}\n",
      "Edges of vertice c:  {'e', 'd', 'c', 'b'}\n",
      "Edges of vertice d:  {'a', 'c'}\n",
      "Edges of vertice e:  {'c'}\n",
      "Edges of vertice f:  {}\n"
     ]
    }
   ],
   "source": [
    "for vertice in graph:\n",
    "    print(f\"Edges of vertice {vertice}: \", graph.edges(vertice))"
   ]
  },
  {
   "cell_type": "code",
   "execution_count": 241,
   "id": "ea4a3552",
   "metadata": {},
   "outputs": [],
   "source": [
    "# BST VALIDATION\n",
    "class TreeNode(object):\n",
    "    def __init__(self, val=0, left=None, right=None):\n",
    "        self.val = val\n",
    "        self.left = left\n",
    "        self.right = right\n",
    "\n",
    "class Solution(object):\n",
    "    def isValidBST(self, root):\n",
    "        \n",
    "        def check_BST(node, low, high):\n",
    "            \n",
    "            if not node:\n",
    "                return True\n",
    "            print(node.val, low, high)\n",
    "            if node.val <= low or node.val >= high:\n",
    "                return False\n",
    "            \n",
    "            return check_BST(node.left, low, node.val) and check_BST(node.right, node.val, high)\n",
    "                \n",
    "        return check_BST(root.left, float('-inf'), root.val) and check_BST(root.right, root.val, float('inf'))"
   ]
  },
  {
   "cell_type": "code",
   "execution_count": 242,
   "id": "a8d04030",
   "metadata": {},
   "outputs": [
    {
     "name": "stdout",
     "output_type": "stream",
     "text": [
      "8 -inf 10\n",
      "20 10 inf\n",
      "15 10 20\n",
      "12 10 15\n",
      "11 10 12\n",
      "16 15 20\n",
      "30 20 inf\n",
      "22 20 30\n",
      "9 20 22\n"
     ]
    },
    {
     "data": {
      "text/plain": [
       "False"
      ]
     },
     "execution_count": 242,
     "metadata": {},
     "output_type": "execute_result"
    }
   ],
   "source": [
    "a = TreeNode(10, TreeNode(8), TreeNode(20, TreeNode(15, TreeNode(12, TreeNode(11)), TreeNode(16)), TreeNode(30, TreeNode(22, TreeNode(9)))))\n",
    "b = Solution()\n",
    "b.isValidBST(a)"
   ]
  },
  {
   "cell_type": "code",
   "execution_count": 122,
   "id": "54b270f9",
   "metadata": {},
   "outputs": [],
   "source": [
    "class Solution(object):\n",
    "    def isValidBST(self, root):\n",
    "        \n",
    "        self.prev = float('-inf')\n",
    "        \n",
    "        def inorder(node):\n",
    "            if not node:\n",
    "                return True\n",
    "            if inorder(node.left):\n",
    "                return False\n",
    "            \n",
    "            if node.val < self.prev:\n",
    "                return False\n",
    "            self.prev = node.val\n",
    "                \n",
    "            if inorder(node.right):\n",
    "                return False\n",
    "            \n",
    "            return True\n",
    "\n",
    "        return inorder(root)"
   ]
  },
  {
   "cell_type": "code",
   "execution_count": 123,
   "id": "452b0deb",
   "metadata": {},
   "outputs": [
    {
     "data": {
      "text/plain": [
       "True"
      ]
     },
     "execution_count": 123,
     "metadata": {},
     "output_type": "execute_result"
    }
   ],
   "source": [
    "a = TreeNode(5, TreeNode(1), TreeNode(4, TreeNode(3), TreeNode(6)))\n",
    "b = Solution()\n",
    "b.isValidBST(a)"
   ]
  },
  {
   "cell_type": "code",
   "execution_count": 439,
   "id": "dc482f2f",
   "metadata": {},
   "outputs": [],
   "source": [
    "class TreeNode(object):\n",
    "    def __init__(self, val=None, left=None, right=None):\n",
    "        self.val = val\n",
    "        self.left = left\n",
    "        self.right = right\n",
    "        \n",
    "    def inorder(self,node):\n",
    "        if node.val and node.left:\n",
    "            self.inorder(node.left)\n",
    "        print(node.val)\n",
    "        if node.val and node.right:\n",
    "            self.inorder(node.right)\n",
    "            \n",
    "    def preorder(self,node):\n",
    "        print(node.val)\n",
    "        if node and node.left:\n",
    "            self.preorder(node.left)\n",
    "        if node and node.right:\n",
    "            self.preorder(node.right)\n",
    "            \n",
    "    def postorder(self,node):\n",
    "        if node and node.left:\n",
    "            self.postorder(node.left)\n",
    "        if node and node.right:\n",
    "            self.postorder(node.right)\n",
    "        print(node.val)\n",
    "        \n",
    "    def DFS(self, node):\n",
    "        stack = [node]\n",
    "        while stack:\n",
    "            cur = stack.pop()\n",
    "            if cur and cur.right:\n",
    "                stack.append(cur.right)\n",
    "            if cur and cur.left:\n",
    "                stack.append(cur.left)\n",
    "            print(cur.val)\n",
    "    \n",
    "    def BFS(self, node):\n",
    "        que = [node]\n",
    "        while que:\n",
    "            cur = que.pop(0)\n",
    "            if cur and cur.left:\n",
    "                que.append(cur.left)\n",
    "            if cur and cur.right:\n",
    "                que.append(cur.right)\n",
    "            print(cur.val)\n",
    "            \n",
    "    def is_balanced(self, node):\n",
    "        if not self.val:\n",
    "            return \"empty tree\"\n",
    "        que = [(node, 0)]\n",
    "        leafs = []\n",
    "        while que:\n",
    "            cur, lvl = que.pop(0)\n",
    "            if cur.left:\n",
    "                que.append((cur.left, lvl + 1))\n",
    "            if cur.right:\n",
    "                que.append((cur.right, lvl + 1))\n",
    "            \n",
    "            if not (cur.left or cur.right):\n",
    "                leafs.append(lvl)\n",
    "            \n",
    "        leaf_lvl = list(set(leafs))\n",
    "        return max(leaf_lvl) - min(leaf_lvl) <= 1\n",
    "    \n",
    "    def max_depth(self, node):\n",
    "        if not node:\n",
    "            return 0\n",
    "        return 1 + max(self.max_depth(node.left), self.max_depth(node.right))\n",
    "    "
   ]
  },
  {
   "cell_type": "code",
   "execution_count": 442,
   "id": "dd6ff93f",
   "metadata": {},
   "outputs": [],
   "source": [
    "a = TreeNode(5)\n",
    "a.left = TreeNode(3)\n",
    "a.right = TreeNode(8)\n",
    "a.left.left = TreeNode(2)\n",
    "a.left.right = TreeNode(4)\n",
    "a.left.left.left = TreeNode(1)\n",
    "a.right.left = TreeNode(7)\n",
    "a.right.right = TreeNode(9)\n",
    "a.right.left.left = TreeNode(6)"
   ]
  },
  {
   "cell_type": "code",
   "execution_count": 441,
   "id": "1aadb80e",
   "metadata": {},
   "outputs": [
    {
     "data": {
      "text/plain": [
       "<__main__.TreeNode at 0x7f4f2028ce48>"
      ]
     },
     "execution_count": 441,
     "metadata": {},
     "output_type": "execute_result"
    }
   ],
   "source": [
    "a"
   ]
  },
  {
   "cell_type": "code",
   "execution_count": 240,
   "id": "07b6c2e5",
   "metadata": {},
   "outputs": [
    {
     "data": {
      "text/plain": [
       "3"
      ]
     },
     "execution_count": 240,
     "metadata": {},
     "output_type": "execute_result"
    }
   ],
   "source": [
    "a.max_depth(a)"
   ]
  },
  {
   "cell_type": "markdown",
   "id": "22522151",
   "metadata": {},
   "source": [
    "# create balanced BST given sorted array"
   ]
  },
  {
   "cell_type": "code",
   "execution_count": 399,
   "id": "c5e7fee4",
   "metadata": {},
   "outputs": [],
   "source": [
    "class Node:\n",
    "    def __init__(self, data = None):\n",
    "        self.data = data\n",
    "        self.left = None\n",
    "        self.right = None\n",
    "        \n",
    "def create_tree(l: list):\n",
    "    if l == []:\n",
    "        return\n",
    "    mid = len(l)//2\n",
    "    node = Node(l[mid])\n",
    "    node.left = create_tree(l[:mid])\n",
    "    node.right = create_tree(l[mid+1:])\n",
    "    return node\n",
    "\n",
    "def inorder(node):\n",
    "    if node.data and node.left:\n",
    "        inorder(node.left)\n",
    "    print(node.data)\n",
    "    if node.data and node.right:\n",
    "        inorder(node.right)"
   ]
  },
  {
   "cell_type": "code",
   "execution_count": 400,
   "id": "e293a869",
   "metadata": {},
   "outputs": [],
   "source": [
    "res = create_tree([1,2,3,4,5,6,7,8,9])"
   ]
  },
  {
   "cell_type": "code",
   "execution_count": 401,
   "id": "16a5d1af",
   "metadata": {},
   "outputs": [
    {
     "data": {
      "text/plain": [
       "5"
      ]
     },
     "execution_count": 401,
     "metadata": {},
     "output_type": "execute_result"
    }
   ],
   "source": [
    "res.data"
   ]
  },
  {
   "cell_type": "code",
   "execution_count": 405,
   "id": "80546b69",
   "metadata": {},
   "outputs": [
    {
     "data": {
      "text/plain": [
       "9"
      ]
     },
     "execution_count": 405,
     "metadata": {},
     "output_type": "execute_result"
    }
   ],
   "source": [
    "res.right.right.data"
   ]
  },
  {
   "cell_type": "markdown",
   "id": "30d32ab6",
   "metadata": {},
   "source": [
    "# Create Linked list for every level of a BST"
   ]
  },
  {
   "cell_type": "code",
   "execution_count": 427,
   "id": "e5be23ee",
   "metadata": {},
   "outputs": [],
   "source": [
    "class lNode:\n",
    "    def __init__(self, data = None):\n",
    "        self.data = data\n",
    "        self.next = None\n",
    "        \n",
    "def BST_to_ll(node, lvl = 0):\n",
    "    if not node:\n",
    "        return \"empty tree\"\n",
    "    que = [(node, lvl)]\n",
    "    llists = {}\n",
    "    while que:\n",
    "        cur, cur_lvl = que.pop(0)\n",
    "        if cur_lvl in llists:\n",
    "            llists[cur_lvl][1].next = lNode(cur.data)\n",
    "            llists[cur_lvl][1] = llists[cur_lvl][1].next\n",
    "        else:\n",
    "            llists[cur_lvl] = [None, lNode(cur.data)]\n",
    "            llists[cur_lvl][0] = llists[cur_lvl][1]\n",
    "            \n",
    "        if cur and cur.left:\n",
    "            que.append((cur.left, cur_lvl + 1))\n",
    "        if cur and cur.right:\n",
    "            que.append((cur.right, cur_lvl + 1))\n",
    "            \n",
    "    return [llists[l][0] for l in llists]"
   ]
  },
  {
   "cell_type": "code",
   "execution_count": 428,
   "id": "f644eb15",
   "metadata": {},
   "outputs": [
    {
     "data": {
      "text/plain": [
       "5"
      ]
     },
     "execution_count": 428,
     "metadata": {},
     "output_type": "execute_result"
    }
   ],
   "source": [
    "res = create_tree([1,2,3,4,5,6,7,8,9])\n",
    "res.data"
   ]
  },
  {
   "cell_type": "code",
   "execution_count": 429,
   "id": "169a61c8",
   "metadata": {},
   "outputs": [],
   "source": [
    "res_ll = BST_to_ll(res)"
   ]
  },
  {
   "cell_type": "markdown",
   "id": "a05ad5a8",
   "metadata": {},
   "source": [
    "# Next inorder successor"
   ]
  },
  {
   "cell_type": "code",
   "execution_count": 750,
   "id": "89ea6764",
   "metadata": {},
   "outputs": [],
   "source": [
    "class Node:\n",
    "    def __init__(self, data = None, parent = None):\n",
    "        self.data = data\n",
    "        self.parent = parent\n",
    "        self.left = None\n",
    "        self.right = None\n",
    "        \n",
    "def suc(node):\n",
    "    if not node:\n",
    "        return\n",
    "\n",
    "    if node.right:\n",
    "        node = node.right\n",
    "        while node.left:\n",
    "            node = node.left\n",
    "        return node.data\n",
    "    \n",
    "    par = node.parent\n",
    "    if par.left == node:\n",
    "        return par.data\n",
    "    elif par.right == node:\n",
    "        while par.parent.left != par:\n",
    "            par = par.parent\n",
    "        return par.parent.data"
   ]
  },
  {
   "cell_type": "code",
   "execution_count": 751,
   "id": "5ac3bef3",
   "metadata": {},
   "outputs": [],
   "source": [
    "a = Node(5)\n",
    "a.left = Node(3, a)\n",
    "a.right = Node(8, a)\n",
    "a.left.left = Node(2, a.left)\n",
    "a.left.right = Node(4, a.left)\n",
    "a.left.right.right = Node(6, a.left.right)\n",
    "a.left.right.right.left = Node(9, a.left.right.right)\n",
    "a.left.right.right.right = Node(7, a.left.right.right)\n",
    "a.left.right.right.right.right  = Node(8, a.left.right.right.right)\n"
   ]
  },
  {
   "cell_type": "code",
   "execution_count": 754,
   "id": "027000c0",
   "metadata": {},
   "outputs": [
    {
     "data": {
      "text/plain": [
       "7"
      ]
     },
     "execution_count": 754,
     "metadata": {},
     "output_type": "execute_result"
    }
   ],
   "source": [
    "suc(a.left.right.right)"
   ]
  },
  {
   "cell_type": "code",
   "execution_count": 747,
   "id": "9258ad58",
   "metadata": {},
   "outputs": [
    {
     "data": {
      "text/plain": [
       "7"
      ]
     },
     "execution_count": 747,
     "metadata": {},
     "output_type": "execute_result"
    }
   ],
   "source": [
    "a.left.right.right.right.data"
   ]
  },
  {
   "cell_type": "markdown",
   "id": "0899e621",
   "metadata": {},
   "source": [
    "# Common Ancestor"
   ]
  },
  {
   "cell_type": "code",
   "execution_count": 558,
   "id": "12e29ab9",
   "metadata": {},
   "outputs": [],
   "source": [
    "class Node():\n",
    "    def __init__(self, data = None):\n",
    "        self.data = data\n",
    "        self.left = None\n",
    "        self.right = None\n",
    "        \n",
    "    def __repr__(self):\n",
    "        return str(self.data)\n",
    "    \n",
    "class common_anc:\n",
    "    def __init__(self):\n",
    "        self.ans = None\n",
    "    \n",
    "    def inorder(self, node, node1, node2):\n",
    "        left = mid = right = False\n",
    "        if node == node1 or node == node2:\n",
    "            mid = True\n",
    "\n",
    "        if node and node.left:\n",
    "            left = self.inorder(node.left, node1, node2)\n",
    "\n",
    "        if node and node.right:\n",
    "            right = self.inorder(node.right, node1, node2)\n",
    "\n",
    "        if left + mid + right >= 2:\n",
    "            self.ans = node.data\n",
    "\n",
    "        return left or mid or right\n",
    "\n",
    "    def common(self, node, node1, node2):\n",
    "        self.inorder(node,node1,node2)\n",
    "        return self.ans"
   ]
  },
  {
   "cell_type": "code",
   "execution_count": 562,
   "id": "4c972110",
   "metadata": {},
   "outputs": [],
   "source": [
    "a = Node(5)\n",
    "a.left = Node(3)\n",
    "a.right = Node(8)\n",
    "a.left.left = Node(2)\n",
    "a.left.left.left = Node(1)\n",
    "a.left.left.right = Node(9)\n",
    "a.left.right = Node(4)\n",
    "a.right.left = Node(9)\n",
    "a.left.right.right = Node(6)\n",
    "a.left.right.right.left = Node(5)\n",
    "a.left.right.right.right = Node(7)\n",
    "a.left.right.right.right.right  = Node(8)\n",
    "b = a.left.left\n",
    "c = a.left.right.right"
   ]
  },
  {
   "cell_type": "code",
   "execution_count": 563,
   "id": "676081ee",
   "metadata": {},
   "outputs": [],
   "source": [
    "sol = common_anc()\n",
    "sol.common(a, a, a)"
   ]
  },
  {
   "cell_type": "markdown",
   "id": "66a0256a",
   "metadata": {},
   "source": [
    "# is subtree"
   ]
  },
  {
   "cell_type": "code",
   "execution_count": 607,
   "id": "7a533721",
   "metadata": {},
   "outputs": [],
   "source": [
    "class Node:\n",
    "    def __init__(self, data = None):\n",
    "        self.data = data\n",
    "        self.left = None\n",
    "        self.right = None\n",
    "        \n",
    "    def __repr__(self):\n",
    "        return str(self.data)\n",
    "    \n",
    "class Solution:\n",
    "    \n",
    "    def sol(t1, t2):\n",
    "        def is_subtree(t1, t2):\n",
    "            if not t2:\n",
    "                return True\n",
    "            if not t1:\n",
    "                return False\n",
    "\n",
    "            if t1.data == t2.data:\n",
    "                return same_tree(t1, t2)\n",
    "\n",
    "            return is_subtree(t1.left, t2) or is_subtree(t1.right, t2)\n",
    "\n",
    "        def same_tree(r1, r2):\n",
    "            if not (r1 or r2):\n",
    "                return True\n",
    "            if not (r1 and r2):\n",
    "                return False\n",
    "            if r1.data != r2.data:\n",
    "                return False\n",
    "            return same_tree(r1.left, r2.left) and same_tree(r1.right, r2.right)\n",
    "        \n",
    "        \n",
    "        return is_subtree(t1,t2)"
   ]
  },
  {
   "cell_type": "code",
   "execution_count": 600,
   "id": "00f0c892",
   "metadata": {},
   "outputs": [],
   "source": [
    "a = Node(3)\n",
    "a.left = Node(2)\n",
    "a.right = Node(5)\n",
    "a.left.left = Node(1)\n",
    "a.right.left = Node(4)\n",
    "a.right.right = Node(6)\n",
    "a.right.right.right = Node(7)\n",
    "\n",
    "b = Node(5)\n",
    "b.left = Node(4)\n",
    "b.right = Node(6)\n",
    "# b.right.right = Node(20)"
   ]
  },
  {
   "cell_type": "code",
   "execution_count": 601,
   "id": "bceca513",
   "metadata": {},
   "outputs": [
    {
     "data": {
      "text/plain": [
       "False"
      ]
     },
     "execution_count": 601,
     "metadata": {},
     "output_type": "execute_result"
    }
   ],
   "source": [
    "Solution.sol(a,b)"
   ]
  },
  {
   "cell_type": "markdown",
   "id": "d9a7107d",
   "metadata": {},
   "source": [
    "# sum path"
   ]
  },
  {
   "cell_type": "code",
   "execution_count": 672,
   "id": "38578530",
   "metadata": {},
   "outputs": [],
   "source": [
    "class Node:\n",
    "    def __init__(self, data = None):\n",
    "        self.key = data\n",
    "        self.left = None\n",
    "        self.right = None\n",
    "        \n",
    "    def __repr__(self):\n",
    "        return str(self.key)\n",
    "    \n",
    "class Solution:\n",
    "    \n",
    "    def sol(self, node, target):\n",
    "        \n",
    "        def find_sum(node: Node, sum_arr: list, total: int):\n",
    "\n",
    "            sum_arr.append(node.key)\n",
    "            total += node.key \n",
    "            if total == s:\n",
    "                print(sum_arr)\n",
    "                \n",
    "            if node.left:\n",
    "                find_sum(node.left, sum_arr, total)\n",
    "                \n",
    "            if node.right:\n",
    "                find_sum(node.right, sum_arr, total)\n",
    "                \n",
    "            sum_arr.pop(-1)\n",
    "        \n",
    "        \n",
    "        sum_array = []\n",
    "        s = target\n",
    "        find_sum(node, sum_array, total = 0)"
   ]
  },
  {
   "cell_type": "code",
   "execution_count": 673,
   "id": "3513e994",
   "metadata": {},
   "outputs": [],
   "source": [
    "a = Node(1)\n",
    "a.left = Node(20)\n",
    "a.left.right = Node(30)\n",
    "a.right = Node(3)\n",
    "a.right.left = Node(4)\n",
    "a.right.right = Node(3)\n",
    "a.right.left.left = Node(6)\n",
    "a.right.left.right = Node(7)\n",
    "a.right.right.left = Node(8)\n",
    "a.right.right.right = Node(1)"
   ]
  },
  {
   "cell_type": "code",
   "execution_count": 674,
   "id": "555ea253",
   "metadata": {},
   "outputs": [
    {
     "name": "stdout",
     "output_type": "stream",
     "text": [
      "[1, 3, 4]\n",
      "[1, 3, 3, 1]\n"
     ]
    }
   ],
   "source": [
    "solution = Solution()\n",
    "solution.sol(a, 8)"
   ]
  },
  {
   "cell_type": "code",
   "execution_count": 695,
   "id": "f8ac9b24",
   "metadata": {},
   "outputs": [],
   "source": [
    "class Node:\n",
    "    def __init__(self, data = None):\n",
    "        self.data = data\n",
    "        self.left = None\n",
    "        self.right = None\n",
    "        \n",
    "    def __repr__(self):\n",
    "        return str(self.data)\n",
    "\n",
    "def printVector(v, i):\n",
    "    for j in range(i, len(v)):\n",
    "        print(v[j], end=\" \")\n",
    "    print()\n",
    "    \n",
    "def printKPathUtil(root, path, k):\n",
    "    if not root:\n",
    "        return\n",
    "\n",
    "    path.append(root.data)\n",
    "\n",
    "    printKPathUtil(root.left, path, k)\n",
    "\n",
    "    printKPathUtil(root.right, path, k)\n",
    "\n",
    "    f = 0\n",
    "    for j in range(len(path) - 1, -1, -1):\n",
    "        f += path[j]\n",
    "\n",
    "        # If path sum is k, print the path\n",
    "        if (f == k):\n",
    "            printVector(path, j)\n",
    "\n",
    "    path.pop(-1)"
   ]
  },
  {
   "cell_type": "code",
   "execution_count": 696,
   "id": "bde31d08",
   "metadata": {},
   "outputs": [],
   "source": [
    "a = Node(1)\n",
    "a.left = Node(4)\n",
    "a.left.right = Node(3)\n",
    "a.left.left = Node(3)\n",
    "a.left.left.left = Node(1)\n",
    "a.right = Node(3)\n",
    "a.right.left = Node(4)\n",
    "a.right.right = Node(3)\n",
    "a.right.left.left = Node(6)\n",
    "a.right.left.right = Node(7)\n",
    "a.right.right.left = Node(8)\n",
    "a.right.right.right = Node(1)"
   ]
  },
  {
   "cell_type": "code",
   "execution_count": 697,
   "id": "710f46b9",
   "metadata": {},
   "outputs": [
    {
     "name": "stdout",
     "output_type": "stream",
     "text": [
      "4 3 1 \n",
      "1 4 3 \n",
      "1 4 3 \n",
      "1 3 4 \n",
      "8 \n",
      "1 3 3 1 \n"
     ]
    }
   ],
   "source": [
    "printKPathUtil(a, [], 8)"
   ]
  },
  {
   "cell_type": "code",
   "execution_count": 843,
   "id": "9380cc95",
   "metadata": {},
   "outputs": [],
   "source": [
    "class Node():\n",
    "    def __init__(self, data = None):\n",
    "        self.data = data\n",
    "        self.left = None\n",
    "        self.right = None\n",
    "        \n",
    "    def __repr__(self):\n",
    "        return str(self.data)\n",
    "    \n",
    "def sum_path(node, target, paths):\n",
    "    if not node:\n",
    "        return\n",
    "    \n",
    "    paths.append(node.data)\n",
    "    for i in range(len(paths)-1,-1,-1):\n",
    "        if sum(paths[i:]) == target:\n",
    "            print(paths[i:])\n",
    "            break\n",
    "    \n",
    "    sum_path(node.left, target, paths)\n",
    "    sum_path(node.right, target, paths)\n",
    "    \n",
    "    paths.pop()\n",
    "    "
   ]
  },
  {
   "cell_type": "code",
   "execution_count": 853,
   "id": "6adb4f8b",
   "metadata": {},
   "outputs": [
    {
     "name": "stdout",
     "output_type": "stream",
     "text": [
      "[1, 4, 3, 1]\n",
      "[1, 4, 3]\n",
      "[1, 4, 4]\n",
      "[1, 3, 2, 6]\n",
      "[1, 3, 2, 2]\n",
      "[1, 3, 3, 8]\n",
      "[1, 3, 3, 1]\n"
     ]
    }
   ],
   "source": [
    "printKPathUtil(a, [], 8)"
   ]
  },
  {
   "cell_type": "code",
   "execution_count": 845,
   "id": "633731c0",
   "metadata": {},
   "outputs": [
    {
     "name": "stdout",
     "output_type": "stream",
     "text": [
      "[1, 4, 3]\n",
      "[4, 3, 1]\n",
      "[4, 4]\n",
      "[2, 6]\n",
      "[1, 3, 2, 2]\n",
      "[8]\n",
      "[1, 3, 3, 1]\n"
     ]
    }
   ],
   "source": [
    "sum_path(a, 8, [])"
   ]
  },
  {
   "cell_type": "code",
   "execution_count": 847,
   "id": "7b3c1543",
   "metadata": {},
   "outputs": [],
   "source": [
    "a = Node(1)\n",
    "a.left = Node(4)\n",
    "a.left.right = Node(4)\n",
    "a.left.left = Node(3)\n",
    "a.left.left.left = Node(1)\n",
    "a.right = Node(3)\n",
    "a.right.left = Node(2)\n",
    "a.right.right = Node(3)\n",
    "a.right.left.left = Node(6)\n",
    "a.right.left.right = Node(2)\n",
    "a.right.right.left = Node(8)\n",
    "a.right.right.right = Node(1)"
   ]
  },
  {
   "cell_type": "code",
   "execution_count": 833,
   "id": "d4cf781d",
   "metadata": {},
   "outputs": [
    {
     "data": {
      "text/plain": [
       "False"
      ]
     },
     "execution_count": 833,
     "metadata": {},
     "output_type": "execute_result"
    }
   ],
   "source": [
    "subtree(a, b)"
   ]
  },
  {
   "cell_type": "code",
   "execution_count": null,
   "id": "c166c671",
   "metadata": {},
   "outputs": [],
   "source": []
  }
 ],
 "metadata": {
  "kernelspec": {
   "display_name": "Python 3",
   "language": "python",
   "name": "python3"
  },
  "language_info": {
   "codemirror_mode": {
    "name": "ipython",
    "version": 3
   },
   "file_extension": ".py",
   "mimetype": "text/x-python",
   "name": "python",
   "nbconvert_exporter": "python",
   "pygments_lexer": "ipython3",
   "version": "3.6.5"
  }
 },
 "nbformat": 4,
 "nbformat_minor": 5
}
