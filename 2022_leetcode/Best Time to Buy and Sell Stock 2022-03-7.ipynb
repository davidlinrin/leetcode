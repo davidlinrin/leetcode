{
 "cells": [
  {
   "cell_type": "code",
   "execution_count": 11,
   "id": "0bd0d66e",
   "metadata": {},
   "outputs": [],
   "source": [
    "# ATTEMPT 1 O(n)\n",
    "class Solution(object):\n",
    "    def maxProfit(self, prices):\n",
    "        buy = prices[0]\n",
    "        sell = 0\n",
    "        profit = 0\n",
    "\n",
    "        for price in prices:\n",
    "            if price < buy:\n",
    "                buy = price\n",
    "                sell = 0\n",
    "            elif price > sell:\n",
    "                sell = price\n",
    "\n",
    "            if sell - buy > profit:\n",
    "                profit = sell - buy\n",
    "\n",
    "        return profit"
   ]
  },
  {
   "cell_type": "code",
   "execution_count": null,
   "id": "050db833",
   "metadata": {},
   "outputs": [],
   "source": []
  }
 ],
 "metadata": {
  "kernelspec": {
   "display_name": "Python 3",
   "language": "python",
   "name": "python3"
  },
  "language_info": {
   "codemirror_mode": {
    "name": "ipython",
    "version": 3
   },
   "file_extension": ".py",
   "mimetype": "text/x-python",
   "name": "python",
   "nbconvert_exporter": "python",
   "pygments_lexer": "ipython3",
   "version": "3.6.5"
  }
 },
 "nbformat": 4,
 "nbformat_minor": 5
}
