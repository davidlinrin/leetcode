{
 "cells": [
  {
   "cell_type": "code",
   "execution_count": 2,
   "id": "794db985",
   "metadata": {},
   "outputs": [],
   "source": [
    "def matching_pairs(s, t):\n",
    "    # Write your code here\n",
    "    unmatched_pair = set()\n",
    "    unmatch_s = set()\n",
    "    unmatch_t = set()\n",
    "    match = None\n",
    "    result = 0\n",
    "\n",
    "    for char_s, char_t in zip(s,t):\n",
    "        if char_s == char_t:\n",
    "            result += 1\n",
    "            continue\n",
    "        if match == 'perfect':\n",
    "            continue\n",
    "\n",
    "        unmatched_pair.add((char_s, char_t))\n",
    "        unmatch_s.add(char_s)\n",
    "        unmatch_t.add(char_t)\n",
    "        if (char_t, char_s) in unmatched_pair:\n",
    "            match = 'perfect'\n",
    "        elif char_s in unmatch_t or char_t in unmatch_s:\n",
    "            match = 'partial'\n",
    "\n",
    "    if match == 'perfect':\n",
    "        return result + 2\n",
    "    if match == 'partial':\n",
    "        return result + 1\n",
    "    if match == None:\n",
    "        return result - 2"
   ]
  },
  {
   "cell_type": "code",
   "execution_count": 4,
   "id": "abc17081",
   "metadata": {},
   "outputs": [
    {
     "data": {
      "text/plain": [
       "4"
      ]
     },
     "execution_count": 4,
     "metadata": {},
     "output_type": "execute_result"
    }
   ],
   "source": [
    "matching_pairs('abcd', 'adcb')"
   ]
  },
  {
   "cell_type": "code",
   "execution_count": null,
   "id": "fc9494c1",
   "metadata": {},
   "outputs": [],
   "source": []
  }
 ],
 "metadata": {
  "kernelspec": {
   "display_name": "Python 3",
   "language": "python",
   "name": "python3"
  },
  "language_info": {
   "codemirror_mode": {
    "name": "ipython",
    "version": 3
   },
   "file_extension": ".py",
   "mimetype": "text/x-python",
   "name": "python",
   "nbconvert_exporter": "python",
   "pygments_lexer": "ipython3",
   "version": "3.6.5"
  }
 },
 "nbformat": 4,
 "nbformat_minor": 5
}
