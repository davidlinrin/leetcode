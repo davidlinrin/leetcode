{
 "cells": [
  {
   "cell_type": "code",
   "execution_count": 2,
   "id": "0b04e6b5",
   "metadata": {},
   "outputs": [],
   "source": [
    "def encode(strs):\n",
    "    res = []\n",
    "    for word in strs:\n",
    "        l = len(word)\n",
    "        res.append(str(l))\n",
    "        res.append('#')\n",
    "        res.append(word)\n",
    "    return \"\".join(res)\n",
    "\n",
    "def decode(strs):\n",
    "    l = '0'\n",
    "    i = 0\n",
    "    word = []\n",
    "    res = []\n",
    "    while i < len(strs):\n",
    "        if int(l) and strs[i] == '#':\n",
    "            l = int(l)\n",
    "            i += 1\n",
    "            while l:\n",
    "                word.append(strs[i])\n",
    "                l -= 1\n",
    "                i += 1\n",
    "            res.append(\"\".join(word))\n",
    "            word = []\n",
    "            l = '0'\n",
    "        else:\n",
    "            l += strs[i]\n",
    "            i += 1\n",
    "    return res"
   ]
  },
  {
   "cell_type": "code",
   "execution_count": 4,
   "id": "cb4afeb5",
   "metadata": {},
   "outputs": [
    {
     "name": "stdout",
     "output_type": "stream",
     "text": [
      "6##5lint10#codeqwerty6#5#love3#you\n"
     ]
    },
    {
     "data": {
      "text/plain": [
       "['#5lint', 'codeqwerty', '5#love', 'you']"
      ]
     },
     "execution_count": 4,
     "metadata": {},
     "output_type": "execute_result"
    }
   ],
   "source": [
    "a = [\"#5lint\",\"codeqwerty\",\"5#love\",\"you\"]\n",
    "enc = encode(a)\n",
    "print(enc)\n",
    "decode(enc)"
   ]
  },
  {
   "cell_type": "code",
   "execution_count": null,
   "id": "a602b4c1",
   "metadata": {},
   "outputs": [],
   "source": []
  }
 ],
 "metadata": {
  "kernelspec": {
   "display_name": "Python 3",
   "language": "python",
   "name": "python3"
  },
  "language_info": {
   "codemirror_mode": {
    "name": "ipython",
    "version": 3
   },
   "file_extension": ".py",
   "mimetype": "text/x-python",
   "name": "python",
   "nbconvert_exporter": "python",
   "pygments_lexer": "ipython3",
   "version": "3.6.5"
  }
 },
 "nbformat": 4,
 "nbformat_minor": 5
}
