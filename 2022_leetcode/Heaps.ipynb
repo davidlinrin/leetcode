{
 "cells": [
  {
   "cell_type": "code",
   "execution_count": 108,
   "id": "94210aa8",
   "metadata": {},
   "outputs": [],
   "source": [
    "class min_heap():\n",
    "    def __init__(self, heap = []):\n",
    "        self.heap = heap\n",
    "        \n",
    "    def get_left_child_index(self, index):\n",
    "        return index*2 + 1\n",
    "    \n",
    "    def get_right_child_index(self, index):\n",
    "        return index*2 + 2\n",
    "    \n",
    "    def get_parent_index(self, index):\n",
    "        return int(((index-2)/2)+0.5)\n",
    "    \n",
    "    def has_left_child(self, index):\n",
    "        return (index*2 + 1) < len(self.heap)\n",
    "    \n",
    "    def has_right_child(self, index):\n",
    "        return (index*2 + 2) < len(self.heap)\n",
    "    \n",
    "    def has_parent(self, index):\n",
    "        return (int(((index-2)/2)+0.5)) < len(self.heap)\n",
    "    \n",
    "    def get_left_child(self, index):\n",
    "        return self.heap[index*2 + 1]\n",
    "    \n",
    "    def get_right_child(self, index):\n",
    "        return self.heap[index*2 + 2]\n",
    "    \n",
    "    def get_parent(self, index):\n",
    "        return self.heap[int(((index-2)/2)+0.5)]\n",
    "    \n",
    "    def peek(self):\n",
    "        if len(self.heap) < 1:\n",
    "            return 'empty heap'\n",
    "        else:\n",
    "            return self.heap[0]\n",
    "        \n",
    "    def swap(self, index_1, index_2):\n",
    "        self.heap[index_1], self.heap[index_2] = self.heap[index_2], self.heap[index_1] \n",
    "\n",
    "    def poll(self):\n",
    "        item = self.heap[0]\n",
    "        self.heap[0] = self.heap[-1]\n",
    "        self.heap.pop()\n",
    "        self.heapify_down()\n",
    "        return item\n",
    "    \n",
    "    def add(self, value):\n",
    "        self.heap.append(value)\n",
    "        self.heapify_up()\n",
    "    \n",
    "    def heapify_down(self):\n",
    "        index = 0\n",
    "        while self.has_left_child(index):\n",
    "            min_index = self.get_left_child_index(index)\n",
    "            if self.has_right_child(index) and self.get_right_child(index) < self.get_left_child(index):\n",
    "                min_index = self.get_right_child_index(index)\n",
    "            \n",
    "            if self.heap[min_index] < self.heap[index]:\n",
    "                self.swap(index, min_index)\n",
    "            else:\n",
    "                break\n",
    "            index = min_index\n",
    "    \n",
    "    def heapify_up(self):\n",
    "        index = len(self.heap) - 1\n",
    "        while self.has_parent(index) and self.get_parent(index) > self.heap[index]:\n",
    "            self.swap(index, self.get_parent_index(index))\n",
    "            index = self.get_parent_index(index)\n",
    "    "
   ]
  },
  {
   "cell_type": "code",
   "execution_count": 109,
   "id": "33971b82",
   "metadata": {},
   "outputs": [
    {
     "data": {
      "text/plain": [
       "[15, 17, 20, 18]"
      ]
     },
     "execution_count": 109,
     "metadata": {},
     "output_type": "execute_result"
    }
   ],
   "source": [
    "test = min_heap([10,15,20,17,18])\n",
    "test.poll()\n",
    "test.heap"
   ]
  },
  {
   "cell_type": "code",
   "execution_count": 211,
   "id": "cf4bf507",
   "metadata": {},
   "outputs": [],
   "source": [
    "class max_heap():\n",
    "    def __init__(self, heap = []):\n",
    "        self.heap = heap\n",
    "\n",
    "    def has_parent(self, index):\n",
    "        if ((index-2) / 2) + 0.5 < 0:\n",
    "            return False\n",
    "        else:\n",
    "            return int(((index-2) / 2) +0.5) < len(self.heap)\n",
    "    \n",
    "    def has_left_child(self, index):\n",
    "        return index*2 + 1 < len(self.heap)\n",
    "    \n",
    "    def has_right_child(self, index):\n",
    "        return index*2 + 2 < len(self.heap)\n",
    "    \n",
    "    def get_parent_index(self, index):\n",
    "        return int(((index-2) / 2) + 0.5) \n",
    "    \n",
    "    def get_left_child_index(self, index):\n",
    "        return index * 2 + 1\n",
    "    \n",
    "    def get_right_child_index(self, index):\n",
    "        return index * 2 + 2\n",
    "    \n",
    "    def get_parent(self, index):\n",
    "        return self.heap[int(((index-2) /2)+0.5)]\n",
    "    \n",
    "    def get_left_child(self, index):\n",
    "        return self.heap[index*2+1]\n",
    "    \n",
    "    def get_right_child(self, index):\n",
    "        return self.heap[index*2+2]\n",
    "    \n",
    "    def peek(self):\n",
    "        return self.heap[0]\n",
    "    \n",
    "    def swap(self, index_1, index_2):\n",
    "        self.heap[index_1], self.heap[index_2] = self.heap[index_2], self.heap[index_1]\n",
    "        \n",
    "    def poll(self):\n",
    "        item = self.heap[0]\n",
    "        self.heap[0] = self.heap[-1]\n",
    "        self.heap.pop()\n",
    "        self.heapify_down()\n",
    "        return item\n",
    "        \n",
    "    def add(self, value):\n",
    "        self.heap.append(value)\n",
    "        self.heapify_up()\n",
    "        \n",
    "    def heapify_down(self):\n",
    "        index = 0\n",
    "        while self.has_left_child(index):\n",
    "            max_index = self.get_left_child_index(index)\n",
    "            if self.has_right_child(index) and self.get_right_child(index) > self.get_left_child(index):\n",
    "                max_index = self.get_right_child_index(index)\n",
    "                \n",
    "            if self.heap[index] < self.heap[max_index]:\n",
    "                self.swap(index, max_index)\n",
    "            else:\n",
    "                break\n",
    "            index = max_index\n",
    "    \n",
    "    def heapify_up(self):\n",
    "        index = len(self.heap) - 1\n",
    "        while self.has_parent(index) and self.get_parent(index) < self.heap[index]:\n",
    "            parent_index = self.get_parent_index(index)\n",
    "            self.swap(index, parent_index)\n",
    "            index = parent_index\n",
    "            \n",
    "    def heapify(self, index):\n",
    "        root = index\n",
    "        largest = index\n",
    "        left = index*2 + 1\n",
    "        right = index*2 + 2\n",
    "    \n",
    "        if self.has_left_child(index) and self.get_left_child(index) > self.heap[largest]:\n",
    "            largest = left\n",
    "        \n",
    "        if self.has_right_child(index) and self.get_right_child(index) > self.heap[largest]:\n",
    "            largest = right\n",
    "            \n",
    "        if root != largest:\n",
    "            self.swap(root, largest)\n",
    "            self.heapify(largest)\n",
    "            \n",
    "    def heap_sort(self):\n",
    "        n = len(self.heap)\n",
    "        for parent in range(n//2 - 1, -1, -1):\n",
    "            self.heapify(parent)"
   ]
  },
  {
   "cell_type": "code",
   "execution_count": 213,
   "id": "9f23344c",
   "metadata": {},
   "outputs": [
    {
     "data": {
      "text/plain": [
       "[40, 30, 31, 15, 10, 9, 25]"
      ]
     },
     "execution_count": 213,
     "metadata": {},
     "output_type": "execute_result"
    }
   ],
   "source": [
    "test = max_heap([15,30,25,40,10,9,31])\n",
    "test.heap_sort()\n",
    "test.heap"
   ]
  },
  {
   "cell_type": "code",
   "execution_count": 232,
   "id": "d373c689",
   "metadata": {},
   "outputs": [
    {
     "name": "stdout",
     "output_type": "stream",
     "text": [
      "Sorted array is\n",
      "9\n",
      "10\n",
      "15\n",
      "25\n",
      "30\n",
      "31\n",
      "40\n"
     ]
    }
   ],
   "source": [
    "def heapify(arr, n, i):\n",
    "    largest = i  # Initialize largest as root\n",
    "    l = 2 * i + 1     # left = 2*i + 1\n",
    "    r = 2 * i + 2     # right = 2*i + 2\n",
    "\n",
    "    # See if left child of root exists and is\n",
    "    # greater than root\n",
    "    if l < n and arr[i] < arr[l]:\n",
    "        largest = l\n",
    "\n",
    "    # See if right child of root exists and is\n",
    "    # greater than root\n",
    "    if r < n and arr[largest] < arr[r]:\n",
    "        largest = r\n",
    "\n",
    "    # Change root, if needed\n",
    "    if largest != i:\n",
    "        arr[i],arr[largest] = arr[largest],arr[i]  # swap\n",
    "\n",
    "        # Heapify the root.\n",
    "        heapify(arr, n, largest)\n",
    "\n",
    "# The main function to sort an array of given size\n",
    "def heapSort(arr):\n",
    "    n = len(arr)\n",
    "\n",
    "    # Build a maxheap.\n",
    "    # Since last parent will be at ((n//2)-1) we can start at that location.\n",
    "    for i in range(n // 2 - 1, -1, -1):\n",
    "        heapify(arr, n, i)\n",
    "\n",
    "    # THIS FUNCTIONS PRINTS THE HEAP IN ORDER (smallest to largest)\n",
    "    for i in range(n-1, 0, -1):\n",
    "        arr[i], arr[0] = arr[0], arr[i]   # swap\n",
    "        heapify(arr, i, 0)\n",
    "\n",
    "# Driver code to test above\n",
    "arr = [15,30,25,40,9,10,31]\n",
    "heapSort(arr)\n",
    "n = len(arr)\n",
    "print (\"Sorted array is\")\n",
    "for i in range(n):\n",
    "    print (\"%d\" %arr[i]),"
   ]
  },
  {
   "cell_type": "code",
   "execution_count": 91,
   "id": "00a79929",
   "metadata": {},
   "outputs": [],
   "source": [
    "def findMedian(arr):\n",
    "  # Write your code here\n",
    "    result = []\n",
    "    min_heap = []\n",
    "    max_heap = []\n",
    "    cur_med = float('-inf')\n",
    "    for num in arr:\n",
    "        if num > cur_med:\n",
    "            heapq.heappush(min_heap, num)\n",
    "        if num < cur_med:\n",
    "            heapq.heappush(max_heap, -num)\n",
    "\n",
    "        print(min_heap, max_heap)\n",
    "        if len(min_heap) - len(max_heap) > 1: \n",
    "            popped = -heapq.heappop(min_heap)\n",
    "            heapq.heappush(max_heap, popped)\n",
    "        if len(max_heap) - len(min_heap) > 1:\n",
    "            popped = -heapq.heappop(max_heap)\n",
    "            heapq.heappush(min_heap, popped)\n",
    "\n",
    "        print(min_heap, max_heap)\n",
    "        if len(min_heap) > len(max_heap):\n",
    "            cur_med = min_heap[0]\n",
    "            result.append(cur_med)     \n",
    "        elif len(min_heap) < len(max_heap):\n",
    "            cur_med = -max_heap[0]\n",
    "            result.append(cur_med)\n",
    "        else:\n",
    "            cur_med = (min_heap[0] - max_heap[0]) / 2\n",
    "            result.append(cur_med)\n",
    "        print(min_heap, max_heap, cur_med,'\\n')\n",
    "            \n",
    "    return result"
   ]
  },
  {
   "cell_type": "code",
   "execution_count": 92,
   "id": "b79c3c5a",
   "metadata": {},
   "outputs": [
    {
     "name": "stdout",
     "output_type": "stream",
     "text": [
      "[2] []\n",
      "[2] []\n",
      "[2] [] 2 \n",
      "\n",
      "[2, 4] []\n",
      "[4] [-2]\n",
      "[4] [-2] 3.0 \n",
      "\n",
      "[4, 7] [-2]\n",
      "[4, 7] [-2]\n",
      "[4, 7] [-2] 4 \n",
      "\n",
      "[4, 7] [-2, -1]\n",
      "[4, 7] [-2, -1]\n",
      "[4, 7] [-2, -1] 3.0 \n",
      "\n",
      "[4, 7, 5] [-2, -1]\n",
      "[4, 7, 5] [-2, -1]\n",
      "[4, 7, 5] [-2, -1] 4 \n",
      "\n",
      "[4, 7, 5] [-3, -1, -2]\n",
      "[4, 7, 5] [-3, -1, -2]\n",
      "[4, 7, 5] [-3, -1, -2] 3.5 \n",
      "\n"
     ]
    },
    {
     "data": {
      "text/plain": [
       "[2, 3.0, 4, 3.0, 4, 3.5]"
      ]
     },
     "execution_count": 92,
     "metadata": {},
     "output_type": "execute_result"
    }
   ],
   "source": [
    "findMedian([2, 4, 7, 1, 5, 3])"
   ]
  },
  {
   "cell_type": "code",
   "execution_count": 112,
   "id": "4aec47dc",
   "metadata": {},
   "outputs": [
    {
     "name": "stdout",
     "output_type": "stream",
     "text": [
      "2\n",
      "3\n",
      "4\n"
     ]
    }
   ],
   "source": [
    "a = {'d':3, 'c':3, 'z':1}\n",
    "b = {'c':3, 'd':2, 'z':1}\n",
    "for i in range(2,5):\n",
    "    print(i)"
   ]
  },
  {
   "cell_type": "code",
   "execution_count": 120,
   "id": "3c57cb6c",
   "metadata": {},
   "outputs": [
    {
     "data": {
      "text/plain": [
       "[-2, -1]"
      ]
     },
     "execution_count": 120,
     "metadata": {},
     "output_type": "execute_result"
    }
   ],
   "source": [
    "import heapq\n",
    "arr = [4, 2, 1, 3]\n",
    "max_arr = [-x for x in arr]\n",
    "heapq.heapify(max_arr)\n",
    "heapq.heappop(max_arr)\n",
    "heapq.heappop(max_arr)\n",
    "max_arr"
   ]
  },
  {
   "cell_type": "code",
   "execution_count": 215,
   "id": "9ce13ede",
   "metadata": {},
   "outputs": [],
   "source": [
    "def findMinArray(arr, k):\n",
    "    result = []\n",
    "    while k > 0 and arr:\n",
    "        # Greedily, we find the smallest element from `arr` and swap it to the front\n",
    "        minIndex = 0\n",
    "        for i in range(1, min(k + 1, len(arr))):\n",
    "            print(arr[i], arr[minIndex])\n",
    "            if arr[i] < arr[minIndex]:\n",
    "                minIndex = i\n",
    "        # move this element to the front\n",
    "        print('\\n')\n",
    "        k -= minIndex\n",
    "        result.append(arr[minIndex])\n",
    "        arr = arr[0: minIndex] + arr[minIndex + 1:]\n",
    "\n",
    "    return result + arr"
   ]
  },
  {
   "cell_type": "code",
   "execution_count": 216,
   "id": "3666ff3f",
   "metadata": {},
   "outputs": [
    {
     "name": "stdout",
     "output_type": "stream",
     "text": [
      "9 8\n",
      "11 8\n",
      "2 8\n",
      "\n",
      "\n"
     ]
    },
    {
     "data": {
      "text/plain": [
       "[2, 8, 9, 11, 1]"
      ]
     },
     "execution_count": 216,
     "metadata": {},
     "output_type": "execute_result"
    }
   ],
   "source": [
    "arr = [8, 9, 11, 2, 1]\n",
    "findMinArray(arr, 3)"
   ]
  }
 ],
 "metadata": {
  "kernelspec": {
   "display_name": "Python 3",
   "language": "python",
   "name": "python3"
  },
  "language_info": {
   "codemirror_mode": {
    "name": "ipython",
    "version": 3
   },
   "file_extension": ".py",
   "mimetype": "text/x-python",
   "name": "python",
   "nbconvert_exporter": "python",
   "pygments_lexer": "ipython3",
   "version": "3.6.5"
  }
 },
 "nbformat": 4,
 "nbformat_minor": 5
}
