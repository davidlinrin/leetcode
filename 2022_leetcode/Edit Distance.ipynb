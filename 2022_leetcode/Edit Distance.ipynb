{
 "cells": [
  {
   "cell_type": "code",
   "execution_count": null,
   "id": "0a047f8b",
   "metadata": {},
   "outputs": [],
   "source": [
    "# An edit is:\n",
    "# Inserting one character anywhere in the word (including at the beginning and end)\n",
    "# Removing one character\n",
    "# Replacing one character  "
   ]
  },
  {
   "cell_type": "code",
   "execution_count": 95,
   "id": "a994a5d2",
   "metadata": {},
   "outputs": [],
   "source": [
    "def OneEditApart(s1: str, s2: str):\n",
    "    s1 = s1.lower()\n",
    "    s2 = s2.lower()\n",
    "    \n",
    "    # if equal length\n",
    "    if len(s1) == len(s2):\n",
    "        dist = 0\n",
    "        for i in range(len(s1)):\n",
    "            if s1[i] != s2[i]:\n",
    "                dist +=1\n",
    "\n",
    "            if dist > 1:\n",
    "                return False\n",
    "\n",
    "    # if unequal length      \n",
    "    else:\n",
    "        if (s1 =='' and len(s2)==1) == '' or (s2 =='' and len(s1)==1):\n",
    "            return True\n",
    "        \n",
    "        if len(s1) > len(s2):\n",
    "            s1, s2 = s2, s1\n",
    "\n",
    "        if s1==s2[1:] or s1==s2[:-1]:\n",
    "            return True\n",
    "        else:\n",
    "            s1_pointer = 0\n",
    "            s2_pointer = 0\n",
    "            dist = 0\n",
    "            while s1_pointer<len(s1) or s2_pointer<len(s2):\n",
    "                if s1[s1_pointer] != s2[s2_pointer]:\n",
    "                    dist += 1\n",
    "                    s2_pointer += 1\n",
    "                else:\n",
    "                    s1_pointer += 1\n",
    "                    s2_pointer += 1\n",
    "                    \n",
    "                if dist > 1:\n",
    "                    return False\n",
    "\n",
    "    return True"
   ]
  },
  {
   "cell_type": "code",
   "execution_count": 103,
   "id": "8d8b0e65",
   "metadata": {},
   "outputs": [],
   "source": [
    "def OneEditApart(s1: str, s2: str):\n",
    "    s1 = s1.lower()\n",
    "    s2 = s2.lower()\n",
    "    \n",
    "    if (s1 =='' and len(s2)==1) == '' or (s2 =='' and len(s1)==1):\n",
    "        return True\n",
    "\n",
    "    if len(s1) > len(s2):\n",
    "        s1, s2 = s2, s1\n",
    "\n",
    "    if s1==s2[:-1] or (len(s1)==1 and len(s2)==1):\n",
    "        return True\n",
    "    elif len(s2)-len(s1) > 1:\n",
    "        return False\n",
    "    else:\n",
    "        s1_pointer = 0\n",
    "        s2_pointer = 0\n",
    "        dist = 0\n",
    "        while s1_pointer<len(s1) and s2_pointer<len(s2):\n",
    "            if s1[s1_pointer] != s2[s2_pointer]:\n",
    "                dist += 1\n",
    "                s1_pointer -= 1\n",
    "            s1_pointer += 1\n",
    "            s2_pointer += 1\n",
    "\n",
    "            if dist > 1:\n",
    "                return False\n",
    "\n",
    "    return True"
   ]
  },
  {
   "cell_type": "code",
   "execution_count": null,
   "id": "549a22ff",
   "metadata": {},
   "outputs": [],
   "source": []
  }
 ],
 "metadata": {
  "kernelspec": {
   "display_name": "Python 3",
   "language": "python",
   "name": "python3"
  },
  "language_info": {
   "codemirror_mode": {
    "name": "ipython",
    "version": 3
   },
   "file_extension": ".py",
   "mimetype": "text/x-python",
   "name": "python",
   "nbconvert_exporter": "python",
   "pygments_lexer": "ipython3",
   "version": "3.6.5"
  }
 },
 "nbformat": 4,
 "nbformat_minor": 5
}
