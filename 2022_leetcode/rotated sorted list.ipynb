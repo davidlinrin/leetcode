{
 "cells": [
  {
   "cell_type": "code",
   "execution_count": 17,
   "id": "18616a75",
   "metadata": {},
   "outputs": [],
   "source": [
    "def find_min(arr):\n",
    "    left = 0\n",
    "    right = len(arr)\n",
    "    mid = (right + left)//2\n",
    "    \n",
    "    if arr[left] < arr[mid] and arr[mid] < arr[right-1]:\n",
    "        return arr[0]\n",
    "    \n",
    "    while right - left > 1:\n",
    "        print(right, left)\n",
    "        mid = (left+right)//2\n",
    "        if arr[left] > arr[mid]:\n",
    "            right = mid\n",
    "        else:\n",
    "            left = mid \n",
    "            \n",
    "    return arr[right]\n"
   ]
  },
  {
   "cell_type": "code",
   "execution_count": 18,
   "id": "472afbe9",
   "metadata": {},
   "outputs": [
    {
     "name": "stdout",
     "output_type": "stream",
     "text": [
      "7 0\n",
      "3 0\n"
     ]
    },
    {
     "data": {
      "text/plain": [
       "2"
      ]
     },
     "execution_count": 18,
     "metadata": {},
     "output_type": "execute_result"
    }
   ],
   "source": [
    "a = [3,4,5,6,7,1,2]\n",
    "b = [6,7,1,2,3,4,5]\n",
    "find_min([9,2,3,4,5,6,7])"
   ]
  },
  {
   "cell_type": "code",
   "execution_count": null,
   "id": "bcd5aa6f",
   "metadata": {},
   "outputs": [],
   "source": [
    "a = [6,7,1,2,3,4,5]\n"
   ]
  }
 ],
 "metadata": {
  "kernelspec": {
   "display_name": "Python 3",
   "language": "python",
   "name": "python3"
  },
  "language_info": {
   "codemirror_mode": {
    "name": "ipython",
    "version": 3
   },
   "file_extension": ".py",
   "mimetype": "text/x-python",
   "name": "python",
   "nbconvert_exporter": "python",
   "pygments_lexer": "ipython3",
   "version": "3.6.5"
  }
 },
 "nbformat": 4,
 "nbformat_minor": 5
}
