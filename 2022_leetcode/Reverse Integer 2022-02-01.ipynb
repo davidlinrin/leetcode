{
 "cells": [
  {
   "cell_type": "code",
   "execution_count": 43,
   "id": "34242d8f",
   "metadata": {},
   "outputs": [],
   "source": [
    "# ATTEMPT 1 string manipulation O(n^2)??\n",
    "class Solution(object):\n",
    "    def reverse(self, x):\n",
    "        \n",
    "        if x < 0:\n",
    "            string_num = (str(x)[1:])[::-1]\n",
    "            sign = -1\n",
    "        else:\n",
    "            string_num = str(x)[::-1]\n",
    "            sign = 1\n",
    "\n",
    "        if len(bin(int(string_num)))-2 > 31:   # O(n * log(n)) bin()->log(n), int()->O(n)\n",
    "            return 0\n",
    "        else:\n",
    "            return int(string_num)*sign"
   ]
  },
  {
   "cell_type": "code",
   "execution_count": 85,
   "id": "21c61f24",
   "metadata": {},
   "outputs": [],
   "source": [
    "# ATTEMPT 2, O(n)\n",
    "class Solution(object):\n",
    "    def reverse(self, x):\n",
    "        \n",
    "        rev = 0\n",
    "        sign = 1\n",
    "\n",
    "        if x < 0:\n",
    "            sign = -1\n",
    "            x *= sign\n",
    "\n",
    "        while x:\n",
    "            pop = x % 10\n",
    "            x = int(x/10)\n",
    "            rev = rev * 10 + pop\n",
    "\n",
    "        if (rev * sign >= 2**31-1) or (rev * sign <= -2**31):\n",
    "            return 0    \n",
    "        else:\n",
    "            return rev * sign"
   ]
  },
  {
   "cell_type": "code",
   "execution_count": null,
   "id": "7b15c054",
   "metadata": {},
   "outputs": [],
   "source": [
    "# COMMENT SOLUTION O(n)\n",
    "class Solution(object):\n",
    "    def reverse(self, x):\n",
    "\n",
    "        strx=str(abs(x))\n",
    "        invstr=strx[::-1]   # O(n)\n",
    "        x2=int(invstr)      # O(n)\n",
    "        if x<0 and -2**31<=x2<=2**31 -1:\n",
    "            return -x2\n",
    "        elif x>=0 and -2**31<=x2<=2**31 -1:\n",
    "            return x2\n",
    "        else:\n",
    "            return 0"
   ]
  }
 ],
 "metadata": {
  "kernelspec": {
   "display_name": "Python 3",
   "language": "python",
   "name": "python3"
  },
  "language_info": {
   "codemirror_mode": {
    "name": "ipython",
    "version": 3
   },
   "file_extension": ".py",
   "mimetype": "text/x-python",
   "name": "python",
   "nbconvert_exporter": "python",
   "pygments_lexer": "ipython3",
   "version": "3.6.5"
  }
 },
 "nbformat": 4,
 "nbformat_minor": 5
}
