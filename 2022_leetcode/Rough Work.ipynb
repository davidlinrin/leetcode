{
 "cells": [
  {
   "cell_type": "code",
   "execution_count": 34,
   "id": "9ce9ee03",
   "metadata": {},
   "outputs": [],
   "source": [
    "a = 'abnshcd'\n",
    "b = 'bashncd'\n",
    "def is_anagram(s1, s2):\n",
    "    if len(a) != len(b):\n",
    "        return False\n",
    "    \n",
    "    d1 = {}\n",
    "    \n",
    "    for i in range(len(a)):\n",
    "        print(d1)\n",
    "        if s1[i] not in d1:\n",
    "            d1[s1[i]] = 1\n",
    "        else:\n",
    "            d1[s1[i]] += 1\n",
    "            \n",
    "        if s2[i] not in d1:\n",
    "            d1[s2[i]] = -1\n",
    "        else:\n",
    "            d1[s2[i]] -= 1\n",
    "            \n",
    "    return max(list(d1.values())) == 0"
   ]
  },
  {
   "cell_type": "code",
   "execution_count": 35,
   "id": "8da33bbd",
   "metadata": {},
   "outputs": [
    {
     "data": {
      "text/plain": [
       "True"
      ]
     },
     "execution_count": 35,
     "metadata": {},
     "output_type": "execute_result"
    }
   ],
   "source": [
    "sorted(a) == sorted(b)"
   ]
  },
  {
   "cell_type": "code",
   "execution_count": 138,
   "id": "6ecb030b",
   "metadata": {},
   "outputs": [],
   "source": [
    "a = [[1,2,3,],[4,5,6,],[7,8,9,]]\n",
    "row = len(a)\n",
    "col = len(a[0])\n",
    "left = [[0] * row for i in range(col)]\n",
    "right = [[0] * row for i in range(col)]\n",
    "\n",
    "for i in range(row-1, -1, -1):\n",
    "    for j in range(col-1, -1, -1):\n",
    "        left[col-j-1][i] = a[i][j]\n",
    "        right[j][row-i-1] = a[i][j]"
   ]
  },
  {
   "cell_type": "code",
   "execution_count": 183,
   "id": "d3ff803a",
   "metadata": {},
   "outputs": [],
   "source": [
    "def rotate_left(arr):\n",
    "    N = len(arr)\n",
    "    for x in range(N//2):\n",
    "        for y in range(x,N-x-1):\n",
    "            temp = arr[x][y]\n",
    "            arr[x][y] = arr[y][N-1-x]\n",
    "            arr[y][N-1-x] = arr[N-1-x][N-1-y]\n",
    "            arr[N-1-x][N-1-y] = arr[N-1-y][x]\n",
    "            arr[N-1-y][x] = temp"
   ]
  },
  {
   "cell_type": "code",
   "execution_count": 188,
   "id": "4a552a77",
   "metadata": {},
   "outputs": [],
   "source": [
    "def rotate_right(arr):\n",
    "    N = len(arr)\n",
    "    for x in range(N//2):\n",
    "        for y in range(x,N-x-1):\n",
    "            temp = arr[x][y]\n",
    "            arr[x][y] = arr[N-y-1][x]\n",
    "            arr[N-y-1][x] = arr[N-1-x][N-1-y]\n",
    "            arr[N-1-x][N-1-y] = arr[y][N-1-x]\n",
    "            arr[y][N-1-x] = temp"
   ]
  },
  {
   "cell_type": "code",
   "execution_count": 234,
   "id": "2ad38a18",
   "metadata": {},
   "outputs": [],
   "source": [
    "def set_zero(arr):\n",
    "    rows = set()\n",
    "    cols = set()\n",
    "    for i in range(len(arr)):\n",
    "        for j in range(len(arr[0])):\n",
    "            if arr[i][j] == 0:\n",
    "                rows.add(i)\n",
    "                cols.add(j)\n",
    "                \n",
    "    print(rows, cols)\n",
    "    for ind,row in enumerate(arr):\n",
    "        if ind in rows:\n",
    "            arr[ind] = [0] * len(arr[ind])\n",
    "            continue\n",
    "        for col in cols:\n",
    "            row[col] = 0"
   ]
  },
  {
   "cell_type": "code",
   "execution_count": 267,
   "id": "6a3b0697",
   "metadata": {},
   "outputs": [
    {
     "data": {
      "text/plain": [
       "[12]"
      ]
     },
     "execution_count": 267,
     "metadata": {},
     "output_type": "execute_result"
    }
   ],
   "source": [
    "from collections import deque\n",
    "a = [12,52,61,265,13]\n",
    "a1 = a[:int(len(a)/3)]\n",
    "a2 = a[int(len(a)/3):int(len(a)*2/3)]\n",
    "a3 = a[int(len(a)*2/3):]\n",
    "a1\n"
   ]
  },
  {
   "cell_type": "code",
   "execution_count": 659,
   "id": "75e29207",
   "metadata": {},
   "outputs": [],
   "source": [
    "class Solution(object):\n",
    "    def subarraySum(self, nums, k):\n",
    "        count = 0\n",
    "        for i in range(len(nums)):\n",
    "            for j in range(i, len(nums)):\n",
    "                print(i,j, nums[i:j+1])\n",
    "                if sum(nums[i:j+1]) == k:\n",
    "                    count += 1\n",
    "        return count"
   ]
  },
  {
   "cell_type": "code",
   "execution_count": 660,
   "id": "643680e7",
   "metadata": {},
   "outputs": [
    {
     "name": "stdout",
     "output_type": "stream",
     "text": [
      "0 0 [1]\n",
      "0 1 [1, 1]\n",
      "0 2 [1, 1, 1]\n",
      "1 1 [1]\n",
      "1 2 [1, 1]\n",
      "2 2 [1]\n"
     ]
    },
    {
     "data": {
      "text/plain": [
       "2"
      ]
     },
     "execution_count": 660,
     "metadata": {},
     "output_type": "execute_result"
    }
   ],
   "source": [
    "s = Solution()\n",
    "s.subarraySum([1,1,1], 2)"
   ]
  },
  {
   "cell_type": "code",
   "execution_count": 355,
   "id": "09c9eb56",
   "metadata": {},
   "outputs": [
    {
     "data": {
      "text/plain": [
       "[1, 2, 3, 4, 5]"
      ]
     },
     "execution_count": 355,
     "metadata": {},
     "output_type": "execute_result"
    }
   ],
   "source": [
    "[1,2,3,4,5][:6]"
   ]
  },
  {
   "cell_type": "code",
   "execution_count": 657,
   "id": "81fd418b",
   "metadata": {},
   "outputs": [],
   "source": [
    "class Solution(object):\n",
    "    def twoSum(self, numbers, target):\n",
    "        i = 0\n",
    "        j = len(numbers) - 1\n",
    "        while i<j:\n",
    "            cur_sum = numbers[i] + numbers[j]\n",
    "            if cur_sum < target:\n",
    "                i += 1\n",
    "            elif cur_sum > target:\n",
    "                j -= 1\n",
    "            else:\n",
    "                return [i+1, j+1]"
   ]
  },
  {
   "cell_type": "code",
   "execution_count": 658,
   "id": "3f377f5d",
   "metadata": {},
   "outputs": [
    {
     "data": {
      "text/plain": [
       "[4, 5]"
      ]
     },
     "execution_count": 658,
     "metadata": {},
     "output_type": "execute_result"
    }
   ],
   "source": [
    "a = Solution()\n",
    "a.twoSum([-2,-1,0,1,2,6,7], 3)"
   ]
  },
  {
   "cell_type": "code",
   "execution_count": 2,
   "id": "025e1204",
   "metadata": {},
   "outputs": [
    {
     "data": {
      "text/plain": [
       "0"
      ]
     },
     "execution_count": 2,
     "metadata": {},
     "output_type": "execute_result"
    }
   ],
   "source": [
    "winner(a)"
   ]
  },
  {
   "cell_type": "markdown",
   "id": "d3e29216",
   "metadata": {},
   "source": [
    "# max of two nums"
   ]
  },
  {
   "cell_type": "code",
   "execution_count": 3,
   "id": "f3ff7ff6",
   "metadata": {},
   "outputs": [],
   "source": [
    "def max_two(x,y):\n",
    "    return (x * 0**(y//x)) + ((y * 0**(x//y)))"
   ]
  },
  {
   "cell_type": "code",
   "execution_count": 4,
   "id": "d1e5e548",
   "metadata": {},
   "outputs": [
    {
     "data": {
      "text/plain": [
       "0.0"
      ]
     },
     "execution_count": 4,
     "metadata": {},
     "output_type": "execute_result"
    }
   ],
   "source": [
    "max_two(2.3124, 2.3124)"
   ]
  },
  {
   "cell_type": "code",
   "execution_count": 102,
   "id": "15d834b4",
   "metadata": {},
   "outputs": [
    {
     "data": {
      "text/plain": [
       "3"
      ]
     },
     "execution_count": 102,
     "metadata": {},
     "output_type": "execute_result"
    }
   ],
   "source": [
    "a = 3\n",
    "b = 20\n",
    "c = a - b\n",
    "k = (c >> 31) & 0*1\n",
    "m = a - k * c\n",
    "m"
   ]
  },
  {
   "cell_type": "code",
   "execution_count": 119,
   "id": "7a921253",
   "metadata": {},
   "outputs": [
    {
     "ename": "TypeError",
     "evalue": "unsupported operand type(s) for >>: 'float' and 'float'",
     "output_type": "error",
     "traceback": [
      "\u001b[0;31m---------------------------------------------------------------------------\u001b[0m",
      "\u001b[0;31mTypeError\u001b[0m                                 Traceback (most recent call last)",
      "\u001b[0;32m<ipython-input-119-088239f21ac2>\u001b[0m in \u001b[0;36m<module>\u001b[0;34m\u001b[0m\n\u001b[1;32m      2\u001b[0m \u001b[0mb\u001b[0m \u001b[0;34m=\u001b[0m \u001b[0;36m23.234\u001b[0m\u001b[0;34m\u001b[0m\u001b[0m\n\u001b[1;32m      3\u001b[0m \u001b[0mc\u001b[0m \u001b[0;34m=\u001b[0m \u001b[0ma\u001b[0m \u001b[0;34m-\u001b[0m \u001b[0mb\u001b[0m\u001b[0;34m\u001b[0m\u001b[0m\n\u001b[0;32m----> 4\u001b[0;31m \u001b[0mm\u001b[0m \u001b[0;34m=\u001b[0m \u001b[0ma\u001b[0m \u001b[0;34m-\u001b[0m \u001b[0;34m(\u001b[0m\u001b[0mc\u001b[0m \u001b[0;34m&\u001b[0m \u001b[0;34m(\u001b[0m\u001b[0mc\u001b[0m\u001b[0;34m>>\u001b[0m\u001b[0;36m31.0\u001b[0m\u001b[0;34m)\u001b[0m\u001b[0;34m)\u001b[0m\u001b[0;34m\u001b[0m\u001b[0m\n\u001b[0m\u001b[1;32m      5\u001b[0m \u001b[0mm\u001b[0m\u001b[0;34m\u001b[0m\u001b[0m\n",
      "\u001b[0;31mTypeError\u001b[0m: unsupported operand type(s) for >>: 'float' and 'float'"
     ]
    }
   ],
   "source": [
    "a = -132.123\n",
    "b = 23.234\n",
    "c = a - b\n",
    "m = a - (c & (c>>31))\n",
    "m"
   ]
  },
  {
   "cell_type": "markdown",
   "id": "3a5931d5",
   "metadata": {},
   "source": [
    "# number to words"
   ]
  },
  {
   "cell_type": "code",
   "execution_count": 297,
   "id": "feafe18c",
   "metadata": {},
   "outputs": [],
   "source": [
    "ones = ['zero','one','two','three','four','five','six','seven','eight','nine']\n",
    "tens = ['ten','twenty','thirty','forty','fifty','sisty','seventy','eighty','ninety']\n",
    "ten_one = ['eleven','twelve','thirteen','fourteen','fifteen','sixteen','seventeen','eighteen','nineteen']\n",
    "high = ['hundred','thousand']\n",
    "unit = [100000,10000,1000,100,10,1]"
   ]
  },
  {
   "cell_type": "code",
   "execution_count": 387,
   "id": "84b2cbc2",
   "metadata": {},
   "outputs": [],
   "source": [
    "def num_to_text(a):\n",
    "    s = ['']\n",
    "    if a == 0:\n",
    "        return 'zero'\n",
    "    for u in unit:\n",
    "        cur = a//u\n",
    "        if cur > 0:\n",
    "            if u == 100000:\n",
    "                s.append(ones[cur])\n",
    "                s.append('hundred')\n",
    "                s.append('thousand')\n",
    "            elif u == 100:\n",
    "                s.append(ones[cur])\n",
    "                s.append('hundred')\n",
    "            elif u == 10000:\n",
    "                s.pop()\n",
    "                if a//u == 1 and a%u != 0:\n",
    "                    cur = (a%u)//u\n",
    "                    s.append(ten_one[cur-1])\n",
    "                    a %= u\n",
    "                else:\n",
    "                    s.append(tens[cur-1])\n",
    "                s.append('thousand')\n",
    "            elif u == 1000:\n",
    "                s.pop()\n",
    "                s.append(ones[cur])\n",
    "                s.append('thousand')\n",
    "            elif u == 10:\n",
    "                if a//u == 1 and a%u != 0:\n",
    "                    cur = (a%u)\n",
    "                    s.append(ten_one[cur-1])\n",
    "                    break\n",
    "                else:\n",
    "                    s.append(tens[cur-1])\n",
    "            elif u == 1:\n",
    "                s.append(ones[cur])\n",
    "        a %= u\n",
    "    return \" \".join(s)"
   ]
  },
  {
   "cell_type": "code",
   "execution_count": 388,
   "id": "055295d5",
   "metadata": {},
   "outputs": [
    {
     "data": {
      "text/plain": [
       "' twelve'"
      ]
     },
     "execution_count": 388,
     "metadata": {},
     "output_type": "execute_result"
    }
   ],
   "source": [
    "a = 12\n",
    "num_to_text(a)"
   ]
  },
  {
   "cell_type": "markdown",
   "id": "5f00c3a3",
   "metadata": {},
   "source": [
    "# sudoku"
   ]
  },
  {
   "cell_type": "code",
   "execution_count": null,
   "id": "f82ab7de",
   "metadata": {},
   "outputs": [],
   "source": [
    "class Solution(object):\n",
    "    def isValidSudoku(self, board):\n",
    "        for i in range(len(board)):\n",
    "            dp = set()\n",
    "            for row_val in board[i]:\n",
    "                if row_val == '.':\n",
    "                    continue\n",
    "                if row_val in dp:\n",
    "                    return False\n",
    "                dp.add(row_val)\n",
    "                \n",
    "            dp = set()\n",
    "            for row in range(len(board)):\n",
    "                if board[row][i] == '.':\n",
    "                    continue\n",
    "                if board[row][i] in dp:\n",
    "                    return False\n",
    "                dp.add(board[row][i])\n",
    "                \n",
    "            dp = set()\n",
    "            for sq in range(len(board)):\n",
    "                r = (sq//3) + (i//3)*3\n",
    "                c = sq - (sq//3 * 3) + (i%3)*3\n",
    "                if board[r][c] == '.':\n",
    "                    continue\n",
    "                if board[r][c] in dp:\n",
    "                    return False\n",
    "                dp.add(board[r][c])\n",
    "                \n",
    "        return True"
   ]
  },
  {
   "cell_type": "code",
   "execution_count": 832,
   "id": "a943e7f1",
   "metadata": {},
   "outputs": [],
   "source": [
    "def isValidSudoku(board):\n",
    "    row_dict = {}\n",
    "    col_dict = {}\n",
    "    sq_dict = {}\n",
    "\n",
    "    for row in range(len(board)):\n",
    "        row_dict[row] = set()\n",
    "        for col in range(len(board)):\n",
    "            print(board[row][col])\n",
    "            print(row_dict)\n",
    "            print(col_dict)\n",
    "            print(sq_dict,'\\n')\n",
    "            if col not in col_dict:\n",
    "                col_dict[col] = set()\n",
    "            if (row//3, col//3) not in sq_dict:\n",
    "                sq_dict[(row//3, col//3)] = set()\n",
    "\n",
    "            if board[row][col] in row_dict[row]:\n",
    "                return False\n",
    "            if board[row][col] in col_dict[col]:\n",
    "                return False\n",
    "            if board[row][col] in sq_dict[(row//3, col//3)]:\n",
    "                return False\n",
    "\n",
    "            row_dict[row].add(board[row][col])\n",
    "            col_dict[col].add(board[row][col])\n",
    "            sq_dict[(row//3, col//3)].add(board[row][col])\n",
    "\n",
    "    return True"
   ]
  },
  {
   "cell_type": "code",
   "execution_count": null,
   "id": "072914e7",
   "metadata": {},
   "outputs": [],
   "source": [
    "board = [[\"5\",\"3\",\".\",\".\",\"7\",\".\",\".\",\".\",\".\"]\n",
    "        ,[\"6\",\".\",\".\",\"1\",\"9\",\"5\",\".\",\".\",\".\"]\n",
    "        ,[\".\",\"9\",\"8\",\".\",\".\",\".\",\".\",\"6\",\".\"]\n",
    "        ,[\"8\",\".\",\".\",\".\",\"6\",\".\",\".\",\".\",\"3\"]\n",
    "        ,[\"4\",\".\",\".\",\"8\",\".\",\"3\",\".\",\".\",\"1\"]\n",
    "        ,[\"7\",\".\",\".\",\".\",\"2\",\".\",\".\",\".\",\"6\"]\n",
    "        ,[\".\",\"6\",\".\",\".\",\".\",\".\",\"2\",\"8\",\".\"]\n",
    "        ,[\".\",\".\",\".\",\"4\",\"1\",\"9\",\".\",\".\",\"5\"]\n",
    "        ,[\".\",\".\",\".\",\".\",\"8\",\".\",\".\",\"7\",\"9\"]]"
   ]
  },
  {
   "cell_type": "code",
   "execution_count": 834,
   "id": "03abe830",
   "metadata": {},
   "outputs": [
    {
     "name": "stdout",
     "output_type": "stream",
     "text": [
      "5\n",
      "{0: set()}\n",
      "{}\n",
      "{} \n",
      "\n",
      "3\n",
      "{0: {'5'}}\n",
      "{0: {'5'}}\n",
      "{(0, 0): {'5'}} \n",
      "\n",
      ".\n",
      "{0: {'3', '5'}}\n",
      "{0: {'5'}, 1: {'3'}}\n",
      "{(0, 0): {'3', '5'}} \n",
      "\n",
      ".\n",
      "{0: {'3', '5', '.'}}\n",
      "{0: {'5'}, 1: {'3'}, 2: {'.'}}\n",
      "{(0, 0): {'3', '5', '.'}} \n",
      "\n"
     ]
    },
    {
     "data": {
      "text/plain": [
       "False"
      ]
     },
     "execution_count": 834,
     "metadata": {},
     "output_type": "execute_result"
    }
   ],
   "source": [
    "isValidSudoku(board)"
   ]
  },
  {
   "cell_type": "markdown",
   "id": "bcd1b0d3",
   "metadata": {},
   "source": [
    "# longest consecutive substring"
   ]
  },
  {
   "cell_type": "code",
   "execution_count": 21,
   "id": "ea11126a",
   "metadata": {},
   "outputs": [],
   "source": [
    "def longestConsecutive(nums):\n",
    "    dp = set(nums)\n",
    "    seen = set()\n",
    "    max_len = 1\n",
    "    for num in nums:\n",
    "        if num in seen:\n",
    "            continue\n",
    "        elif (num-1 not in dp and num+1 not in dp) or (num-1 in dp and num+1 in dp) or (num-1 not in dp):\n",
    "            seen.add(num)\n",
    "        elif num-1 in dp:\n",
    "            temp = num\n",
    "            c = 0\n",
    "            while temp in dp:\n",
    "                seen.add(temp)\n",
    "                temp -= 1\n",
    "                c += 1\n",
    "            max_len = max(max_len, c)\n",
    "\n",
    "    return max_len"
   ]
  },
  {
   "cell_type": "code",
   "execution_count": 22,
   "id": "235e4770",
   "metadata": {},
   "outputs": [
    {
     "data": {
      "text/plain": [
       "1"
      ]
     },
     "execution_count": 22,
     "metadata": {},
     "output_type": "execute_result"
    }
   ],
   "source": [
    "a = [100,4,200,1,3,2]\n",
    "a = [0,3,7,2,5,8,4,6,0,1]\n",
    "longestConsecutive([0])"
   ]
  },
  {
   "cell_type": "code",
   "execution_count": 25,
   "id": "58a39d64",
   "metadata": {},
   "outputs": [],
   "source": [
    "def trap(height):\n",
    "    total = 0\n",
    "    start = 0\n",
    "    while start < len(height):\n",
    "\n",
    "        if height[start] == 0:\n",
    "            start += 1\n",
    "            continue\n",
    "            \n",
    "        dist = 0  \n",
    "        end = start + 1\n",
    "        sub = 0\n",
    "        while end < len(height) and height[end] < height[start]:\n",
    "\n",
    "            if height[end] != 0:\n",
    "                sub += height[end]\n",
    "            end += 1\n",
    "            dist += 1\n",
    "\n",
    "            if end > len(height)-1:\n",
    "                break\n",
    "        \n",
    "        if end < len(height):\n",
    "            total += dist*min(height[start], height[end])\n",
    "            total -= sub\n",
    "            start = end\n",
    "        else:\n",
    "            start += 1\n",
    "\n",
    "    return total "
   ]
  },
  {
   "cell_type": "code",
   "execution_count": 26,
   "id": "e71f628b",
   "metadata": {},
   "outputs": [
    {
     "data": {
      "text/plain": [
       "0"
      ]
     },
     "execution_count": 26,
     "metadata": {},
     "output_type": "execute_result"
    }
   ],
   "source": [
    "height = [4,2,3]\n",
    "trap(height)"
   ]
  },
  {
   "cell_type": "markdown",
   "id": "14fa5bc1",
   "metadata": {},
   "source": [
    "# 14. Longest Common Prefix"
   ]
  },
  {
   "cell_type": "code",
   "execution_count": 29,
   "id": "129db37b",
   "metadata": {},
   "outputs": [],
   "source": [
    "# Horizontal Scan\n",
    "class Solution(object):\n",
    "    def longestCommonPrefix(self, strs):\n",
    "        \n",
    "        res = list(strs[0])\n",
    "        \n",
    "        for word in strs[1:]:\n",
    "            cur = 0\n",
    "            for i, char in enumerate(word):\n",
    "                if i<len(res) and char == res[i]:\n",
    "                    cur+=1\n",
    "                else:\n",
    "                    break\n",
    "                    \n",
    "            if len(res[:cur]) < len(res):\n",
    "                res = res[:cur]\n",
    "                    \n",
    "        return \"\".join(res)"
   ]
  },
  {
   "cell_type": "code",
   "execution_count": 30,
   "id": "8091ef8c",
   "metadata": {},
   "outputs": [],
   "source": [
    "def longestCommonPrefix(strs) -> str:\n",
    "        long_prefix=\"\"\n",
    "        for i in range(len(strs[0])):\n",
    "            for w in strs:\n",
    "                if i==len(w) or strs[0][i] != w[i]:\n",
    "                    return long_prefix\n",
    "            long_prefix+=strs[0][i]\n",
    "        return long_prefix"
   ]
  },
  {
   "cell_type": "code",
   "execution_count": 27,
   "id": "c036d32a",
   "metadata": {},
   "outputs": [],
   "source": [
    "def lengthOfLongestSubstring(s):    \n",
    "\n",
    "    result = 0\n",
    "    char = set()\n",
    "    left = 0\n",
    "\n",
    "    for r in range(len(s)):\n",
    "        print(char, left, r, result)\n",
    "        while s[r] in char:\n",
    "            char.remove(s[r])\n",
    "            left += 1\n",
    "        char.add(s[r])\n",
    "        result = max(result, r-left+1)\n",
    "\n",
    "    return result"
   ]
  },
  {
   "cell_type": "code",
   "execution_count": 28,
   "id": "6d957502",
   "metadata": {},
   "outputs": [
    {
     "name": "stdout",
     "output_type": "stream",
     "text": [
      "set() 0 0 0\n",
      "{'p'} 0 1 1\n",
      "{'w', 'p'} 0 2 2\n",
      "{'w', 'p'} 1 3 2\n",
      "{'k', 'w', 'p'} 1 4 3\n",
      "{'k', 'w', 'p', 'e'} 1 5 4\n"
     ]
    },
    {
     "data": {
      "text/plain": [
       "4"
      ]
     },
     "execution_count": 28,
     "metadata": {},
     "output_type": "execute_result"
    }
   ],
   "source": [
    "s = \"pwwkew\"\n",
    "lengthOfLongestSubstring(s)"
   ]
  },
  {
   "cell_type": "markdown",
   "id": "e1fbb35c",
   "metadata": {},
   "source": [
    "# Permutation in String"
   ]
  },
  {
   "cell_type": "code",
   "execution_count": 787,
   "id": "fcf5384f",
   "metadata": {},
   "outputs": [],
   "source": [
    "def checkInclusion(s1, s2):\n",
    "        target = {}\n",
    "        match = 0\n",
    "        for char in s1:\n",
    "            target[char] = target.get(char, 0) + 1\n",
    "        \n",
    "        cur = {}\n",
    "        for char in s2[:len(s1)]:\n",
    "            if char in target:\n",
    "                cur[char] = cur.get(char, 0) + 1\n",
    "        \n",
    "        for key in target:\n",
    "            if target[key] == cur.get(key):\n",
    "                match += 1\n",
    "        print(cur, target, match)\n",
    "        left = 0\n",
    "        for right in range(len(s1),len(s2)):\n",
    "            print(left, right, cur, target, match)\n",
    "            if match == len(target):\n",
    "                return True\n",
    "            \n",
    "            if s2[right] in target:\n",
    "                cur[s2[right]] = cur.get(s2[right], 0) + 1\n",
    "                if cur[s2[right]] == target[s2[right]]:\n",
    "                    match += 1\n",
    "                else:\n",
    "                    match -= 1\n",
    "            if s2[left] in target:\n",
    "                cur[s2[left]] = cur.get(s2[left], 0) - 1\n",
    "                if cur[s2[right]] == target[s2[right]]:\n",
    "                    match += 1\n",
    "                else:\n",
    "                    match -= 1\n",
    "            left += 1\n",
    "        \n",
    "        return False\n",
    "                "
   ]
  },
  {
   "cell_type": "code",
   "execution_count": 788,
   "id": "d1b10700",
   "metadata": {},
   "outputs": [
    {
     "name": "stdout",
     "output_type": "stream",
     "text": [
      "{'o': 3, 'l': 2} {'h': 1, 'e': 1, 'l': 2, 'o': 1} 1\n",
      "0 5 {'o': 3, 'l': 2} {'h': 1, 'e': 1, 'l': 2, 'o': 1} 1\n",
      "1 6 {'o': 2, 'l': 2, 'e': 1} {'h': 1, 'e': 1, 'l': 2, 'o': 1} 3\n",
      "2 7 {'o': 2, 'l': 2, 'e': 1} {'h': 1, 'e': 1, 'l': 2, 'o': 1} 1\n",
      "3 8 {'o': 2, 'l': 2, 'e': 1} {'h': 1, 'e': 1, 'l': 2, 'o': 1} -1\n",
      "4 9 {'o': 3, 'l': 1, 'e': 1} {'h': 1, 'e': 1, 'l': 2, 'o': 1} -3\n",
      "5 10 {'o': 3, 'l': 1, 'e': 1} {'h': 1, 'e': 1, 'l': 2, 'o': 1} -3\n",
      "6 11 {'o': 3, 'l': 1, 'e': 1} {'h': 1, 'e': 1, 'l': 2, 'o': 1} -3\n"
     ]
    },
    {
     "data": {
      "text/plain": [
       "False"
      ]
     },
     "execution_count": 788,
     "metadata": {},
     "output_type": "execute_result"
    }
   ],
   "source": [
    "s1 = \"hello\"\n",
    "s2 = \"ooolleoooleh\"\n",
    "checkInclusion(s1, s2)"
   ]
  },
  {
   "cell_type": "code",
   "execution_count": null,
   "id": "546a3532",
   "metadata": {},
   "outputs": [],
   "source": []
  }
 ],
 "metadata": {
  "kernelspec": {
   "display_name": "Python 3",
   "language": "python",
   "name": "python3"
  },
  "language_info": {
   "codemirror_mode": {
    "name": "ipython",
    "version": 3
   },
   "file_extension": ".py",
   "mimetype": "text/x-python",
   "name": "python",
   "nbconvert_exporter": "python",
   "pygments_lexer": "ipython3",
   "version": "3.6.5"
  }
 },
 "nbformat": 4,
 "nbformat_minor": 5
}
