{
 "cells": [
  {
   "cell_type": "code",
   "execution_count": 1,
   "id": "fe8c422e",
   "metadata": {},
   "outputs": [],
   "source": [
    "from collections import defaultdict\n",
    "def groupAnagrams(strs):\n",
    "    res = []\n",
    "    dp = defaultdict(list)\n",
    "\n",
    "    for word in strs:\n",
    "        count = [0] * 26\n",
    "        for letter in word:\n",
    "            ch_ind = ord(letter) - ord(\"a\")\n",
    "            count[ch_ind] += 1\n",
    "\n",
    "\n",
    "        dp[tuple(count)].append(word)\n",
    "\n",
    "    for k in dp:\n",
    "        res.append(dp[k])\n",
    "\n",
    "    return list(dp.values())"
   ]
  },
  {
   "cell_type": "code",
   "execution_count": 2,
   "id": "7a3f592a",
   "metadata": {},
   "outputs": [
    {
     "data": {
      "text/plain": [
       "[['eat', 'tea', 'ate'], ['tan', 'nat'], ['bat']]"
      ]
     },
     "execution_count": 2,
     "metadata": {},
     "output_type": "execute_result"
    }
   ],
   "source": [
    "groupAnagrams([\"eat\",\"tea\",\"tan\",\"ate\",\"nat\",\"bat\"])"
   ]
  },
  {
   "cell_type": "code",
   "execution_count": null,
   "id": "8ed7f028",
   "metadata": {},
   "outputs": [],
   "source": []
  }
 ],
 "metadata": {
  "kernelspec": {
   "display_name": "Python 3",
   "language": "python",
   "name": "python3"
  },
  "language_info": {
   "codemirror_mode": {
    "name": "ipython",
    "version": 3
   },
   "file_extension": ".py",
   "mimetype": "text/x-python",
   "name": "python",
   "nbconvert_exporter": "python",
   "pygments_lexer": "ipython3",
   "version": "3.6.5"
  }
 },
 "nbformat": 4,
 "nbformat_minor": 5
}
