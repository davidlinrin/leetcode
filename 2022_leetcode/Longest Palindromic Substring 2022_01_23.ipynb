{
 "cells": [
  {
   "cell_type": "code",
   "execution_count": 88,
   "id": "0ced94e3",
   "metadata": {},
   "outputs": [
    {
     "name": "stdout",
     "output_type": "stream",
     "text": [
      "bb\n"
     ]
    }
   ],
   "source": [
    "# FAIL ATEMPT\n",
    "s = \"cbbd\"\n",
    "result = s[0]\n",
    "\n",
    "for start, start_char in enumerate(s):\n",
    "    palin = []\n",
    "    palin.append(start_char)\n",
    "    for end_char in s[start+1:]:\n",
    "        palin.append(end_char)\n",
    "        rev = palin[::-1]\n",
    "        if (start_char==end_char) and (palin==rev) and (len(palin)>len(result)):\n",
    "            result = ''.join(palin)\n",
    "        else:\n",
    "            next\n",
    "            \n",
    "print(result)"
   ]
  },
  {
   "cell_type": "code",
   "execution_count": 84,
   "id": "49b37b8c",
   "metadata": {},
   "outputs": [
    {
     "name": "stdout",
     "output_type": "stream",
     "text": [
      "smkmkms\n"
     ]
    }
   ],
   "source": [
    "# FAIL ATEMPT\n",
    "s = 'masmkmkms'\n",
    "result = s[0]\n",
    "\n",
    "for start, start_char in enumerate(s):\n",
    "    forward = start_char\n",
    "    backward = start_char\n",
    "    for end_char in s[start+1:]:\n",
    "        forward = forward + end_char\n",
    "        backward = end_char + backward\n",
    "        if (forward==backward) and (len(forward)>len(result)):\n",
    "            result = forward\n",
    "        else:\n",
    "            next\n",
    "            \n",
    "print(result)"
   ]
  },
  {
   "cell_type": "code",
   "execution_count": 87,
   "id": "e5979c45",
   "metadata": {},
   "outputs": [
    {
     "name": "stdout",
     "output_type": "stream",
     "text": [
      "smkmkms\n"
     ]
    }
   ],
   "source": [
    "# COMMENT SECTION SOLUTION O(N^3)\n",
    "s = 'masmkmkms'\n",
    "palin = ''\n",
    "\n",
    "for start in range(len(s)):\n",
    "    for end in range(len(s), start, -1):  \n",
    "        if len(palin) >= end-start:  \n",
    "            break\n",
    "        elif s[start:end] == s[start:end][::-1]:\n",
    "            palin = s[start:end]\n",
    "            break\n",
    "print(palin)"
   ]
  },
  {
   "cell_type": "code",
   "execution_count": null,
   "id": "5e499231",
   "metadata": {},
   "outputs": [],
   "source": []
  },
  {
   "cell_type": "code",
   "execution_count": null,
   "id": "25a90aa7",
   "metadata": {},
   "outputs": [],
   "source": []
  }
 ],
 "metadata": {
  "kernelspec": {
   "display_name": "Python 3",
   "language": "python",
   "name": "python3"
  },
  "language_info": {
   "codemirror_mode": {
    "name": "ipython",
    "version": 3
   },
   "file_extension": ".py",
   "mimetype": "text/x-python",
   "name": "python",
   "nbconvert_exporter": "python",
   "pygments_lexer": "ipython3",
   "version": "3.6.5"
  }
 },
 "nbformat": 4,
 "nbformat_minor": 5
}
