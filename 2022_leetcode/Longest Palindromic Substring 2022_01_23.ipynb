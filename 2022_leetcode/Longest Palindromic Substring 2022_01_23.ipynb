{
 "cells": [
  {
   "cell_type": "code",
   "execution_count": 88,
   "id": "25793d33",
   "metadata": {},
   "outputs": [
    {
     "name": "stdout",
     "output_type": "stream",
     "text": [
      "bb\n"
     ]
    }
   ],
   "source": [
    "# FAIL ATEMPT\n",
    "s = \"cbbd\"\n",
    "result = s[0]\n",
    "\n",
    "for start, start_char in enumerate(s):\n",
    "    palin = []\n",
    "    palin.append(start_char)\n",
    "    for end_char in s[start+1:]:\n",
    "        palin.append(end_char)\n",
    "        rev = palin[::-1]\n",
    "        if (start_char==end_char) and (palin==rev) and (len(palin)>len(result)):\n",
    "            result = ''.join(palin)\n",
    "        else:\n",
    "            next\n",
    "            \n",
    "print(result)"
   ]
  },
  {
   "cell_type": "code",
   "execution_count": 91,
   "id": "d6d65c33",
   "metadata": {},
   "outputs": [
    {
     "name": "stdout",
     "output_type": "stream",
     "text": [
      "dtzztd\n"
     ]
    }
   ],
   "source": [
    "# FAIL ATEMPT (Failed because string concatnation is O(n) not O(1)), thus this solution is O(n^3)\n",
    "s = \"kztakrekvefgchersuoiuatzlmwynzjhdqqftjcqmntoyckqfawikkdrnfgbwtdpbkymvwoumurjdzygyzsbmwzpcxcdmmpwzmeibligwiiqbecxwyxigikoewwrczkanwwqukszsbjukzumzladrvjefpegyicsgctdvldetuegxwihdtitqrdmygdrsweahfrepdcudvyvrggbkthztxwicyzazjyeztytwiyybqdsczozvtegodacdokczfmwqfmyuixbeeqluqcqwxpyrkpfcdosttzooykpvdykfxulttvvwnzftndvhsvpgrgdzsvfxdtzztdiswgwxzvbpsjlizlfrlgvlnwbjwbujafjaedivvgnbgwcdbzbdbprqrflfhahsvlcekeyqueyxjfetkxpapbeejoxwxlgepmxzowldsmqllpzeymakcshfzkvyykwljeltutdmrhxcbzizihzinywggzjctzasvefcxmhnusdvlderconvaisaetcdldeveeemhugipfzbhrwidcjpfrumshbdofchpgcsbkvaexfmenpsuodatxjavoszcitjewflejjmsuvyuyrkumednsfkbgvbqxfphfqeqozcnabmtedffvzwbgbzbfydiyaevoqtfmzxaujdydtjftapkpdhnbmrylcibzuqqynvnsihmyxdcrfftkuoymzoxpnashaderlosnkxbhamkkxfhwjsyehkmblhppbyspmcwuoguptliashefdklokjpggfiixozsrlwmeksmzdcvipgkwxwynzsvxnqtchgwwadqybkguscfyrbyxudzrxacoplmcqcsmkraimfwbauvytkxdnglwfuvehpxd\"\n",
    "result = s[0]\n",
    "\n",
    "for start, start_char in enumerate(s):\n",
    "    forward = start_char      # what is spelt foward\n",
    "    backward = start_char     # backward version\n",
    "    for end_char in s[start+1:]:\n",
    "        forward = forward + end_char  \n",
    "        backward = end_char + backward \n",
    "        if (forward==backward) and (len(forward)>len(result)):\n",
    "            result = forward\n",
    "        else:\n",
    "            next\n",
    "            \n",
    "print(result)"
   ]
  },
  {
   "cell_type": "code",
   "execution_count": 137,
   "id": "a0b5ddd2",
   "metadata": {},
   "outputs": [
    {
     "name": "stdout",
     "output_type": "stream",
     "text": [
      "1 3\n",
      "aba\n"
     ]
    }
   ],
   "source": [
    "# dynamic programming matrix approach, O(n^2) solution\n",
    "s = \"babad\"\n",
    "\n",
    "palin = [[False for j in range(len(s))] for i in range(len(s))]\n",
    "longest_i = 0\n",
    "longest_j = 0\n",
    "\n",
    "for offset in range(len(s)):\n",
    "    for i in range(len(s)-offset):\n",
    "        j = i + offset\n",
    "        if (s[i] == s[j]) and (offset>1):\n",
    "            if palin[i+1][j-1] == True:\n",
    "                palin[i][j] = True\n",
    "                longest_i = i\n",
    "                longest_j = j\n",
    "        elif (s[i] == s[j]) and (offset<2):\n",
    "            palin[i][j] = True\n",
    "            longest_i = i\n",
    "            longest_j = j\n",
    "        else:\n",
    "            next\n",
    "            \n",
    "print(longest_i, longest_j)\n",
    "print(s[longest_i:longest_j+1])"
   ]
  },
  {
   "cell_type": "code",
   "execution_count": 131,
   "id": "8d32fef6",
   "metadata": {},
   "outputs": [
    {
     "name": "stdout",
     "output_type": "stream",
     "text": [
      "knnk\n"
     ]
    }
   ],
   "source": [
    "from pprint import pprint\n",
    "s = 'wsgdzojcrxtfqcfkhhcuxxnbwtxzkkeunmpdsqfvgfjhusholnwrhmzexhfqppatkexuzdllrbaxygmovqwfvmmbvuuctcwxhrmepxmnxlxdkyzfsqypuroxdczuilbjypnirljxfgpuhhgusflhalorkcvqfknnkqyprxlwmakqszsdqnfovptsgbppvejvukbxaybccxzeqcjhmnexlaafmycwopxntuisxcitxdbarsicvwrvjmxsapmhbbnuivzhkgcrshokkioagwidhmfzjwwywastecjsolxmhfnmgommkoimiwlgwxxdsxhuwwjhpxxgmeuzhdzmuqhmhnfwwokgvwsznfcoxbferdonrexzanpymxtfojodcfydedlxmxeffhwjeegqnagoqlwwdctbqnuxngrgovrjesrkjrfjawknbrsfywljscfvnjhczhyeoyzrtbkvvfvofykkwoiclgxyaddhpdoztdhcbauaagjmfzkkdqexkczfsztckdlujgqzjyuittnudpldjvsbwbzcsazjpxrwfafievenvuetzcxynnmskoytgznvqdlkhaowjtetveahpjguiowkiuvikwewmgxhgfjuzkgrkqhmxxavbriftadtogmhlatczusxkktcsyrnwjbeshifzbykqibghmmvecwwtwdcscikyzyiqlgwzycptlxiwfaigyhrlgtjocvajcnqyenxrnjgogeqtvkxllxpuoxargzgcsfwavwbnktchwjebvwwhfghqkcjhuhuqwcdsixrkfjxuzvhjxlyoxswdlwfytgbtqbeimzzogzrlovcdpseoafuxfmrhdswwictsctawjanvoafvzqanvhaohgndbsxlzuymvfflyswnkvpsvqezekeidadatsymbvgwobdrixisknqpehddjrsntkqpsfxictqbnedjmsveurvrtvpvzbengdijkfcogpcrvwyf'\n",
    "\n",
    "if s is \"\":\n",
    "    print(s)\n",
    "res = \"\"\n",
    "dp = [[None for i in range(len(s))] for j in range(len(s))]\n",
    "\n",
    "for j in range(len(s)):\n",
    "    for i in range(j+1):\n",
    "#         pprint(dp)\n",
    "        if i == j:\n",
    "            dp[j][i] = True\n",
    "        elif j == i+1:\n",
    "            dp[j][i] = (s[i] == s[j])\n",
    "        else:\n",
    "            dp[j][i] = (dp[j-1][i+1] and s[i] == s[j])\n",
    "        if dp[j][i] and j - i + 1 > len(res):\n",
    "            res = s[i:j+1]\n",
    "print(res)"
   ]
  },
  {
   "cell_type": "code",
   "execution_count": null,
   "id": "c7d6e741",
   "metadata": {},
   "outputs": [],
   "source": []
  }
 ],
 "metadata": {
  "kernelspec": {
   "display_name": "Python 3",
   "language": "python",
   "name": "python3"
  },
  "language_info": {
   "codemirror_mode": {
    "name": "ipython",
    "version": 3
   },
   "file_extension": ".py",
   "mimetype": "text/x-python",
   "name": "python",
   "nbconvert_exporter": "python",
   "pygments_lexer": "ipython3",
   "version": "3.6.5"
  }
 },
 "nbformat": 4,
 "nbformat_minor": 5
}
