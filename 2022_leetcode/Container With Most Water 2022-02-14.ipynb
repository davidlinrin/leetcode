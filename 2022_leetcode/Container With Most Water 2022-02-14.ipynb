{
 "cells": [
  {
   "cell_type": "code",
   "execution_count": 19,
   "id": "1fb54233",
   "metadata": {},
   "outputs": [],
   "source": [
    "# ATTEMPT 1 O(N^2), time limit exceeded\n",
    "class Solution(object):\n",
    "    def maxArea(self, height):\n",
    "        max_vol = 0\n",
    "        j = 0\n",
    "\n",
    "        for i in range(len(height)-1):\n",
    "            for j in range(i+1, len(height)):\n",
    "                x_len = j - i\n",
    "                y_height = min(height[i], height[j])\n",
    "                vol = x_len * y_height\n",
    "                if vol > max_vol:\n",
    "                    max_vol = vol\n",
    "        return max_vol"
   ]
  },
  {
   "cell_type": "code",
   "execution_count": 20,
   "id": "7db59bea",
   "metadata": {},
   "outputs": [
    {
     "data": {
      "text/plain": [
       "49"
      ]
     },
     "execution_count": 20,
     "metadata": {},
     "output_type": "execute_result"
    }
   ],
   "source": [
    "height = [1,8,6,2,5,4,8,3,7]\n",
    "sol = Solution()\n",
    "sol.maxArea(height)"
   ]
  },
  {
   "cell_type": "code",
   "execution_count": 36,
   "id": "74a5cace",
   "metadata": {},
   "outputs": [],
   "source": [
    "# Second ATTEMPT O(N)\n",
    "class Solution(object):\n",
    "    def maxArea(self, height):\n",
    "        max_vol = 0\n",
    "        j = len(height) - 1\n",
    "        i = 0\n",
    "\n",
    "        while i != j:\n",
    "            x_len = j - i\n",
    "            y_height = min(height[i], height[j])\n",
    "            vol = x_len * y_height\n",
    "\n",
    "            if vol > max_vol:\n",
    "                max_vol = vol\n",
    "\n",
    "            if height[i] < height[j]:\n",
    "                i += 1\n",
    "            else:\n",
    "                j -=1\n",
    "        \n",
    "        return max_vol"
   ]
  }
 ],
 "metadata": {
  "kernelspec": {
   "display_name": "Python 3",
   "language": "python",
   "name": "python3"
  },
  "language_info": {
   "codemirror_mode": {
    "name": "ipython",
    "version": 3
   },
   "file_extension": ".py",
   "mimetype": "text/x-python",
   "name": "python",
   "nbconvert_exporter": "python",
   "pygments_lexer": "ipython3",
   "version": "3.6.5"
  }
 },
 "nbformat": 4,
 "nbformat_minor": 5
}
