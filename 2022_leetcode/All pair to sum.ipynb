{
 "cells": [
  {
   "cell_type": "code",
   "execution_count": 6,
   "id": "4a48bb00",
   "metadata": {},
   "outputs": [],
   "source": [
    "def pair_sum(l:list, target:int) -> list:\n",
    "    dp = set()\n",
    "    res = set()\n",
    "    for num in l:\n",
    "        cur = target - num\n",
    "        if cur in dp:\n",
    "            res.add((min(num,cur),max(num,cur)))\n",
    "        dp.add(num)\n",
    "    return res"
   ]
  },
  {
   "cell_type": "code",
   "execution_count": 7,
   "id": "eae0cccc",
   "metadata": {},
   "outputs": [
    {
     "data": {
      "text/plain": [
       "{(2, 4), (3, 3)}"
      ]
     },
     "execution_count": 7,
     "metadata": {},
     "output_type": "execute_result"
    }
   ],
   "source": [
    "a = [1,2,6,7,3,4,3,8,2]\n",
    "target = 6\n",
    "pair_sum(a,target)"
   ]
  },
  {
   "cell_type": "code",
   "execution_count": null,
   "id": "4ba52bdd",
   "metadata": {},
   "outputs": [],
   "source": []
  }
 ],
 "metadata": {
  "kernelspec": {
   "display_name": "Python 3",
   "language": "python",
   "name": "python3"
  },
  "language_info": {
   "codemirror_mode": {
    "name": "ipython",
    "version": 3
   },
   "file_extension": ".py",
   "mimetype": "text/x-python",
   "name": "python",
   "nbconvert_exporter": "python",
   "pygments_lexer": "ipython3",
   "version": "3.6.5"
  }
 },
 "nbformat": 4,
 "nbformat_minor": 5
}
