{
 "cells": [
  {
   "cell_type": "code",
   "execution_count": null,
   "id": "183a4b69",
   "metadata": {},
   "outputs": [],
   "source": []
  },
  {
   "cell_type": "code",
   "execution_count": 35,
   "id": "64446079",
   "metadata": {},
   "outputs": [],
   "source": [
    "\n",
    "def count_subarrays(arr):\n",
    "# Write your code here\n",
    "    result = [] \n",
    "    for ind_1, num_1 in enumerate(arr):\n",
    "\n",
    "        cur_res = 1\n",
    "        start = 0\n",
    "        end = len(arr)\n",
    "\n",
    "        if max(arr) == num_1:\n",
    "            result.append(len(arr))\n",
    "            continue\n",
    "\n",
    "        left_array = arr\n",
    "        while max(left_array) != num_1:\n",
    "            left_array = arr[start:ind_1+1]\n",
    "            if max(left_array) != num_1:\n",
    "                start += 1\n",
    "        cur_res += len(left_array) - 1\n",
    "\n",
    "        right_array = arr\n",
    "        while max(right_array) != num_1:\n",
    "            right_array = arr[ind_1:end]\n",
    "            if max(right_array) != num_1:\n",
    "                end -= 1\n",
    "        cur_res += len(right_array) - 1\n",
    "\n",
    "        result.append(cur_res)\n",
    "\n",
    "    return result\n",
    "    "
   ]
  },
  {
   "cell_type": "code",
   "execution_count": 36,
   "id": "945997bb",
   "metadata": {},
   "outputs": [
    {
     "data": {
      "text/plain": [
       "[1, 3, 1, 5, 1]"
      ]
     },
     "execution_count": 36,
     "metadata": {},
     "output_type": "execute_result"
    }
   ],
   "source": [
    "arr =  [3, 4, 1, 6, 2]\n",
    "count_subarrays(arr)"
   ]
  },
  {
   "cell_type": "code",
   "execution_count": 219,
   "id": "3dc476ec",
   "metadata": {},
   "outputs": [],
   "source": [
    "def count_subarrays(arr):\n",
    "    n = len(arr)\n",
    "    result = [1] * n\n",
    "    \n",
    "    # from left\n",
    "    left_stack = [-1]\n",
    "    for i in range(len(arr)):\n",
    "        while len(left_stack) > 1 and arr[i] > arr[left_stack[-1]]:\n",
    "            left_stack.pop()\n",
    "        result[i] += i - left_stack[-1] - 1\n",
    "        left_stack.append(i)\n",
    "    \n",
    "    # from right\n",
    "    right_stack = [len(arr)]\n",
    "    for i in range(len(arr)-1, -1, -1):\n",
    "        while len(right_stack) > 1 and arr[i] > arr[right_stack[-1]]:\n",
    "            right_stack.pop()\n",
    "        result[i] += right_stack[-1] - i - 1\n",
    "        right_stack.append(i)\n",
    "    \n",
    "    return result"
   ]
  },
  {
   "cell_type": "code",
   "execution_count": 220,
   "id": "d34464b2",
   "metadata": {},
   "outputs": [
    {
     "name": "stdout",
     "output_type": "stream",
     "text": [
      "[1, 2, 1, 4, 1]\n",
      "[5] [1, 2, 1, 4, 1]\n",
      "4 [5] 0 \n",
      "\n",
      "[5, 4] [1, 2, 1, 4, 1]\n",
      "3 [5] 1 \n",
      "\n",
      "[5, 3] [1, 2, 1, 5, 1]\n",
      "2 [5, 3] 0 \n",
      "\n",
      "[5, 3, 2] [1, 2, 1, 5, 1]\n",
      "1 [5, 3] 1 \n",
      "\n",
      "[5, 3, 1] [1, 3, 1, 5, 1]\n",
      "0 [5, 3, 1] 0 \n",
      "\n",
      "[1, 3, 1, 5, 1]\n"
     ]
    },
    {
     "data": {
      "text/plain": [
       "[1, 3, 1, 5, 1]"
      ]
     },
     "execution_count": 220,
     "metadata": {},
     "output_type": "execute_result"
    }
   ],
   "source": [
    "arr = [2, 4, 7, 3 , 2, 5, 3]\n",
    "arr = [3, 4, 1, 6, 2]\n",
    "count_subarrays(arr)"
   ]
  },
  {
   "cell_type": "code",
   "execution_count": null,
   "id": "a7299bc5",
   "metadata": {},
   "outputs": [],
   "source": []
  }
 ],
 "metadata": {
  "kernelspec": {
   "display_name": "Python 3",
   "language": "python",
   "name": "python3"
  },
  "language_info": {
   "codemirror_mode": {
    "name": "ipython",
    "version": 3
   },
   "file_extension": ".py",
   "mimetype": "text/x-python",
   "name": "python",
   "nbconvert_exporter": "python",
   "pygments_lexer": "ipython3",
   "version": "3.6.5"
  }
 },
 "nbformat": 4,
 "nbformat_minor": 5
}
