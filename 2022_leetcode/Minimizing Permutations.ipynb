{
 "cells": [
  {
   "cell_type": "code",
   "execution_count": 94,
   "id": "7e61403d",
   "metadata": {},
   "outputs": [
    {
     "name": "stdout",
     "output_type": "stream",
     "text": [
      "sta\n",
      "sat\n",
      "tsa\n",
      "tas\n",
      "ast\n",
      "ats\n"
     ]
    }
   ],
   "source": [
    "from itertools import permutations\n",
    "\n",
    "perms = [''.join(p) for p in permutations('sta')]\n",
    "for i in perms:\n",
    "    print(i)"
   ]
  },
  {
   "cell_type": "code",
   "execution_count": 438,
   "id": "84ff4789",
   "metadata": {},
   "outputs": [],
   "source": [
    "def permutation(s:str):\n",
    "    \n",
    "    def perm(s:str, depth: int):\n",
    "        s_list = [str(i) for i in s]\n",
    "        if depth == len(s_list):\n",
    "            result.add(\"\".join(s_list))\n",
    "            return\n",
    "        \n",
    "        for i in range(depth,len(s_list)):\n",
    "            s_list[i], s_list[depth] =  s_list[depth], s_list[i]\n",
    "            perm(s_list, depth + 1)\n",
    "                \n",
    "    result = set()\n",
    "    perm(s, 0)\n",
    "    return result"
   ]
  },
  {
   "cell_type": "code",
   "execution_count": 439,
   "id": "9de1f440",
   "metadata": {},
   "outputs": [
    {
     "data": {
      "text/plain": [
       "6"
      ]
     },
     "execution_count": 439,
     "metadata": {},
     "output_type": "execute_result"
    }
   ],
   "source": [
    "res = permutation('abc')\n",
    "len(res)"
   ]
  },
  {
   "cell_type": "code",
   "execution_count": null,
   "id": "9f2211fa",
   "metadata": {},
   "outputs": [],
   "source": []
  },
  {
   "cell_type": "code",
   "execution_count": null,
   "id": "97b3d8fc",
   "metadata": {},
   "outputs": [],
   "source": []
  },
  {
   "cell_type": "code",
   "execution_count": null,
   "id": "02707a95",
   "metadata": {},
   "outputs": [],
   "source": []
  },
  {
   "cell_type": "code",
   "execution_count": null,
   "id": "d2cc4a04",
   "metadata": {},
   "outputs": [],
   "source": []
  },
  {
   "cell_type": "code",
   "execution_count": 383,
   "id": "b9a627f3",
   "metadata": {},
   "outputs": [],
   "source": [
    "def permutations(s: str, depth: int, step: int):\n",
    "    if \"\".join(s) in permute:\n",
    "        permute[\"\".join(s)] = min(permute[\"\".join(s)], step)\n",
    "    else:\n",
    "        permute[\"\".join(s)] = step \n",
    "        \n",
    "    if depth == len(s):\n",
    "        return\n",
    "    else:\n",
    "        for i in range(depth, len(s)):\n",
    "            list_s = [char for char in s]\n",
    "            list_s[depth], list_s[i] = list_s[i], list_s[depth]\n",
    "            permutations(list_s, depth + 1, step+1)"
   ]
  },
  {
   "cell_type": "code",
   "execution_count": 384,
   "id": "03449074",
   "metadata": {},
   "outputs": [
    {
     "data": {
      "text/plain": [
       "{'125': 0, '152': 2, '215': 1, '251': 2, '521': 1, '512': 2}"
      ]
     },
     "execution_count": 384,
     "metadata": {},
     "output_type": "execute_result"
    }
   ],
   "source": [
    "permute = {}\n",
    "permutations('125', depth = 0, step = 0)\n",
    "permute"
   ]
  },
  {
   "cell_type": "code",
   "execution_count": null,
   "id": "f0de9672",
   "metadata": {},
   "outputs": [],
   "source": []
  },
  {
   "cell_type": "code",
   "execution_count": 375,
   "id": "8d1d440f",
   "metadata": {},
   "outputs": [],
   "source": [
    "# Actual Solution\n",
    "def minOperations(arr):\n",
    "    \n",
    "    def permute(arr, depth):\n",
    "        start = [str(s) for s in arr]\n",
    "        step = 0\n",
    "        while step < len(target):\n",
    "            for i in range(len(start) - step):\n",
    "                temp = start[:]\n",
    "                to_swap = start[i:i+step+1][::-1]\n",
    "                temp[i:i+step+1] = to_swap\n",
    "                    \n",
    "                print(start ,\"\".join(temp), step, depth)\n",
    "                \n",
    "                if \"\".join(temp) in result:\n",
    "                    result[\"\".join(temp)] = min(depth, result[\"\".join(temp)])\n",
    "                else:\n",
    "                    result[\"\".join(temp)] = depth\n",
    "                    \n",
    "            step += 1\n",
    "        return result\n",
    "    \n",
    "    result = {\"\".join([str(s) for s in arr]):0}\n",
    "    start = [str(s) for s in arr]\n",
    "    target = \"\".join(sorted(start))\n",
    "    permute(arr, 1)\n",
    "    depth = 2\n",
    "    while depth < len(result):\n",
    "        print(result)\n",
    "        if target in result:\n",
    "            return result[target]\n",
    "        perm = list(result)[depth]\n",
    "        permute(perm, depth)\n",
    "        depth += 1\n",
    "        print(depth)\n",
    "        \n",
    "    return result[target]"
   ]
  },
  {
   "cell_type": "code",
   "execution_count": 376,
   "id": "069b0b94",
   "metadata": {},
   "outputs": [
    {
     "name": "stdout",
     "output_type": "stream",
     "text": [
      "['3', '1', '2'] 312 0 1\n",
      "['3', '1', '2'] 312 0 1\n",
      "['3', '1', '2'] 312 0 1\n",
      "['3', '1', '2'] 132 1 1\n",
      "['3', '1', '2'] 321 1 1\n",
      "['3', '1', '2'] 213 2 1\n",
      "{'312': 0, '132': 1, '321': 1, '213': 1}\n",
      "['3', '2', '1'] 321 0 2\n",
      "['3', '2', '1'] 321 0 2\n",
      "['3', '2', '1'] 321 0 2\n",
      "['3', '2', '1'] 231 1 2\n",
      "['3', '2', '1'] 312 1 2\n",
      "['3', '2', '1'] 123 2 2\n",
      "3\n",
      "{'312': 0, '132': 1, '321': 1, '213': 1, '231': 2, '123': 2}\n"
     ]
    },
    {
     "data": {
      "text/plain": [
       "2"
      ]
     },
     "execution_count": 376,
     "metadata": {},
     "output_type": "execute_result"
    }
   ],
   "source": [
    "minOperations([3, 1, 2])"
   ]
  },
  {
   "cell_type": "markdown",
   "id": "df3a2656",
   "metadata": {},
   "source": [
    "Minimizing Permutations\n",
    "In this problem, you are given an integer N, and a permutation, P of the integers from 1 to N, denoted as (a_1, a_2, ..., a_N). You want to rearrange the elements of the permutation into increasing order, repeatedly making the following operation:\n",
    "Select a sub-portion of the permutation, (a_i, ..., a_j), and reverse its order.\n",
    "Your goal is to compute the minimum number of such operations required to return the permutation to increasing order.\n",
    "Signature\n",
    "int minOperations(int[] arr)\n",
    "Input\n",
    "Array arr is a permutation of all integers from 1 to N, N is between 1 and 8\n",
    "Output\n",
    "An integer denoting the minimum number of operations required to arrange the permutation in increasing order\n",
    "Example\n",
    "If N = 3, and P = (3, 1, 2), we can do the following operations:\n",
    "Select (1, 2) and reverse it: P = (3, 2, 1).\n",
    "Select (3, 2, 1) and reverse it: P = (1, 2, 3).\n",
    "output = 2"
   ]
  },
  {
   "cell_type": "code",
   "execution_count": 381,
   "id": "28529239",
   "metadata": {},
   "outputs": [],
   "source": [
    "import collections\n",
    "def minOperations(arr):\n",
    "    goal = ''.join(str(c) for c in sorted(arr))\n",
    "    print(goal)\n",
    "    start = ''.join(str(c) for c in arr)\n",
    "    print(start)\n",
    "    q = collections.deque([start])\n",
    "    visited = set([start])\n",
    "    levels = 0\n",
    "\n",
    "    while q:\n",
    "        print(q)\n",
    "        for _ in range(len(q)):\n",
    "            currWord = q.popleft()\n",
    "            print(currWord)\n",
    "\n",
    "        if currWord == goal:\n",
    "            return levels # currWord is sorted, return how many levels deep in the BFS.\n",
    "\n",
    "        for i in range(len(currWord)):\n",
    "            for j in range(i + 1, len(currWord)):\n",
    "                chars = [c for c in currWord]\n",
    "                chars[i:j+1] = chars[i:j+1][::-1] # reverse the sublist\n",
    "                nextWord = ''.join(chars)\n",
    "                print(i,j ,nextWord)\n",
    "                if nextWord not in visited:\n",
    "                    visited.add(nextWord)\n",
    "                    q.append(nextWord)\n",
    "                chars[i:j+1] = chars[i:j+1][::-1] # revert the sublist back to original node state\n",
    "        print('\\n')\n",
    "        levels += 1\n",
    "\n",
    "    return -1"
   ]
  },
  {
   "cell_type": "code",
   "execution_count": 382,
   "id": "d4021524",
   "metadata": {},
   "outputs": [
    {
     "name": "stdout",
     "output_type": "stream",
     "text": [
      "123\n",
      "312\n",
      "deque(['312'])\n",
      "312\n",
      "0 1 132\n",
      "0 2 213\n",
      "1 2 321\n",
      "\n",
      "\n",
      "deque(['132', '213', '321'])\n",
      "132\n",
      "213\n",
      "321\n",
      "0 1 231\n",
      "0 2 123\n",
      "1 2 312\n",
      "\n",
      "\n",
      "deque(['231', '123'])\n",
      "231\n",
      "123\n"
     ]
    },
    {
     "data": {
      "text/plain": [
       "2"
      ]
     },
     "execution_count": 382,
     "metadata": {},
     "output_type": "execute_result"
    }
   ],
   "source": [
    "minOperations([3, 1, 2])"
   ]
  },
  {
   "cell_type": "code",
   "execution_count": null,
   "id": "a1429600",
   "metadata": {},
   "outputs": [],
   "source": []
  }
 ],
 "metadata": {
  "kernelspec": {
   "display_name": "Python 3",
   "language": "python",
   "name": "python3"
  },
  "language_info": {
   "codemirror_mode": {
    "name": "ipython",
    "version": 3
   },
   "file_extension": ".py",
   "mimetype": "text/x-python",
   "name": "python",
   "nbconvert_exporter": "python",
   "pygments_lexer": "ipython3",
   "version": "3.6.5"
  }
 },
 "nbformat": 4,
 "nbformat_minor": 5
}
