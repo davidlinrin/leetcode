{
 "cells": [
  {
   "cell_type": "code",
   "execution_count": 50,
   "id": "a50db0e7",
   "metadata": {},
   "outputs": [],
   "source": [
    "# ATTEMPT 1 O(n^2)\n",
    "class Solution(object):\n",
    "    def convert(self, s, numRows):\n",
    "\n",
    "        init_mat = [[] for i in range(numRows)]\n",
    "        bol = True\n",
    "        res = []\n",
    "        cur_row = 0\n",
    "        \n",
    "        # if only 1 row, return original string\n",
    "        if numRows == 1:\n",
    "            return s\n",
    "        \n",
    "        # construct the zigzag string in 2D array\n",
    "        for letter in range(len(s)):\n",
    "            init_mat[cur_row].append(s[letter])\n",
    "            if cur_row == 0:\n",
    "                cur_row += 1\n",
    "                bol = True\n",
    "            elif cur_row == numRows-1:\n",
    "                cur_row -= 1\n",
    "                bol = False\n",
    "            elif (bol == False):\n",
    "                cur_row -= 1\n",
    "            else: \n",
    "                cur_row +=1 \n",
    "\n",
    "        for line in init_mat:\n",
    "            res = res + line\n",
    "            \n",
    "        return ''.join(res)"
   ]
  },
  {
   "cell_type": "code",
   "execution_count": null,
   "id": "65fd59d7",
   "metadata": {},
   "outputs": [],
   "source": [
    "# ATTEMPT 2 O(n^2) slower than attempt 1\n",
    "class Solution(object):\n",
    "    def convert(self, s, numRows):\n",
    "\n",
    "        init_mat = [\"\"] * numRows\n",
    "        direction = 1\n",
    "        res = \"\"\n",
    "        cur_row = 0\n",
    "\n",
    "        if numRows == 1:\n",
    "            return s\n",
    "\n",
    "        for letter in range(len(s)):\n",
    "            init_mat[cur_row] += s[letter]\n",
    "            cur_row += direction \n",
    "            if (cur_row == 0) or (cur_row == numRows-1):\n",
    "                direction *= -1\n",
    "\n",
    "        for line in init_mat:\n",
    "            res += line\n",
    "\n",
    "        return res"
   ]
  },
  {
   "cell_type": "code",
   "execution_count": null,
   "id": "f0b8051f",
   "metadata": {},
   "outputs": [],
   "source": [
    "# ATTEMPT 3 O(n^2) slower than attempt 1 and 2\n",
    "class Solution:\n",
    "    def convert(self, s, numRows):\n",
    "        \n",
    "        init_mat = [[] for i in range(numRows)]\n",
    "        direction = 1\n",
    "        res = []\n",
    "        cur_row = 0\n",
    "\n",
    "        if numRows == 1:\n",
    "            return s\n",
    "\n",
    "        for letter in range(len(s)):\n",
    "            init_mat[cur_row].append(s[letter])\n",
    "            cur_row += direction \n",
    "            if (cur_row == 0) or (cur_row == numRows-1):\n",
    "                direction *= -1\n",
    "\n",
    "        for line in init_mat:\n",
    "            res = res + line\n",
    "\n",
    "        return ''.join(res)"
   ]
  },
  {
   "cell_type": "code",
   "execution_count": 84,
   "id": "c4ed1e84",
   "metadata": {},
   "outputs": [
    {
     "name": "stdout",
     "output_type": "stream",
     "text": [
      "PAHNAPLSIIGYIR\n"
     ]
    }
   ],
   "source": [
    "# COMMENT SOLUTION O(n * m) uses math algorith to go append to string list line by line, instead of constructing complete 2D matrix.\n",
    "s = \"PAYPALISHIRING\"\n",
    "numRows = 3\n",
    "    \n",
    "if numRows == 1:\n",
    "    print(s) \n",
    "\n",
    "n = len(s)\n",
    "cycle = 2*numRows - 2   # 4\n",
    "strlist = []\n",
    "for i in range(numRows):\n",
    "    for j in range(i, n, cycle):\n",
    "        strlist.append(s[j])\n",
    "        if i != numRows-1 and i != 0 and j+cycle-2*i < n:\n",
    "            strlist.append(s[j+cycle-2*i])             \n",
    "newstr = ''.join(strlist)\n",
    "\n",
    "print(newstr)"
   ]
  },
  {
   "cell_type": "code",
   "execution_count": null,
   "id": "45321934",
   "metadata": {},
   "outputs": [],
   "source": [
    "\"P A Y P A L I S H I  R  I  N  G\"\n",
    "\"1 2 3 4 5 6 7 8 9 10 11 12 13 14\""
   ]
  }
 ],
 "metadata": {
  "kernelspec": {
   "display_name": "Python 3",
   "language": "python",
   "name": "python3"
  },
  "language_info": {
   "codemirror_mode": {
    "name": "ipython",
    "version": 3
   },
   "file_extension": ".py",
   "mimetype": "text/x-python",
   "name": "python",
   "nbconvert_exporter": "python",
   "pygments_lexer": "ipython3",
   "version": "3.6.5"
  }
 },
 "nbformat": 4,
 "nbformat_minor": 5
}
