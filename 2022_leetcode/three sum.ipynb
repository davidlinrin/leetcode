{
 "cells": [
  {
   "cell_type": "code",
   "execution_count": 1,
   "id": "bf7bb453",
   "metadata": {},
   "outputs": [],
   "source": [
    "def three_sum(nums):\n",
    "    res = []\n",
    "    nums.sort()\n",
    "    for ind,n in enumerate(nums):\n",
    "        print(n)\n",
    "        if ind > 0 and nums[ind] == nums[ind-1]:\n",
    "            continue\n",
    "            \n",
    "        left = ind + 1\n",
    "        right = len(nums) - 1\n",
    "        while left < right:\n",
    "            print(n, nums[left], nums[right])\n",
    "            if n + nums[left] + nums[right] < 0:\n",
    "                left += 1\n",
    "            elif n + nums[left] + nums[right] > 0:\n",
    "                right -= 1\n",
    "            else:\n",
    "                res.append([n,nums[left], nums[right]])\n",
    "                right -= 1\n",
    "                while nums[right] == nums[right + 1]:\n",
    "                    right -= 1\n",
    "    return res"
   ]
  },
  {
   "cell_type": "code",
   "execution_count": null,
   "id": "1f330f8a",
   "metadata": {},
   "outputs": [],
   "source": []
  }
 ],
 "metadata": {
  "kernelspec": {
   "display_name": "Python 3",
   "language": "python",
   "name": "python3"
  },
  "language_info": {
   "codemirror_mode": {
    "name": "ipython",
    "version": 3
   },
   "file_extension": ".py",
   "mimetype": "text/x-python",
   "name": "python",
   "nbconvert_exporter": "python",
   "pygments_lexer": "ipython3",
   "version": "3.6.5"
  }
 },
 "nbformat": 4,
 "nbformat_minor": 5
}
