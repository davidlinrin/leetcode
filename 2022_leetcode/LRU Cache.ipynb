{
 "cells": [
  {
   "cell_type": "code",
   "execution_count": 4,
   "id": "09c8bac0",
   "metadata": {},
   "outputs": [],
   "source": [
    "# double linked list\n",
    "class Node:\n",
    "    def __init__(self, key, val):\n",
    "        self.key = key\n",
    "        self.val = val\n",
    "        self.prev = None\n",
    "        self.next = None\n",
    "    \n",
    "    def __repr__(self):\n",
    "        return str((self.key, self.val))"
   ]
  },
  {
   "cell_type": "code",
   "execution_count": 101,
   "id": "5165e228",
   "metadata": {},
   "outputs": [],
   "source": [
    "class LRUCache:\n",
    "    def __init__(self, capacity):\n",
    "        self.hm = {}\n",
    "        self.capacity = capacity\n",
    "        self.head = Node(0,0)\n",
    "        self.tail = Node(0,0)\n",
    "        self.head.next, self.tail.prev = self.tail, self.head\n",
    "    \n",
    "    def remove(self, node):\n",
    "        prv = node.prev\n",
    "        nxt = node.next\n",
    "        prv.next = nxt\n",
    "        nxt.prev = prv\n",
    "\n",
    "    def insert(self, node):\n",
    "        prv = self.tail.prev\n",
    "        prv.next = node\n",
    "        node.next = self.tail\n",
    "        self.tail.prev = node\n",
    "        node.prev = prv\n",
    "    \n",
    "    def get(self, key):\n",
    "        if key in self.hm:\n",
    "            node = self.hm[key]\n",
    "            self.remove(node)\n",
    "            self.insert(node)\n",
    "            return self.hm[key].val\n",
    "        return -1\n",
    "    \n",
    "    def put(self, key, value):\n",
    "        node = Node(key, value)\n",
    "        if key in self.hm:\n",
    "            self.remove(self.hm[key])\n",
    "        self.insert(node)\n",
    "        self.hm[key] = node\n",
    "        \n",
    "        if len(self.hm) > self.capacity:\n",
    "            node = self.head.next\n",
    "            self.remove(node)\n",
    "            del self.hm[node.key]\n",
    "    "
   ]
  },
  {
   "cell_type": "code",
   "execution_count": 102,
   "id": "86a0a385",
   "metadata": {},
   "outputs": [
    {
     "data": {
      "text/plain": [
       "{1: (1, 1), 2: (2, 2)}"
      ]
     },
     "execution_count": 102,
     "metadata": {},
     "output_type": "execute_result"
    }
   ],
   "source": [
    "s = LRUCache(2)\n",
    "s.put(1,1)\n",
    "s.put(2,2)\n",
    "# s.get(1)\n",
    "# s.put(3,3)\n",
    "s.hm"
   ]
  },
  {
   "cell_type": "code",
   "execution_count": null,
   "id": "e57c69e6",
   "metadata": {},
   "outputs": [],
   "source": []
  }
 ],
 "metadata": {
  "kernelspec": {
   "display_name": "Python 3",
   "language": "python",
   "name": "python3"
  },
  "language_info": {
   "codemirror_mode": {
    "name": "ipython",
    "version": 3
   },
   "file_extension": ".py",
   "mimetype": "text/x-python",
   "name": "python",
   "nbconvert_exporter": "python",
   "pygments_lexer": "ipython3",
   "version": "3.6.5"
  }
 },
 "nbformat": 4,
 "nbformat_minor": 5
}
