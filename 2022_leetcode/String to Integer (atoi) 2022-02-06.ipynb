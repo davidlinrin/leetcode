{
 "cells": [
  {
   "cell_type": "code",
   "execution_count": 95,
   "id": "7c5fd2a4",
   "metadata": {},
   "outputs": [],
   "source": [
    "# ATTEMPT 1, O(N) but could clean up if else statements\n",
    "class Solution(object):\n",
    "    def myAtoi(self, s):\n",
    "        sign = True\n",
    "        result = 0\n",
    "        read = False        # switch is for cases like \"+-4\"\n",
    "\n",
    "        for char in s:\n",
    "            \n",
    "            # To check for signs\n",
    "            if (char == '-') and (read == False):\n",
    "                sign = False\n",
    "                read = True\n",
    "                continue\n",
    "            elif (char == '+') and (read == False):\n",
    "                read = True\n",
    "                continue\n",
    "\n",
    "            # if leading space\n",
    "            if (char == ' ') and (read == False):\n",
    "                continue\n",
    "            # if char is number\n",
    "            elif (ord(char) >= 48 and ord(char) <= 57):\n",
    "                read = True\n",
    "                result = (result * 10) + int(char)\n",
    "            # if char is not number\n",
    "            else:\n",
    "                if sign:\n",
    "                    return result if result < 2147483647 else 2147483647\n",
    "                else:\n",
    "                    return result*-1 if result*-1 > -2147483648 else -2147483648\n",
    "            \n",
    "        # return after multiplying by sign (-1 or 1)\n",
    "        if sign:\n",
    "            return result if result < 2**31 - 1 else 2**31 - 1\n",
    "        else:\n",
    "            return result*-1 if result*-1 > -2**31 else -2**31"
   ]
  },
  {
   "cell_type": "code",
   "execution_count": 145,
   "id": "d8b10fd4",
   "metadata": {},
   "outputs": [],
   "source": [
    "# ATTEMPT 2 incorporate solution comments, O(N) with 2 loops\n",
    "class Solution(object):\n",
    "    def myAtoi(self, s):\n",
    "        result = 0  # result to return\n",
    "        ind = 0     # string index\n",
    "        sign = 1    # to keep track - or + sign\n",
    "        \n",
    "        # remove leading white space\n",
    "        while ind < len(s) and s[ind]==' ':\n",
    "                ind += 1\n",
    "                \n",
    "        # string is blank after removing spaces\n",
    "        if s[ind:] == \"\":\n",
    "            return result\n",
    "        \n",
    "        # check if sign exist\n",
    "        if s[ind] == '-':\n",
    "            sign = -1\n",
    "            ind +=1\n",
    "        elif s[ind] == '+':\n",
    "            sign = 1\n",
    "            ind +=1\n",
    "        \n",
    "        # loop through remainding characters\n",
    "        for char in s[ind:]:\n",
    "            # if char is number\n",
    "            if (ord(char) >= 48 and ord(char) <= 57):\n",
    "                read = True\n",
    "                result = (result * 10) + int(char)\n",
    "            # if char is not number\n",
    "            else:\n",
    "                result *= sign\n",
    "                return result if -2147483648 < result < 2147483647 else 2147483647 if sign == 1 else -2147483648\n",
    "            \n",
    "        # return at the end of string\n",
    "        result *= sign\n",
    "        return result if -2147483648 < result < 2147483647 else 2147483647 if sign == 1 else -2147483648"
   ]
  },
  {
   "cell_type": "code",
   "execution_count": 146,
   "id": "41cc6516",
   "metadata": {},
   "outputs": [
    {
     "data": {
      "text/plain": [
       "0"
      ]
     },
     "execution_count": 146,
     "metadata": {},
     "output_type": "execute_result"
    }
   ],
   "source": [
    "temp = Solution()\n",
    "temp.myAtoi(\" \")"
   ]
  },
  {
   "cell_type": "code",
   "execution_count": null,
   "id": "d5b48e8b",
   "metadata": {},
   "outputs": [],
   "source": []
  }
 ],
 "metadata": {
  "kernelspec": {
   "display_name": "Python 3",
   "language": "python",
   "name": "python3"
  },
  "language_info": {
   "codemirror_mode": {
    "name": "ipython",
    "version": 3
   },
   "file_extension": ".py",
   "mimetype": "text/x-python",
   "name": "python",
   "nbconvert_exporter": "python",
   "pygments_lexer": "ipython3",
   "version": "3.6.5"
  }
 },
 "nbformat": 4,
 "nbformat_minor": 5
}
