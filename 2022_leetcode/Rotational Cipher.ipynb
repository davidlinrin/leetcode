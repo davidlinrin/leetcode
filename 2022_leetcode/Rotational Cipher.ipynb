{
 "cells": [
  {
   "cell_type": "code",
   "execution_count": 77,
   "id": "cd0c8df2",
   "metadata": {},
   "outputs": [],
   "source": [
    "# CAN DO WAYYYY BETTER\n",
    "# COME BACK TO THIS\n",
    "def rotationalCipher(inp, rotation_factor):\n",
    "    result = ''\n",
    "\n",
    "    for char in inp:\n",
    "        uni = ord(char)\n",
    "        if uni >= 48 and uni <= 57:\n",
    "            to_shift = rotation_factor % 10\n",
    "            new_char_uni = uni + to_shift\n",
    "            if new_char_uni > 57:\n",
    "                new_char = chr(47 + (new_char_uni - 57))\n",
    "            else:\n",
    "                new_char = chr(uni + to_shift)\n",
    "            result += new_char\n",
    "        elif uni >= 97 and uni <= 122:\n",
    "            to_shift = rotation_factor % 26\n",
    "            new_char_uni = uni + to_shift\n",
    "            if new_char_uni > 122:\n",
    "                new_char = chr(96 + (new_char_uni - 122))\n",
    "            else:\n",
    "                new_char = chr(uni + to_shift)\n",
    "            result += new_char\n",
    "        elif uni >= 65 and uni <= 90:\n",
    "            to_shift = rotation_factor % 26\n",
    "            new_char_uni = uni + to_shift\n",
    "            if new_char_uni > 90:\n",
    "                new_char = chr(64 + (new_char_uni - 90))\n",
    "            else:\n",
    "                new_char = chr(uni + to_shift)\n",
    "            result += new_char\n",
    "        else:\n",
    "            result += chr(uni)\n",
    "\n",
    "    return result"
   ]
  },
  {
   "cell_type": "code",
   "execution_count": 99,
   "id": "535d9df6",
   "metadata": {},
   "outputs": [],
   "source": [
    "def rotationalCipher(inp, rotation_factor):\n",
    "    lower_alpha = [chr(i) for i in range(ord('a'), ord('z')+1)]\n",
    "    upper_alpha = [chr(i) for i in range(ord('A'), ord('Z')+1)]\n",
    "    result = ''\n",
    "    for char in inp:\n",
    "        if not char.isalnum():\n",
    "            result += char\n",
    "        elif char.isalpha():\n",
    "            if char.islower():\n",
    "                cur_pos = lower_alpha.index(char) \n",
    "                new_pos = (cur_pos + rotation_factor) % 26\n",
    "                new_char = lower_alpha[new_pos]\n",
    "                result += new_char\n",
    "            else:\n",
    "                cur_pos = upper_alpha.index(char) \n",
    "                new_pos = (cur_pos + rotation_factor) % 26\n",
    "                new_char = upper_alpha[new_pos]\n",
    "                result += new_char\n",
    "        elif char.isnumeric():\n",
    "            new_num = (int(char) + rotation_factor) % 10\n",
    "            result += str(new_num)\n",
    "    return result"
   ]
  },
  {
   "cell_type": "code",
   "execution_count": 100,
   "id": "6a15bfa3",
   "metadata": {},
   "outputs": [
    {
     "data": {
      "text/plain": [
       "'Epp-gsrzsCw-9-fi:Epivx1.'"
      ]
     },
     "execution_count": 100,
     "metadata": {},
     "output_type": "execute_result"
    }
   ],
   "source": [
    "rotationalCipher(\"All-convoYs-9-be:Alert1.\", 30)"
   ]
  },
  {
   "cell_type": "code",
   "execution_count": 96,
   "id": "2cb639cc",
   "metadata": {},
   "outputs": [
    {
     "data": {
      "text/plain": [
       "'Epp-gsrzsCw-3-fi:Epivx5.'"
      ]
     },
     "execution_count": 96,
     "metadata": {},
     "output_type": "execute_result"
    }
   ],
   "source": [
    "\"Epp-gsrzsCw-3-fi:Epivx5.\""
   ]
  },
  {
   "cell_type": "code",
   "execution_count": null,
   "id": "4b94911b",
   "metadata": {},
   "outputs": [],
   "source": []
  }
 ],
 "metadata": {
  "kernelspec": {
   "display_name": "Python 3",
   "language": "python",
   "name": "python3"
  },
  "language_info": {
   "codemirror_mode": {
    "name": "ipython",
    "version": 3
   },
   "file_extension": ".py",
   "mimetype": "text/x-python",
   "name": "python",
   "nbconvert_exporter": "python",
   "pygments_lexer": "ipython3",
   "version": "3.6.5"
  }
 },
 "nbformat": 4,
 "nbformat_minor": 5
}
