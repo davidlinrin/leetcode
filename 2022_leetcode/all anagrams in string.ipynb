{
 "cells": [
  {
   "cell_type": "code",
   "execution_count": 1,
   "id": "aac3303a",
   "metadata": {},
   "outputs": [],
   "source": [
    "def findAnagrams(s, p):\n",
    "    res = []\n",
    "    dp = {x:0 for x in s}\n",
    "    dp_p = {x:0 for x in s}\n",
    "    for num in p:\n",
    "        dp_p[num] = dp_p.get(num, 0) + 1\n",
    "    for num in s[:len(p)]:\n",
    "        dp[num] = dp.get(num, 0) + 1\n",
    "\n",
    "    for left in range(len(s) - len(p) + 1):\n",
    "        if dp == dp_p:\n",
    "            res.append(left)\n",
    "        if left + len(p) >= len(s):\n",
    "            return res\n",
    "        \n",
    "        dp[s[left]] = dp.get(s[left], 0) - 1\n",
    "        dp[s[left+len(p)]] = dp.get(s[left+len(p)], 0) + 1\n",
    "        \n",
    "    return res"
   ]
  },
  {
   "cell_type": "code",
   "execution_count": 2,
   "id": "c73b2fa5",
   "metadata": {},
   "outputs": [],
   "source": [
    "s = \"cbaebabacd\"\n",
    "p = \"abc\""
   ]
  },
  {
   "cell_type": "code",
   "execution_count": 3,
   "id": "350f02a2",
   "metadata": {},
   "outputs": [
    {
     "data": {
      "text/plain": [
       "[0, 6]"
      ]
     },
     "execution_count": 3,
     "metadata": {},
     "output_type": "execute_result"
    }
   ],
   "source": [
    "findAnagrams(s, p)"
   ]
  },
  {
   "cell_type": "code",
   "execution_count": null,
   "id": "1bdaa7e5",
   "metadata": {},
   "outputs": [],
   "source": []
  }
 ],
 "metadata": {
  "kernelspec": {
   "display_name": "Python 3",
   "language": "python",
   "name": "python3"
  },
  "language_info": {
   "codemirror_mode": {
    "name": "ipython",
    "version": 3
   },
   "file_extension": ".py",
   "mimetype": "text/x-python",
   "name": "python",
   "nbconvert_exporter": "python",
   "pygments_lexer": "ipython3",
   "version": "3.6.5"
  }
 },
 "nbformat": 4,
 "nbformat_minor": 5
}
