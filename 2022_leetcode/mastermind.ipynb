{
 "cells": [
  {
   "cell_type": "code",
   "execution_count": 2,
   "id": "259c2cd7",
   "metadata": {},
   "outputs": [],
   "source": [
    "from collections import Counter\n",
    "def mm(guess, sol):\n",
    "    hit = 0\n",
    "    pseudo = 0\n",
    "    dp = Counter(sol)\n",
    "    for ind, char in enumerate(guess):\n",
    "        if char == sol[ind]:\n",
    "            hit += 1\n",
    "            dp[char] -= 1\n",
    "        elif dp.get(char) and  dp.get(char) > 0:\n",
    "            pseudo += 1\n",
    "            dp[char] -= 1\n",
    "    return (hit, pseudo)"
   ]
  },
  {
   "cell_type": "code",
   "execution_count": 3,
   "id": "dde853d3",
   "metadata": {},
   "outputs": [
    {
     "data": {
      "text/plain": [
       "(0, 4)"
      ]
     },
     "execution_count": 3,
     "metadata": {},
     "output_type": "execute_result"
    }
   ],
   "source": [
    "guess = 'RYGR'\n",
    "solution = 'YRRG'\n",
    "mm(guess, solution)"
   ]
  },
  {
   "cell_type": "code",
   "execution_count": null,
   "id": "d2f9bd18",
   "metadata": {},
   "outputs": [],
   "source": []
  }
 ],
 "metadata": {
  "kernelspec": {
   "display_name": "Python 3",
   "language": "python",
   "name": "python3"
  },
  "language_info": {
   "codemirror_mode": {
    "name": "ipython",
    "version": 3
   },
   "file_extension": ".py",
   "mimetype": "text/x-python",
   "name": "python",
   "nbconvert_exporter": "python",
   "pygments_lexer": "ipython3",
   "version": "3.6.5"
  }
 },
 "nbformat": 4,
 "nbformat_minor": 5
}
