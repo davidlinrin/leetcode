{
 "cells": [
  {
   "cell_type": "code",
   "execution_count": 29,
   "metadata": {},
   "outputs": [],
   "source": [
    "class ListNode(object):\n",
    "    def __init__(self, val=0, next=None):\n",
    "        self.val = val\n",
    "        self.next = next"
   ]
  },
  {
   "cell_type": "code",
   "execution_count": 30,
   "metadata": {},
   "outputs": [],
   "source": [
    "# accpeted solution\n",
    "class Solution(object):\n",
    "    def addTwoNumbers(self, l1, l2):\n",
    "        \n",
    "        result = ListNode(0)\n",
    "        result_tail = result\n",
    "        carry_over = 0\n",
    "                \n",
    "        while l1 or l2 or carry_over:\n",
    "            \n",
    "            num1 = (l1.val if l1 else 0)\n",
    "            num2 = (l2.val if l2 else 0)\n",
    "            carry_over, output = divmod(num1 + num2 + carry_over, 10)\n",
    "            \n",
    "            result_tail.next = ListNode(output)\n",
    "            result_tail = result_tail.next\n",
    "            \n",
    "            l1 = (l1.next if l1 else None)\n",
    "            l2 = (l2.next if l2 else None)\n",
    "            \n",
    "        return result.next\n",
    "        "
   ]
  },
  {
   "cell_type": "code",
   "execution_count": null,
   "metadata": {},
   "outputs": [],
   "source": [
    "# none node/class solution\n",
    "l1 = [1,2,9,1]\n",
    "l2 = [5,2,9]\n",
    "\n",
    "def sum_l(l1,l2):\n",
    "    result = ListNode()\n",
    "    carry_over = 0\n",
    "    \n",
    "    for digit in range(max(len(l1),len(l2))):\n",
    "        try:\n",
    "            d1 = l1[digit]\n",
    "        except IndexError:\n",
    "            d1 = 0\n",
    "        try:\n",
    "            d2 = l2[digit]\n",
    "        except IndexError:\n",
    "            d2 = 0\n",
    "            \n",
    "        cur_sum = d1 + d2 + carry_over\n",
    "        if len(str(cur_sum)) > 1:\n",
    "            carry_over = 1\n",
    "            cur_sum = int(str(cur_sum)[1])\n",
    "        else:\n",
    "            carry_over = 0\n",
    "        result.append(cur_sum)\n",
    "        \n",
    "    if carry_over > 0:\n",
    "        result.append(carry_over)\n",
    "    \n",
    "    return result"
   ]
  }
 ],
 "metadata": {
  "kernelspec": {
   "display_name": "Python 3",
   "language": "python",
   "name": "python3"
  },
  "language_info": {
   "codemirror_mode": {
    "name": "ipython",
    "version": 3
   },
   "file_extension": ".py",
   "mimetype": "text/x-python",
   "name": "python",
   "nbconvert_exporter": "python",
   "pygments_lexer": "ipython3",
   "version": "3.6.5"
  }
 },
 "nbformat": 4,
 "nbformat_minor": 4
}
