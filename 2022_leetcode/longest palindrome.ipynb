{
 "cells": [
  {
   "cell_type": "code",
   "execution_count": null,
   "id": "151d6007",
   "metadata": {},
   "outputs": [],
   "source": [
    "def longestPalindrome(s):\n",
    "        max_left = 0\n",
    "        max_right = 0\n",
    "\n",
    "        for i in range(len(s)):\n",
    "            l = i - 1\n",
    "            r = i + 1\n",
    "            while l >= 0 and r < len(s):\n",
    "                if s[l] == s[r]:\n",
    "                    if r - l > max_right - max_left:\n",
    "                        max_right = r\n",
    "                        max_left = l\n",
    "                    l -=1\n",
    "                    r += 1\n",
    "                else:\n",
    "                    break\n",
    "                    \n",
    "        for i in range(len(s)):\n",
    "            l = i\n",
    "            r = i + 1\n",
    "            while l >= 0 and r < len(s):\n",
    "                if s[l] == s[r]:\n",
    "                    if r - l > max_right - max_left:\n",
    "                        max_right = r\n",
    "                        max_left = l\n",
    "                    l -=1\n",
    "                    r += 1\n",
    "                else:\n",
    "                    break\n",
    "    \n",
    "        return s[max_left:max_right+1]"
   ]
  }
 ],
 "metadata": {
  "kernelspec": {
   "display_name": "Python 3",
   "language": "python",
   "name": "python3"
  },
  "language_info": {
   "codemirror_mode": {
    "name": "ipython",
    "version": 3
   },
   "file_extension": ".py",
   "mimetype": "text/x-python",
   "name": "python",
   "nbconvert_exporter": "python",
   "pygments_lexer": "ipython3",
   "version": "3.6.5"
  }
 },
 "nbformat": 4,
 "nbformat_minor": 5
}
