{
 "cells": [
  {
   "cell_type": "code",
   "execution_count": 40,
   "id": "e584ec61",
   "metadata": {},
   "outputs": [
    {
     "data": {
      "text/plain": [
       "3"
      ]
     },
     "execution_count": 40,
     "metadata": {},
     "output_type": "execute_result"
    }
   ],
   "source": [
    "s = \"abcabcbb\"\n",
    "result = 0\n",
    "characters = set()\n",
    "\n",
    "if len(s) == 1:\n",
    "    result = 0\n",
    "    print(result)\n",
    "else:\n",
    "    for start, letter_1 in enumerate(s):\n",
    "        characters.add(letter_1)\n",
    "        for letter_2 in s[start+1:]:\n",
    "            if letter_2 in characters:\n",
    "                result = max(result, len(characters))\n",
    "                characters = set()\n",
    "                break\n",
    "            else:\n",
    "                characters.add(letter_2)\n",
    "                result = max(result, len(characters))     \n",
    "        next\n",
    "        \n",
    "result"
   ]
  },
  {
   "cell_type": "code",
   "execution_count": null,
   "id": "b852e99e",
   "metadata": {},
   "outputs": [],
   "source": [
    "class Solution(object):\n",
    "    def lengthOfLongestSubstring(self, s):\n",
    "        \n",
    "        # variable to keep track longest substring (result,\n",
    "        result = 0\n",
    "        characters = set()\n",
    "        \n",
    "        if len(s) == 1:\n",
    "            result = 1\n",
    "            return result\n",
    "        else:\n",
    "            for start, letter_1 in enumerate(s):\n",
    "                characters.add(letter_1)\n",
    "                for end, letter_2 in enumerate(s[start+1:]):\n",
    "                    if letter_2 in characters:\n",
    "                        result = max(result, len(characters))\n",
    "                        characters = set()\n",
    "                        break\n",
    "                    else:\n",
    "                        characters.add(letter_2)\n",
    "                        result = max(result, len(characters))\n",
    "                next\n",
    "\n",
    "            return result"
   ]
  }
 ],
 "metadata": {
  "kernelspec": {
   "display_name": "Python 3",
   "language": "python",
   "name": "python3"
  },
  "language_info": {
   "codemirror_mode": {
    "name": "ipython",
    "version": 3
   },
   "file_extension": ".py",
   "mimetype": "text/x-python",
   "name": "python",
   "nbconvert_exporter": "python",
   "pygments_lexer": "ipython3",
   "version": "3.6.5"
  }
 },
 "nbformat": 4,
 "nbformat_minor": 5
}
