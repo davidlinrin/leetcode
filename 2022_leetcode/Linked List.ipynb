{
 "cells": [
  {
   "cell_type": "code",
   "execution_count": 436,
   "id": "54e8e5f6",
   "metadata": {},
   "outputs": [],
   "source": [
    "class Node:\n",
    "    def __init__(self, data = None):\n",
    "        self.data = data\n",
    "        self.next = None\n",
    "\n",
    "    def __repr__(self):\n",
    "        return str(self.data)\n",
    "    \n",
    "\n",
    "class LinkedList:\n",
    "    def __init__(self, nodes=None):\n",
    "        self.head = None\n",
    "        if nodes is not None:\n",
    "            node = Node(data=nodes.pop(0))\n",
    "            self.head = node\n",
    "            for elem in nodes:\n",
    "                node.next = Node(data=elem)\n",
    "                node = node.next\n",
    "\n",
    "    def __repr__(self):\n",
    "        node = self.head\n",
    "        nodes = []\n",
    "        while node is not None:\n",
    "            nodes.append(node.data)\n",
    "            node = node.next\n",
    "        nodes.append(\"None\")\n",
    "        return \" -> \".join([str(n) for n in nodes])\n",
    "    \n",
    "    def __iter__(self):\n",
    "        node = self.head\n",
    "        while node is not None:\n",
    "            yield node\n",
    "            node = node.next\n",
    "            \n",
    "    def add_last(self, n):\n",
    "        if self.head is None:\n",
    "            self.head = node\n",
    "            return\n",
    "        node = self.head\n",
    "        while node.next:\n",
    "            node = node.next\n",
    "        node.next = Node(n)\n",
    "        \n",
    "    def remove_dup(self):\n",
    "        seen = set()\n",
    "        prev = None\n",
    "        node = self.head\n",
    "        while node:\n",
    "            if node.data in seen:\n",
    "                prev.next = node.next\n",
    "            else:\n",
    "                seen.add(node.data)\n",
    "                prev = node\n",
    "            node = node.next\n",
    "    \n",
    "    def nth_last(self, nth):\n",
    "        l = 0\n",
    "        node = self.head\n",
    "        while node:\n",
    "            node = node.next\n",
    "            l += 1\n",
    "            \n",
    "        if nth > l:\n",
    "            return f'value greater than length of llist: {l}'\n",
    "        print(l)\n",
    "        node = self.head\n",
    "        for i in range(0, l-nth):\n",
    "            node = node.next\n",
    "            \n",
    "        return node.data\n",
    "\n",
    "            \n",
    "    def remove_nth_node(self, n):\n",
    "        next_node = n.next\n",
    "        n.data = next_node.data\n",
    "        n.next = next_node.next\n",
    "        \n",
    "    def add_llist(self, ll):\n",
    "        node_1 = self.head\n",
    "        node_2 = ll.head\n",
    "        new_list = LinkedList([0])\n",
    "        cur_node = new_list.head\n",
    "        carry = 0\n",
    "        while node_1 or node_2:\n",
    "            cur_sum = 0\n",
    "            if node_1:\n",
    "                cur_sum += node_1.data\n",
    "                node_1 = node_1.next\n",
    "            if node_2:\n",
    "                cur_sum += node_2.data\n",
    "                node_2 = node_2.next\n",
    "\n",
    "            if cur_sum > 9:\n",
    "                cur_node.next = Node(int(cur_sum%10))\n",
    "                cur_node = cur_node.next\n",
    "                carry = 1\n",
    "            else:\n",
    "                cur_node.next = Node(cur_sum + carry)\n",
    "                cur_node = cur_node.next\n",
    "                carry = 0\n",
    "\n",
    "        return new_list.head.next\n",
    "\n",
    "    def if_corrupt(self):\n",
    "        seen = set()\n",
    "        node = self.head\n",
    "        while node:\n",
    "            if node in seen:\n",
    "                return node\n",
    "            else:\n",
    "                seen.add(node)\n",
    "                node = node.next\n",
    "        return \"no duplicate\"\n",
    "    \n",
    "    def if_corrupt_v2(self):\n",
    "        p1 = self.head.next\n",
    "        p2 = self.head.next.next\n",
    "        while p1 and p2 and p1 != p2:\n",
    "            p1 = p1.next\n",
    "            p2 = p2.next.next\n",
    "            \n",
    "        if p1 == p2:\n",
    "            p1 = self.head\n",
    "            while p1 != p2:\n",
    "                p1 = p1.next\n",
    "                p2 = p2.next\n",
    "            return p1\n",
    "        else:\n",
    "            return \"no duplicate\"\n",
    "    \n",
    "    def delete_data(self, data):\n",
    "        node = self.head\n",
    "        if node.data == data:\n",
    "            return node.next\n",
    "        while node.next:\n",
    "            if node.next.data == data:\n",
    "                node.next =  node.next.next\n",
    "                return self.head\n",
    "            node = node.next\n",
    "\n",
    "                \n",
    "            "
   ]
  },
  {
   "cell_type": "code",
   "execution_count": 456,
   "id": "f0f3e4a2",
   "metadata": {},
   "outputs": [
    {
     "data": {
      "text/plain": [
       "5 -> 9 -> 5 -> 7 -> 8 -> None"
      ]
     },
     "execution_count": 456,
     "metadata": {},
     "output_type": "execute_result"
    }
   ],
   "source": [
    "ll2 = LinkedList([5,9,2,5,7,8])\n",
    "ll2.remove_nth_node(ll2.head.next.next)\n",
    "ll2"
   ]
  },
  {
   "cell_type": "code",
   "execution_count": 428,
   "id": "094c6855",
   "metadata": {},
   "outputs": [
    {
     "data": {
      "text/plain": [
       "9"
      ]
     },
     "execution_count": 428,
     "metadata": {},
     "output_type": "execute_result"
    }
   ],
   "source": [
    "ll2 = LinkedList([5,9,2,5,7,8])\n",
    "res = ll2.delete_data(2)\n",
    "res.next"
   ]
  },
  {
   "cell_type": "code",
   "execution_count": 452,
   "id": "8d4cdb52",
   "metadata": {},
   "outputs": [
    {
     "data": {
      "text/plain": [
       "9"
      ]
     },
     "execution_count": 452,
     "metadata": {},
     "output_type": "execute_result"
    }
   ],
   "source": [
    "ll2 = LinkedList([5,9])\n",
    "ll2.head.next.next = ll2.head.next\n",
    "res = ll2.if_corrupt_v2()\n",
    "res.next.next.next"
   ]
  },
  {
   "cell_type": "code",
   "execution_count": 439,
   "id": "43335ca1",
   "metadata": {},
   "outputs": [
    {
     "data": {
      "text/plain": [
       "9"
      ]
     },
     "execution_count": 439,
     "metadata": {},
     "output_type": "execute_result"
    }
   ],
   "source": [
    "ll3 = LinkedList([5,9,2,5,7,8])\n",
    "ll3.head.next.next.next.next.next.next = ll3.head.next.next\n",
    "res_2 = ll3.if_corrupt_v2()\n",
    "res_2"
   ]
  },
  {
   "cell_type": "code",
   "execution_count": 441,
   "id": "83d3f286",
   "metadata": {},
   "outputs": [
    {
     "data": {
      "text/plain": [
       "2"
      ]
     },
     "execution_count": 441,
     "metadata": {},
     "output_type": "execute_result"
    }
   ],
   "source": [
    "res_2.next"
   ]
  },
  {
   "cell_type": "code",
   "execution_count": 429,
   "id": "da8d950b",
   "metadata": {},
   "outputs": [
    {
     "data": {
      "text/plain": [
       "9"
      ]
     },
     "execution_count": 429,
     "metadata": {},
     "output_type": "execute_result"
    }
   ],
   "source": [
    "ll3 = LinkedList([5,9,2,5,7,8])\n",
    "ll3.head.next.next.next.next.next.next = ll3.head.next\n",
    "res_2 = ll3.if_corrupt()\n",
    "res_2"
   ]
  },
  {
   "cell_type": "code",
   "execution_count": 330,
   "id": "70f1d068",
   "metadata": {},
   "outputs": [],
   "source": [
    "ll4 = LinkedList([5,9,2,5,7,8])"
   ]
  },
  {
   "cell_type": "code",
   "execution_count": 331,
   "id": "d92d7de1",
   "metadata": {},
   "outputs": [
    {
     "data": {
      "text/plain": [
       "False"
      ]
     },
     "execution_count": 331,
     "metadata": {},
     "output_type": "execute_result"
    }
   ],
   "source": [
    "ll2.head == ll4.head"
   ]
  },
  {
   "cell_type": "code",
   "execution_count": 286,
   "id": "d370e8f0",
   "metadata": {},
   "outputs": [],
   "source": [
    "ll1 = LinkedList([3,1,5])\n",
    "ll2 = LinkedList([5,9,2,5])"
   ]
  },
  {
   "cell_type": "code",
   "execution_count": 288,
   "id": "aecfa695",
   "metadata": {},
   "outputs": [
    {
     "name": "stdout",
     "output_type": "stream",
     "text": [
      "8\n",
      "0\n",
      "8\n",
      "5\n"
     ]
    }
   ],
   "source": [
    "res = ll1.add_llist(ll2)\n",
    "while res:\n",
    "    print(res.data)\n",
    "    res = res.next"
   ]
  },
  {
   "cell_type": "code",
   "execution_count": null,
   "id": "e41491e1",
   "metadata": {},
   "outputs": [],
   "source": []
  },
  {
   "cell_type": "code",
   "execution_count": 173,
   "id": "1cba2465",
   "metadata": {},
   "outputs": [
    {
     "data": {
      "text/plain": [
       "a -> b -> c -> d -> g -> f -> None"
      ]
     },
     "execution_count": 173,
     "metadata": {},
     "output_type": "execute_result"
    }
   ],
   "source": [
    "llist = LinkedList([\"a\", \"b\", \"c\", \"d\", \"d\"])\n",
    "llist_3 = LinkedList([\"e\", \"f\", \"g\"])\n",
    "llist.add_last(\"g\")\n",
    "llist.add_last(\"f\")\n",
    "llist.remove_dup()\n",
    "llist"
   ]
  },
  {
   "cell_type": "code",
   "execution_count": 175,
   "id": "17f6e178",
   "metadata": {},
   "outputs": [],
   "source": [
    "llist.remove_nth_node(llist.head.next.next)"
   ]
  },
  {
   "cell_type": "code",
   "execution_count": 176,
   "id": "f5b29dfb",
   "metadata": {},
   "outputs": [
    {
     "data": {
      "text/plain": [
       "a -> b -> d -> g -> f -> None"
      ]
     },
     "execution_count": 176,
     "metadata": {},
     "output_type": "execute_result"
    }
   ],
   "source": [
    "llist"
   ]
  },
  {
   "cell_type": "code",
   "execution_count": 166,
   "id": "33ab8fcb",
   "metadata": {},
   "outputs": [
    {
     "data": {
      "text/plain": [
       "e -> g -> None"
      ]
     },
     "execution_count": 166,
     "metadata": {},
     "output_type": "execute_result"
    }
   ],
   "source": [
    "llist_3"
   ]
  },
  {
   "cell_type": "code",
   "execution_count": null,
   "id": "0a1907cd",
   "metadata": {},
   "outputs": [],
   "source": []
  }
 ],
 "metadata": {
  "kernelspec": {
   "display_name": "Python 3",
   "language": "python",
   "name": "python3"
  },
  "language_info": {
   "codemirror_mode": {
    "name": "ipython",
    "version": 3
   },
   "file_extension": ".py",
   "mimetype": "text/x-python",
   "name": "python",
   "nbconvert_exporter": "python",
   "pygments_lexer": "ipython3",
   "version": "3.6.5"
  }
 },
 "nbformat": 4,
 "nbformat_minor": 5
}
