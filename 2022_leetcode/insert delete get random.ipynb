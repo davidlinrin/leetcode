{
 "cells": [
  {
   "cell_type": "code",
   "execution_count": null,
   "id": "4421a426",
   "metadata": {},
   "outputs": [],
   "source": [
    "import random\n",
    "class RandomizedSet(object):\n",
    "\n",
    "    def __init__(self):\n",
    "        self.sett = set()\n",
    "        self.l = []\n",
    "\n",
    "    def insert(self, val):\n",
    "        if val in self.sett:\n",
    "            return False\n",
    "        self.sett.add(val)\n",
    "        self.l.append(val)\n",
    "        return True\n",
    "        \n",
    "    def remove(self, val):\n",
    "        if val in self.sett:\n",
    "            self.sett.remove(val)\n",
    "            return True\n",
    "        return False\n",
    "        \n",
    "    def getRandom(self):\n",
    "        if len(self.sett) == 1:\n",
    "            val = list(self.sett)[0]\n",
    "            return val\n",
    "        \n",
    "        rand = random.randint(0,len(self.sett)-1)\n",
    "        print(rand)\n",
    "        val = self.l[rand]\n",
    "        while val not in self.sett:\n",
    "            rand = random.randint(0,len(self.sett)-1)\n",
    "            val = self.l[rand]\n",
    "        return val"
   ]
  },
  {
   "cell_type": "code",
   "execution_count": null,
   "id": "9788fc87",
   "metadata": {},
   "outputs": [],
   "source": [
    "obj = RandomizedSet()\n",
    "pp1 = obj.insert(0)\n",
    "pp2 = obj.insert(1)\n",
    "pp2 = obj.insert(2)\n",
    "pp3 = obj.insert(3)\n",
    "p3 = obj.insert(4)\n",
    "p1 = obj.remove(0)\n",
    "p2 = obj.remove(1)\n",
    "print(obj.sett, obj.l)\n",
    "p4 = obj.getRandom()\n",
    "print(obj.sett,obj.l)\n",
    "# p5 = obj.remove(0)\n",
    "# p6 = obj.insert(0)\n",
    "# p7 = obj.getRandom()"
   ]
  }
 ],
 "metadata": {
  "kernelspec": {
   "display_name": "Python 3",
   "language": "python",
   "name": "python3"
  },
  "language_info": {
   "codemirror_mode": {
    "name": "ipython",
    "version": 3
   },
   "file_extension": ".py",
   "mimetype": "text/x-python",
   "name": "python",
   "nbconvert_exporter": "python",
   "pygments_lexer": "ipython3",
   "version": "3.6.5"
  }
 },
 "nbformat": 4,
 "nbformat_minor": 5
}
