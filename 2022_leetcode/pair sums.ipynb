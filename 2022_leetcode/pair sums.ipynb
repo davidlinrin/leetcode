{
 "cells": [
  {
   "cell_type": "markdown",
   "id": "649c4d7a",
   "metadata": {},
   "source": [
    "Given a list of n integers arr[0..(n-1)], determine the number of different pairs of elements within it which sum to k.\n",
    "If an integer appears in the list multiple times, each copy is considered to be different; that is, two pairs are considered different if one pair includes at least one array index which the other doesn't, even if they include the same values.\n",
    "Signature\n",
    "int numberOfWays(int[] arr, int k)\n",
    "Input\n",
    "n is in the range [1, 100,000].\n",
    "Each value arr[i] is in the range [1, 1,000,000,000].\n",
    "k is in the range [1, 1,000,000,000].\n",
    "Output\n",
    "Return the number of different pairs of elements which sum to k.\n",
    "Example 1\n",
    "n = 5\n",
    "k = 6\n",
    "arr = [1, 2, 3, 4, 3]\n",
    "output = 2\n",
    "The valid pairs are 2+4 and 3+3."
   ]
  },
  {
   "cell_type": "code",
   "execution_count": 2,
   "id": "7b26a454",
   "metadata": {},
   "outputs": [],
   "source": [
    "k = 6\n",
    "arr = [1, 5, 5, 3, 3, 3, 3]"
   ]
  },
  {
   "cell_type": "code",
   "execution_count": null,
   "id": "5e5bfe00",
   "metadata": {},
   "outputs": [],
   "source": [
    "def numberOfWays(arr, k):\n",
    "    result = 0\n",
    "\n",
    "    for num in arr:\n",
    "        target = k - num\n",
    "        if target in arr:\n",
    "            count = arr.count(target)\n",
    "        if target == num:\n",
    "            result += count * (count-1) / 2 / count\n",
    "        else:\n",
    "            result += count / 2\n",
    "\n",
    "return result"
   ]
  },
  {
   "cell_type": "code",
   "execution_count": null,
   "id": "57714113",
   "metadata": {},
   "outputs": [],
   "source": [
    "numberOfWays(arr, k)"
   ]
  }
 ],
 "metadata": {
  "kernelspec": {
   "display_name": "Python 3",
   "language": "python",
   "name": "python3"
  },
  "language_info": {
   "codemirror_mode": {
    "name": "ipython",
    "version": 3
   },
   "file_extension": ".py",
   "mimetype": "text/x-python",
   "name": "python",
   "nbconvert_exporter": "python",
   "pygments_lexer": "ipython3",
   "version": "3.6.5"
  }
 },
 "nbformat": 4,
 "nbformat_minor": 5
}
