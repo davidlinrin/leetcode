{
 "cells": [
  {
   "cell_type": "code",
   "execution_count": 1,
   "id": "7b96a5dd",
   "metadata": {},
   "outputs": [],
   "source": [
    "# bit mnanipulation\n",
    "def all_subset(l):\n",
    "    bit = 1 << len(l)\n",
    "    res = []\n",
    "    for i in range(bit):\n",
    "        cur = []\n",
    "        k = 0\n",
    "        while i > 0:\n",
    "            if i & 1:\n",
    "                cur.append(l[k])\n",
    "            i >>= 1\n",
    "            k += 1\n",
    "            \n",
    "        res.append(cur)\n",
    "    return res"
   ]
  },
  {
   "cell_type": "code",
   "execution_count": 8,
   "id": "89b88a8b",
   "metadata": {},
   "outputs": [
    {
     "data": {
      "text/plain": [
       "[[], [1], [2], [1, 2], [3], [1, 3], [2, 3], [1, 2, 3]]"
      ]
     },
     "execution_count": 8,
     "metadata": {},
     "output_type": "execute_result"
    }
   ],
   "source": [
    "l = [1,2,3]\n",
    "all_subset(l)"
   ]
  },
  {
   "cell_type": "code",
   "execution_count": 5,
   "id": "6bd04f89",
   "metadata": {},
   "outputs": [],
   "source": [
    "def solution(l):\n",
    "    \n",
    "    def all_sub(l, ind):\n",
    "        cur = l[ind]\n",
    "        if len(l) == 1:\n",
    "            return [[cur]]\n",
    "        \n",
    "        subs = all_sub(l[ind+1:], 0)\n",
    "        for i in range(len(subs)):\n",
    "            temp = subs[i].copy()\n",
    "            temp.append(cur)\n",
    "            subs.append(temp)\n",
    "        subs.append([cur])\n",
    "        \n",
    "        return subs\n",
    "        \n",
    "    res = all_sub(l, 0)\n",
    "    res.append([])\n",
    "    return res"
   ]
  },
  {
   "cell_type": "code",
   "execution_count": 6,
   "id": "8ccebbac",
   "metadata": {},
   "outputs": [
    {
     "data": {
      "text/plain": [
       "[[3], [3, 2], [2], [3, 1], [3, 2, 1], [2, 1], [1], []]"
      ]
     },
     "execution_count": 6,
     "metadata": {},
     "output_type": "execute_result"
    }
   ],
   "source": [
    "a = [1,2,3]\n",
    "solution(a)"
   ]
  },
  {
   "cell_type": "code",
   "execution_count": null,
   "id": "913b4b10",
   "metadata": {},
   "outputs": [],
   "source": []
  }
 ],
 "metadata": {
  "kernelspec": {
   "display_name": "Python 3",
   "language": "python",
   "name": "python3"
  },
  "language_info": {
   "codemirror_mode": {
    "name": "ipython",
    "version": 3
   },
   "file_extension": ".py",
   "mimetype": "text/x-python",
   "name": "python",
   "nbconvert_exporter": "python",
   "pygments_lexer": "ipython3",
   "version": "3.6.5"
  }
 },
 "nbformat": 4,
 "nbformat_minor": 5
}
