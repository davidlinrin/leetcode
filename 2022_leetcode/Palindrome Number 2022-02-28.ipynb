{
 "cells": [
  {
   "cell_type": "code",
   "execution_count": 96,
   "id": "baa32111",
   "metadata": {},
   "outputs": [],
   "source": [
    "# ATTEMPT 1, O(n)\n",
    "class Solution(object):\n",
    "    def isPalindrome(self, x):\n",
    "        num = x\n",
    "        rev = 0\n",
    "        \n",
    "        if x < 0:\n",
    "            return False\n",
    "\n",
    "        while num:\n",
    "            rev = rev * 10 + num%10\n",
    "            num //= 10\n",
    "\n",
    "        if x == rev:\n",
    "            return True\n",
    "\n",
    "        return False"
   ]
  },
  {
   "cell_type": "code",
   "execution_count": 97,
   "id": "b2b15d1d",
   "metadata": {},
   "outputs": [
    {
     "data": {
      "text/plain": [
       "False"
      ]
     },
     "execution_count": 97,
     "metadata": {},
     "output_type": "execute_result"
    }
   ],
   "source": [
    "test= Solution()\n",
    "test.isPalindrome(10)"
   ]
  },
  {
   "cell_type": "code",
   "execution_count": null,
   "id": "25e1072b",
   "metadata": {},
   "outputs": [],
   "source": []
  }
 ],
 "metadata": {
  "kernelspec": {
   "display_name": "Python 3",
   "language": "python",
   "name": "python3"
  },
  "language_info": {
   "codemirror_mode": {
    "name": "ipython",
    "version": 3
   },
   "file_extension": ".py",
   "mimetype": "text/x-python",
   "name": "python",
   "nbconvert_exporter": "python",
   "pygments_lexer": "ipython3",
   "version": "3.6.5"
  }
 },
 "nbformat": 4,
 "nbformat_minor": 5
}
