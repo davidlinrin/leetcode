{
 "cells": [
  {
   "cell_type": "code",
   "execution_count": 57,
   "id": "277cc37d",
   "metadata": {},
   "outputs": [],
   "source": [
    "num = '1211'\n",
    "\n",
    "def look(num: str, result = ''):\n",
    "\n",
    "    if len(num) < 1:\n",
    "        return num\n",
    "    \n",
    "    list_map = [num[0], 0]\n",
    "    for char in num:\n",
    "        if ord(char) < 48 or ord(char) > 57:\n",
    "            continue\n",
    "        \n",
    "        if char != list_map[0]:\n",
    "            result = result + str(list_map[1]) + list_map[0]\n",
    "            list_map = [char, 1]\n",
    "        else:\n",
    "            list_map[1] += 1\n",
    "            \n",
    "    result = result + str(list_map[1]) + str(list_map[0])\n",
    "            \n",
    "    return result"
   ]
  },
  {
   "cell_type": "code",
   "execution_count": 56,
   "id": "8957e1db",
   "metadata": {},
   "outputs": [
    {
     "data": {
      "text/plain": [
       "'111221'"
      ]
     },
     "execution_count": 56,
     "metadata": {},
     "output_type": "execute_result"
    }
   ],
   "source": [
    "look(num)"
   ]
  }
 ],
 "metadata": {
  "kernelspec": {
   "display_name": "Python 3",
   "language": "python",
   "name": "python3"
  },
  "language_info": {
   "codemirror_mode": {
    "name": "ipython",
    "version": 3
   },
   "file_extension": ".py",
   "mimetype": "text/x-python",
   "name": "python",
   "nbconvert_exporter": "python",
   "pygments_lexer": "ipython3",
   "version": "3.6.5"
  }
 },
 "nbformat": 4,
 "nbformat_minor": 5
}
