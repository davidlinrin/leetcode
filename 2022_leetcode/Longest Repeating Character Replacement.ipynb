{
 "cells": [
  {
   "cell_type": "code",
   "execution_count": 1,
   "id": "8ec2ccbd",
   "metadata": {},
   "outputs": [],
   "source": [
    "def characterReplacement(s, k):\n",
    "        res = 0\n",
    "        dp = {s[0]:1}\n",
    "        left = right = 0\n",
    "        max_freq = 1\n",
    "        \n",
    "        while left < len(s):\n",
    "            cur_len = right - left + 1\n",
    "            print(left, right, dp, max_freq, res)\n",
    "            if cur_len - max_freq <= k:\n",
    "                if right == len(s)-1:\n",
    "                    dp[s[left]] = dp.get(s[left], 0) - 1\n",
    "                    left += 1\n",
    "                else:\n",
    "                    right += 1\n",
    "                    dp[s[right]] = dp.get(s[right], 0) + 1\n",
    "                    if dp[s[right]] > max_freq:\n",
    "                        max_freq = dp[s[right]]\n",
    "                    \n",
    "                if cur_len > res:\n",
    "                    res = cur_len\n",
    "            else:\n",
    "                dp[s[left]] = dp.get(s[left], 0) - 1\n",
    "                left += 1\n",
    "                \n",
    "        return res"
   ]
  },
  {
   "cell_type": "code",
   "execution_count": 3,
   "id": "3b309a4a",
   "metadata": {},
   "outputs": [],
   "source": [
    "class Solution(object):\n",
    "    def characterReplacement(self, s, k):\n",
    "        res = 0\n",
    "        dp = {}\n",
    "        l = 0\n",
    "        m = 0\n",
    "        \n",
    "        for r in range(len(s)):\n",
    "            dp[s[r]] = dp.get(s[r], 0) + 1\n",
    "            m = max(m, dp[s[r]])\n",
    "            while r - l + 1 - m > k:\n",
    "                dp[s[l]] -= 1\n",
    "                l += 1\n",
    "            res = max(r - l + 1, res)\n",
    "            \n",
    "        return res"
   ]
  },
  {
   "cell_type": "code",
   "execution_count": 4,
   "id": "030ca2e4",
   "metadata": {},
   "outputs": [
    {
     "name": "stdout",
     "output_type": "stream",
     "text": [
      "0 0 {'A': 1} 1 0\n",
      "0 1 {'A': 1, 'B': 1} 1 1\n",
      "0 2 {'A': 2, 'B': 1} 2 2\n",
      "0 3 {'A': 3, 'B': 1} 3 3\n",
      "0 4 {'A': 3, 'B': 2} 3 4\n",
      "0 5 {'A': 3, 'B': 3} 3 5\n",
      "1 5 {'A': 2, 'B': 3} 3 5\n",
      "1 6 {'A': 3, 'B': 3} 3 5\n",
      "2 6 {'A': 3, 'B': 2} 3 5\n",
      "2 7 {'A': 4, 'B': 2} 4 5\n",
      "2 8 {'A': 4, 'B': 2, 'C': 1} 4 6\n",
      "3 8 {'A': 3, 'B': 2, 'C': 1} 4 6\n",
      "3 9 {'A': 3, 'B': 2, 'C': 2} 4 6\n",
      "4 9 {'A': 2, 'B': 2, 'C': 2} 4 6\n",
      "5 9 {'A': 2, 'B': 1, 'C': 2} 4 6\n",
      "6 9 {'A': 2, 'B': 0, 'C': 2} 4 6\n",
      "7 9 {'A': 1, 'B': 0, 'C': 2} 4 6\n",
      "8 9 {'A': 0, 'B': 0, 'C': 2} 4 6\n",
      "9 9 {'A': 0, 'B': 0, 'C': 1} 4 6\n"
     ]
    },
    {
     "data": {
      "text/plain": [
       "6"
      ]
     },
     "execution_count": 4,
     "metadata": {},
     "output_type": "execute_result"
    }
   ],
   "source": [
    "s = \"ABAABBAACC\"\n",
    "# s = \"AAAB\"\n",
    "k = 2\n",
    "characterReplacement(s, k)"
   ]
  },
  {
   "cell_type": "code",
   "execution_count": null,
   "id": "8e2ba32f",
   "metadata": {},
   "outputs": [],
   "source": []
  }
 ],
 "metadata": {
  "kernelspec": {
   "display_name": "Python 3",
   "language": "python",
   "name": "python3"
  },
  "language_info": {
   "codemirror_mode": {
    "name": "ipython",
    "version": 3
   },
   "file_extension": ".py",
   "mimetype": "text/x-python",
   "name": "python",
   "nbconvert_exporter": "python",
   "pygments_lexer": "ipython3",
   "version": "3.6.5"
  }
 },
 "nbformat": 4,
 "nbformat_minor": 5
}
