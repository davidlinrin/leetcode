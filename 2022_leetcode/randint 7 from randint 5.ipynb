{
 "cells": [
  {
   "cell_type": "code",
   "execution_count": 5,
   "id": "d9573374",
   "metadata": {},
   "outputs": [],
   "source": [
    "import random\n",
    "def rand5():\n",
    "    return random.randint(1,5)"
   ]
  },
  {
   "cell_type": "code",
   "execution_count": 6,
   "id": "2d0aa172",
   "metadata": {},
   "outputs": [],
   "source": [
    "def rand7():\n",
    "    while True:\n",
    "        num = 5 * (rand5() - 1) + (rand5() - 1);\n",
    "        if (num < 21): \n",
    "            return (num % 7 + 1);"
   ]
  },
  {
   "cell_type": "code",
   "execution_count": 7,
   "id": "5d0de813",
   "metadata": {},
   "outputs": [
    {
     "data": {
      "text/plain": [
       "1"
      ]
     },
     "execution_count": 7,
     "metadata": {},
     "output_type": "execute_result"
    }
   ],
   "source": [
    "rand7()"
   ]
  },
  {
   "cell_type": "code",
   "execution_count": null,
   "id": "c552e9fa",
   "metadata": {},
   "outputs": [],
   "source": []
  }
 ],
 "metadata": {
  "kernelspec": {
   "display_name": "Python 3",
   "language": "python",
   "name": "python3"
  },
  "language_info": {
   "codemirror_mode": {
    "name": "ipython",
    "version": 3
   },
   "file_extension": ".py",
   "mimetype": "text/x-python",
   "name": "python",
   "nbconvert_exporter": "python",
   "pygments_lexer": "ipython3",
   "version": "3.6.5"
  }
 },
 "nbformat": 4,
 "nbformat_minor": 5
}
