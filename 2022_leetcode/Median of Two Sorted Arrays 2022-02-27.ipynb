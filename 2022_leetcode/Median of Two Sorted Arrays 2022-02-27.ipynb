{
 "cells": [
  {
   "cell_type": "code",
   "execution_count": 94,
   "id": "b9c42ed7",
   "metadata": {},
   "outputs": [
    {
     "name": "stdout",
     "output_type": "stream",
     "text": [
      "1 1 3\n"
     ]
    }
   ],
   "source": [
    "nums1 = [1,3]\n",
    "nums2 = [2]\n",
    "total_len = len(nums1) + len(nums2)\n",
    "half_1 = int(len(nums1)/2 + 0.5)\n",
    "half_2 = int(len(nums2)/2 + 0.5)\n",
    "print(half_1, half_2, total_len)"
   ]
  },
  {
   "cell_type": "code",
   "execution_count": 93,
   "id": "256a86e0",
   "metadata": {},
   "outputs": [
    {
     "name": "stdout",
     "output_type": "stream",
     "text": [
      "[2] []\n",
      "[] [1, 3] \n",
      "\n",
      "[2] [1000000]\n",
      "[-1000000] [1, 3] \n",
      "\n",
      "1\n"
     ]
    }
   ],
   "source": [
    "if len(nums1) > len(nums2):\n",
    "    nums1, nums2 = nums2, nums1\n",
    "    \n",
    "pivot = 1\n",
    "total_len = len(nums1) + len(nums2)\n",
    "total_half = int(total_len/2)\n",
    "half_1 = int(len(nums1)/2 + 0.5)\n",
    "   \n",
    "left_1 = nums1[:half_1]\n",
    "right_needed = total_half - len(left_1)\n",
    "left_2 = nums2[:right_needed]\n",
    "right_1 = nums1[half_1:]\n",
    "right_2 = nums2[right_needed:]\n",
    "    \n",
    "while True:\n",
    "\n",
    "    print(left_1, right_1)\n",
    "    print(left_2, right_2, '\\n')\n",
    "    \n",
    "    if left_1 == [] or left_2 == [] or right_1 == [] or right_2 == []:\n",
    "        if left_1 == []: left_1 = [-10**6]\n",
    "        if left_2 == []: left_2 = [-10**6]\n",
    "        if right_1 == []: right_1 = [10**6]\n",
    "        if right_2 == []: right_2 = [10**6]\n",
    "        break\n",
    "    elif left_1[-1] <= right_2[0] and left_2[-1] <= right_1[0]:\n",
    "        break\n",
    "    else:\n",
    "        left_1 = nums1[:half_1+pivot]\n",
    "        right_needed = total_half - len(left_1)\n",
    "        left_2 = nums2[:right_needed]\n",
    "        right_1 = nums1[half_1+pivot:]\n",
    "        right_2 = nums2[right_needed:]\n",
    "        pivot += 1\n",
    "\n",
    "if total_len%2 == 0:\n",
    "    left_max = max(left_1[-1], left_2[-1])\n",
    "    right_min = min(right_1[0], right_2[0])\n",
    "    median = left_max + right_min / 2\n",
    "else:\n",
    "    median = min(right_1[0], right_2[0])\n",
    "\n",
    "print(left_1, right_1)\n",
    "print(left_2, right_2, '\\n')\n",
    "print(median)\n",
    "\n",
    "nums1 = [1,3]\n",
    "nums2 = [2]"
   ]
  },
  {
   "cell_type": "code",
   "execution_count": 82,
   "id": "245984d5",
   "metadata": {},
   "outputs": [],
   "source": [
    "if len(nums1) > len(nums2):\n",
    "    nums1, nums2 = nums2, nums1\n",
    "\n",
    "pivot = 1\n",
    "total_len = len(nums1) + len(nums2)\n",
    "total_half = int(total_len/2)\n",
    "half_1 = int(len(nums1)/2 + 0.5)\n",
    "\n",
    "while True:\n",
    "\n",
    "    if left_1[-1] <= right_2[0] and left_2[-1] <= right_1[0]:\n",
    "        break\n",
    "    else:\n",
    "        left_1 = nums1[:half_1+pivot]\n",
    "        right_needed = total_half - len(left_1)\n",
    "        left_2 = nums2[:right_needed]\n",
    "        right_1 = nums1[half_1+pivot:]\n",
    "        right_2 = nums2[right_needed:]\n",
    "        pivot += 1\n",
    "\n",
    "if total_len%2 == 0:\n",
    "    left_max = max(left_1[-1], left_2[-1])\n",
    "    right_min = min(right_1[0], right_2[0])\n",
    "    median = left_max + right_min / 2\n",
    "else:\n",
    "    median = min(right_1[0], right_2[0])"
   ]
  },
  {
   "cell_type": "code",
   "execution_count": 83,
   "id": "525ed557",
   "metadata": {},
   "outputs": [
    {
     "data": {
      "text/plain": [
       "3"
      ]
     },
     "execution_count": 83,
     "metadata": {},
     "output_type": "execute_result"
    }
   ],
   "source": [
    "test = Solution()\n",
    "test.findMedianSortedArrays(nums1, nums2)"
   ]
  },
  {
   "cell_type": "code",
   "execution_count": 78,
   "id": "4e5c28eb",
   "metadata": {},
   "outputs": [
    {
     "data": {
      "text/plain": [
       "3.0"
      ]
     },
     "execution_count": 78,
     "metadata": {},
     "output_type": "execute_result"
    }
   ],
   "source": [
    "import numpy as np\n",
    "np.median(sorted(nums1+nums2))"
   ]
  },
  {
   "cell_type": "code",
   "execution_count": 76,
   "id": "58a57be3",
   "metadata": {},
   "outputs": [
    {
     "data": {
      "text/plain": [
       "1"
      ]
     },
     "execution_count": 76,
     "metadata": {},
     "output_type": "execute_result"
    }
   ],
   "source": [
    "total_len%2"
   ]
  },
  {
   "cell_type": "code",
   "execution_count": 53,
   "id": "b178d494",
   "metadata": {},
   "outputs": [
    {
     "data": {
      "text/plain": [
       "3"
      ]
     },
     "execution_count": 53,
     "metadata": {},
     "output_type": "execute_result"
    }
   ],
   "source": [
    "left_1[-1]"
   ]
  },
  {
   "cell_type": "code",
   "execution_count": 89,
   "id": "e981ac25",
   "metadata": {},
   "outputs": [],
   "source": [
    "x = []\n",
    "y = [1,2,3]\n",
    "if x == []: x = y"
   ]
  },
  {
   "cell_type": "code",
   "execution_count": 90,
   "id": "70eabd02",
   "metadata": {},
   "outputs": [
    {
     "data": {
      "text/plain": [
       "[1, 2, 3]"
      ]
     },
     "execution_count": 90,
     "metadata": {},
     "output_type": "execute_result"
    }
   ],
   "source": [
    "x"
   ]
  },
  {
   "cell_type": "code",
   "execution_count": null,
   "id": "0f969974",
   "metadata": {},
   "outputs": [],
   "source": []
  }
 ],
 "metadata": {
  "kernelspec": {
   "display_name": "Python 3",
   "language": "python",
   "name": "python3"
  },
  "language_info": {
   "codemirror_mode": {
    "name": "ipython",
    "version": 3
   },
   "file_extension": ".py",
   "mimetype": "text/x-python",
   "name": "python",
   "nbconvert_exporter": "python",
   "pygments_lexer": "ipython3",
   "version": "3.6.5"
  }
 },
 "nbformat": 4,
 "nbformat_minor": 5
}
