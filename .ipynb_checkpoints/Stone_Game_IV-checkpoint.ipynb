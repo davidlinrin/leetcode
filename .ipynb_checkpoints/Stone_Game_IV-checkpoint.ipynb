{
 "cells": [
  {
   "cell_type": "code",
   "execution_count": 35,
   "metadata": {},
   "outputs": [
    {
     "data": {
      "text/plain": [
       "[9, 4, 1]"
      ]
     },
     "execution_count": 35,
     "metadata": {},
     "output_type": "execute_result"
    }
   ],
   "source": [
    "N = 10\n",
    "sq_list = []\n",
    "turn = 'A'\n",
    "for i in reversed(range(N + 1)):\n",
    "    if (round(i**(1/2)) == i**(1/2)) & (i!=0):\n",
    "        sq_list.append(i)\n",
    "sq_list"
   ]
  },
  {
   "cell_type": "code",
   "execution_count": 36,
   "metadata": {},
   "outputs": [],
   "source": [
    "# for i in sq_list:\n",
    "#     res = N - i\n",
    "#     print(res)\n",
    "#     if res in sq_list:\n",
    "#         print('no','\\n')\n",
    "#     else:\n",
    "#         print('yes','\\n')"
   ]
  },
  {
   "cell_type": "code",
   "execution_count": 15,
   "metadata": {},
   "outputs": [
    {
     "data": {
      "text/plain": [
       "True"
      ]
     },
     "execution_count": 15,
     "metadata": {},
     "output_type": "execute_result"
    }
   ],
   "source": [
    "class Solution(object):\n",
    "    def __init__(self):\n",
    "        \n",
    "        self.dp = {}\n",
    "    \n",
    "    def winnerSquareGame(self, n):\n",
    "        \n",
    "        if n in self.dp: return self.dp[n]\n",
    "        \n",
    "        if (n**0.5).is_integer():\n",
    "            self.dp[n] = True\n",
    "            return self.dp[n]\n",
    "        \n",
    "        for i in range(1, int(n**0.5)+1):\n",
    "            \n",
    "            if self.winnerSquareGame(n-(i**2)) == False:\n",
    "                \n",
    "                self.dp[n] = True\n",
    "                \n",
    "                return self.dp[n]\n",
    "        \n",
    "        self.dp[n] = False\n",
    "        return self.dp[n]"
   ]
  },
  {
   "cell_type": "code",
   "execution_count": 51,
   "metadata": {},
   "outputs": [],
   "source": [
    "class Solution(object):\n",
    "\n",
    "    def winnerSquareGame(self, n):\n",
    "        \n",
    "        arr = [False]*(n+1)\n",
    "        \n",
    "        for i in range(1,n+1):\n",
    "            \n",
    "            if (i**0.5).is_integer():\n",
    "                print(i)\n",
    "                print('square number', '\\n')\n",
    "                arr[i] = True\n",
    "            \n",
    "            else:\n",
    "                print(i)\n",
    "                print('not square', '\\n')\n",
    "                for j in range(1, int(i**0.5)+1):\n",
    "                    check = i-(j**2)\n",
    "                    if arr[check] == False:\n",
    "                        arr[i] = True\n",
    "                        break\n",
    "        print(arr)\n",
    "        return arr[n]"
   ]
  },
  {
   "cell_type": "code",
   "execution_count": 52,
   "metadata": {},
   "outputs": [
    {
     "name": "stdout",
     "output_type": "stream",
     "text": [
      "1\n",
      "square number \n",
      "\n",
      "2\n",
      "not square \n",
      "\n",
      "3\n",
      "not square \n",
      "\n",
      "4\n",
      "square number \n",
      "\n",
      "5\n",
      "not square \n",
      "\n",
      "[False, True, False, True, True, False]\n"
     ]
    },
    {
     "data": {
      "text/plain": [
       "False"
      ]
     },
     "execution_count": 52,
     "metadata": {},
     "output_type": "execute_result"
    }
   ],
   "source": [
    "a = Solution()\n",
    "a.winnerSquareGame(5)"
   ]
  },
  {
   "cell_type": "code",
   "execution_count": 44,
   "metadata": {},
   "outputs": [
    {
     "name": "stdout",
     "output_type": "stream",
     "text": [
      "1\n",
      "2\n",
      "3\n",
      "4\n",
      "5\n"
     ]
    }
   ],
   "source": [
    "n = 5\n",
    "for i in range(1,n+1):\n",
    "    print(i)"
   ]
  },
  {
   "cell_type": "code",
   "execution_count": null,
   "metadata": {},
   "outputs": [],
   "source": []
  }
 ],
 "metadata": {
  "kernelspec": {
   "display_name": "Python 3",
   "language": "python",
   "name": "python3"
  },
  "language_info": {
   "codemirror_mode": {
    "name": "ipython",
    "version": 3
   },
   "file_extension": ".py",
   "mimetype": "text/x-python",
   "name": "python",
   "nbconvert_exporter": "python",
   "pygments_lexer": "ipython3",
   "version": "3.8.2"
  }
 },
 "nbformat": 4,
 "nbformat_minor": 4
}
