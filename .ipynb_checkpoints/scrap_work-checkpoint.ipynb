{
 "cells": [
  {
   "cell_type": "code",
   "execution_count": 5,
   "metadata": {},
   "outputs": [],
   "source": [
    "class Solution(object):\n",
    "    def minNumberOperations(self, target):\n",
    "        count = 0\n",
    "        start = [0] * len(target)\n",
    "\n",
    "        while start != target:\n",
    "\n",
    "            sub = []\n",
    "\n",
    "            for i in range(len(target)):\n",
    "                if start[i] == target[i]:\n",
    "                    sub.append(i)\n",
    "                    \n",
    "            if sub == []:\n",
    "                start = [x+1 for x in start]\n",
    "                count += 1\n",
    "                continue\n",
    "            elif start[0] != target[0]:\n",
    "                start[:sub[0]] = [x+1 for x in start[:sub[0]]]\n",
    "                count += 1\n",
    "                continue\n",
    "            else:\n",
    "                for i in range(len(sub)-1):\n",
    "                    if sub[i+1] - sub[i] == 1:\n",
    "                        next\n",
    "                    else:\n",
    "                        start[sub[i]+1:sub[i+1]] = [x+1 for x in start[sub[i]+1:sub[i+1]]]\n",
    "                        count += 1\n",
    "                        continue\n",
    "\n",
    "                if sub[-1] != len(start)-1:\n",
    "                    start[sub[-1]+1:] = [x+1 for x in start[sub[-1]+1:]]\n",
    "                    count += 1\n",
    "                    continue\n",
    "                    \n",
    "        return(count)"
   ]
  },
  {
   "cell_type": "code",
   "execution_count": 19,
   "metadata": {},
   "outputs": [
    {
     "data": {
      "text/plain": [
       "35"
      ]
     },
     "execution_count": 19,
     "metadata": {},
     "output_type": "execute_result"
    }
   ],
   "source": [
    "a = Solution()\n",
    "a.minNumberOperations([1,10,9,11,8,7,30])"
   ]
  },
  {
   "cell_type": "markdown",
   "metadata": {},
   "source": [
    "### 2)"
   ]
  },
  {
   "cell_type": "code",
   "execution_count": 25,
   "metadata": {},
   "outputs": [],
   "source": [
    "class Solution(object):\n",
    "    def minNumberOperations(self, target):\n",
    "        count = target[0]\n",
    "\n",
    "        for i in range(1,len(target)):\n",
    "            if target[i]>target[i-1]:\n",
    "                count += target[i]-target[i-1]\n",
    "                \n",
    "        return(count)"
   ]
  },
  {
   "cell_type": "code",
   "execution_count": 30,
   "metadata": {},
   "outputs": [],
   "source": [
    "class Solution(object):\n",
    "    def checkIfExist(self, arr):\n",
    "        seen = []\n",
    "        for i in arr:\n",
    "\n",
    "            if i not in seen:\n",
    "                seen.append(i)\n",
    "\n",
    "            if (i*2 in seen) or (i/2 in seen):\n",
    "                return(True)\n",
    "        \n",
    "        return(False)\n",
    "        "
   ]
  },
  {
   "cell_type": "code",
   "execution_count": 31,
   "metadata": {},
   "outputs": [
    {
     "data": {
      "text/plain": [
       "True"
      ]
     },
     "execution_count": 31,
     "metadata": {},
     "output_type": "execute_result"
    }
   ],
   "source": [
    "a = Solution()\n",
    "a.checkIfExist([-2,0,10,-19,4,6,-8])"
   ]
  },
  {
   "cell_type": "code",
   "execution_count": null,
   "metadata": {},
   "outputs": [],
   "source": []
  }
 ],
 "metadata": {
  "kernelspec": {
   "display_name": "Python 3",
   "language": "python",
   "name": "python3"
  },
  "language_info": {
   "codemirror_mode": {
    "name": "ipython",
    "version": 3
   },
   "file_extension": ".py",
   "mimetype": "text/x-python",
   "name": "python",
   "nbconvert_exporter": "python",
   "pygments_lexer": "ipython3",
   "version": "3.8.2"
  }
 },
 "nbformat": 4,
 "nbformat_minor": 4
}
